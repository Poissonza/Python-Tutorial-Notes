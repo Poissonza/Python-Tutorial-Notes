{
 "cells": [
  {
   "cell_type": "markdown",
   "metadata": {
    "colab_type": "text",
    "id": "NHdvusN42JB1"
   },
   "source": [
    "# Pandas Basics\n",
    "\n",
    "## Contents:\n",
    "\n",
    " 1. Features of Pandas\n",
    " 2. Pandas vs Numpy\n",
    " 3. Importing Pandas into Python\n",
    " 4. Datasets in Pandas\n",
    "    1. Series Data\n",
    "    2. DataFrame\n",
    " 5. Merge, Join and Concatenate functions\n",
    "    1. Merge\n",
    "    2. Join\n",
    "    3. Concatenations\n",
    " 6. Importing and analysing a dataset\n",
    " 7. Cleaning the DataFrame\n",
    " 8. Manipulating the data\n",
    " 9. Other Data Manipulation\n",
    "    1. Creating Categories from the data"
   ]
  },
  {
   "cell_type": "markdown",
   "metadata": {
    "colab_type": "text",
    "id": "yu3MaNnu2JB6"
   },
   "source": [
    "## Features of Pandas\n",
    "\n",
    "The first part of any data project is the handling and manipulation of data \n",
    "in order to prepare for data analysis. This is where the library Pandas comes in to assist the process.\n",
    "\n",
    "the name Pandas comes from the word \"Panel Data\" - Which is a multi-dimension date of measurements of time. Pandas is an open source library to assist with data manipulation.\n",
    "\n",
    "Features of Pandas:\n",
    "\n",
    " * Series Objects and Data Frames\n",
    "     * Gives the ability to deal with 1 and 2 dimensional data\n",
    " * Handling of Missing Data\n",
    "     * Presented as NaN\n",
    "representation\n",
    " * Data Alignment\n",
    "     * Data will be aligned to a set of labels or Pandas objects will allocate the data to a set of labels itself\n",
    " * Functions to Group the data\n",
    "     * **Split**, **Combine**  and **apply** operations can be used\n",
    " * Slicing, Indexing and Sub-setting:\n",
    "     * Can be done to the data set\n",
    " * Merging and Joining\n",
    "    * Allows us to have an Intelligent method to combine multiple datasets\n",
    " * Reshape\n",
    "   * Allows us to modify how the dataset looks for analysis\n",
    " * Hierarchical Labelling of Axes\n",
    " * Robust input output tool\n",
    "     * Can input from multiple sources\n",
    " * Time series specific functionality"
   ]
  },
  {
   "cell_type": "markdown",
   "metadata": {
    "pycharm": {
     "name": "#%% md\n"
    }
   },
   "source": [
    "## Pandas vs Numpy"
   ]
  },
  {
   "cell_type": "markdown",
   "metadata": {
    "colab_type": "text",
    "id": "S1rsrPbq2JB-"
   },
   "source": [
    "In Python there are two different Libraries that handle any data requests. We will be focusing on Pandas but it may be useful to see the difference between Numpy and Pandas:\n",
    " \n",
    " * Pandas works better with 500k+ rows than Numpy\n",
    " * Pandas Series is more flexible than Numpy Arrays"
   ]
  },
  {
   "cell_type": "markdown",
   "metadata": {
    "colab_type": "text",
    "id": "Fue9w9P22JB_"
   },
   "source": [
    "## Importing Pandas into Python"
   ]
  },
  {
   "cell_type": "markdown",
   "metadata": {
    "colab_type": "text",
    "id": "NN_Rf6Bk2JCB"
   },
   "source": [
    "A Simple command is used to import pandas, much like the other libraries that may be Required:"
   ]
  },
  {
   "cell_type": "code",
   "execution_count": 1,
   "metadata": {
    "colab": {},
    "colab_type": "code",
    "id": "9RhZp60D2JCD"
   },
   "outputs": [],
   "source": [
    "import pandas as pd"
   ]
  },
  {
   "cell_type": "markdown",
   "metadata": {
    "colab_type": "text",
    "id": "qlIgPS9PWkJ0"
   },
   "source": [
    "In the command above we are importing the pandas library and we are allocating it a name that we will be able to use in the rest of the code (pd)."
   ]
  },
  {
   "cell_type": "markdown",
   "metadata": {
    "colab_type": "text",
    "id": "bfSozDaO2JCJ"
   },
   "source": [
    "## Datasets in Pandas"
   ]
  },
  {
   "cell_type": "markdown",
   "metadata": {
    "colab_type": "text",
    "id": "zndHSH8S2JCL"
   },
   "source": [
    "Pandas handles anything between a one dimensional to a multiple dimension dataset.\n",
    "\n",
    "If the data is one dimensional, Pandas will treat it as a Series object, If it is two dimension it will be treated as a DataFrame and finally multi-dimensional is treated as Panel data."
   ]
  },
  {
   "cell_type": "markdown",
   "metadata": {
    "colab_type": "text",
    "id": "OSK-qPE22JCM"
   },
   "source": [
    "### Series Data"
   ]
  },
  {
   "cell_type": "markdown",
   "metadata": {
    "colab_type": "text",
    "id": "s-nlpov92JCN"
   },
   "source": [
    "A series object is a Single column Array or single dimension data set that can hold any kind of data type. It can be mixed or similar data.\n",
    "\n",
    "To create our first series object we will use the following data: (1,2,3,4).\n",
    "\n",
    "Let's see how to create this into a series and then print the data:"
   ]
  },
  {
   "cell_type": "code",
   "execution_count": 2,
   "metadata": {
    "colab": {
     "base_uri": "https://localhost:8080/",
     "height": 102
    },
    "colab_type": "code",
    "id": "xwb9ES6Y2JCP",
    "outputId": "8240523c-463e-484a-bf7a-318c7c860428"
   },
   "outputs": [
    {
     "data": {
      "text/plain": "0    1\n1    2\n2    3\n3    4\ndtype: int64"
     },
     "execution_count": 2,
     "metadata": {},
     "output_type": "execute_result"
    }
   ],
   "source": [
    "data = [1,2,3,4]\n",
    "Series1 = pd.Series(data)\n",
    "Series1"
   ]
  },
  {
   "cell_type": "markdown",
   "metadata": {
    "colab_type": "text",
    "id": "ulj4L0qv2JCW"
   },
   "source": [
    "Please note that the data now has a 0 - 3 running down the side depicting the row number (Python is a language that is 0 indexed). Also remember that Python is case sensitive so use caution when allocating and calling variable names as well as the function calls.\n",
    "\n",
    "To check the type of the object we can use the **type()** function:"
   ]
  },
  {
   "cell_type": "code",
   "execution_count": 3,
   "metadata": {
    "colab": {
     "base_uri": "https://localhost:8080/",
     "height": 34
    },
    "colab_type": "code",
    "id": "V7NNRDtt2JCY",
    "outputId": "c97ed33c-a75b-46c3-b27e-84145ab80f60"
   },
   "outputs": [
    {
     "data": {
      "text/plain": "pandas.core.series.Series"
     },
     "execution_count": 3,
     "metadata": {},
     "output_type": "execute_result"
    }
   ],
   "source": [
    "type(Series1)"
   ]
  },
  {
   "cell_type": "markdown",
   "metadata": {
    "colab_type": "text",
    "id": "0wbq_Ffn2JCd"
   },
   "source": [
    "It is nice that we have an index of 0 - 3 but we may not always want this automatic allocation and prefer a situation in which the index makes sense in terms of it's allocation. This can be done with including the **index** option in the series function.\n",
    "\n",
    "Take note of the index after we run the function again."
   ]
  },
  {
   "cell_type": "code",
   "execution_count": 4,
   "metadata": {
    "colab": {
     "base_uri": "https://localhost:8080/",
     "height": 102
    },
    "colab_type": "code",
    "id": "Yx2LsBHw2JCe",
    "outputId": "e3895d14-8239-4235-cdc7-ee9c3431c2d8"
   },
   "outputs": [
    {
     "data": {
      "text/plain": "a    1\nb    2\nc    3\nd    4\ndtype: int64"
     },
     "execution_count": 4,
     "metadata": {},
     "output_type": "execute_result"
    }
   ],
   "source": [
    "Series1 = pd.Series(data,index=['a','b','c','d'])\n",
    "Series1"
   ]
  },
  {
   "cell_type": "markdown",
   "metadata": {
    "colab_type": "text",
    "id": "UBXRsOsX2JCj"
   },
   "source": [
    "The Series data can also be created using array's, Dictionary, Scalar or Constant Value and is not limited to lists."
   ]
  },
  {
   "cell_type": "markdown",
   "metadata": {
    "colab_type": "text",
    "id": "zSCoiQAZ2JCl"
   },
   "source": [
    "### DataFrame"
   ]
  },
  {
   "cell_type": "markdown",
   "metadata": {
    "colab_type": "text",
    "id": "_6Pq2LxX2JCm"
   },
   "source": [
    "A DataFrame is a two dimensional labeled data structure with columns storing potentially different data types. They have the following features:\n",
    "\n",
    "* Different Column Types\n",
    "* Mutable size\n",
    "* Labeled axes\n",
    "* Arithmetic operations on rows and columns\n",
    "\n",
    "But the first important step is the creation of the DataFrame, we will now create a new list and turn it into a DataFrame:"
   ]
  },
  {
   "cell_type": "code",
   "execution_count": 5,
   "metadata": {
    "colab": {
     "base_uri": "https://localhost:8080/",
     "height": 204
    },
    "colab_type": "code",
    "id": "Fy4xM1aU2JCo",
    "outputId": "dd303c9d-4846-4408-a4f0-ee8ed418ddcd"
   },
   "outputs": [
    {
     "data": {
      "text/plain": "   0\n0  1\n1  2\n2  3\n3  4\n4  5",
      "text/html": "<div>\n<style scoped>\n    .dataframe tbody tr th:only-of-type {\n        vertical-align: middle;\n    }\n\n    .dataframe tbody tr th {\n        vertical-align: top;\n    }\n\n    .dataframe thead th {\n        text-align: right;\n    }\n</style>\n<table border=\"1\" class=\"dataframe\">\n  <thead>\n    <tr style=\"text-align: right;\">\n      <th></th>\n      <th>0</th>\n    </tr>\n  </thead>\n  <tbody>\n    <tr>\n      <th>0</th>\n      <td>1</td>\n    </tr>\n    <tr>\n      <th>1</th>\n      <td>2</td>\n    </tr>\n    <tr>\n      <th>2</th>\n      <td>3</td>\n    </tr>\n    <tr>\n      <th>3</th>\n      <td>4</td>\n    </tr>\n    <tr>\n      <th>4</th>\n      <td>5</td>\n    </tr>\n  </tbody>\n</table>\n</div>"
     },
     "execution_count": 5,
     "metadata": {},
     "output_type": "execute_result"
    }
   ],
   "source": [
    "data = [1,2,3,4,5]\n",
    "df = pd.DataFrame(data)\n",
    "df"
   ]
  },
  {
   "cell_type": "markdown",
   "metadata": {
    "colab_type": "text",
    "id": "pVyzN1gB2JCt"
   },
   "source": [
    "Note the big difference between the DataFrame and the Series is the inclusion of a column name per column and row name.\n",
    "\n",
    "We can create the DataFrame from a dictionary as well, the example below demonstrates this with the number of fruits."
   ]
  },
  {
   "cell_type": "code",
   "execution_count": 6,
   "metadata": {
    "colab": {
     "base_uri": "https://localhost:8080/",
     "height": 142
    },
    "colab_type": "code",
    "id": "0eODixHw2JCu",
    "outputId": "ce93517c-8b63-4625-9966-44c769efd890"
   },
   "outputs": [
    {
     "data": {
      "text/plain": "    fruits  count\n0   apples     10\n1   banana     20\n2  mangoes     15",
      "text/html": "<div>\n<style scoped>\n    .dataframe tbody tr th:only-of-type {\n        vertical-align: middle;\n    }\n\n    .dataframe tbody tr th {\n        vertical-align: top;\n    }\n\n    .dataframe thead th {\n        text-align: right;\n    }\n</style>\n<table border=\"1\" class=\"dataframe\">\n  <thead>\n    <tr style=\"text-align: right;\">\n      <th></th>\n      <th>fruits</th>\n      <th>count</th>\n    </tr>\n  </thead>\n  <tbody>\n    <tr>\n      <th>0</th>\n      <td>apples</td>\n      <td>10</td>\n    </tr>\n    <tr>\n      <th>1</th>\n      <td>banana</td>\n      <td>20</td>\n    </tr>\n    <tr>\n      <th>2</th>\n      <td>mangoes</td>\n      <td>15</td>\n    </tr>\n  </tbody>\n</table>\n</div>"
     },
     "execution_count": 6,
     "metadata": {},
     "output_type": "execute_result"
    }
   ],
   "source": [
    "dictionary = {'fruits':['apples','banana','mangoes'],'count':[10,20,15]}\n",
    "df = pd.DataFrame(dictionary)\n",
    "df"
   ]
  },
  {
   "cell_type": "markdown",
   "metadata": {
    "colab_type": "text",
    "id": "zM9pIVob2JCz"
   },
   "source": [
    "We can now see that the columns have the labels from the dictionary as well as the data that is both the numerical and string values.\n",
    "\n",
    "The next thing to look at is how to create a DataFrame from a Series:"
   ]
  },
  {
   "cell_type": "code",
   "execution_count": 7,
   "metadata": {
    "colab": {
     "base_uri": "https://localhost:8080/",
     "height": 111
    },
    "colab_type": "code",
    "id": "kaAOsjf32JC0",
    "outputId": "203f16d6-4b3e-4afa-8913-fc2c412a9a1c"
   },
   "outputs": [
    {
     "data": {
      "text/plain": "    0\na   6\nb  12",
      "text/html": "<div>\n<style scoped>\n    .dataframe tbody tr th:only-of-type {\n        vertical-align: middle;\n    }\n\n    .dataframe tbody tr th {\n        vertical-align: top;\n    }\n\n    .dataframe thead th {\n        text-align: right;\n    }\n</style>\n<table border=\"1\" class=\"dataframe\">\n  <thead>\n    <tr style=\"text-align: right;\">\n      <th></th>\n      <th>0</th>\n    </tr>\n  </thead>\n  <tbody>\n    <tr>\n      <th>a</th>\n      <td>6</td>\n    </tr>\n    <tr>\n      <th>b</th>\n      <td>12</td>\n    </tr>\n  </tbody>\n</table>\n</div>"
     },
     "execution_count": 7,
     "metadata": {},
     "output_type": "execute_result"
    }
   ],
   "source": [
    "Series = pd.Series([6,12],index=['a','b'])\n",
    "df = pd.DataFrame(Series)\n",
    "df"
   ]
  },
  {
   "cell_type": "markdown",
   "metadata": {
    "colab_type": "text",
    "id": "eHjP64Qi2JC5"
   },
   "source": [
    "Now we can see that the one dimensional Series was converted into a two dimensional DataFrame with an index and column. If you think about the original Series\n",
    "example you will see that the new DataFrame now has a column name included.\n",
    "\n",
    "Most data formats can be converted into a Pandas DataFrame in a similar fashion to all of these examples."
   ]
  },
  {
   "cell_type": "markdown",
   "metadata": {
    "colab_type": "text",
    "id": "TL9xASpJ2JC7"
   },
   "source": [
    "## Merge, Join and Concatenate functions"
   ]
  },
  {
   "cell_type": "markdown",
   "metadata": {
    "colab_type": "text",
    "id": "3c0wddAG2JC8"
   },
   "source": [
    "When we are working with multiple datasets we may get to a point where we will need to combine the datasets together. There are three different\n",
    " functions that allow us to do this and they each assist for a specific combination.\n",
    "\n",
    "We will go through all of the three functions to see the differences. The first step in this example is to create two DataFrames:"
   ]
  },
  {
   "cell_type": "code",
   "execution_count": 8,
   "metadata": {
    "colab": {
     "base_uri": "https://localhost:8080/",
     "height": 142
    },
    "colab_type": "code",
    "id": "hYEWxKsY2JC9",
    "outputId": "37153c41-7493-41ee-f11a-d8659c3f709e"
   },
   "outputs": [
    {
     "data": {
      "text/plain": "    Player  Points  Title\n0  Player1       8  Game1\n1  Player2       9  Game2\n2  Player3       6  Game3",
      "text/html": "<div>\n<style scoped>\n    .dataframe tbody tr th:only-of-type {\n        vertical-align: middle;\n    }\n\n    .dataframe tbody tr th {\n        vertical-align: top;\n    }\n\n    .dataframe thead th {\n        text-align: right;\n    }\n</style>\n<table border=\"1\" class=\"dataframe\">\n  <thead>\n    <tr style=\"text-align: right;\">\n      <th></th>\n      <th>Player</th>\n      <th>Points</th>\n      <th>Title</th>\n    </tr>\n  </thead>\n  <tbody>\n    <tr>\n      <th>0</th>\n      <td>Player1</td>\n      <td>8</td>\n      <td>Game1</td>\n    </tr>\n    <tr>\n      <th>1</th>\n      <td>Player2</td>\n      <td>9</td>\n      <td>Game2</td>\n    </tr>\n    <tr>\n      <th>2</th>\n      <td>Player3</td>\n      <td>6</td>\n      <td>Game3</td>\n    </tr>\n  </tbody>\n</table>\n</div>"
     },
     "execution_count": 8,
     "metadata": {},
     "output_type": "execute_result"
    }
   ],
   "source": [
    "#Dataframe 1 creation\n",
    "\n",
    "player = ['Player1','Player2','Player3']\n",
    "point=[8,9,6]\n",
    "title=['Game1','Game2','Game3']\n",
    "\n",
    "df1 = pd.DataFrame({'Player':player,'Points':point,'Title':title})\n",
    "df1"
   ]
  },
  {
   "cell_type": "code",
   "execution_count": 9,
   "metadata": {
    "colab": {
     "base_uri": "https://localhost:8080/",
     "height": 142
    },
    "colab_type": "code",
    "id": "f-MKfq342JDC",
    "outputId": "b6461729-87c0-439f-aa78-d5e05080ed7f"
   },
   "outputs": [
    {
     "data": {
      "text/plain": "    Player  Power  Title\n0  Player1  Punch  Game1\n1  Player5   Kick  Game5\n2  Player6  Elbow  Game6",
      "text/html": "<div>\n<style scoped>\n    .dataframe tbody tr th:only-of-type {\n        vertical-align: middle;\n    }\n\n    .dataframe tbody tr th {\n        vertical-align: top;\n    }\n\n    .dataframe thead th {\n        text-align: right;\n    }\n</style>\n<table border=\"1\" class=\"dataframe\">\n  <thead>\n    <tr style=\"text-align: right;\">\n      <th></th>\n      <th>Player</th>\n      <th>Power</th>\n      <th>Title</th>\n    </tr>\n  </thead>\n  <tbody>\n    <tr>\n      <th>0</th>\n      <td>Player1</td>\n      <td>Punch</td>\n      <td>Game1</td>\n    </tr>\n    <tr>\n      <th>1</th>\n      <td>Player5</td>\n      <td>Kick</td>\n      <td>Game5</td>\n    </tr>\n    <tr>\n      <th>2</th>\n      <td>Player6</td>\n      <td>Elbow</td>\n      <td>Game6</td>\n    </tr>\n  </tbody>\n</table>\n</div>"
     },
     "execution_count": 9,
     "metadata": {},
     "output_type": "execute_result"
    }
   ],
   "source": [
    "#Dataframe 2 creation\n",
    "\n",
    "player = ['Player1','Player5','Player6']\n",
    "power = ['Punch','Kick','Elbow']\n",
    "title=['Game1','Game5','Game6']\n",
    "df2 = pd.DataFrame({'Player':player,'Power':power,'Title':title})\n",
    "df2"
   ]
  },
  {
   "cell_type": "markdown",
   "metadata": {
    "colab_type": "text",
    "id": "JP7EVxzL2JDI"
   },
   "source": [
    "### Merge"
   ]
  },
  {
   "cell_type": "markdown",
   "metadata": {
    "pycharm": {
     "name": "#%% md\n"
    }
   },
   "source": [
    "The **Merge** function works with the data inside both of the DataFrames to join the data on common variables, this is especially useful if there are some\n",
    " unique identifiers that can be used to connect the data.\n",
    "\n",
    "One of the first types of **Merge** is the Inner Merge. This **Merge** looks for the common values between the two DataFrames and only outputs a DataFrame\n",
    " with values that are common between the two DataFrames."
   ]
  },
  {
   "cell_type": "code",
   "execution_count": 10,
   "metadata": {
    "colab": {
     "base_uri": "https://localhost:8080/",
     "height": 80
    },
    "colab_type": "code",
    "id": "z1aB1lpK2JDJ",
    "outputId": "ab33dfd4-def8-4ee5-f730-077a278a61a6"
   },
   "outputs": [
    {
     "data": {
      "text/plain": "  Player_x  Points  Title Player_y  Power\n0  Player1       8  Game1  Player1  Punch",
      "text/html": "<div>\n<style scoped>\n    .dataframe tbody tr th:only-of-type {\n        vertical-align: middle;\n    }\n\n    .dataframe tbody tr th {\n        vertical-align: top;\n    }\n\n    .dataframe thead th {\n        text-align: right;\n    }\n</style>\n<table border=\"1\" class=\"dataframe\">\n  <thead>\n    <tr style=\"text-align: right;\">\n      <th></th>\n      <th>Player_x</th>\n      <th>Points</th>\n      <th>Title</th>\n      <th>Player_y</th>\n      <th>Power</th>\n    </tr>\n  </thead>\n  <tbody>\n    <tr>\n      <th>0</th>\n      <td>Player1</td>\n      <td>8</td>\n      <td>Game1</td>\n      <td>Player1</td>\n      <td>Punch</td>\n    </tr>\n  </tbody>\n</table>\n</div>"
     },
     "execution_count": 10,
     "metadata": {},
     "output_type": "execute_result"
    }
   ],
   "source": [
    "df1.merge(df2, on='Title',how='inner')"
   ]
  },
  {
   "cell_type": "markdown",
   "metadata": {
    "colab_type": "text",
    "id": "pP27irLz2JDN"
   },
   "source": [
    "Notice that player is split up as it is not our joining variable and the columns name is a part of both DataFrames.\n",
    "\n",
    "The next type of **Merge** is the Left **Merge**. This **Merge** keeps all of the values from the DataFrame on the left and includes only the relevant variables from the DataFrame on the right where they match up."
   ]
  },
  {
   "cell_type": "code",
   "execution_count": 11,
   "metadata": {
    "colab": {
     "base_uri": "https://localhost:8080/",
     "height": 142
    },
    "colab_type": "code",
    "id": "jfSGlz8H2JDP",
    "outputId": "f136dca8-bf74-4dd2-f8b9-d298efd50141"
   },
   "outputs": [
    {
     "data": {
      "text/plain": "  Player_x  Points  Title Player_y  Power\n0  Player1       8  Game1  Player1  Punch\n1  Player2       9  Game2      NaN    NaN\n2  Player3       6  Game3      NaN    NaN",
      "text/html": "<div>\n<style scoped>\n    .dataframe tbody tr th:only-of-type {\n        vertical-align: middle;\n    }\n\n    .dataframe tbody tr th {\n        vertical-align: top;\n    }\n\n    .dataframe thead th {\n        text-align: right;\n    }\n</style>\n<table border=\"1\" class=\"dataframe\">\n  <thead>\n    <tr style=\"text-align: right;\">\n      <th></th>\n      <th>Player_x</th>\n      <th>Points</th>\n      <th>Title</th>\n      <th>Player_y</th>\n      <th>Power</th>\n    </tr>\n  </thead>\n  <tbody>\n    <tr>\n      <th>0</th>\n      <td>Player1</td>\n      <td>8</td>\n      <td>Game1</td>\n      <td>Player1</td>\n      <td>Punch</td>\n    </tr>\n    <tr>\n      <th>1</th>\n      <td>Player2</td>\n      <td>9</td>\n      <td>Game2</td>\n      <td>NaN</td>\n      <td>NaN</td>\n    </tr>\n    <tr>\n      <th>2</th>\n      <td>Player3</td>\n      <td>6</td>\n      <td>Game3</td>\n      <td>NaN</td>\n      <td>NaN</td>\n    </tr>\n  </tbody>\n</table>\n</div>"
     },
     "execution_count": 11,
     "metadata": {},
     "output_type": "execute_result"
    }
   ],
   "source": [
    "df1.merge(df2, on='Title',how='left')"
   ]
  },
  {
   "cell_type": "markdown",
   "metadata": {
    "colab_type": "text",
    "id": "4eX9dA8O2JDT"
   },
   "source": [
    "Notice the NaN for the values missing in DataFrame 2 that could not be merged with DataFrame 1.\n",
    "\n",
    "The next type of **Merge** is the Right **Merge**. It is very similar to the left **Merge** with the main change being that the data from the DataFrame on the right is kept but the data from the left DataFrame will be joined where applicable."
   ]
  },
  {
   "cell_type": "code",
   "execution_count": 12,
   "metadata": {
    "colab": {
     "base_uri": "https://localhost:8080/",
     "height": 142
    },
    "colab_type": "code",
    "id": "Bsheli2t2JDV",
    "outputId": "44a2642e-733f-46c4-8ed9-68dea397747d"
   },
   "outputs": [
    {
     "data": {
      "text/plain": "  Player_x  Points  Title Player_y  Power\n0  Player1     8.0  Game1  Player1  Punch\n1      NaN     NaN  Game5  Player5   Kick\n2      NaN     NaN  Game6  Player6  Elbow",
      "text/html": "<div>\n<style scoped>\n    .dataframe tbody tr th:only-of-type {\n        vertical-align: middle;\n    }\n\n    .dataframe tbody tr th {\n        vertical-align: top;\n    }\n\n    .dataframe thead th {\n        text-align: right;\n    }\n</style>\n<table border=\"1\" class=\"dataframe\">\n  <thead>\n    <tr style=\"text-align: right;\">\n      <th></th>\n      <th>Player_x</th>\n      <th>Points</th>\n      <th>Title</th>\n      <th>Player_y</th>\n      <th>Power</th>\n    </tr>\n  </thead>\n  <tbody>\n    <tr>\n      <th>0</th>\n      <td>Player1</td>\n      <td>8.0</td>\n      <td>Game1</td>\n      <td>Player1</td>\n      <td>Punch</td>\n    </tr>\n    <tr>\n      <th>1</th>\n      <td>NaN</td>\n      <td>NaN</td>\n      <td>Game5</td>\n      <td>Player5</td>\n      <td>Kick</td>\n    </tr>\n    <tr>\n      <th>2</th>\n      <td>NaN</td>\n      <td>NaN</td>\n      <td>Game6</td>\n      <td>Player6</td>\n      <td>Elbow</td>\n    </tr>\n  </tbody>\n</table>\n</div>"
     },
     "execution_count": 12,
     "metadata": {},
     "output_type": "execute_result"
    }
   ],
   "source": [
    "df1.merge(df2, on='Title',how='right')"
   ]
  },
  {
   "cell_type": "markdown",
   "metadata": {
    "colab_type": "text",
    "id": "5MDmUsyM2JDZ"
   },
   "source": [
    "The final **Merge** is the Outer **Merge**. With this **Merge** Pandas will **Merge** both DataFrames together on the joining variables and the non applicable variables will contain a NaN value."
   ]
  },
  {
   "cell_type": "code",
   "execution_count": 13,
   "metadata": {
    "colab": {
     "base_uri": "https://localhost:8080/",
     "height": 204
    },
    "colab_type": "code",
    "id": "Lzqn1dlD2JDb",
    "outputId": "38064cd4-8796-4fdf-b4fb-d5fc7b269e83"
   },
   "outputs": [
    {
     "data": {
      "text/plain": "  Player_x  Points  Title Player_y  Power\n0  Player1     8.0  Game1  Player1  Punch\n1  Player2     9.0  Game2      NaN    NaN\n2  Player3     6.0  Game3      NaN    NaN\n3      NaN     NaN  Game5  Player5   Kick\n4      NaN     NaN  Game6  Player6  Elbow",
      "text/html": "<div>\n<style scoped>\n    .dataframe tbody tr th:only-of-type {\n        vertical-align: middle;\n    }\n\n    .dataframe tbody tr th {\n        vertical-align: top;\n    }\n\n    .dataframe thead th {\n        text-align: right;\n    }\n</style>\n<table border=\"1\" class=\"dataframe\">\n  <thead>\n    <tr style=\"text-align: right;\">\n      <th></th>\n      <th>Player_x</th>\n      <th>Points</th>\n      <th>Title</th>\n      <th>Player_y</th>\n      <th>Power</th>\n    </tr>\n  </thead>\n  <tbody>\n    <tr>\n      <th>0</th>\n      <td>Player1</td>\n      <td>8.0</td>\n      <td>Game1</td>\n      <td>Player1</td>\n      <td>Punch</td>\n    </tr>\n    <tr>\n      <th>1</th>\n      <td>Player2</td>\n      <td>9.0</td>\n      <td>Game2</td>\n      <td>NaN</td>\n      <td>NaN</td>\n    </tr>\n    <tr>\n      <th>2</th>\n      <td>Player3</td>\n      <td>6.0</td>\n      <td>Game3</td>\n      <td>NaN</td>\n      <td>NaN</td>\n    </tr>\n    <tr>\n      <th>3</th>\n      <td>NaN</td>\n      <td>NaN</td>\n      <td>Game5</td>\n      <td>Player5</td>\n      <td>Kick</td>\n    </tr>\n    <tr>\n      <th>4</th>\n      <td>NaN</td>\n      <td>NaN</td>\n      <td>Game6</td>\n      <td>Player6</td>\n      <td>Elbow</td>\n    </tr>\n  </tbody>\n</table>\n</div>"
     },
     "execution_count": 13,
     "metadata": {},
     "output_type": "execute_result"
    }
   ],
   "source": [
    "df1.merge(df2, on='Title',how='outer')"
   ]
  },
  {
   "cell_type": "markdown",
   "metadata": {
    "colab_type": "text",
    "id": "4wt0jofP2JDh"
   },
   "source": [
    "### Join"
   ]
  },
  {
   "cell_type": "markdown",
   "metadata": {
    "colab_type": "text",
    "id": "b-tn7ffp2JDi"
   },
   "source": [
    "When we used the **Merge** function it was required for the data to have one similar attribute to join the two DataSets however the join function **Merges** the data on the index of the DataFrames and does not require a common variable to perform the **Merge**.\n",
    "\n",
    "Let's start with creating two DataFrames that will be joined together at a later stage."
   ]
  },
  {
   "cell_type": "code",
   "execution_count": 14,
   "metadata": {
    "colab": {
     "base_uri": "https://localhost:8080/",
     "height": 142
    },
    "colab_type": "code",
    "id": "IqsGmU1b2JDn",
    "outputId": "1de9487a-2678-4ff5-deff-9b676c1a0bef"
   },
   "outputs": [
    {
     "data": {
      "text/plain": "     Player  Points  Title\nL1  Player1       8  Game1\nL2  Player2       9  Game2\nL3  Player3       6  Game3",
      "text/html": "<div>\n<style scoped>\n    .dataframe tbody tr th:only-of-type {\n        vertical-align: middle;\n    }\n\n    .dataframe tbody tr th {\n        vertical-align: top;\n    }\n\n    .dataframe thead th {\n        text-align: right;\n    }\n</style>\n<table border=\"1\" class=\"dataframe\">\n  <thead>\n    <tr style=\"text-align: right;\">\n      <th></th>\n      <th>Player</th>\n      <th>Points</th>\n      <th>Title</th>\n    </tr>\n  </thead>\n  <tbody>\n    <tr>\n      <th>L1</th>\n      <td>Player1</td>\n      <td>8</td>\n      <td>Game1</td>\n    </tr>\n    <tr>\n      <th>L2</th>\n      <td>Player2</td>\n      <td>9</td>\n      <td>Game2</td>\n    </tr>\n    <tr>\n      <th>L3</th>\n      <td>Player3</td>\n      <td>6</td>\n      <td>Game3</td>\n    </tr>\n  </tbody>\n</table>\n</div>"
     },
     "execution_count": 14,
     "metadata": {},
     "output_type": "execute_result"
    }
   ],
   "source": [
    "#DataFrame 3 creation\n",
    "player = ['Player1','Player2','Player3']\n",
    "point=[8,9,6]\n",
    "title=['Game1','Game2','Game3']\n",
    "\n",
    "df3 = pd.DataFrame({'Player':player,'Points':point,'Title':title},index=['L1','L2','L3'])\n",
    "df3"
   ]
  },
  {
   "cell_type": "code",
   "execution_count": 15,
   "metadata": {
    "colab": {
     "base_uri": "https://localhost:8080/",
     "height": 142
    },
    "colab_type": "code",
    "id": "t_bOR9ws2JDt",
    "outputId": "296214be-fc15-4c85-b679-035e47ec1fba"
   },
   "outputs": [
    {
     "data": {
      "text/plain": "    Players  Power Titles\nL2  Player1  Punch  Game1\nL3  Player5   Kick  Game5\nL4  Player6  Elbow  Game6",
      "text/html": "<div>\n<style scoped>\n    .dataframe tbody tr th:only-of-type {\n        vertical-align: middle;\n    }\n\n    .dataframe tbody tr th {\n        vertical-align: top;\n    }\n\n    .dataframe thead th {\n        text-align: right;\n    }\n</style>\n<table border=\"1\" class=\"dataframe\">\n  <thead>\n    <tr style=\"text-align: right;\">\n      <th></th>\n      <th>Players</th>\n      <th>Power</th>\n      <th>Titles</th>\n    </tr>\n  </thead>\n  <tbody>\n    <tr>\n      <th>L2</th>\n      <td>Player1</td>\n      <td>Punch</td>\n      <td>Game1</td>\n    </tr>\n    <tr>\n      <th>L3</th>\n      <td>Player5</td>\n      <td>Kick</td>\n      <td>Game5</td>\n    </tr>\n    <tr>\n      <th>L4</th>\n      <td>Player6</td>\n      <td>Elbow</td>\n      <td>Game6</td>\n    </tr>\n  </tbody>\n</table>\n</div>"
     },
     "execution_count": 15,
     "metadata": {},
     "output_type": "execute_result"
    }
   ],
   "source": [
    "#Dataframe 4 creation\n",
    "\n",
    "player = ['Player1','Player5','Player6']\n",
    "power = ['Punch','Kick','Elbow']\n",
    "title=['Game1','Game5','Game6']\n",
    "df4 = pd.DataFrame({'Players':player,'Power':power,'Titles':title},index=['L2','L3','L4'])\n",
    "df4"
   ]
  },
  {
   "cell_type": "markdown",
   "metadata": {
    "colab_type": "text",
    "id": "xPwyXNNu2JDx"
   },
   "source": [
    "The first **Join** we will explore is the inner **Join**. Very much like the **Merge** function this will only combine the common indexes. \n",
    "\n",
    "One of the key differences between the **Join** and **Merge** functions is the column names must not be the same in either DataFrame for the **Join** function. So in this example you will see the title and player names are different between the two DataFrames."
   ]
  },
  {
   "cell_type": "code",
   "execution_count": 16,
   "metadata": {
    "colab": {
     "base_uri": "https://localhost:8080/",
     "height": 111
    },
    "colab_type": "code",
    "id": "I2tSpM2J2JDy",
    "outputId": "1968da37-8451-42d9-8960-e0d057ef0d71"
   },
   "outputs": [
    {
     "data": {
      "text/plain": "     Player  Points  Title  Players  Power Titles\nL2  Player2       9  Game2  Player1  Punch  Game1\nL3  Player3       6  Game3  Player5   Kick  Game5",
      "text/html": "<div>\n<style scoped>\n    .dataframe tbody tr th:only-of-type {\n        vertical-align: middle;\n    }\n\n    .dataframe tbody tr th {\n        vertical-align: top;\n    }\n\n    .dataframe thead th {\n        text-align: right;\n    }\n</style>\n<table border=\"1\" class=\"dataframe\">\n  <thead>\n    <tr style=\"text-align: right;\">\n      <th></th>\n      <th>Player</th>\n      <th>Points</th>\n      <th>Title</th>\n      <th>Players</th>\n      <th>Power</th>\n      <th>Titles</th>\n    </tr>\n  </thead>\n  <tbody>\n    <tr>\n      <th>L2</th>\n      <td>Player2</td>\n      <td>9</td>\n      <td>Game2</td>\n      <td>Player1</td>\n      <td>Punch</td>\n      <td>Game1</td>\n    </tr>\n    <tr>\n      <th>L3</th>\n      <td>Player3</td>\n      <td>6</td>\n      <td>Game3</td>\n      <td>Player5</td>\n      <td>Kick</td>\n      <td>Game5</td>\n    </tr>\n  </tbody>\n</table>\n</div>"
     },
     "execution_count": 16,
     "metadata": {},
     "output_type": "execute_result"
    }
   ],
   "source": [
    "df3.join(df4,how=\"inner\")"
   ]
  },
  {
   "cell_type": "markdown",
   "metadata": {
    "colab_type": "text",
    "id": "ViiHP8Vu2JD2"
   },
   "source": [
    "The next **Join** is the left **Join**. Again like the **Merge** function of the same name it will keep all of the values in the left DataFrame and only join the matching data from the right DataFrame."
   ]
  },
  {
   "cell_type": "code",
   "execution_count": 17,
   "metadata": {
    "colab": {
     "base_uri": "https://localhost:8080/",
     "height": 142
    },
    "colab_type": "code",
    "id": "ARg-_2gd2JD4",
    "outputId": "77a239a9-8387-4faf-cd52-7d42a1b5d25f"
   },
   "outputs": [
    {
     "data": {
      "text/plain": "     Player  Points  Title  Players  Power Titles\nL1  Player1       8  Game1      NaN    NaN    NaN\nL2  Player2       9  Game2  Player1  Punch  Game1\nL3  Player3       6  Game3  Player5   Kick  Game5",
      "text/html": "<div>\n<style scoped>\n    .dataframe tbody tr th:only-of-type {\n        vertical-align: middle;\n    }\n\n    .dataframe tbody tr th {\n        vertical-align: top;\n    }\n\n    .dataframe thead th {\n        text-align: right;\n    }\n</style>\n<table border=\"1\" class=\"dataframe\">\n  <thead>\n    <tr style=\"text-align: right;\">\n      <th></th>\n      <th>Player</th>\n      <th>Points</th>\n      <th>Title</th>\n      <th>Players</th>\n      <th>Power</th>\n      <th>Titles</th>\n    </tr>\n  </thead>\n  <tbody>\n    <tr>\n      <th>L1</th>\n      <td>Player1</td>\n      <td>8</td>\n      <td>Game1</td>\n      <td>NaN</td>\n      <td>NaN</td>\n      <td>NaN</td>\n    </tr>\n    <tr>\n      <th>L2</th>\n      <td>Player2</td>\n      <td>9</td>\n      <td>Game2</td>\n      <td>Player1</td>\n      <td>Punch</td>\n      <td>Game1</td>\n    </tr>\n    <tr>\n      <th>L3</th>\n      <td>Player3</td>\n      <td>6</td>\n      <td>Game3</td>\n      <td>Player5</td>\n      <td>Kick</td>\n      <td>Game5</td>\n    </tr>\n  </tbody>\n</table>\n</div>"
     },
     "execution_count": 17,
     "metadata": {},
     "output_type": "execute_result"
    }
   ],
   "source": [
    "df3.join(df4,how=\"left\")"
   ]
  },
  {
   "cell_type": "markdown",
   "metadata": {
    "colab_type": "text",
    "id": "Ort3xVcA2JD8"
   },
   "source": [
    "The final **Join** is the outer **Join**. Just like before this **Join** will include all of the data from both DataSets with NaN values filling in the spaces that are not common when we join the indexes."
   ]
  },
  {
   "cell_type": "code",
   "execution_count": 18,
   "metadata": {
    "colab": {
     "base_uri": "https://localhost:8080/",
     "height": 173
    },
    "colab_type": "code",
    "id": "dZzBMVlk2JD9",
    "outputId": "33c38038-b66e-4b27-d233-42cf5c358aab"
   },
   "outputs": [
    {
     "data": {
      "text/plain": "     Player  Points  Title  Players  Power Titles\nL1  Player1     8.0  Game1      NaN    NaN    NaN\nL2  Player2     9.0  Game2  Player1  Punch  Game1\nL3  Player3     6.0  Game3  Player5   Kick  Game5\nL4      NaN     NaN    NaN  Player6  Elbow  Game6",
      "text/html": "<div>\n<style scoped>\n    .dataframe tbody tr th:only-of-type {\n        vertical-align: middle;\n    }\n\n    .dataframe tbody tr th {\n        vertical-align: top;\n    }\n\n    .dataframe thead th {\n        text-align: right;\n    }\n</style>\n<table border=\"1\" class=\"dataframe\">\n  <thead>\n    <tr style=\"text-align: right;\">\n      <th></th>\n      <th>Player</th>\n      <th>Points</th>\n      <th>Title</th>\n      <th>Players</th>\n      <th>Power</th>\n      <th>Titles</th>\n    </tr>\n  </thead>\n  <tbody>\n    <tr>\n      <th>L1</th>\n      <td>Player1</td>\n      <td>8.0</td>\n      <td>Game1</td>\n      <td>NaN</td>\n      <td>NaN</td>\n      <td>NaN</td>\n    </tr>\n    <tr>\n      <th>L2</th>\n      <td>Player2</td>\n      <td>9.0</td>\n      <td>Game2</td>\n      <td>Player1</td>\n      <td>Punch</td>\n      <td>Game1</td>\n    </tr>\n    <tr>\n      <th>L3</th>\n      <td>Player3</td>\n      <td>6.0</td>\n      <td>Game3</td>\n      <td>Player5</td>\n      <td>Kick</td>\n      <td>Game5</td>\n    </tr>\n    <tr>\n      <th>L4</th>\n      <td>NaN</td>\n      <td>NaN</td>\n      <td>NaN</td>\n      <td>Player6</td>\n      <td>Elbow</td>\n      <td>Game6</td>\n    </tr>\n  </tbody>\n</table>\n</div>"
     },
     "execution_count": 18,
     "metadata": {},
     "output_type": "execute_result"
    }
   ],
   "source": [
    "df3.join(df4,how=\"outer\")"
   ]
  },
  {
   "cell_type": "markdown",
   "metadata": {
    "colab_type": "text",
    "id": "3KpCgvtH2JEC"
   },
   "source": [
    "### Concatenations"
   ]
  },
  {
   "cell_type": "markdown",
   "metadata": {
    "colab_type": "text",
    "id": "I3nU1mjN2JED"
   },
   "source": [
    "**Concatenations** is the final method to combine two DataSets together. This does not perform a **Join** or **Merge** action but rather puts the two datasets on top of each other with no consideration of linking variables.\n",
    "\n",
    "Using the same two DataSets as before we will **Concatenate** them and see the final results. Please note the inclusion of the NaN values."
   ]
  },
  {
   "cell_type": "code",
   "execution_count": 19,
   "metadata": {
    "colab": {
     "base_uri": "https://localhost:8080/",
     "height": 235
    },
    "colab_type": "code",
    "id": "F5opkZrn2JEF",
    "outputId": "c21cb623-1c0d-41a9-d73c-85a5b661df56"
   },
   "outputs": [
    {
     "data": {
      "text/plain": "     Player  Players  Points  Power  Title Titles\nL1  Player1      NaN     8.0    NaN  Game1    NaN\nL2  Player2      NaN     9.0    NaN  Game2    NaN\nL3  Player3      NaN     6.0    NaN  Game3    NaN\nL2      NaN  Player1     NaN  Punch    NaN  Game1\nL3      NaN  Player5     NaN   Kick    NaN  Game5\nL4      NaN  Player6     NaN  Elbow    NaN  Game6",
      "text/html": "<div>\n<style scoped>\n    .dataframe tbody tr th:only-of-type {\n        vertical-align: middle;\n    }\n\n    .dataframe tbody tr th {\n        vertical-align: top;\n    }\n\n    .dataframe thead th {\n        text-align: right;\n    }\n</style>\n<table border=\"1\" class=\"dataframe\">\n  <thead>\n    <tr style=\"text-align: right;\">\n      <th></th>\n      <th>Player</th>\n      <th>Players</th>\n      <th>Points</th>\n      <th>Power</th>\n      <th>Title</th>\n      <th>Titles</th>\n    </tr>\n  </thead>\n  <tbody>\n    <tr>\n      <th>L1</th>\n      <td>Player1</td>\n      <td>NaN</td>\n      <td>8.0</td>\n      <td>NaN</td>\n      <td>Game1</td>\n      <td>NaN</td>\n    </tr>\n    <tr>\n      <th>L2</th>\n      <td>Player2</td>\n      <td>NaN</td>\n      <td>9.0</td>\n      <td>NaN</td>\n      <td>Game2</td>\n      <td>NaN</td>\n    </tr>\n    <tr>\n      <th>L3</th>\n      <td>Player3</td>\n      <td>NaN</td>\n      <td>6.0</td>\n      <td>NaN</td>\n      <td>Game3</td>\n      <td>NaN</td>\n    </tr>\n    <tr>\n      <th>L2</th>\n      <td>NaN</td>\n      <td>Player1</td>\n      <td>NaN</td>\n      <td>Punch</td>\n      <td>NaN</td>\n      <td>Game1</td>\n    </tr>\n    <tr>\n      <th>L3</th>\n      <td>NaN</td>\n      <td>Player5</td>\n      <td>NaN</td>\n      <td>Kick</td>\n      <td>NaN</td>\n      <td>Game5</td>\n    </tr>\n    <tr>\n      <th>L4</th>\n      <td>NaN</td>\n      <td>Player6</td>\n      <td>NaN</td>\n      <td>Elbow</td>\n      <td>NaN</td>\n      <td>Game6</td>\n    </tr>\n  </tbody>\n</table>\n</div>"
     },
     "execution_count": 19,
     "metadata": {},
     "output_type": "execute_result"
    }
   ],
   "source": [
    "pd.concat([df3,df4],sort=True)"
   ]
  },
  {
   "cell_type": "markdown",
   "metadata": {
    "pycharm": {
     "name": "#%% md\n"
    }
   },
   "source": [
    "While this may not be ideal as there are is space with Missing values we can also choose which axis we merge the data sets on."
   ]
  },
  {
   "cell_type": "code",
   "execution_count": 20,
   "metadata": {
    "pycharm": {
     "name": "#%%\n"
    }
   },
   "outputs": [
    {
     "data": {
      "text/plain": "     Player  Points  Title  Players  Power Titles\nL1  Player1     8.0  Game1      NaN    NaN    NaN\nL2  Player2     9.0  Game2  Player1  Punch  Game1\nL3  Player3     6.0  Game3  Player5   Kick  Game5\nL4      NaN     NaN    NaN  Player6  Elbow  Game6",
      "text/html": "<div>\n<style scoped>\n    .dataframe tbody tr th:only-of-type {\n        vertical-align: middle;\n    }\n\n    .dataframe tbody tr th {\n        vertical-align: top;\n    }\n\n    .dataframe thead th {\n        text-align: right;\n    }\n</style>\n<table border=\"1\" class=\"dataframe\">\n  <thead>\n    <tr style=\"text-align: right;\">\n      <th></th>\n      <th>Player</th>\n      <th>Points</th>\n      <th>Title</th>\n      <th>Players</th>\n      <th>Power</th>\n      <th>Titles</th>\n    </tr>\n  </thead>\n  <tbody>\n    <tr>\n      <th>L1</th>\n      <td>Player1</td>\n      <td>8.0</td>\n      <td>Game1</td>\n      <td>NaN</td>\n      <td>NaN</td>\n      <td>NaN</td>\n    </tr>\n    <tr>\n      <th>L2</th>\n      <td>Player2</td>\n      <td>9.0</td>\n      <td>Game2</td>\n      <td>Player1</td>\n      <td>Punch</td>\n      <td>Game1</td>\n    </tr>\n    <tr>\n      <th>L3</th>\n      <td>Player3</td>\n      <td>6.0</td>\n      <td>Game3</td>\n      <td>Player5</td>\n      <td>Kick</td>\n      <td>Game5</td>\n    </tr>\n    <tr>\n      <th>L4</th>\n      <td>NaN</td>\n      <td>NaN</td>\n      <td>NaN</td>\n      <td>Player6</td>\n      <td>Elbow</td>\n      <td>Game6</td>\n    </tr>\n  </tbody>\n</table>\n</div>"
     },
     "execution_count": 20,
     "metadata": {},
     "output_type": "execute_result"
    }
   ],
   "source": [
    "pd.concat([df3,df4],axis=1)\n"
   ]
  },
  {
   "cell_type": "markdown",
   "metadata": {
    "pycharm": {
     "name": "#%% md\n"
    }
   },
   "source": [
    "As we can see this has put the data side by side but it has acted like a **Join** and concatenated on the common indexes."
   ]
  },
  {
   "cell_type": "markdown",
   "metadata": {
    "colab_type": "text",
    "id": "gxZ--Mu_2JEJ"
   },
   "source": [
    "## Importing and analysing a dataset"
   ]
  },
  {
   "cell_type": "markdown",
   "metadata": {
    "colab_type": "text",
    "id": "z9DpChU02JEL"
   },
   "source": [
    "One of the key elements that we need to look at with any data science project is the importation of data.\n",
    "\n",
    "Pandas offers many different importation methods to cover all kinds of datasets.\n",
    "\n",
    "One of the first one's and most used one is csv:"
   ]
  },
  {
   "cell_type": "code",
   "execution_count": 21,
   "metadata": {
    "colab": {
     "base_uri": "https://localhost:8080/",
     "height": 606
    },
    "colab_type": "code",
    "id": "0AZDUkpA2JEN",
    "outputId": "1e9c9e68-e15e-46ae-cda2-c0319a464a26"
   },
   "outputs": [
    {
     "data": {
      "text/plain": "         Const  Your Rating  Date Rated                        Title  \\\n0    tt0100157            8  2014-04-21                       Misery   \n1    tt0100405            7  2019-06-16                 Pretty Woman   \n2    tt1007029            7  2014-04-22                The Iron Lady   \n3    tt1010048            7  2015-03-13          Slumdog Millionaire   \n4    tt0101272            7  2014-04-21            The Addams Family   \n..         ...          ...         ...                          ...   \n701  tt0099088            8  2015-02-27  Back to the Future Part III   \n702  tt0993846            9  2014-06-02      The Wolf of Wall Street   \n703  tt0099487            8  2015-02-20          Edward Scissorhands   \n704  tt0099653            8  2015-02-20                        Ghost   \n705  tt0099864            7  2015-02-20                           It   \n\n                                       URL    Title Type  IMDb Rating  \\\n0    https://www.imdb.com/title/tt0100157/         movie          7.8   \n1    https://www.imdb.com/title/tt0100405/         movie          7.0   \n2    https://www.imdb.com/title/tt1007029/         movie          6.4   \n3    https://www.imdb.com/title/tt1010048/         movie          8.0   \n4    https://www.imdb.com/title/tt0101272/         movie          6.9   \n..                                     ...           ...          ...   \n701  https://www.imdb.com/title/tt0099088/         movie          7.4   \n702  https://www.imdb.com/title/tt0993846/         movie          8.2   \n703  https://www.imdb.com/title/tt0099487/         movie          7.9   \n704  https://www.imdb.com/title/tt0099653/         movie          7.0   \n705  https://www.imdb.com/title/tt0099864/  tvMiniSeries          6.8   \n\n     Runtime (mins)  Year                              Genres  Num Votes  \\\n0               107  1990                     Drama, Thriller     171962   \n1               119  1990                     Comedy, Romance     271083   \n2               105  2011                    Biography, Drama      98773   \n3               120  2008                      Drama, Romance     766624   \n4                99  1991                     Comedy, Fantasy     123080   \n..              ...   ...                                 ...        ...   \n701             118  1990  Adventure, Comedy, Sci-Fi, Western     376811   \n702             180  2013             Biography, Crime, Drama    1087889   \n703             105  1990             Drama, Fantasy, Romance     426764   \n704             127  1990   Drama, Fantasy, Romance, Thriller     186060   \n705             192  1990    Drama, Horror, Mystery, Thriller     110099   \n\n    Release Date                     Directors  \n0     1990-11-29                    Rob Reiner  \n1     1990-03-23                Garry Marshall  \n2     2011-12-26                Phyllida Lloyd  \n3     2008-08-30  Loveleen Tandan, Danny Boyle  \n4     1991-11-19              Barry Sonnenfeld  \n..           ...                           ...  \n701   1990-05-25               Robert Zemeckis  \n702   2013-12-09               Martin Scorsese  \n703   1990-12-06                    Tim Burton  \n704   1990-07-13                  Jerry Zucker  \n705   1990-11-18                           NaN  \n\n[706 rows x 13 columns]",
      "text/html": "<div>\n<style scoped>\n    .dataframe tbody tr th:only-of-type {\n        vertical-align: middle;\n    }\n\n    .dataframe tbody tr th {\n        vertical-align: top;\n    }\n\n    .dataframe thead th {\n        text-align: right;\n    }\n</style>\n<table border=\"1\" class=\"dataframe\">\n  <thead>\n    <tr style=\"text-align: right;\">\n      <th></th>\n      <th>Const</th>\n      <th>Your Rating</th>\n      <th>Date Rated</th>\n      <th>Title</th>\n      <th>URL</th>\n      <th>Title Type</th>\n      <th>IMDb Rating</th>\n      <th>Runtime (mins)</th>\n      <th>Year</th>\n      <th>Genres</th>\n      <th>Num Votes</th>\n      <th>Release Date</th>\n      <th>Directors</th>\n    </tr>\n  </thead>\n  <tbody>\n    <tr>\n      <th>0</th>\n      <td>tt0100157</td>\n      <td>8</td>\n      <td>2014-04-21</td>\n      <td>Misery</td>\n      <td>https://www.imdb.com/title/tt0100157/</td>\n      <td>movie</td>\n      <td>7.8</td>\n      <td>107</td>\n      <td>1990</td>\n      <td>Drama, Thriller</td>\n      <td>171962</td>\n      <td>1990-11-29</td>\n      <td>Rob Reiner</td>\n    </tr>\n    <tr>\n      <th>1</th>\n      <td>tt0100405</td>\n      <td>7</td>\n      <td>2019-06-16</td>\n      <td>Pretty Woman</td>\n      <td>https://www.imdb.com/title/tt0100405/</td>\n      <td>movie</td>\n      <td>7.0</td>\n      <td>119</td>\n      <td>1990</td>\n      <td>Comedy, Romance</td>\n      <td>271083</td>\n      <td>1990-03-23</td>\n      <td>Garry Marshall</td>\n    </tr>\n    <tr>\n      <th>2</th>\n      <td>tt1007029</td>\n      <td>7</td>\n      <td>2014-04-22</td>\n      <td>The Iron Lady</td>\n      <td>https://www.imdb.com/title/tt1007029/</td>\n      <td>movie</td>\n      <td>6.4</td>\n      <td>105</td>\n      <td>2011</td>\n      <td>Biography, Drama</td>\n      <td>98773</td>\n      <td>2011-12-26</td>\n      <td>Phyllida Lloyd</td>\n    </tr>\n    <tr>\n      <th>3</th>\n      <td>tt1010048</td>\n      <td>7</td>\n      <td>2015-03-13</td>\n      <td>Slumdog Millionaire</td>\n      <td>https://www.imdb.com/title/tt1010048/</td>\n      <td>movie</td>\n      <td>8.0</td>\n      <td>120</td>\n      <td>2008</td>\n      <td>Drama, Romance</td>\n      <td>766624</td>\n      <td>2008-08-30</td>\n      <td>Loveleen Tandan, Danny Boyle</td>\n    </tr>\n    <tr>\n      <th>4</th>\n      <td>tt0101272</td>\n      <td>7</td>\n      <td>2014-04-21</td>\n      <td>The Addams Family</td>\n      <td>https://www.imdb.com/title/tt0101272/</td>\n      <td>movie</td>\n      <td>6.9</td>\n      <td>99</td>\n      <td>1991</td>\n      <td>Comedy, Fantasy</td>\n      <td>123080</td>\n      <td>1991-11-19</td>\n      <td>Barry Sonnenfeld</td>\n    </tr>\n    <tr>\n      <th>...</th>\n      <td>...</td>\n      <td>...</td>\n      <td>...</td>\n      <td>...</td>\n      <td>...</td>\n      <td>...</td>\n      <td>...</td>\n      <td>...</td>\n      <td>...</td>\n      <td>...</td>\n      <td>...</td>\n      <td>...</td>\n      <td>...</td>\n    </tr>\n    <tr>\n      <th>701</th>\n      <td>tt0099088</td>\n      <td>8</td>\n      <td>2015-02-27</td>\n      <td>Back to the Future Part III</td>\n      <td>https://www.imdb.com/title/tt0099088/</td>\n      <td>movie</td>\n      <td>7.4</td>\n      <td>118</td>\n      <td>1990</td>\n      <td>Adventure, Comedy, Sci-Fi, Western</td>\n      <td>376811</td>\n      <td>1990-05-25</td>\n      <td>Robert Zemeckis</td>\n    </tr>\n    <tr>\n      <th>702</th>\n      <td>tt0993846</td>\n      <td>9</td>\n      <td>2014-06-02</td>\n      <td>The Wolf of Wall Street</td>\n      <td>https://www.imdb.com/title/tt0993846/</td>\n      <td>movie</td>\n      <td>8.2</td>\n      <td>180</td>\n      <td>2013</td>\n      <td>Biography, Crime, Drama</td>\n      <td>1087889</td>\n      <td>2013-12-09</td>\n      <td>Martin Scorsese</td>\n    </tr>\n    <tr>\n      <th>703</th>\n      <td>tt0099487</td>\n      <td>8</td>\n      <td>2015-02-20</td>\n      <td>Edward Scissorhands</td>\n      <td>https://www.imdb.com/title/tt0099487/</td>\n      <td>movie</td>\n      <td>7.9</td>\n      <td>105</td>\n      <td>1990</td>\n      <td>Drama, Fantasy, Romance</td>\n      <td>426764</td>\n      <td>1990-12-06</td>\n      <td>Tim Burton</td>\n    </tr>\n    <tr>\n      <th>704</th>\n      <td>tt0099653</td>\n      <td>8</td>\n      <td>2015-02-20</td>\n      <td>Ghost</td>\n      <td>https://www.imdb.com/title/tt0099653/</td>\n      <td>movie</td>\n      <td>7.0</td>\n      <td>127</td>\n      <td>1990</td>\n      <td>Drama, Fantasy, Romance, Thriller</td>\n      <td>186060</td>\n      <td>1990-07-13</td>\n      <td>Jerry Zucker</td>\n    </tr>\n    <tr>\n      <th>705</th>\n      <td>tt0099864</td>\n      <td>7</td>\n      <td>2015-02-20</td>\n      <td>It</td>\n      <td>https://www.imdb.com/title/tt0099864/</td>\n      <td>tvMiniSeries</td>\n      <td>6.8</td>\n      <td>192</td>\n      <td>1990</td>\n      <td>Drama, Horror, Mystery, Thriller</td>\n      <td>110099</td>\n      <td>1990-11-18</td>\n      <td>NaN</td>\n    </tr>\n  </tbody>\n</table>\n<p>706 rows × 13 columns</p>\n</div>"
     },
     "execution_count": 21,
     "metadata": {},
     "output_type": "execute_result"
    }
   ],
   "source": [
    "data_in =pd.read_csv('Ratings.csv')\n",
    "\n",
    "data_in"
   ]
  },
  {
   "cell_type": "markdown",
   "metadata": {
    "colab_type": "text",
    "id": "fSwMA-Sl2JER"
   },
   "source": [
    "With the newly imported data we can find out how python has imported it by checking the **type**."
   ]
  },
  {
   "cell_type": "code",
   "execution_count": 22,
   "metadata": {
    "colab": {
     "base_uri": "https://localhost:8080/",
     "height": 34
    },
    "colab_type": "code",
    "id": "Z3OfXoBS2JET",
    "outputId": "70c132c7-80bb-453b-b759-c735744e8e97"
   },
   "outputs": [
    {
     "data": {
      "text/plain": "pandas.core.frame.DataFrame"
     },
     "execution_count": 22,
     "metadata": {},
     "output_type": "execute_result"
    }
   ],
   "source": [
    "type(data_in)"
   ]
  },
  {
   "cell_type": "markdown",
   "metadata": {
    "colab_type": "text",
    "id": "geiUcg4u2JEc"
   },
   "source": [
    "There may be moments when we need to look at certain parts of the data but don't want to view the full data set. \n",
    "\n",
    "There is where the **head** and **tail** comes in use. You can either keep the default of looking at the 5 values or parse a number for the number of rows you want to look at.\n",
    "\n",
    "If it is the start of the data you will use the **head** function and the bottom of the data you will use **tail**."
   ]
  },
  {
   "cell_type": "code",
   "execution_count": 23,
   "metadata": {
    "colab": {
     "base_uri": "https://localhost:8080/",
     "height": 289
    },
    "colab_type": "code",
    "id": "cONt9o2i2JEd",
    "outputId": "dc3a0fbe-2205-47c1-952e-595911fd0dc4"
   },
   "outputs": [
    {
     "data": {
      "text/plain": "       Const  Your Rating  Date Rated                Title  \\\n0  tt0100157            8  2014-04-21               Misery   \n1  tt0100405            7  2019-06-16         Pretty Woman   \n2  tt1007029            7  2014-04-22        The Iron Lady   \n3  tt1010048            7  2015-03-13  Slumdog Millionaire   \n4  tt0101272            7  2014-04-21    The Addams Family   \n\n                                     URL Title Type  IMDb Rating  \\\n0  https://www.imdb.com/title/tt0100157/      movie          7.8   \n1  https://www.imdb.com/title/tt0100405/      movie          7.0   \n2  https://www.imdb.com/title/tt1007029/      movie          6.4   \n3  https://www.imdb.com/title/tt1010048/      movie          8.0   \n4  https://www.imdb.com/title/tt0101272/      movie          6.9   \n\n   Runtime (mins)  Year            Genres  Num Votes Release Date  \\\n0             107  1990   Drama, Thriller     171962   1990-11-29   \n1             119  1990   Comedy, Romance     271083   1990-03-23   \n2             105  2011  Biography, Drama      98773   2011-12-26   \n3             120  2008    Drama, Romance     766624   2008-08-30   \n4              99  1991   Comedy, Fantasy     123080   1991-11-19   \n\n                      Directors  \n0                    Rob Reiner  \n1                Garry Marshall  \n2                Phyllida Lloyd  \n3  Loveleen Tandan, Danny Boyle  \n4              Barry Sonnenfeld  ",
      "text/html": "<div>\n<style scoped>\n    .dataframe tbody tr th:only-of-type {\n        vertical-align: middle;\n    }\n\n    .dataframe tbody tr th {\n        vertical-align: top;\n    }\n\n    .dataframe thead th {\n        text-align: right;\n    }\n</style>\n<table border=\"1\" class=\"dataframe\">\n  <thead>\n    <tr style=\"text-align: right;\">\n      <th></th>\n      <th>Const</th>\n      <th>Your Rating</th>\n      <th>Date Rated</th>\n      <th>Title</th>\n      <th>URL</th>\n      <th>Title Type</th>\n      <th>IMDb Rating</th>\n      <th>Runtime (mins)</th>\n      <th>Year</th>\n      <th>Genres</th>\n      <th>Num Votes</th>\n      <th>Release Date</th>\n      <th>Directors</th>\n    </tr>\n  </thead>\n  <tbody>\n    <tr>\n      <th>0</th>\n      <td>tt0100157</td>\n      <td>8</td>\n      <td>2014-04-21</td>\n      <td>Misery</td>\n      <td>https://www.imdb.com/title/tt0100157/</td>\n      <td>movie</td>\n      <td>7.8</td>\n      <td>107</td>\n      <td>1990</td>\n      <td>Drama, Thriller</td>\n      <td>171962</td>\n      <td>1990-11-29</td>\n      <td>Rob Reiner</td>\n    </tr>\n    <tr>\n      <th>1</th>\n      <td>tt0100405</td>\n      <td>7</td>\n      <td>2019-06-16</td>\n      <td>Pretty Woman</td>\n      <td>https://www.imdb.com/title/tt0100405/</td>\n      <td>movie</td>\n      <td>7.0</td>\n      <td>119</td>\n      <td>1990</td>\n      <td>Comedy, Romance</td>\n      <td>271083</td>\n      <td>1990-03-23</td>\n      <td>Garry Marshall</td>\n    </tr>\n    <tr>\n      <th>2</th>\n      <td>tt1007029</td>\n      <td>7</td>\n      <td>2014-04-22</td>\n      <td>The Iron Lady</td>\n      <td>https://www.imdb.com/title/tt1007029/</td>\n      <td>movie</td>\n      <td>6.4</td>\n      <td>105</td>\n      <td>2011</td>\n      <td>Biography, Drama</td>\n      <td>98773</td>\n      <td>2011-12-26</td>\n      <td>Phyllida Lloyd</td>\n    </tr>\n    <tr>\n      <th>3</th>\n      <td>tt1010048</td>\n      <td>7</td>\n      <td>2015-03-13</td>\n      <td>Slumdog Millionaire</td>\n      <td>https://www.imdb.com/title/tt1010048/</td>\n      <td>movie</td>\n      <td>8.0</td>\n      <td>120</td>\n      <td>2008</td>\n      <td>Drama, Romance</td>\n      <td>766624</td>\n      <td>2008-08-30</td>\n      <td>Loveleen Tandan, Danny Boyle</td>\n    </tr>\n    <tr>\n      <th>4</th>\n      <td>tt0101272</td>\n      <td>7</td>\n      <td>2014-04-21</td>\n      <td>The Addams Family</td>\n      <td>https://www.imdb.com/title/tt0101272/</td>\n      <td>movie</td>\n      <td>6.9</td>\n      <td>99</td>\n      <td>1991</td>\n      <td>Comedy, Fantasy</td>\n      <td>123080</td>\n      <td>1991-11-19</td>\n      <td>Barry Sonnenfeld</td>\n    </tr>\n  </tbody>\n</table>\n</div>"
     },
     "execution_count": 23,
     "metadata": {},
     "output_type": "execute_result"
    }
   ],
   "source": [
    "data_in.head()"
   ]
  },
  {
   "cell_type": "markdown",
   "metadata": {
    "colab_type": "text",
    "id": "20cLM1yOdQJ-"
   },
   "source": [
    "The default **head** function will show up a default of the top 5 values however we can parse in a value to increase the display (For instance 10 below):"
   ]
  },
  {
   "cell_type": "code",
   "execution_count": 24,
   "metadata": {
    "colab": {
     "base_uri": "https://localhost:8080/",
     "height": 546
    },
    "colab_type": "code",
    "id": "DWCjmOXz2JEh",
    "outputId": "bf43dc80-4aa0-4cd3-d583-3fbdb68bbbdf"
   },
   "outputs": [
    {
     "data": {
      "text/plain": "       Const  Your Rating  Date Rated                        Title  \\\n0  tt0100157            8  2014-04-21                       Misery   \n1  tt0100405            7  2019-06-16                 Pretty Woman   \n2  tt1007029            7  2014-04-22                The Iron Lady   \n3  tt1010048            7  2015-03-13          Slumdog Millionaire   \n4  tt0101272            7  2014-04-21            The Addams Family   \n5  tt1013752            7  2014-04-21               Fast & Furious   \n6  tt1013977            9  2014-05-05          Dexter: It's Alive!   \n7  tt1013981            9  2014-05-05    Dexter: Waiting to Exhale   \n8  tt1013982            8  2014-05-05  Dexter: An Inconvenient Lie   \n9  tt1013983            8  2014-05-07          Dexter: See-Through   \n\n                                     URL Title Type  IMDb Rating  \\\n0  https://www.imdb.com/title/tt0100157/      movie          7.8   \n1  https://www.imdb.com/title/tt0100405/      movie          7.0   \n2  https://www.imdb.com/title/tt1007029/      movie          6.4   \n3  https://www.imdb.com/title/tt1010048/      movie          8.0   \n4  https://www.imdb.com/title/tt0101272/      movie          6.9   \n5  https://www.imdb.com/title/tt1013752/      movie          6.6   \n6  https://www.imdb.com/title/tt1013977/  tvEpisode          8.8   \n7  https://www.imdb.com/title/tt1013981/  tvEpisode          8.6   \n8  https://www.imdb.com/title/tt1013982/  tvEpisode          8.7   \n9  https://www.imdb.com/title/tt1013983/  tvEpisode          8.5   \n\n   Runtime (mins)  Year                           Genres  Num Votes  \\\n0             107  1990                  Drama, Thriller     171962   \n1             119  1990                  Comedy, Romance     271083   \n2             105  2011                 Biography, Drama      98773   \n3             120  2008                   Drama, Romance     766624   \n4              99  1991                  Comedy, Fantasy     123080   \n5             107  2009      Action, Adventure, Thriller     250291   \n6              53  2007  Crime, Drama, Mystery, Thriller       4036   \n7              56  2007  Crime, Drama, Mystery, Thriller       3643   \n8              52  2007  Crime, Drama, Mystery, Thriller       3609   \n9              53  2007  Crime, Drama, Mystery, Thriller       3443   \n\n  Release Date                     Directors  \n0   1990-11-29                    Rob Reiner  \n1   1990-03-23                Garry Marshall  \n2   2011-12-26                Phyllida Lloyd  \n3   2008-08-30  Loveleen Tandan, Danny Boyle  \n4   1991-11-19              Barry Sonnenfeld  \n5   2009-03-12                    Justin Lin  \n6   2007-09-30                  Tony Goldwyn  \n7   2007-10-07                  Marcos Siega  \n8   2007-10-14                  Tony Goldwyn  \n9   2007-10-21                    Nick Gomez  ",
      "text/html": "<div>\n<style scoped>\n    .dataframe tbody tr th:only-of-type {\n        vertical-align: middle;\n    }\n\n    .dataframe tbody tr th {\n        vertical-align: top;\n    }\n\n    .dataframe thead th {\n        text-align: right;\n    }\n</style>\n<table border=\"1\" class=\"dataframe\">\n  <thead>\n    <tr style=\"text-align: right;\">\n      <th></th>\n      <th>Const</th>\n      <th>Your Rating</th>\n      <th>Date Rated</th>\n      <th>Title</th>\n      <th>URL</th>\n      <th>Title Type</th>\n      <th>IMDb Rating</th>\n      <th>Runtime (mins)</th>\n      <th>Year</th>\n      <th>Genres</th>\n      <th>Num Votes</th>\n      <th>Release Date</th>\n      <th>Directors</th>\n    </tr>\n  </thead>\n  <tbody>\n    <tr>\n      <th>0</th>\n      <td>tt0100157</td>\n      <td>8</td>\n      <td>2014-04-21</td>\n      <td>Misery</td>\n      <td>https://www.imdb.com/title/tt0100157/</td>\n      <td>movie</td>\n      <td>7.8</td>\n      <td>107</td>\n      <td>1990</td>\n      <td>Drama, Thriller</td>\n      <td>171962</td>\n      <td>1990-11-29</td>\n      <td>Rob Reiner</td>\n    </tr>\n    <tr>\n      <th>1</th>\n      <td>tt0100405</td>\n      <td>7</td>\n      <td>2019-06-16</td>\n      <td>Pretty Woman</td>\n      <td>https://www.imdb.com/title/tt0100405/</td>\n      <td>movie</td>\n      <td>7.0</td>\n      <td>119</td>\n      <td>1990</td>\n      <td>Comedy, Romance</td>\n      <td>271083</td>\n      <td>1990-03-23</td>\n      <td>Garry Marshall</td>\n    </tr>\n    <tr>\n      <th>2</th>\n      <td>tt1007029</td>\n      <td>7</td>\n      <td>2014-04-22</td>\n      <td>The Iron Lady</td>\n      <td>https://www.imdb.com/title/tt1007029/</td>\n      <td>movie</td>\n      <td>6.4</td>\n      <td>105</td>\n      <td>2011</td>\n      <td>Biography, Drama</td>\n      <td>98773</td>\n      <td>2011-12-26</td>\n      <td>Phyllida Lloyd</td>\n    </tr>\n    <tr>\n      <th>3</th>\n      <td>tt1010048</td>\n      <td>7</td>\n      <td>2015-03-13</td>\n      <td>Slumdog Millionaire</td>\n      <td>https://www.imdb.com/title/tt1010048/</td>\n      <td>movie</td>\n      <td>8.0</td>\n      <td>120</td>\n      <td>2008</td>\n      <td>Drama, Romance</td>\n      <td>766624</td>\n      <td>2008-08-30</td>\n      <td>Loveleen Tandan, Danny Boyle</td>\n    </tr>\n    <tr>\n      <th>4</th>\n      <td>tt0101272</td>\n      <td>7</td>\n      <td>2014-04-21</td>\n      <td>The Addams Family</td>\n      <td>https://www.imdb.com/title/tt0101272/</td>\n      <td>movie</td>\n      <td>6.9</td>\n      <td>99</td>\n      <td>1991</td>\n      <td>Comedy, Fantasy</td>\n      <td>123080</td>\n      <td>1991-11-19</td>\n      <td>Barry Sonnenfeld</td>\n    </tr>\n    <tr>\n      <th>5</th>\n      <td>tt1013752</td>\n      <td>7</td>\n      <td>2014-04-21</td>\n      <td>Fast &amp; Furious</td>\n      <td>https://www.imdb.com/title/tt1013752/</td>\n      <td>movie</td>\n      <td>6.6</td>\n      <td>107</td>\n      <td>2009</td>\n      <td>Action, Adventure, Thriller</td>\n      <td>250291</td>\n      <td>2009-03-12</td>\n      <td>Justin Lin</td>\n    </tr>\n    <tr>\n      <th>6</th>\n      <td>tt1013977</td>\n      <td>9</td>\n      <td>2014-05-05</td>\n      <td>Dexter: It's Alive!</td>\n      <td>https://www.imdb.com/title/tt1013977/</td>\n      <td>tvEpisode</td>\n      <td>8.8</td>\n      <td>53</td>\n      <td>2007</td>\n      <td>Crime, Drama, Mystery, Thriller</td>\n      <td>4036</td>\n      <td>2007-09-30</td>\n      <td>Tony Goldwyn</td>\n    </tr>\n    <tr>\n      <th>7</th>\n      <td>tt1013981</td>\n      <td>9</td>\n      <td>2014-05-05</td>\n      <td>Dexter: Waiting to Exhale</td>\n      <td>https://www.imdb.com/title/tt1013981/</td>\n      <td>tvEpisode</td>\n      <td>8.6</td>\n      <td>56</td>\n      <td>2007</td>\n      <td>Crime, Drama, Mystery, Thriller</td>\n      <td>3643</td>\n      <td>2007-10-07</td>\n      <td>Marcos Siega</td>\n    </tr>\n    <tr>\n      <th>8</th>\n      <td>tt1013982</td>\n      <td>8</td>\n      <td>2014-05-05</td>\n      <td>Dexter: An Inconvenient Lie</td>\n      <td>https://www.imdb.com/title/tt1013982/</td>\n      <td>tvEpisode</td>\n      <td>8.7</td>\n      <td>52</td>\n      <td>2007</td>\n      <td>Crime, Drama, Mystery, Thriller</td>\n      <td>3609</td>\n      <td>2007-10-14</td>\n      <td>Tony Goldwyn</td>\n    </tr>\n    <tr>\n      <th>9</th>\n      <td>tt1013983</td>\n      <td>8</td>\n      <td>2014-05-07</td>\n      <td>Dexter: See-Through</td>\n      <td>https://www.imdb.com/title/tt1013983/</td>\n      <td>tvEpisode</td>\n      <td>8.5</td>\n      <td>53</td>\n      <td>2007</td>\n      <td>Crime, Drama, Mystery, Thriller</td>\n      <td>3443</td>\n      <td>2007-10-21</td>\n      <td>Nick Gomez</td>\n    </tr>\n  </tbody>\n</table>\n</div>"
     },
     "execution_count": 24,
     "metadata": {},
     "output_type": "execute_result"
    }
   ],
   "source": [
    "data_in.head(10)"
   ]
  },
  {
   "cell_type": "markdown",
   "metadata": {
    "colab_type": "text",
    "id": "qhEYhaF8dfhd"
   },
   "source": [
    "The same applies to the **tail** function:"
   ]
  },
  {
   "cell_type": "code",
   "execution_count": 25,
   "metadata": {
    "colab": {
     "base_uri": "https://localhost:8080/",
     "height": 306
    },
    "colab_type": "code",
    "id": "g8QPRR4y2JEr",
    "outputId": "73334e30-c250-4e5d-d27d-5cfc72e02f72"
   },
   "outputs": [
    {
     "data": {
      "text/plain": "         Const  Your Rating  Date Rated                        Title  \\\n701  tt0099088            8  2015-02-27  Back to the Future Part III   \n702  tt0993846            9  2014-06-02      The Wolf of Wall Street   \n703  tt0099487            8  2015-02-20          Edward Scissorhands   \n704  tt0099653            8  2015-02-20                        Ghost   \n705  tt0099864            7  2015-02-20                           It   \n\n                                       URL    Title Type  IMDb Rating  \\\n701  https://www.imdb.com/title/tt0099088/         movie          7.4   \n702  https://www.imdb.com/title/tt0993846/         movie          8.2   \n703  https://www.imdb.com/title/tt0099487/         movie          7.9   \n704  https://www.imdb.com/title/tt0099653/         movie          7.0   \n705  https://www.imdb.com/title/tt0099864/  tvMiniSeries          6.8   \n\n     Runtime (mins)  Year                              Genres  Num Votes  \\\n701             118  1990  Adventure, Comedy, Sci-Fi, Western     376811   \n702             180  2013             Biography, Crime, Drama    1087889   \n703             105  1990             Drama, Fantasy, Romance     426764   \n704             127  1990   Drama, Fantasy, Romance, Thriller     186060   \n705             192  1990    Drama, Horror, Mystery, Thriller     110099   \n\n    Release Date        Directors  \n701   1990-05-25  Robert Zemeckis  \n702   2013-12-09  Martin Scorsese  \n703   1990-12-06       Tim Burton  \n704   1990-07-13     Jerry Zucker  \n705   1990-11-18              NaN  ",
      "text/html": "<div>\n<style scoped>\n    .dataframe tbody tr th:only-of-type {\n        vertical-align: middle;\n    }\n\n    .dataframe tbody tr th {\n        vertical-align: top;\n    }\n\n    .dataframe thead th {\n        text-align: right;\n    }\n</style>\n<table border=\"1\" class=\"dataframe\">\n  <thead>\n    <tr style=\"text-align: right;\">\n      <th></th>\n      <th>Const</th>\n      <th>Your Rating</th>\n      <th>Date Rated</th>\n      <th>Title</th>\n      <th>URL</th>\n      <th>Title Type</th>\n      <th>IMDb Rating</th>\n      <th>Runtime (mins)</th>\n      <th>Year</th>\n      <th>Genres</th>\n      <th>Num Votes</th>\n      <th>Release Date</th>\n      <th>Directors</th>\n    </tr>\n  </thead>\n  <tbody>\n    <tr>\n      <th>701</th>\n      <td>tt0099088</td>\n      <td>8</td>\n      <td>2015-02-27</td>\n      <td>Back to the Future Part III</td>\n      <td>https://www.imdb.com/title/tt0099088/</td>\n      <td>movie</td>\n      <td>7.4</td>\n      <td>118</td>\n      <td>1990</td>\n      <td>Adventure, Comedy, Sci-Fi, Western</td>\n      <td>376811</td>\n      <td>1990-05-25</td>\n      <td>Robert Zemeckis</td>\n    </tr>\n    <tr>\n      <th>702</th>\n      <td>tt0993846</td>\n      <td>9</td>\n      <td>2014-06-02</td>\n      <td>The Wolf of Wall Street</td>\n      <td>https://www.imdb.com/title/tt0993846/</td>\n      <td>movie</td>\n      <td>8.2</td>\n      <td>180</td>\n      <td>2013</td>\n      <td>Biography, Crime, Drama</td>\n      <td>1087889</td>\n      <td>2013-12-09</td>\n      <td>Martin Scorsese</td>\n    </tr>\n    <tr>\n      <th>703</th>\n      <td>tt0099487</td>\n      <td>8</td>\n      <td>2015-02-20</td>\n      <td>Edward Scissorhands</td>\n      <td>https://www.imdb.com/title/tt0099487/</td>\n      <td>movie</td>\n      <td>7.9</td>\n      <td>105</td>\n      <td>1990</td>\n      <td>Drama, Fantasy, Romance</td>\n      <td>426764</td>\n      <td>1990-12-06</td>\n      <td>Tim Burton</td>\n    </tr>\n    <tr>\n      <th>704</th>\n      <td>tt0099653</td>\n      <td>8</td>\n      <td>2015-02-20</td>\n      <td>Ghost</td>\n      <td>https://www.imdb.com/title/tt0099653/</td>\n      <td>movie</td>\n      <td>7.0</td>\n      <td>127</td>\n      <td>1990</td>\n      <td>Drama, Fantasy, Romance, Thriller</td>\n      <td>186060</td>\n      <td>1990-07-13</td>\n      <td>Jerry Zucker</td>\n    </tr>\n    <tr>\n      <th>705</th>\n      <td>tt0099864</td>\n      <td>7</td>\n      <td>2015-02-20</td>\n      <td>It</td>\n      <td>https://www.imdb.com/title/tt0099864/</td>\n      <td>tvMiniSeries</td>\n      <td>6.8</td>\n      <td>192</td>\n      <td>1990</td>\n      <td>Drama, Horror, Mystery, Thriller</td>\n      <td>110099</td>\n      <td>1990-11-18</td>\n      <td>NaN</td>\n    </tr>\n  </tbody>\n</table>\n</div>"
     },
     "execution_count": 25,
     "metadata": {},
     "output_type": "execute_result"
    }
   ],
   "source": [
    "data_in.tail()"
   ]
  },
  {
   "cell_type": "code",
   "execution_count": 26,
   "metadata": {
    "colab": {
     "base_uri": "https://localhost:8080/",
     "height": 546
    },
    "colab_type": "code",
    "id": "SmBlMRpw2JE2",
    "outputId": "bcb4e931-b7b1-4313-e897-1cb8a07836ca"
   },
   "outputs": [
    {
     "data": {
      "text/plain": "         Const  Your Rating  Date Rated                        Title  \\\n696  tt0098084            7  2014-04-21                 Pet Sematary   \n697  tt0985699            9  2015-02-20                     Valkyrie   \n698  tt0986263            8  2014-04-21                   Surrogates   \n699  tt0988045            8  2014-04-20              Sherlock Holmes   \n700  tt0990407            5  2015-02-20             The Green Hornet   \n701  tt0099088            8  2015-02-27  Back to the Future Part III   \n702  tt0993846            9  2014-06-02      The Wolf of Wall Street   \n703  tt0099487            8  2015-02-20          Edward Scissorhands   \n704  tt0099653            8  2015-02-20                        Ghost   \n705  tt0099864            7  2015-02-20                           It   \n\n                                       URL    Title Type  IMDb Rating  \\\n696  https://www.imdb.com/title/tt0098084/         movie          6.6   \n697  https://www.imdb.com/title/tt0985699/         movie          7.1   \n698  https://www.imdb.com/title/tt0986263/         movie          6.3   \n699  https://www.imdb.com/title/tt0988045/         movie          7.6   \n700  https://www.imdb.com/title/tt0990407/         movie          5.8   \n701  https://www.imdb.com/title/tt0099088/         movie          7.4   \n702  https://www.imdb.com/title/tt0993846/         movie          8.2   \n703  https://www.imdb.com/title/tt0099487/         movie          7.9   \n704  https://www.imdb.com/title/tt0099653/         movie          7.0   \n705  https://www.imdb.com/title/tt0099864/  tvMiniSeries          6.8   \n\n     Runtime (mins)  Year                                       Genres  \\\n696             103  1989                             Horror, Thriller   \n697             121  2008                Drama, History, Thriller, War   \n698              89  2009                     Action, Sci-Fi, Thriller   \n699             128  2009  Action, Adventure, Crime, Mystery, Thriller   \n700             119  2011                               Action, Comedy   \n701             118  1990           Adventure, Comedy, Sci-Fi, Western   \n702             180  2013                      Biography, Crime, Drama   \n703             105  1990                      Drama, Fantasy, Romance   \n704             127  1990            Drama, Fantasy, Romance, Thriller   \n705             192  1990             Drama, Horror, Mystery, Thriller   \n\n     Num Votes Release Date        Directors  \n696      89242   1989-04-21     Mary Lambert  \n697     219249   2008-12-25     Bryan Singer  \n698     165464   2009-09-24  Jonathan Mostow  \n699     561544   2009-12-14      Guy Ritchie  \n700     150988   2011-01-12    Michel Gondry  \n701     376811   1990-05-25  Robert Zemeckis  \n702    1087889   2013-12-09  Martin Scorsese  \n703     426764   1990-12-06       Tim Burton  \n704     186060   1990-07-13     Jerry Zucker  \n705     110099   1990-11-18              NaN  ",
      "text/html": "<div>\n<style scoped>\n    .dataframe tbody tr th:only-of-type {\n        vertical-align: middle;\n    }\n\n    .dataframe tbody tr th {\n        vertical-align: top;\n    }\n\n    .dataframe thead th {\n        text-align: right;\n    }\n</style>\n<table border=\"1\" class=\"dataframe\">\n  <thead>\n    <tr style=\"text-align: right;\">\n      <th></th>\n      <th>Const</th>\n      <th>Your Rating</th>\n      <th>Date Rated</th>\n      <th>Title</th>\n      <th>URL</th>\n      <th>Title Type</th>\n      <th>IMDb Rating</th>\n      <th>Runtime (mins)</th>\n      <th>Year</th>\n      <th>Genres</th>\n      <th>Num Votes</th>\n      <th>Release Date</th>\n      <th>Directors</th>\n    </tr>\n  </thead>\n  <tbody>\n    <tr>\n      <th>696</th>\n      <td>tt0098084</td>\n      <td>7</td>\n      <td>2014-04-21</td>\n      <td>Pet Sematary</td>\n      <td>https://www.imdb.com/title/tt0098084/</td>\n      <td>movie</td>\n      <td>6.6</td>\n      <td>103</td>\n      <td>1989</td>\n      <td>Horror, Thriller</td>\n      <td>89242</td>\n      <td>1989-04-21</td>\n      <td>Mary Lambert</td>\n    </tr>\n    <tr>\n      <th>697</th>\n      <td>tt0985699</td>\n      <td>9</td>\n      <td>2015-02-20</td>\n      <td>Valkyrie</td>\n      <td>https://www.imdb.com/title/tt0985699/</td>\n      <td>movie</td>\n      <td>7.1</td>\n      <td>121</td>\n      <td>2008</td>\n      <td>Drama, History, Thriller, War</td>\n      <td>219249</td>\n      <td>2008-12-25</td>\n      <td>Bryan Singer</td>\n    </tr>\n    <tr>\n      <th>698</th>\n      <td>tt0986263</td>\n      <td>8</td>\n      <td>2014-04-21</td>\n      <td>Surrogates</td>\n      <td>https://www.imdb.com/title/tt0986263/</td>\n      <td>movie</td>\n      <td>6.3</td>\n      <td>89</td>\n      <td>2009</td>\n      <td>Action, Sci-Fi, Thriller</td>\n      <td>165464</td>\n      <td>2009-09-24</td>\n      <td>Jonathan Mostow</td>\n    </tr>\n    <tr>\n      <th>699</th>\n      <td>tt0988045</td>\n      <td>8</td>\n      <td>2014-04-20</td>\n      <td>Sherlock Holmes</td>\n      <td>https://www.imdb.com/title/tt0988045/</td>\n      <td>movie</td>\n      <td>7.6</td>\n      <td>128</td>\n      <td>2009</td>\n      <td>Action, Adventure, Crime, Mystery, Thriller</td>\n      <td>561544</td>\n      <td>2009-12-14</td>\n      <td>Guy Ritchie</td>\n    </tr>\n    <tr>\n      <th>700</th>\n      <td>tt0990407</td>\n      <td>5</td>\n      <td>2015-02-20</td>\n      <td>The Green Hornet</td>\n      <td>https://www.imdb.com/title/tt0990407/</td>\n      <td>movie</td>\n      <td>5.8</td>\n      <td>119</td>\n      <td>2011</td>\n      <td>Action, Comedy</td>\n      <td>150988</td>\n      <td>2011-01-12</td>\n      <td>Michel Gondry</td>\n    </tr>\n    <tr>\n      <th>701</th>\n      <td>tt0099088</td>\n      <td>8</td>\n      <td>2015-02-27</td>\n      <td>Back to the Future Part III</td>\n      <td>https://www.imdb.com/title/tt0099088/</td>\n      <td>movie</td>\n      <td>7.4</td>\n      <td>118</td>\n      <td>1990</td>\n      <td>Adventure, Comedy, Sci-Fi, Western</td>\n      <td>376811</td>\n      <td>1990-05-25</td>\n      <td>Robert Zemeckis</td>\n    </tr>\n    <tr>\n      <th>702</th>\n      <td>tt0993846</td>\n      <td>9</td>\n      <td>2014-06-02</td>\n      <td>The Wolf of Wall Street</td>\n      <td>https://www.imdb.com/title/tt0993846/</td>\n      <td>movie</td>\n      <td>8.2</td>\n      <td>180</td>\n      <td>2013</td>\n      <td>Biography, Crime, Drama</td>\n      <td>1087889</td>\n      <td>2013-12-09</td>\n      <td>Martin Scorsese</td>\n    </tr>\n    <tr>\n      <th>703</th>\n      <td>tt0099487</td>\n      <td>8</td>\n      <td>2015-02-20</td>\n      <td>Edward Scissorhands</td>\n      <td>https://www.imdb.com/title/tt0099487/</td>\n      <td>movie</td>\n      <td>7.9</td>\n      <td>105</td>\n      <td>1990</td>\n      <td>Drama, Fantasy, Romance</td>\n      <td>426764</td>\n      <td>1990-12-06</td>\n      <td>Tim Burton</td>\n    </tr>\n    <tr>\n      <th>704</th>\n      <td>tt0099653</td>\n      <td>8</td>\n      <td>2015-02-20</td>\n      <td>Ghost</td>\n      <td>https://www.imdb.com/title/tt0099653/</td>\n      <td>movie</td>\n      <td>7.0</td>\n      <td>127</td>\n      <td>1990</td>\n      <td>Drama, Fantasy, Romance, Thriller</td>\n      <td>186060</td>\n      <td>1990-07-13</td>\n      <td>Jerry Zucker</td>\n    </tr>\n    <tr>\n      <th>705</th>\n      <td>tt0099864</td>\n      <td>7</td>\n      <td>2015-02-20</td>\n      <td>It</td>\n      <td>https://www.imdb.com/title/tt0099864/</td>\n      <td>tvMiniSeries</td>\n      <td>6.8</td>\n      <td>192</td>\n      <td>1990</td>\n      <td>Drama, Horror, Mystery, Thriller</td>\n      <td>110099</td>\n      <td>1990-11-18</td>\n      <td>NaN</td>\n    </tr>\n  </tbody>\n</table>\n</div>"
     },
     "execution_count": 26,
     "metadata": {},
     "output_type": "execute_result"
    }
   ],
   "source": [
    "data_in.tail(10)"
   ]
  },
  {
   "cell_type": "markdown",
   "metadata": {
    "colab_type": "text",
    "id": "w745kJ5X2JFB"
   },
   "source": [
    "If we need more details about the number of rows and columns that have been imported in the data we can use the **shape** function. This will return a set of values to indicate the number of rows and columns present."
   ]
  },
  {
   "cell_type": "code",
   "execution_count": 27,
   "metadata": {
    "colab": {
     "base_uri": "https://localhost:8080/",
     "height": 34
    },
    "colab_type": "code",
    "id": "JeA6KD-r2JFE",
    "outputId": "f5f54f73-16d3-42f9-f6ba-1469a5dce3a0"
   },
   "outputs": [
    {
     "data": {
      "text/plain": "(706, 13)"
     },
     "execution_count": 27,
     "metadata": {},
     "output_type": "execute_result"
    }
   ],
   "source": [
    "data_in.shape"
   ]
  },
  {
   "cell_type": "markdown",
   "metadata": {
    "colab_type": "text",
    "id": "aeDrxqjX2JFN"
   },
   "source": [
    "This means we have 706 rows and 13 columns in the DataFrame.\n",
    "\n",
    "But this may not be enough information for us. We may want to check the number of values per variable as well as the type that each\n",
    " variable has been imported as. This is where the **info** function is highly useful."
   ]
  },
  {
   "cell_type": "code",
   "execution_count": 28,
   "metadata": {
    "colab": {
     "base_uri": "https://localhost:8080/",
     "height": 323
    },
    "colab_type": "code",
    "id": "CHFiKoMr2JFP",
    "outputId": "f234593c-b761-4dde-a441-1dd703c0a516"
   },
   "outputs": [
    {
     "name": "stdout",
     "output_type": "stream",
     "text": [
      "<class 'pandas.core.frame.DataFrame'>\n",
      "RangeIndex: 706 entries, 0 to 705\n",
      "Data columns (total 13 columns):\n",
      " #   Column          Non-Null Count  Dtype  \n",
      "---  ------          --------------  -----  \n",
      " 0   Const           706 non-null    object \n",
      " 1   Your Rating     706 non-null    int64  \n",
      " 2   Date Rated      706 non-null    object \n",
      " 3   Title           706 non-null    object \n",
      " 4   URL             706 non-null    object \n",
      " 5   Title Type      706 non-null    object \n",
      " 6   IMDb Rating     706 non-null    float64\n",
      " 7   Runtime (mins)  706 non-null    int64  \n",
      " 8   Year            706 non-null    int64  \n",
      " 9   Genres          706 non-null    object \n",
      " 10  Num Votes       706 non-null    int64  \n",
      " 11  Release Date    706 non-null    object \n",
      " 12  Directors       685 non-null    object \n",
      "dtypes: float64(1), int64(4), object(8)\n",
      "memory usage: 49.7+ KB\n"
     ]
    }
   ],
   "source": [
    "data_in.info(null_counts=True)"
   ]
  },
  {
   "cell_type": "markdown",
   "metadata": {
    "colab_type": "text",
    "id": "a2qKxDWB2JFT"
   },
   "source": [
    "At the dtypes info we can see we have 1 floating value, 4 integer columns and 8 objects in this dataset - this is a view of the data types in the current DataFrame.\n",
    "\n",
    "The next bit will cover the various basic Statistic measures that we may want to look at. The first of which will be two locational measures (The **mean** and the **median**)"
   ]
  },
  {
   "cell_type": "code",
   "execution_count": 29,
   "metadata": {
    "colab": {
     "base_uri": "https://localhost:8080/",
     "height": 119
    },
    "colab_type": "code",
    "id": "D7ntOtXK2JFU",
    "outputId": "95fbbc64-5c85-45e3-909d-51399a36ed8d"
   },
   "outputs": [
    {
     "data": {
      "text/plain": "Your Rating            7.174221\nIMDb Rating            7.043909\nRuntime (mins)       111.237960\nYear                2006.871105\nNum Votes         322995.311615\ndtype: float64"
     },
     "execution_count": 29,
     "metadata": {},
     "output_type": "execute_result"
    }
   ],
   "source": [
    "data_in.mean()"
   ]
  },
  {
   "cell_type": "code",
   "execution_count": 30,
   "metadata": {
    "colab": {
     "base_uri": "https://localhost:8080/",
     "height": 119
    },
    "colab_type": "code",
    "id": "L_CR5_uG2JFX",
    "outputId": "ffa9b5bd-57bb-4ebc-c74f-16ea59324b81"
   },
   "outputs": [
    {
     "data": {
      "text/plain": "Your Rating            7.0\nIMDb Rating            7.0\nRuntime (mins)       110.0\nYear                2009.0\nNum Votes         231925.0\ndtype: float64"
     },
     "execution_count": 30,
     "metadata": {},
     "output_type": "execute_result"
    }
   ],
   "source": [
    "data_in.median()"
   ]
  },
  {
   "cell_type": "markdown",
   "metadata": {
    "colab_type": "text",
    "id": "PW0FVJGn2JFb"
   },
   "source": [
    "Notice that these location measures are automatically only run on the numerical variables and excludes the other variables in the DataFrame.\n",
    "\n",
    "Now that we have a few measures of location, we should start looking at some of the measures of spread to see how we can analyse the data. One of the first methods is the\n",
    " *Standard Deviation* as well as the *Maximum* and *Minimum* values."
   ]
  },
  {
   "cell_type": "code",
   "execution_count": 31,
   "metadata": {
    "colab": {
     "base_uri": "https://localhost:8080/",
     "height": 119
    },
    "colab_type": "code",
    "id": "orPsSbSs2JFc",
    "outputId": "74a0d92e-c23a-49a4-9334-573b587df11c"
   },
   "outputs": [
    {
     "data": {
      "text/plain": "Your Rating            1.178754\nIMDb Rating            0.953678\nRuntime (mins)        29.839857\nYear                   9.197692\nNum Votes         309869.726427\ndtype: float64"
     },
     "execution_count": 31,
     "metadata": {},
     "output_type": "execute_result"
    }
   ],
   "source": [
    "data_in.std()"
   ]
  },
  {
   "cell_type": "code",
   "execution_count": 32,
   "metadata": {
    "colab": {
     "base_uri": "https://localhost:8080/",
     "height": 238
    },
    "colab_type": "code",
    "id": "43okaO7r2JFf",
    "outputId": "983ac918-31ce-4e53-a5fe-7b526cecc6e1"
   },
   "outputs": [
    {
     "data": {
      "text/plain": "Const                                         tt9358204\nYour Rating                                          10\nDate Rated                                   2019-12-20\nTitle                                          Æon Flux\nURL               https://www.imdb.com/title/tt9358204/\nTitle Type                                        video\nIMDb Rating                                         9.7\nRuntime (mins)                                      361\nYear                                               2019\nGenres                                 Sci-Fi, Thriller\nNum Votes                                       2188152\nRelease Date                                 2019-12-16\ndtype: object"
     },
     "execution_count": 32,
     "metadata": {},
     "output_type": "execute_result"
    }
   ],
   "source": [
    "data_in.max()"
   ]
  },
  {
   "cell_type": "code",
   "execution_count": 33,
   "metadata": {
    "colab": {
     "base_uri": "https://localhost:8080/",
     "height": 238
    },
    "colab_type": "code",
    "id": "Bvqd68ps2JFk",
    "outputId": "c1a583f3-9fd5-4178-9f7b-c13ed73e414c"
   },
   "outputs": [
    {
     "data": {
      "text/plain": "Const                                                     tt0055928\nYour Rating                                                       2\nDate Rated                                               2014-04-19\nTitle                                          (500) Days of Summer\nURL                           https://www.imdb.com/title/tt0055928/\nTitle Type                                                    movie\nIMDb Rating                                                     3.1\nRuntime (mins)                                                    5\nYear                                                           1962\nGenres            Action, Adventure, Biography, Drama, History, ...\nNum Votes                                                        10\nRelease Date                                             1962-10-05\ndtype: object"
     },
     "execution_count": 33,
     "metadata": {},
     "output_type": "execute_result"
    }
   ],
   "source": [
    "data_in.min()"
   ]
  },
  {
   "cell_type": "markdown",
   "metadata": {
    "colab_type": "text",
    "id": "FIxdpvcT2JFx"
   },
   "source": [
    "Sometimes the measures of location and spread are not enough to indicate the underlying issues with the data -\n",
    " for instance missing data in the variables. This is where **count** can assist:"
   ]
  },
  {
   "cell_type": "code",
   "execution_count": 34,
   "metadata": {
    "colab": {
     "base_uri": "https://localhost:8080/",
     "height": 255
    },
    "colab_type": "code",
    "id": "bETJfw-s2JFy",
    "outputId": "403113c3-f512-4a79-d145-1d0d50c7608f"
   },
   "outputs": [
    {
     "data": {
      "text/plain": "Const             706\nYour Rating       706\nDate Rated        706\nTitle             706\nURL               706\nTitle Type        706\nIMDb Rating       706\nRuntime (mins)    706\nYear              706\nGenres            706\nNum Votes         706\nRelease Date      706\nDirectors         685\ndtype: int64"
     },
     "execution_count": 34,
     "metadata": {},
     "output_type": "execute_result"
    }
   ],
   "source": [
    "#count non null:\n",
    "\n",
    "data_in.count()"
   ]
  },
  {
   "cell_type": "markdown",
   "metadata": {
    "colab_type": "text",
    "id": "wW821y1_2JF1"
   },
   "source": [
    "And finally we may want to have a view of the full DataFrame. This is where the **describe** function comes in - it will offer various\n",
    " statistics for all of the quantitative variables in the dataset."
   ]
  },
  {
   "cell_type": "code",
   "execution_count": 35,
   "metadata": {
    "colab": {
     "base_uri": "https://localhost:8080/",
     "height": 297
    },
    "colab_type": "code",
    "id": "aLfdmtBd2JF2",
    "outputId": "e4ee4484-a11c-4090-c714-63f2610cad1e"
   },
   "outputs": [
    {
     "data": {
      "text/plain": "       Your Rating  IMDb Rating  Runtime (mins)         Year     Num Votes\ncount   706.000000   706.000000      706.000000   706.000000  7.060000e+02\nmean      7.174221     7.043909      111.237960  2006.871105  3.229953e+05\nstd       1.178754     0.953678       29.839857     9.197692  3.098697e+05\nmin       2.000000     3.100000        5.000000  1962.000000  1.000000e+01\n25%       7.000000     6.400000       97.000000  2003.000000  1.197800e+05\n50%       7.000000     7.000000      110.000000  2009.000000  2.319250e+05\n75%       8.000000     7.700000      125.000000  2014.000000  4.264912e+05\nmax      10.000000     9.700000      361.000000  2019.000000  2.188152e+06",
      "text/html": "<div>\n<style scoped>\n    .dataframe tbody tr th:only-of-type {\n        vertical-align: middle;\n    }\n\n    .dataframe tbody tr th {\n        vertical-align: top;\n    }\n\n    .dataframe thead th {\n        text-align: right;\n    }\n</style>\n<table border=\"1\" class=\"dataframe\">\n  <thead>\n    <tr style=\"text-align: right;\">\n      <th></th>\n      <th>Your Rating</th>\n      <th>IMDb Rating</th>\n      <th>Runtime (mins)</th>\n      <th>Year</th>\n      <th>Num Votes</th>\n    </tr>\n  </thead>\n  <tbody>\n    <tr>\n      <th>count</th>\n      <td>706.000000</td>\n      <td>706.000000</td>\n      <td>706.000000</td>\n      <td>706.000000</td>\n      <td>7.060000e+02</td>\n    </tr>\n    <tr>\n      <th>mean</th>\n      <td>7.174221</td>\n      <td>7.043909</td>\n      <td>111.237960</td>\n      <td>2006.871105</td>\n      <td>3.229953e+05</td>\n    </tr>\n    <tr>\n      <th>std</th>\n      <td>1.178754</td>\n      <td>0.953678</td>\n      <td>29.839857</td>\n      <td>9.197692</td>\n      <td>3.098697e+05</td>\n    </tr>\n    <tr>\n      <th>min</th>\n      <td>2.000000</td>\n      <td>3.100000</td>\n      <td>5.000000</td>\n      <td>1962.000000</td>\n      <td>1.000000e+01</td>\n    </tr>\n    <tr>\n      <th>25%</th>\n      <td>7.000000</td>\n      <td>6.400000</td>\n      <td>97.000000</td>\n      <td>2003.000000</td>\n      <td>1.197800e+05</td>\n    </tr>\n    <tr>\n      <th>50%</th>\n      <td>7.000000</td>\n      <td>7.000000</td>\n      <td>110.000000</td>\n      <td>2009.000000</td>\n      <td>2.319250e+05</td>\n    </tr>\n    <tr>\n      <th>75%</th>\n      <td>8.000000</td>\n      <td>7.700000</td>\n      <td>125.000000</td>\n      <td>2014.000000</td>\n      <td>4.264912e+05</td>\n    </tr>\n    <tr>\n      <th>max</th>\n      <td>10.000000</td>\n      <td>9.700000</td>\n      <td>361.000000</td>\n      <td>2019.000000</td>\n      <td>2.188152e+06</td>\n    </tr>\n  </tbody>\n</table>\n</div>"
     },
     "execution_count": 35,
     "metadata": {},
     "output_type": "execute_result"
    }
   ],
   "source": [
    "data_in.describe()"
   ]
  },
  {
   "cell_type": "markdown",
   "metadata": {
    "colab_type": "text",
    "id": "_In7MRRb2JF5"
   },
   "source": [
    "## Cleaning the DataFrame"
   ]
  },
  {
   "cell_type": "markdown",
   "metadata": {
    "colab_type": "text",
    "id": "LWzySxGG2JF6"
   },
   "source": [
    "Using the DataFrame as it comes may not be the ideal way to analyse without doing a bit of data cleaning.\n",
    "\n",
    "One of the first steps we may want / required to do is the renaming of columns, notice we are passing a dictionary in with the recoding rules.\n",
    "\n",
    "With these recoding rules there is two methods in which to save the changes. The first of which is inserting into the original variable, the other is to\n",
    "use an extra option in the methods called **inplace**, in the following examples we will see both methods."
   ]
  },
  {
   "cell_type": "code",
   "execution_count": 36,
   "metadata": {
    "colab": {
     "base_uri": "https://localhost:8080/",
     "height": 289
    },
    "colab_type": "code",
    "id": "addznPjK2JF8",
    "outputId": "a65c8494-bbc5-418b-a776-f658f1736e0a"
   },
   "outputs": [
    {
     "data": {
      "text/plain": "       Const  Your Rating  Date Rated                Title  \\\n0  tt0100157            8  2014-04-21               Misery   \n1  tt0100405            7  2019-06-16         Pretty Woman   \n2  tt1007029            7  2014-04-22        The Iron Lady   \n3  tt1010048            7  2015-03-13  Slumdog Millionaire   \n4  tt0101272            7  2014-04-21    The Addams Family   \n\n                             Web Address Title Type  IMDb Rating  \\\n0  https://www.imdb.com/title/tt0100157/      movie          7.8   \n1  https://www.imdb.com/title/tt0100405/      movie          7.0   \n2  https://www.imdb.com/title/tt1007029/      movie          6.4   \n3  https://www.imdb.com/title/tt1010048/      movie          8.0   \n4  https://www.imdb.com/title/tt0101272/      movie          6.9   \n\n   Runtime (mins)  Year            Genres  Num Votes Release Date  \\\n0             107  1990   Drama, Thriller     171962   1990-11-29   \n1             119  1990   Comedy, Romance     271083   1990-03-23   \n2             105  2011  Biography, Drama      98773   2011-12-26   \n3             120  2008    Drama, Romance     766624   2008-08-30   \n4              99  1991   Comedy, Fantasy     123080   1991-11-19   \n\n                      Directors  \n0                    Rob Reiner  \n1                Garry Marshall  \n2                Phyllida Lloyd  \n3  Loveleen Tandan, Danny Boyle  \n4              Barry Sonnenfeld  ",
      "text/html": "<div>\n<style scoped>\n    .dataframe tbody tr th:only-of-type {\n        vertical-align: middle;\n    }\n\n    .dataframe tbody tr th {\n        vertical-align: top;\n    }\n\n    .dataframe thead th {\n        text-align: right;\n    }\n</style>\n<table border=\"1\" class=\"dataframe\">\n  <thead>\n    <tr style=\"text-align: right;\">\n      <th></th>\n      <th>Const</th>\n      <th>Your Rating</th>\n      <th>Date Rated</th>\n      <th>Title</th>\n      <th>Web Address</th>\n      <th>Title Type</th>\n      <th>IMDb Rating</th>\n      <th>Runtime (mins)</th>\n      <th>Year</th>\n      <th>Genres</th>\n      <th>Num Votes</th>\n      <th>Release Date</th>\n      <th>Directors</th>\n    </tr>\n  </thead>\n  <tbody>\n    <tr>\n      <th>0</th>\n      <td>tt0100157</td>\n      <td>8</td>\n      <td>2014-04-21</td>\n      <td>Misery</td>\n      <td>https://www.imdb.com/title/tt0100157/</td>\n      <td>movie</td>\n      <td>7.8</td>\n      <td>107</td>\n      <td>1990</td>\n      <td>Drama, Thriller</td>\n      <td>171962</td>\n      <td>1990-11-29</td>\n      <td>Rob Reiner</td>\n    </tr>\n    <tr>\n      <th>1</th>\n      <td>tt0100405</td>\n      <td>7</td>\n      <td>2019-06-16</td>\n      <td>Pretty Woman</td>\n      <td>https://www.imdb.com/title/tt0100405/</td>\n      <td>movie</td>\n      <td>7.0</td>\n      <td>119</td>\n      <td>1990</td>\n      <td>Comedy, Romance</td>\n      <td>271083</td>\n      <td>1990-03-23</td>\n      <td>Garry Marshall</td>\n    </tr>\n    <tr>\n      <th>2</th>\n      <td>tt1007029</td>\n      <td>7</td>\n      <td>2014-04-22</td>\n      <td>The Iron Lady</td>\n      <td>https://www.imdb.com/title/tt1007029/</td>\n      <td>movie</td>\n      <td>6.4</td>\n      <td>105</td>\n      <td>2011</td>\n      <td>Biography, Drama</td>\n      <td>98773</td>\n      <td>2011-12-26</td>\n      <td>Phyllida Lloyd</td>\n    </tr>\n    <tr>\n      <th>3</th>\n      <td>tt1010048</td>\n      <td>7</td>\n      <td>2015-03-13</td>\n      <td>Slumdog Millionaire</td>\n      <td>https://www.imdb.com/title/tt1010048/</td>\n      <td>movie</td>\n      <td>8.0</td>\n      <td>120</td>\n      <td>2008</td>\n      <td>Drama, Romance</td>\n      <td>766624</td>\n      <td>2008-08-30</td>\n      <td>Loveleen Tandan, Danny Boyle</td>\n    </tr>\n    <tr>\n      <th>4</th>\n      <td>tt0101272</td>\n      <td>7</td>\n      <td>2014-04-21</td>\n      <td>The Addams Family</td>\n      <td>https://www.imdb.com/title/tt0101272/</td>\n      <td>movie</td>\n      <td>6.9</td>\n      <td>99</td>\n      <td>1991</td>\n      <td>Comedy, Fantasy</td>\n      <td>123080</td>\n      <td>1991-11-19</td>\n      <td>Barry Sonnenfeld</td>\n    </tr>\n  </tbody>\n</table>\n</div>"
     },
     "execution_count": 36,
     "metadata": {},
     "output_type": "execute_result"
    }
   ],
   "source": [
    "data_in = data_in.rename(columns={'URL':'Web Address'})\n",
    "data_in.head()"
   ]
  },
  {
   "cell_type": "markdown",
   "metadata": {
    "colab_type": "text",
    "id": "UvKaGe7u2JGD"
   },
   "source": [
    "With Bigger data sets we may end up in a situation where we have variables that won't be usable in any future analysis we have planned. This\n",
    " is where we can use the drop columns to reduce the size of the full DataFrame."
   ]
  },
  {
   "cell_type": "code",
   "execution_count": 37,
   "metadata": {
    "colab": {
     "base_uri": "https://localhost:8080/",
     "height": 204
    },
    "colab_type": "code",
    "id": "jliGsekX2JGE",
    "outputId": "7aa2fdde-3d01-4096-dcfd-c9938c148b59"
   },
   "outputs": [
    {
     "data": {
      "text/plain": "   Your Rating  Date Rated                Title  \\\n0            8  2014-04-21               Misery   \n1            7  2019-06-16         Pretty Woman   \n2            7  2014-04-22        The Iron Lady   \n3            7  2015-03-13  Slumdog Millionaire   \n4            7  2014-04-21    The Addams Family   \n\n                             Web Address Title Type  IMDb Rating  \\\n0  https://www.imdb.com/title/tt0100157/      movie          7.8   \n1  https://www.imdb.com/title/tt0100405/      movie          7.0   \n2  https://www.imdb.com/title/tt1007029/      movie          6.4   \n3  https://www.imdb.com/title/tt1010048/      movie          8.0   \n4  https://www.imdb.com/title/tt0101272/      movie          6.9   \n\n   Runtime (mins)  Year            Genres  Num Votes Release Date  \\\n0             107  1990   Drama, Thriller     171962   1990-11-29   \n1             119  1990   Comedy, Romance     271083   1990-03-23   \n2             105  2011  Biography, Drama      98773   2011-12-26   \n3             120  2008    Drama, Romance     766624   2008-08-30   \n4              99  1991   Comedy, Fantasy     123080   1991-11-19   \n\n                      Directors  \n0                    Rob Reiner  \n1                Garry Marshall  \n2                Phyllida Lloyd  \n3  Loveleen Tandan, Danny Boyle  \n4              Barry Sonnenfeld  ",
      "text/html": "<div>\n<style scoped>\n    .dataframe tbody tr th:only-of-type {\n        vertical-align: middle;\n    }\n\n    .dataframe tbody tr th {\n        vertical-align: top;\n    }\n\n    .dataframe thead th {\n        text-align: right;\n    }\n</style>\n<table border=\"1\" class=\"dataframe\">\n  <thead>\n    <tr style=\"text-align: right;\">\n      <th></th>\n      <th>Your Rating</th>\n      <th>Date Rated</th>\n      <th>Title</th>\n      <th>Web Address</th>\n      <th>Title Type</th>\n      <th>IMDb Rating</th>\n      <th>Runtime (mins)</th>\n      <th>Year</th>\n      <th>Genres</th>\n      <th>Num Votes</th>\n      <th>Release Date</th>\n      <th>Directors</th>\n    </tr>\n  </thead>\n  <tbody>\n    <tr>\n      <th>0</th>\n      <td>8</td>\n      <td>2014-04-21</td>\n      <td>Misery</td>\n      <td>https://www.imdb.com/title/tt0100157/</td>\n      <td>movie</td>\n      <td>7.8</td>\n      <td>107</td>\n      <td>1990</td>\n      <td>Drama, Thriller</td>\n      <td>171962</td>\n      <td>1990-11-29</td>\n      <td>Rob Reiner</td>\n    </tr>\n    <tr>\n      <th>1</th>\n      <td>7</td>\n      <td>2019-06-16</td>\n      <td>Pretty Woman</td>\n      <td>https://www.imdb.com/title/tt0100405/</td>\n      <td>movie</td>\n      <td>7.0</td>\n      <td>119</td>\n      <td>1990</td>\n      <td>Comedy, Romance</td>\n      <td>271083</td>\n      <td>1990-03-23</td>\n      <td>Garry Marshall</td>\n    </tr>\n    <tr>\n      <th>2</th>\n      <td>7</td>\n      <td>2014-04-22</td>\n      <td>The Iron Lady</td>\n      <td>https://www.imdb.com/title/tt1007029/</td>\n      <td>movie</td>\n      <td>6.4</td>\n      <td>105</td>\n      <td>2011</td>\n      <td>Biography, Drama</td>\n      <td>98773</td>\n      <td>2011-12-26</td>\n      <td>Phyllida Lloyd</td>\n    </tr>\n    <tr>\n      <th>3</th>\n      <td>7</td>\n      <td>2015-03-13</td>\n      <td>Slumdog Millionaire</td>\n      <td>https://www.imdb.com/title/tt1010048/</td>\n      <td>movie</td>\n      <td>8.0</td>\n      <td>120</td>\n      <td>2008</td>\n      <td>Drama, Romance</td>\n      <td>766624</td>\n      <td>2008-08-30</td>\n      <td>Loveleen Tandan, Danny Boyle</td>\n    </tr>\n    <tr>\n      <th>4</th>\n      <td>7</td>\n      <td>2014-04-21</td>\n      <td>The Addams Family</td>\n      <td>https://www.imdb.com/title/tt0101272/</td>\n      <td>movie</td>\n      <td>6.9</td>\n      <td>99</td>\n      <td>1991</td>\n      <td>Comedy, Fantasy</td>\n      <td>123080</td>\n      <td>1991-11-19</td>\n      <td>Barry Sonnenfeld</td>\n    </tr>\n  </tbody>\n</table>\n</div>"
     },
     "execution_count": 37,
     "metadata": {},
     "output_type": "execute_result"
    }
   ],
   "source": [
    "data_in=data_in.drop(columns=['Const'])\n",
    "data_in.head()"
   ]
  },
  {
   "cell_type": "markdown",
   "metadata": {
    "pycharm": {
     "name": "#%% md\n"
    }
   },
   "source": [
    "We may also need to do some recoding on certain variables in the DataFrame, this will follow a similar approach to the renaming with passing in a dictionary with the recoding rules.\n",
    "\n",
    "Let's recode the Title type into numeric values:"
   ]
  },
  {
   "cell_type": "code",
   "execution_count": 38,
   "metadata": {
    "pycharm": {
     "name": "#%%\n"
    }
   },
   "outputs": [
    {
     "data": {
      "text/plain": "     Your Rating  Date Rated                        Title  \\\n0              8  2014-04-21                       Misery   \n1              7  2019-06-16                 Pretty Woman   \n2              7  2014-04-22                The Iron Lady   \n3              7  2015-03-13          Slumdog Millionaire   \n4              7  2014-04-21            The Addams Family   \n..           ...         ...                          ...   \n701            8  2015-02-27  Back to the Future Part III   \n702            9  2014-06-02      The Wolf of Wall Street   \n703            8  2015-02-20          Edward Scissorhands   \n704            8  2015-02-20                        Ghost   \n705            7  2015-02-20                           It   \n\n                               Web Address  Title Type  IMDb Rating  \\\n0    https://www.imdb.com/title/tt0100157/           1          7.8   \n1    https://www.imdb.com/title/tt0100405/           1          7.0   \n2    https://www.imdb.com/title/tt1007029/           1          6.4   \n3    https://www.imdb.com/title/tt1010048/           1          8.0   \n4    https://www.imdb.com/title/tt0101272/           1          6.9   \n..                                     ...         ...          ...   \n701  https://www.imdb.com/title/tt0099088/           1          7.4   \n702  https://www.imdb.com/title/tt0993846/           1          8.2   \n703  https://www.imdb.com/title/tt0099487/           1          7.9   \n704  https://www.imdb.com/title/tt0099653/           1          7.0   \n705  https://www.imdb.com/title/tt0099864/           5          6.8   \n\n     Runtime (mins)  Year                              Genres  Num Votes  \\\n0               107  1990                     Drama, Thriller     171962   \n1               119  1990                     Comedy, Romance     271083   \n2               105  2011                    Biography, Drama      98773   \n3               120  2008                      Drama, Romance     766624   \n4                99  1991                     Comedy, Fantasy     123080   \n..              ...   ...                                 ...        ...   \n701             118  1990  Adventure, Comedy, Sci-Fi, Western     376811   \n702             180  2013             Biography, Crime, Drama    1087889   \n703             105  1990             Drama, Fantasy, Romance     426764   \n704             127  1990   Drama, Fantasy, Romance, Thriller     186060   \n705             192  1990    Drama, Horror, Mystery, Thriller     110099   \n\n    Release Date                     Directors  \n0     1990-11-29                    Rob Reiner  \n1     1990-03-23                Garry Marshall  \n2     2011-12-26                Phyllida Lloyd  \n3     2008-08-30  Loveleen Tandan, Danny Boyle  \n4     1991-11-19              Barry Sonnenfeld  \n..           ...                           ...  \n701   1990-05-25               Robert Zemeckis  \n702   2013-12-09               Martin Scorsese  \n703   1990-12-06                    Tim Burton  \n704   1990-07-13                  Jerry Zucker  \n705   1990-11-18                           NaN  \n\n[706 rows x 12 columns]",
      "text/html": "<div>\n<style scoped>\n    .dataframe tbody tr th:only-of-type {\n        vertical-align: middle;\n    }\n\n    .dataframe tbody tr th {\n        vertical-align: top;\n    }\n\n    .dataframe thead th {\n        text-align: right;\n    }\n</style>\n<table border=\"1\" class=\"dataframe\">\n  <thead>\n    <tr style=\"text-align: right;\">\n      <th></th>\n      <th>Your Rating</th>\n      <th>Date Rated</th>\n      <th>Title</th>\n      <th>Web Address</th>\n      <th>Title Type</th>\n      <th>IMDb Rating</th>\n      <th>Runtime (mins)</th>\n      <th>Year</th>\n      <th>Genres</th>\n      <th>Num Votes</th>\n      <th>Release Date</th>\n      <th>Directors</th>\n    </tr>\n  </thead>\n  <tbody>\n    <tr>\n      <th>0</th>\n      <td>8</td>\n      <td>2014-04-21</td>\n      <td>Misery</td>\n      <td>https://www.imdb.com/title/tt0100157/</td>\n      <td>1</td>\n      <td>7.8</td>\n      <td>107</td>\n      <td>1990</td>\n      <td>Drama, Thriller</td>\n      <td>171962</td>\n      <td>1990-11-29</td>\n      <td>Rob Reiner</td>\n    </tr>\n    <tr>\n      <th>1</th>\n      <td>7</td>\n      <td>2019-06-16</td>\n      <td>Pretty Woman</td>\n      <td>https://www.imdb.com/title/tt0100405/</td>\n      <td>1</td>\n      <td>7.0</td>\n      <td>119</td>\n      <td>1990</td>\n      <td>Comedy, Romance</td>\n      <td>271083</td>\n      <td>1990-03-23</td>\n      <td>Garry Marshall</td>\n    </tr>\n    <tr>\n      <th>2</th>\n      <td>7</td>\n      <td>2014-04-22</td>\n      <td>The Iron Lady</td>\n      <td>https://www.imdb.com/title/tt1007029/</td>\n      <td>1</td>\n      <td>6.4</td>\n      <td>105</td>\n      <td>2011</td>\n      <td>Biography, Drama</td>\n      <td>98773</td>\n      <td>2011-12-26</td>\n      <td>Phyllida Lloyd</td>\n    </tr>\n    <tr>\n      <th>3</th>\n      <td>7</td>\n      <td>2015-03-13</td>\n      <td>Slumdog Millionaire</td>\n      <td>https://www.imdb.com/title/tt1010048/</td>\n      <td>1</td>\n      <td>8.0</td>\n      <td>120</td>\n      <td>2008</td>\n      <td>Drama, Romance</td>\n      <td>766624</td>\n      <td>2008-08-30</td>\n      <td>Loveleen Tandan, Danny Boyle</td>\n    </tr>\n    <tr>\n      <th>4</th>\n      <td>7</td>\n      <td>2014-04-21</td>\n      <td>The Addams Family</td>\n      <td>https://www.imdb.com/title/tt0101272/</td>\n      <td>1</td>\n      <td>6.9</td>\n      <td>99</td>\n      <td>1991</td>\n      <td>Comedy, Fantasy</td>\n      <td>123080</td>\n      <td>1991-11-19</td>\n      <td>Barry Sonnenfeld</td>\n    </tr>\n    <tr>\n      <th>...</th>\n      <td>...</td>\n      <td>...</td>\n      <td>...</td>\n      <td>...</td>\n      <td>...</td>\n      <td>...</td>\n      <td>...</td>\n      <td>...</td>\n      <td>...</td>\n      <td>...</td>\n      <td>...</td>\n      <td>...</td>\n    </tr>\n    <tr>\n      <th>701</th>\n      <td>8</td>\n      <td>2015-02-27</td>\n      <td>Back to the Future Part III</td>\n      <td>https://www.imdb.com/title/tt0099088/</td>\n      <td>1</td>\n      <td>7.4</td>\n      <td>118</td>\n      <td>1990</td>\n      <td>Adventure, Comedy, Sci-Fi, Western</td>\n      <td>376811</td>\n      <td>1990-05-25</td>\n      <td>Robert Zemeckis</td>\n    </tr>\n    <tr>\n      <th>702</th>\n      <td>9</td>\n      <td>2014-06-02</td>\n      <td>The Wolf of Wall Street</td>\n      <td>https://www.imdb.com/title/tt0993846/</td>\n      <td>1</td>\n      <td>8.2</td>\n      <td>180</td>\n      <td>2013</td>\n      <td>Biography, Crime, Drama</td>\n      <td>1087889</td>\n      <td>2013-12-09</td>\n      <td>Martin Scorsese</td>\n    </tr>\n    <tr>\n      <th>703</th>\n      <td>8</td>\n      <td>2015-02-20</td>\n      <td>Edward Scissorhands</td>\n      <td>https://www.imdb.com/title/tt0099487/</td>\n      <td>1</td>\n      <td>7.9</td>\n      <td>105</td>\n      <td>1990</td>\n      <td>Drama, Fantasy, Romance</td>\n      <td>426764</td>\n      <td>1990-12-06</td>\n      <td>Tim Burton</td>\n    </tr>\n    <tr>\n      <th>704</th>\n      <td>8</td>\n      <td>2015-02-20</td>\n      <td>Ghost</td>\n      <td>https://www.imdb.com/title/tt0099653/</td>\n      <td>1</td>\n      <td>7.0</td>\n      <td>127</td>\n      <td>1990</td>\n      <td>Drama, Fantasy, Romance, Thriller</td>\n      <td>186060</td>\n      <td>1990-07-13</td>\n      <td>Jerry Zucker</td>\n    </tr>\n    <tr>\n      <th>705</th>\n      <td>7</td>\n      <td>2015-02-20</td>\n      <td>It</td>\n      <td>https://www.imdb.com/title/tt0099864/</td>\n      <td>5</td>\n      <td>6.8</td>\n      <td>192</td>\n      <td>1990</td>\n      <td>Drama, Horror, Mystery, Thriller</td>\n      <td>110099</td>\n      <td>1990-11-18</td>\n      <td>NaN</td>\n    </tr>\n  </tbody>\n</table>\n<p>706 rows × 12 columns</p>\n</div>"
     },
     "execution_count": 38,
     "metadata": {},
     "output_type": "execute_result"
    }
   ],
   "source": [
    "recoding_rules = {'movie':1,'tvEpisode':2,'tvSeries':3,'short':4,'tvMiniSeries':5,'video':6,'tvMovie':7}\n",
    "data_in['Title Type'].replace(recoding_rules,inplace=True)\n",
    "data_in"
   ]
  },
  {
   "cell_type": "markdown",
   "metadata": {},
   "source": [
    "While we have done the recoding through pandas with these rules, there will be some other methods that this can be done with other libraries.\n",
    "\n",
    "In some instances the data we receive may be imported with the wrong variable types and need to be changed before we can include them in analysis.\n",
    "First lets get the type of all the variables and then change year to type Float."
   ]
  },
  {
   "cell_type": "code",
   "execution_count": 39,
   "metadata": {
    "pycharm": {
     "name": "#%%\n"
    }
   },
   "outputs": [
    {
     "name": "stdout",
     "output_type": "stream",
     "text": [
      "<class 'pandas.core.frame.DataFrame'>\n",
      "RangeIndex: 706 entries, 0 to 705\n",
      "Data columns (total 12 columns):\n",
      " #   Column          Non-Null Count  Dtype  \n",
      "---  ------          --------------  -----  \n",
      " 0   Your Rating     706 non-null    int64  \n",
      " 1   Date Rated      706 non-null    object \n",
      " 2   Title           706 non-null    object \n",
      " 3   Web Address     706 non-null    object \n",
      " 4   Title Type      706 non-null    int64  \n",
      " 5   IMDb Rating     706 non-null    float64\n",
      " 6   Runtime (mins)  706 non-null    int64  \n",
      " 7   Year            706 non-null    int64  \n",
      " 8   Genres          706 non-null    object \n",
      " 9   Num Votes       706 non-null    int64  \n",
      " 10  Release Date    706 non-null    object \n",
      " 11  Directors       685 non-null    object \n",
      "dtypes: float64(1), int64(5), object(6)\n",
      "memory usage: 49.7+ KB\n"
     ]
    }
   ],
   "source": [
    "#changing the data type:\n",
    "#of the year to float\n",
    "\n",
    "data_in.info()"
   ]
  },
  {
   "cell_type": "code",
   "execution_count": 40,
   "metadata": {
    "pycharm": {
     "name": "#%%\n"
    }
   },
   "outputs": [
    {
     "name": "stdout",
     "output_type": "stream",
     "text": [
      "<class 'pandas.core.frame.DataFrame'>\n",
      "RangeIndex: 706 entries, 0 to 705\n",
      "Data columns (total 12 columns):\n",
      " #   Column          Non-Null Count  Dtype  \n",
      "---  ------          --------------  -----  \n",
      " 0   Your Rating     706 non-null    int64  \n",
      " 1   Date Rated      706 non-null    object \n",
      " 2   Title           706 non-null    object \n",
      " 3   Web Address     706 non-null    object \n",
      " 4   Title Type      706 non-null    int64  \n",
      " 5   IMDb Rating     706 non-null    float64\n",
      " 6   Runtime (mins)  706 non-null    int64  \n",
      " 7   Year            706 non-null    float64\n",
      " 8   Genres          706 non-null    object \n",
      " 9   Num Votes       706 non-null    int64  \n",
      " 10  Release Date    706 non-null    object \n",
      " 11  Directors       685 non-null    object \n",
      "dtypes: float64(2), int64(4), object(6)\n",
      "memory usage: 49.7+ KB\n"
     ]
    }
   ],
   "source": [
    "data_in.Year = data_in.Year.astype(float)\n",
    "data_in.info()"
   ]
  },
  {
   "cell_type": "markdown",
   "metadata": {
    "colab_type": "text",
    "id": "lvfZYfq42JGI"
   },
   "source": [
    "Once we have a working dataset and before we need to decide on the model to be applying to the data. we will need to determine the relationships.\n",
    "One of the most basic ways of doing this is through the *Correlation matrix*:"
   ]
  },
  {
   "cell_type": "code",
   "execution_count": 41,
   "metadata": {
    "colab": {
     "base_uri": "https://localhost:8080/",
     "height": 173
    },
    "colab_type": "code",
    "id": "_H2T6NaZ2JGJ",
    "outputId": "fa2ae5c9-39b1-43c9-9f37-26e129168a99"
   },
   "outputs": [
    {
     "data": {
      "text/plain": "                Your Rating  IMDb Rating  Runtime (mins)      Year\nYour Rating        1.000000     0.586351       -0.009205  0.066704\nIMDb Rating        0.586351     1.000000       -0.014269 -0.155935\nRuntime (mins)    -0.009205    -0.014269        1.000000  0.016268\nYear               0.066704    -0.155935        0.016268  1.000000",
      "text/html": "<div>\n<style scoped>\n    .dataframe tbody tr th:only-of-type {\n        vertical-align: middle;\n    }\n\n    .dataframe tbody tr th {\n        vertical-align: top;\n    }\n\n    .dataframe thead th {\n        text-align: right;\n    }\n</style>\n<table border=\"1\" class=\"dataframe\">\n  <thead>\n    <tr style=\"text-align: right;\">\n      <th></th>\n      <th>Your Rating</th>\n      <th>IMDb Rating</th>\n      <th>Runtime (mins)</th>\n      <th>Year</th>\n    </tr>\n  </thead>\n  <tbody>\n    <tr>\n      <th>Your Rating</th>\n      <td>1.000000</td>\n      <td>0.586351</td>\n      <td>-0.009205</td>\n      <td>0.066704</td>\n    </tr>\n    <tr>\n      <th>IMDb Rating</th>\n      <td>0.586351</td>\n      <td>1.000000</td>\n      <td>-0.014269</td>\n      <td>-0.155935</td>\n    </tr>\n    <tr>\n      <th>Runtime (mins)</th>\n      <td>-0.009205</td>\n      <td>-0.014269</td>\n      <td>1.000000</td>\n      <td>0.016268</td>\n    </tr>\n    <tr>\n      <th>Year</th>\n      <td>0.066704</td>\n      <td>-0.155935</td>\n      <td>0.016268</td>\n      <td>1.000000</td>\n    </tr>\n  </tbody>\n</table>\n</div>"
     },
     "execution_count": 41,
     "metadata": {},
     "output_type": "execute_result"
    }
   ],
   "source": [
    "# noinspection SpellCheckingInspection\n",
    "data_in[['Your Rating','IMDb Rating','Runtime (mins)','Year']].corr()"
   ]
  },
  {
   "cell_type": "markdown",
   "metadata": {
    "pycharm": {
     "name": "#%% md\n"
    }
   },
   "source": [
    "## Manipulating the data"
   ]
  },
  {
   "cell_type": "markdown",
   "metadata": {
    "colab_type": "text",
    "id": "AZUb59ph2JGa"
   },
   "source": [
    "Now that we have covered most of the ways we have to combine and fix issues in the data it is now time to look at the ways we can subset the data by either selecting rows, columns or both.\n",
    "\n",
    "The first of which is to select specific columns using the **iloc** function (Stands for integer location) - this function only passes in numerical values in the selection. For the example we\n",
    "want to select the third column so we will put a 2 in the column section of the selection criteria [,].\n",
    "\n",
    "Since we are wanting the 3rd column we will use the **iloc[,]** to obtain this information, it is important to note that the inputs for the **[,]** is row,column. We are selecting all rows so will use \":\" in the row request and 2 in the columns."
   ]
  },
  {
   "cell_type": "code",
   "execution_count": 42,
   "metadata": {
    "colab": {
     "base_uri": "https://localhost:8080/",
     "height": 221
    },
    "colab_type": "code",
    "id": "-w_T3bgf2JGb",
    "outputId": "56224501-6b29-488e-aba9-c90d9b53af7b"
   },
   "outputs": [
    {
     "data": {
      "text/plain": "0                           Misery\n1                     Pretty Woman\n2                    The Iron Lady\n3              Slumdog Millionaire\n4                The Addams Family\n                  ...             \n701    Back to the Future Part III\n702        The Wolf of Wall Street\n703            Edward Scissorhands\n704                          Ghost\n705                             It\nName: Title, Length: 706, dtype: object"
     },
     "execution_count": 42,
     "metadata": {},
     "output_type": "execute_result"
    }
   ],
   "source": [
    "data_in.iloc[:,2]"
   ]
  },
  {
   "cell_type": "markdown",
   "metadata": {
    "colab_type": "text",
    "id": "8MQGpI8U2JGh"
   },
   "source": [
    "Now that we have explored a specific way to select only one column the next consideration is how to slice sections of rows as well as sections of columns.\n",
    "For this section we will first select the first 5 rows from columns 5. This requires us to use a \" : \" to indicate to select a range."
   ]
  },
  {
   "cell_type": "code",
   "execution_count": 43,
   "metadata": {
    "colab": {
     "base_uri": "https://localhost:8080/",
     "height": 119
    },
    "colab_type": "code",
    "id": "csvi50Qh2JGi",
    "outputId": "654bf893-af83-435e-bc56-703c09f0cdfd"
   },
   "outputs": [
    {
     "data": {
      "text/plain": "0    1\n1    1\n2    1\n3    1\n4    1\nName: Title Type, dtype: int64"
     },
     "execution_count": 43,
     "metadata": {},
     "output_type": "execute_result"
    }
   ],
   "source": [
    "data_in.iloc[0:5,4]"
   ]
  },
  {
   "cell_type": "markdown",
   "metadata": {
    "colab_type": "text",
    "id": "i5ONpxl32JGp"
   },
   "source": [
    "We can also use the selection to create a subset that will reduce the elements in the dataset based on an exclusion of certain variables rather than selecting only certain ones.\n",
    "Since we have a starting location we won't include an ending point in the request."
   ]
  },
  {
   "cell_type": "code",
   "execution_count": 44,
   "metadata": {
    "colab": {
     "base_uri": "https://localhost:8080/",
     "height": 419
    },
    "colab_type": "code",
    "id": "Ym7z0k4W2JGq",
    "outputId": "fd26155f-b5fc-4690-d07e-5add05df2584"
   },
   "outputs": [
    {
     "data": {
      "text/plain": "     IMDb Rating  Runtime (mins)    Year                              Genres  \\\n5            6.6             107  2009.0         Action, Adventure, Thriller   \n6            8.8              53  2007.0     Crime, Drama, Mystery, Thriller   \n7            8.6              56  2007.0     Crime, Drama, Mystery, Thriller   \n8            8.7              52  2007.0     Crime, Drama, Mystery, Thriller   \n9            8.5              53  2007.0     Crime, Drama, Mystery, Thriller   \n..           ...             ...     ...                                 ...   \n701          7.4             118  1990.0  Adventure, Comedy, Sci-Fi, Western   \n702          8.2             180  2013.0             Biography, Crime, Drama   \n703          7.9             105  1990.0             Drama, Fantasy, Romance   \n704          7.0             127  1990.0   Drama, Fantasy, Romance, Thriller   \n705          6.8             192  1990.0    Drama, Horror, Mystery, Thriller   \n\n     Num Votes Release Date        Directors  \n5       250291   2009-03-12       Justin Lin  \n6         4036   2007-09-30     Tony Goldwyn  \n7         3643   2007-10-07     Marcos Siega  \n8         3609   2007-10-14     Tony Goldwyn  \n9         3443   2007-10-21       Nick Gomez  \n..         ...          ...              ...  \n701     376811   1990-05-25  Robert Zemeckis  \n702    1087889   2013-12-09  Martin Scorsese  \n703     426764   1990-12-06       Tim Burton  \n704     186060   1990-07-13     Jerry Zucker  \n705     110099   1990-11-18              NaN  \n\n[701 rows x 7 columns]",
      "text/html": "<div>\n<style scoped>\n    .dataframe tbody tr th:only-of-type {\n        vertical-align: middle;\n    }\n\n    .dataframe tbody tr th {\n        vertical-align: top;\n    }\n\n    .dataframe thead th {\n        text-align: right;\n    }\n</style>\n<table border=\"1\" class=\"dataframe\">\n  <thead>\n    <tr style=\"text-align: right;\">\n      <th></th>\n      <th>IMDb Rating</th>\n      <th>Runtime (mins)</th>\n      <th>Year</th>\n      <th>Genres</th>\n      <th>Num Votes</th>\n      <th>Release Date</th>\n      <th>Directors</th>\n    </tr>\n  </thead>\n  <tbody>\n    <tr>\n      <th>5</th>\n      <td>6.6</td>\n      <td>107</td>\n      <td>2009.0</td>\n      <td>Action, Adventure, Thriller</td>\n      <td>250291</td>\n      <td>2009-03-12</td>\n      <td>Justin Lin</td>\n    </tr>\n    <tr>\n      <th>6</th>\n      <td>8.8</td>\n      <td>53</td>\n      <td>2007.0</td>\n      <td>Crime, Drama, Mystery, Thriller</td>\n      <td>4036</td>\n      <td>2007-09-30</td>\n      <td>Tony Goldwyn</td>\n    </tr>\n    <tr>\n      <th>7</th>\n      <td>8.6</td>\n      <td>56</td>\n      <td>2007.0</td>\n      <td>Crime, Drama, Mystery, Thriller</td>\n      <td>3643</td>\n      <td>2007-10-07</td>\n      <td>Marcos Siega</td>\n    </tr>\n    <tr>\n      <th>8</th>\n      <td>8.7</td>\n      <td>52</td>\n      <td>2007.0</td>\n      <td>Crime, Drama, Mystery, Thriller</td>\n      <td>3609</td>\n      <td>2007-10-14</td>\n      <td>Tony Goldwyn</td>\n    </tr>\n    <tr>\n      <th>9</th>\n      <td>8.5</td>\n      <td>53</td>\n      <td>2007.0</td>\n      <td>Crime, Drama, Mystery, Thriller</td>\n      <td>3443</td>\n      <td>2007-10-21</td>\n      <td>Nick Gomez</td>\n    </tr>\n    <tr>\n      <th>...</th>\n      <td>...</td>\n      <td>...</td>\n      <td>...</td>\n      <td>...</td>\n      <td>...</td>\n      <td>...</td>\n      <td>...</td>\n    </tr>\n    <tr>\n      <th>701</th>\n      <td>7.4</td>\n      <td>118</td>\n      <td>1990.0</td>\n      <td>Adventure, Comedy, Sci-Fi, Western</td>\n      <td>376811</td>\n      <td>1990-05-25</td>\n      <td>Robert Zemeckis</td>\n    </tr>\n    <tr>\n      <th>702</th>\n      <td>8.2</td>\n      <td>180</td>\n      <td>2013.0</td>\n      <td>Biography, Crime, Drama</td>\n      <td>1087889</td>\n      <td>2013-12-09</td>\n      <td>Martin Scorsese</td>\n    </tr>\n    <tr>\n      <th>703</th>\n      <td>7.9</td>\n      <td>105</td>\n      <td>1990.0</td>\n      <td>Drama, Fantasy, Romance</td>\n      <td>426764</td>\n      <td>1990-12-06</td>\n      <td>Tim Burton</td>\n    </tr>\n    <tr>\n      <th>704</th>\n      <td>7.0</td>\n      <td>127</td>\n      <td>1990.0</td>\n      <td>Drama, Fantasy, Romance, Thriller</td>\n      <td>186060</td>\n      <td>1990-07-13</td>\n      <td>Jerry Zucker</td>\n    </tr>\n    <tr>\n      <th>705</th>\n      <td>6.8</td>\n      <td>192</td>\n      <td>1990.0</td>\n      <td>Drama, Horror, Mystery, Thriller</td>\n      <td>110099</td>\n      <td>1990-11-18</td>\n      <td>NaN</td>\n    </tr>\n  </tbody>\n</table>\n<p>701 rows × 7 columns</p>\n</div>"
     },
     "execution_count": 44,
     "metadata": {},
     "output_type": "execute_result"
    }
   ],
   "source": [
    "data_in.iloc[5:,5:]"
   ]
  },
  {
   "cell_type": "markdown",
   "metadata": {
    "colab_type": "text",
    "id": "SblGcukE2JGu"
   },
   "source": [
    "If we want to select the columns by name rather than number we can use the location command or the **loc** function.\n",
    "\n",
    "This also takes the input of [row,column] with the big difference of the columns passed through as strings.\n",
    "\n",
    "Again we will go through a similar exercise as the iloc with the first selection of a full column, then a section of the column."
   ]
  },
  {
   "cell_type": "code",
   "execution_count": 45,
   "metadata": {
    "colab": {
     "base_uri": "https://localhost:8080/",
     "height": 221
    },
    "colab_type": "code",
    "id": "C3I4RHTF2JGw",
    "outputId": "91c9ff69-d686-4735-ef1e-1b0d75ffa444"
   },
   "outputs": [
    {
     "data": {
      "text/plain": "0      1990.0\n1      1990.0\n2      2011.0\n3      2008.0\n4      1991.0\n        ...  \n701    1990.0\n702    2013.0\n703    1990.0\n704    1990.0\n705    1990.0\nName: Year, Length: 706, dtype: float64"
     },
     "execution_count": 45,
     "metadata": {},
     "output_type": "execute_result"
    }
   ],
   "source": [
    "data_in.loc[:,'Year']"
   ]
  },
  {
   "cell_type": "code",
   "execution_count": 46,
   "metadata": {
    "colab": {
     "base_uri": "https://localhost:8080/",
     "height": 153
    },
    "colab_type": "code",
    "id": "u0qAezvV2JGz",
    "outputId": "48e7de68-77fd-4e21-95b0-4be9d2cdc6ad"
   },
   "outputs": [
    {
     "data": {
      "text/plain": "0    1990.0\n1    1990.0\n2    2011.0\n3    2008.0\n4    1991.0\n5    2009.0\n6    2007.0\nName: Year, dtype: float64"
     },
     "execution_count": 46,
     "metadata": {},
     "output_type": "execute_result"
    }
   ],
   "source": [
    "data_in.loc[:6,'Year']"
   ]
  },
  {
   "cell_type": "markdown",
   "metadata": {
    "colab_type": "text",
    "id": "u6B0MuoA2JG6"
   },
   "source": [
    "## Other Data Manipulation"
   ]
  },
  {
   "cell_type": "markdown",
   "metadata": {
    "colab_type": "text",
    "id": "5PeEle6b2JG7"
   },
   "source": [
    "The next section will cover a few other elements of data manipulation that may become useful at a later stage.\n",
    "\n",
    "The first of which is inserting values into a DataFrame, for this example we can insert a constant value of 1 in a row."
   ]
  },
  {
   "cell_type": "code",
   "execution_count": 47,
   "metadata": {
    "colab": {
     "base_uri": "https://localhost:8080/",
     "height": 272
    },
    "colab_type": "code",
    "id": "Xalpd8042JG8",
    "outputId": "77df963d-d7c4-41fb-fbf8-9e717aaad916"
   },
   "outputs": [
    {
     "data": {
      "text/plain": "   Your Rating  Date Rated                Title  \\\n0            8  2014-04-21               Misery   \n1            7  2019-06-16         Pretty Woman   \n2            7  2014-04-22        The Iron Lady   \n3            7  2015-03-13  Slumdog Millionaire   \n4            7  2014-04-21    The Addams Family   \n\n                             Web Address  Title Type  IMDb Rating  \\\n0  https://www.imdb.com/title/tt0100157/           1          7.8   \n1  https://www.imdb.com/title/tt0100405/           1          7.0   \n2  https://www.imdb.com/title/tt1007029/           1          6.4   \n3  https://www.imdb.com/title/tt1010048/           1          8.0   \n4  https://www.imdb.com/title/tt0101272/           1          6.9   \n\n   Runtime (mins)    Year            Genres  Num Votes Release Date  \\\n0             107  1990.0   Drama, Thriller     171962   1990-11-29   \n1             119  1990.0   Comedy, Romance     271083   1990-03-23   \n2             105  2011.0  Biography, Drama      98773   2011-12-26   \n3             120  2008.0    Drama, Romance     766624   2008-08-30   \n4              99  1991.0   Comedy, Fantasy     123080   1991-11-19   \n\n                      Directors  const  \n0                    Rob Reiner      1  \n1                Garry Marshall      1  \n2                Phyllida Lloyd      1  \n3  Loveleen Tandan, Danny Boyle      1  \n4              Barry Sonnenfeld      1  ",
      "text/html": "<div>\n<style scoped>\n    .dataframe tbody tr th:only-of-type {\n        vertical-align: middle;\n    }\n\n    .dataframe tbody tr th {\n        vertical-align: top;\n    }\n\n    .dataframe thead th {\n        text-align: right;\n    }\n</style>\n<table border=\"1\" class=\"dataframe\">\n  <thead>\n    <tr style=\"text-align: right;\">\n      <th></th>\n      <th>Your Rating</th>\n      <th>Date Rated</th>\n      <th>Title</th>\n      <th>Web Address</th>\n      <th>Title Type</th>\n      <th>IMDb Rating</th>\n      <th>Runtime (mins)</th>\n      <th>Year</th>\n      <th>Genres</th>\n      <th>Num Votes</th>\n      <th>Release Date</th>\n      <th>Directors</th>\n      <th>const</th>\n    </tr>\n  </thead>\n  <tbody>\n    <tr>\n      <th>0</th>\n      <td>8</td>\n      <td>2014-04-21</td>\n      <td>Misery</td>\n      <td>https://www.imdb.com/title/tt0100157/</td>\n      <td>1</td>\n      <td>7.8</td>\n      <td>107</td>\n      <td>1990.0</td>\n      <td>Drama, Thriller</td>\n      <td>171962</td>\n      <td>1990-11-29</td>\n      <td>Rob Reiner</td>\n      <td>1</td>\n    </tr>\n    <tr>\n      <th>1</th>\n      <td>7</td>\n      <td>2019-06-16</td>\n      <td>Pretty Woman</td>\n      <td>https://www.imdb.com/title/tt0100405/</td>\n      <td>1</td>\n      <td>7.0</td>\n      <td>119</td>\n      <td>1990.0</td>\n      <td>Comedy, Romance</td>\n      <td>271083</td>\n      <td>1990-03-23</td>\n      <td>Garry Marshall</td>\n      <td>1</td>\n    </tr>\n    <tr>\n      <th>2</th>\n      <td>7</td>\n      <td>2014-04-22</td>\n      <td>The Iron Lady</td>\n      <td>https://www.imdb.com/title/tt1007029/</td>\n      <td>1</td>\n      <td>6.4</td>\n      <td>105</td>\n      <td>2011.0</td>\n      <td>Biography, Drama</td>\n      <td>98773</td>\n      <td>2011-12-26</td>\n      <td>Phyllida Lloyd</td>\n      <td>1</td>\n    </tr>\n    <tr>\n      <th>3</th>\n      <td>7</td>\n      <td>2015-03-13</td>\n      <td>Slumdog Millionaire</td>\n      <td>https://www.imdb.com/title/tt1010048/</td>\n      <td>1</td>\n      <td>8.0</td>\n      <td>120</td>\n      <td>2008.0</td>\n      <td>Drama, Romance</td>\n      <td>766624</td>\n      <td>2008-08-30</td>\n      <td>Loveleen Tandan, Danny Boyle</td>\n      <td>1</td>\n    </tr>\n    <tr>\n      <th>4</th>\n      <td>7</td>\n      <td>2014-04-21</td>\n      <td>The Addams Family</td>\n      <td>https://www.imdb.com/title/tt0101272/</td>\n      <td>1</td>\n      <td>6.9</td>\n      <td>99</td>\n      <td>1991.0</td>\n      <td>Comedy, Fantasy</td>\n      <td>123080</td>\n      <td>1991-11-19</td>\n      <td>Barry Sonnenfeld</td>\n      <td>1</td>\n    </tr>\n  </tbody>\n</table>\n</div>"
     },
     "execution_count": 47,
     "metadata": {},
     "output_type": "execute_result"
    }
   ],
   "source": [
    "data_in['const']=1\n",
    "data_in.head()"
   ]
  },
  {
   "cell_type": "markdown",
   "metadata": {
    "colab_type": "text",
    "id": "pF5KkObc2JG_"
   },
   "source": [
    "The next interesting manipulation is to apply a function to the full DataFrame row by row. In the example below we are going to create a\n",
    " new function that will multiple the values and then use the newly created function to apply it to all of the rows in the dataset."
   ]
  },
  {
   "cell_type": "code",
   "execution_count": 48,
   "metadata": {
    "colab": {
     "base_uri": "https://localhost:8080/",
     "height": 272
    },
    "colab_type": "code",
    "id": "uB-U68Gr2JHA",
    "outputId": "6da8df21-76fa-4e48-fc0c-432ba0962acd"
   },
   "outputs": [
    {
     "data": {
      "text/plain": "   Your Rating  Date Rated                Title  \\\n0            8  2014-04-21               Misery   \n1            7  2019-06-16         Pretty Woman   \n2            7  2014-04-22        The Iron Lady   \n3            7  2015-03-13  Slumdog Millionaire   \n4            7  2014-04-21    The Addams Family   \n\n                             Web Address  Title Type  IMDb Rating  \\\n0  https://www.imdb.com/title/tt0100157/           1          7.8   \n1  https://www.imdb.com/title/tt0100405/           1          7.0   \n2  https://www.imdb.com/title/tt1007029/           1          6.4   \n3  https://www.imdb.com/title/tt1010048/           1          8.0   \n4  https://www.imdb.com/title/tt0101272/           1          6.9   \n\n   Runtime (mins)    Year            Genres  Num Votes Release Date  \\\n0             107  1990.0   Drama, Thriller     171962   1990-11-29   \n1             119  1990.0   Comedy, Romance     271083   1990-03-23   \n2             105  2011.0  Biography, Drama      98773   2011-12-26   \n3             120  2008.0    Drama, Romance     766624   2008-08-30   \n4              99  1991.0   Comedy, Fantasy     123080   1991-11-19   \n\n                      Directors  const  \n0                    Rob Reiner      2  \n1                Garry Marshall      2  \n2                Phyllida Lloyd      2  \n3  Loveleen Tandan, Danny Boyle      2  \n4              Barry Sonnenfeld      2  ",
      "text/html": "<div>\n<style scoped>\n    .dataframe tbody tr th:only-of-type {\n        vertical-align: middle;\n    }\n\n    .dataframe tbody tr th {\n        vertical-align: top;\n    }\n\n    .dataframe thead th {\n        text-align: right;\n    }\n</style>\n<table border=\"1\" class=\"dataframe\">\n  <thead>\n    <tr style=\"text-align: right;\">\n      <th></th>\n      <th>Your Rating</th>\n      <th>Date Rated</th>\n      <th>Title</th>\n      <th>Web Address</th>\n      <th>Title Type</th>\n      <th>IMDb Rating</th>\n      <th>Runtime (mins)</th>\n      <th>Year</th>\n      <th>Genres</th>\n      <th>Num Votes</th>\n      <th>Release Date</th>\n      <th>Directors</th>\n      <th>const</th>\n    </tr>\n  </thead>\n  <tbody>\n    <tr>\n      <th>0</th>\n      <td>8</td>\n      <td>2014-04-21</td>\n      <td>Misery</td>\n      <td>https://www.imdb.com/title/tt0100157/</td>\n      <td>1</td>\n      <td>7.8</td>\n      <td>107</td>\n      <td>1990.0</td>\n      <td>Drama, Thriller</td>\n      <td>171962</td>\n      <td>1990-11-29</td>\n      <td>Rob Reiner</td>\n      <td>2</td>\n    </tr>\n    <tr>\n      <th>1</th>\n      <td>7</td>\n      <td>2019-06-16</td>\n      <td>Pretty Woman</td>\n      <td>https://www.imdb.com/title/tt0100405/</td>\n      <td>1</td>\n      <td>7.0</td>\n      <td>119</td>\n      <td>1990.0</td>\n      <td>Comedy, Romance</td>\n      <td>271083</td>\n      <td>1990-03-23</td>\n      <td>Garry Marshall</td>\n      <td>2</td>\n    </tr>\n    <tr>\n      <th>2</th>\n      <td>7</td>\n      <td>2014-04-22</td>\n      <td>The Iron Lady</td>\n      <td>https://www.imdb.com/title/tt1007029/</td>\n      <td>1</td>\n      <td>6.4</td>\n      <td>105</td>\n      <td>2011.0</td>\n      <td>Biography, Drama</td>\n      <td>98773</td>\n      <td>2011-12-26</td>\n      <td>Phyllida Lloyd</td>\n      <td>2</td>\n    </tr>\n    <tr>\n      <th>3</th>\n      <td>7</td>\n      <td>2015-03-13</td>\n      <td>Slumdog Millionaire</td>\n      <td>https://www.imdb.com/title/tt1010048/</td>\n      <td>1</td>\n      <td>8.0</td>\n      <td>120</td>\n      <td>2008.0</td>\n      <td>Drama, Romance</td>\n      <td>766624</td>\n      <td>2008-08-30</td>\n      <td>Loveleen Tandan, Danny Boyle</td>\n      <td>2</td>\n    </tr>\n    <tr>\n      <th>4</th>\n      <td>7</td>\n      <td>2014-04-21</td>\n      <td>The Addams Family</td>\n      <td>https://www.imdb.com/title/tt0101272/</td>\n      <td>1</td>\n      <td>6.9</td>\n      <td>99</td>\n      <td>1991.0</td>\n      <td>Comedy, Fantasy</td>\n      <td>123080</td>\n      <td>1991-11-19</td>\n      <td>Barry Sonnenfeld</td>\n      <td>2</td>\n    </tr>\n  </tbody>\n</table>\n</div>"
     },
     "execution_count": 48,
     "metadata": {},
     "output_type": "execute_result"
    }
   ],
   "source": [
    "f = lambda x:x*2\n",
    "\n",
    "data_in['const']=data_in['const'].apply(f)\n",
    "data_in.head()"
   ]
  },
  {
   "cell_type": "markdown",
   "metadata": {
    "colab_type": "text",
    "id": "FcMkG-KG2JHJ"
   },
   "source": [
    "In the example above we create a **lambda** function, this is a temporary anonymous function that will take one input (here it is x) and do a quick function on it.\n",
    "\n",
    "The next application that is available to us is a way to sort the data by certain columns."
   ]
  },
  {
   "cell_type": "code",
   "execution_count": 49,
   "metadata": {
    "colab": {
     "base_uri": "https://localhost:8080/",
     "height": 606
    },
    "colab_type": "code",
    "id": "1BRWfuDZ2JHK",
    "outputId": "af3cb168-b071-431f-b7de-51eb1ed600b8"
   },
   "outputs": [
    {
     "data": {
      "text/plain": "     Your Rating  Date Rated                              Title  \\\n601            7  2015-03-13                             Dr. No   \n604            8  2015-03-13                         Goldfinger   \n607            7  2015-02-27                        Thunderball   \n610            8  2015-02-20                         Dad's Army   \n612            9  2015-05-31                      The Godfather   \n..           ...         ...                                ...   \n652            7  2019-07-14                       Pet Sematary   \n24             8  2019-10-07         Steven Universe: The Movie   \n264            8  2019-06-28                          Rocketman   \n602            9  2019-11-10                       Doctor Sleep   \n609            7  2019-09-30  John Wick: Chapter 3 - Parabellum   \n\n                                Web Address  Title Type  IMDb Rating  \\\n601   https://www.imdb.com/title/tt0055928/           1          7.3   \n604   https://www.imdb.com/title/tt0058150/           1          7.7   \n607   https://www.imdb.com/title/tt0059800/           1          7.0   \n610   https://www.imdb.com/title/tt0062552/           3          8.1   \n612   https://www.imdb.com/title/tt0068646/           1          9.2   \n..                                      ...         ...          ...   \n652   https://www.imdb.com/title/tt0837563/           1          5.8   \n24   https://www.imdb.com/title/tt10515852/           7          8.0   \n264   https://www.imdb.com/title/tt2066051/           1          7.4   \n602   https://www.imdb.com/title/tt5606664/           1          7.5   \n609   https://www.imdb.com/title/tt6146586/           1          7.5   \n\n     Runtime (mins)    Year  \\\n601             110  1962.0   \n604             110  1964.0   \n607             130  1965.0   \n610              30  1968.0   \n612             175  1972.0   \n..              ...     ...   \n652             101  2019.0   \n24               82  2019.0   \n264             121  2019.0   \n602             152  2019.0   \n609             131  2019.0   \n\n                                                Genres  Num Votes  \\\n601                        Action, Adventure, Thriller     138645   \n604                        Action, Adventure, Thriller     163127   \n607                        Action, Adventure, Thriller      98754   \n610                                        Comedy, War       5215   \n612                                       Crime, Drama    1507586   \n..                                                 ...        ...   \n652                          Horror, Mystery, Thriller      66648   \n24   Animation, Action, Adventure, Comedy, Drama, F...       2915   \n264                   Biography, Drama, Music, Musical      93940   \n602                   Drama, Fantasy, Horror, Thriller      66968   \n609                            Action, Crime, Thriller     221907   \n\n    Release Date                     Directors  const  \n601   1962-10-05                 Terence Young      2  \n604   1964-09-17                  Guy Hamilton      2  \n607   1965-12-09                 Terence Young      2  \n610   1968-07-31                           NaN      2  \n612   1972-03-14          Francis Ford Coppola      2  \n..           ...                           ...    ...  \n652   2019-03-16  Dennis Widmyer, Kevin Kölsch      2  \n24    2019-09-02                 Rebecca Sugar      2  \n264   2019-05-16               Dexter Fletcher      2  \n602   2019-10-30                 Mike Flanagan      2  \n609   2019-05-15                Chad Stahelski      2  \n\n[706 rows x 13 columns]",
      "text/html": "<div>\n<style scoped>\n    .dataframe tbody tr th:only-of-type {\n        vertical-align: middle;\n    }\n\n    .dataframe tbody tr th {\n        vertical-align: top;\n    }\n\n    .dataframe thead th {\n        text-align: right;\n    }\n</style>\n<table border=\"1\" class=\"dataframe\">\n  <thead>\n    <tr style=\"text-align: right;\">\n      <th></th>\n      <th>Your Rating</th>\n      <th>Date Rated</th>\n      <th>Title</th>\n      <th>Web Address</th>\n      <th>Title Type</th>\n      <th>IMDb Rating</th>\n      <th>Runtime (mins)</th>\n      <th>Year</th>\n      <th>Genres</th>\n      <th>Num Votes</th>\n      <th>Release Date</th>\n      <th>Directors</th>\n      <th>const</th>\n    </tr>\n  </thead>\n  <tbody>\n    <tr>\n      <th>601</th>\n      <td>7</td>\n      <td>2015-03-13</td>\n      <td>Dr. No</td>\n      <td>https://www.imdb.com/title/tt0055928/</td>\n      <td>1</td>\n      <td>7.3</td>\n      <td>110</td>\n      <td>1962.0</td>\n      <td>Action, Adventure, Thriller</td>\n      <td>138645</td>\n      <td>1962-10-05</td>\n      <td>Terence Young</td>\n      <td>2</td>\n    </tr>\n    <tr>\n      <th>604</th>\n      <td>8</td>\n      <td>2015-03-13</td>\n      <td>Goldfinger</td>\n      <td>https://www.imdb.com/title/tt0058150/</td>\n      <td>1</td>\n      <td>7.7</td>\n      <td>110</td>\n      <td>1964.0</td>\n      <td>Action, Adventure, Thriller</td>\n      <td>163127</td>\n      <td>1964-09-17</td>\n      <td>Guy Hamilton</td>\n      <td>2</td>\n    </tr>\n    <tr>\n      <th>607</th>\n      <td>7</td>\n      <td>2015-02-27</td>\n      <td>Thunderball</td>\n      <td>https://www.imdb.com/title/tt0059800/</td>\n      <td>1</td>\n      <td>7.0</td>\n      <td>130</td>\n      <td>1965.0</td>\n      <td>Action, Adventure, Thriller</td>\n      <td>98754</td>\n      <td>1965-12-09</td>\n      <td>Terence Young</td>\n      <td>2</td>\n    </tr>\n    <tr>\n      <th>610</th>\n      <td>8</td>\n      <td>2015-02-20</td>\n      <td>Dad's Army</td>\n      <td>https://www.imdb.com/title/tt0062552/</td>\n      <td>3</td>\n      <td>8.1</td>\n      <td>30</td>\n      <td>1968.0</td>\n      <td>Comedy, War</td>\n      <td>5215</td>\n      <td>1968-07-31</td>\n      <td>NaN</td>\n      <td>2</td>\n    </tr>\n    <tr>\n      <th>612</th>\n      <td>9</td>\n      <td>2015-05-31</td>\n      <td>The Godfather</td>\n      <td>https://www.imdb.com/title/tt0068646/</td>\n      <td>1</td>\n      <td>9.2</td>\n      <td>175</td>\n      <td>1972.0</td>\n      <td>Crime, Drama</td>\n      <td>1507586</td>\n      <td>1972-03-14</td>\n      <td>Francis Ford Coppola</td>\n      <td>2</td>\n    </tr>\n    <tr>\n      <th>...</th>\n      <td>...</td>\n      <td>...</td>\n      <td>...</td>\n      <td>...</td>\n      <td>...</td>\n      <td>...</td>\n      <td>...</td>\n      <td>...</td>\n      <td>...</td>\n      <td>...</td>\n      <td>...</td>\n      <td>...</td>\n      <td>...</td>\n    </tr>\n    <tr>\n      <th>652</th>\n      <td>7</td>\n      <td>2019-07-14</td>\n      <td>Pet Sematary</td>\n      <td>https://www.imdb.com/title/tt0837563/</td>\n      <td>1</td>\n      <td>5.8</td>\n      <td>101</td>\n      <td>2019.0</td>\n      <td>Horror, Mystery, Thriller</td>\n      <td>66648</td>\n      <td>2019-03-16</td>\n      <td>Dennis Widmyer, Kevin Kölsch</td>\n      <td>2</td>\n    </tr>\n    <tr>\n      <th>24</th>\n      <td>8</td>\n      <td>2019-10-07</td>\n      <td>Steven Universe: The Movie</td>\n      <td>https://www.imdb.com/title/tt10515852/</td>\n      <td>7</td>\n      <td>8.0</td>\n      <td>82</td>\n      <td>2019.0</td>\n      <td>Animation, Action, Adventure, Comedy, Drama, F...</td>\n      <td>2915</td>\n      <td>2019-09-02</td>\n      <td>Rebecca Sugar</td>\n      <td>2</td>\n    </tr>\n    <tr>\n      <th>264</th>\n      <td>8</td>\n      <td>2019-06-28</td>\n      <td>Rocketman</td>\n      <td>https://www.imdb.com/title/tt2066051/</td>\n      <td>1</td>\n      <td>7.4</td>\n      <td>121</td>\n      <td>2019.0</td>\n      <td>Biography, Drama, Music, Musical</td>\n      <td>93940</td>\n      <td>2019-05-16</td>\n      <td>Dexter Fletcher</td>\n      <td>2</td>\n    </tr>\n    <tr>\n      <th>602</th>\n      <td>9</td>\n      <td>2019-11-10</td>\n      <td>Doctor Sleep</td>\n      <td>https://www.imdb.com/title/tt5606664/</td>\n      <td>1</td>\n      <td>7.5</td>\n      <td>152</td>\n      <td>2019.0</td>\n      <td>Drama, Fantasy, Horror, Thriller</td>\n      <td>66968</td>\n      <td>2019-10-30</td>\n      <td>Mike Flanagan</td>\n      <td>2</td>\n    </tr>\n    <tr>\n      <th>609</th>\n      <td>7</td>\n      <td>2019-09-30</td>\n      <td>John Wick: Chapter 3 - Parabellum</td>\n      <td>https://www.imdb.com/title/tt6146586/</td>\n      <td>1</td>\n      <td>7.5</td>\n      <td>131</td>\n      <td>2019.0</td>\n      <td>Action, Crime, Thriller</td>\n      <td>221907</td>\n      <td>2019-05-15</td>\n      <td>Chad Stahelski</td>\n      <td>2</td>\n    </tr>\n  </tbody>\n</table>\n<p>706 rows × 13 columns</p>\n</div>"
     },
     "execution_count": 49,
     "metadata": {},
     "output_type": "execute_result"
    }
   ],
   "source": [
    "data_in.sort_values(by='Year')"
   ]
  },
  {
   "cell_type": "code",
   "execution_count": 50,
   "metadata": {
    "colab": {
     "base_uri": "https://localhost:8080/",
     "height": 606
    },
    "colab_type": "code",
    "id": "5xrL1T9E2JHN",
    "outputId": "778b9d7c-3e2a-4ecd-9cb9-1c21b3d1b840"
   },
   "outputs": [
    {
     "data": {
      "text/plain": "     Your Rating  Date Rated                                          Title  \\\n288            5  2019-11-09                    Men in Black: International   \n606            7  2019-05-27                      Pokémon Detective Pikachu   \n442            7  2019-05-02              The Lego Movie 2: The Second Part   \n324            8  2019-12-20  Star Wars: Episode IX - The Rise of Skywalker   \n24             8  2019-10-07                     Steven Universe: The Movie   \n..           ...         ...                                            ...   \n612            9  2015-05-31                                  The Godfather   \n610            8  2015-02-20                                     Dad's Army   \n607            7  2015-02-27                                    Thunderball   \n604            8  2015-03-13                                     Goldfinger   \n601            7  2015-03-13                                         Dr. No   \n\n                                Web Address  Title Type  IMDb Rating  \\\n288   https://www.imdb.com/title/tt2283336/           1          5.6   \n606   https://www.imdb.com/title/tt5884052/           1          6.6   \n442   https://www.imdb.com/title/tt3513498/           1          6.6   \n324   https://www.imdb.com/title/tt2527338/           1          6.9   \n24   https://www.imdb.com/title/tt10515852/           7          8.0   \n..                                      ...         ...          ...   \n612   https://www.imdb.com/title/tt0068646/           1          9.2   \n610   https://www.imdb.com/title/tt0062552/           3          8.1   \n607   https://www.imdb.com/title/tt0059800/           1          7.0   \n604   https://www.imdb.com/title/tt0058150/           1          7.7   \n601   https://www.imdb.com/title/tt0055928/           1          7.3   \n\n     Runtime (mins)    Year  \\\n288             114  2019.0   \n606             104  2019.0   \n442             107  2019.0   \n324             142  2019.0   \n24               82  2019.0   \n..              ...     ...   \n612             175  1972.0   \n610              30  1968.0   \n607             130  1965.0   \n604             110  1964.0   \n601             110  1962.0   \n\n                                                Genres  Num Votes  \\\n288                  Action, Adventure, Comedy, Sci-Fi      84874   \n606  Action, Adventure, Comedy, Family, Mystery, Sc...     113162   \n442  Animation, Action, Adventure, Comedy, Family, ...      45293   \n324                 Action, Adventure, Fantasy, Sci-Fi     250930   \n24   Animation, Action, Adventure, Comedy, Drama, F...       2915   \n..                                                 ...        ...   \n612                                       Crime, Drama    1507586   \n610                                        Comedy, War       5215   \n607                        Action, Adventure, Thriller      98754   \n604                        Action, Adventure, Thriller     163127   \n601                        Action, Adventure, Thriller     138645   \n\n    Release Date             Directors  const  \n288   2019-06-11          F. Gary Gray      2  \n606   2019-05-02         Rob Letterman      2  \n442   2019-02-02         Mike Mitchell      2  \n324   2019-12-16           J.J. Abrams      2  \n24    2019-09-02         Rebecca Sugar      2  \n..           ...                   ...    ...  \n612   1972-03-14  Francis Ford Coppola      2  \n610   1968-07-31                   NaN      2  \n607   1965-12-09         Terence Young      2  \n604   1964-09-17          Guy Hamilton      2  \n601   1962-10-05         Terence Young      2  \n\n[706 rows x 13 columns]",
      "text/html": "<div>\n<style scoped>\n    .dataframe tbody tr th:only-of-type {\n        vertical-align: middle;\n    }\n\n    .dataframe tbody tr th {\n        vertical-align: top;\n    }\n\n    .dataframe thead th {\n        text-align: right;\n    }\n</style>\n<table border=\"1\" class=\"dataframe\">\n  <thead>\n    <tr style=\"text-align: right;\">\n      <th></th>\n      <th>Your Rating</th>\n      <th>Date Rated</th>\n      <th>Title</th>\n      <th>Web Address</th>\n      <th>Title Type</th>\n      <th>IMDb Rating</th>\n      <th>Runtime (mins)</th>\n      <th>Year</th>\n      <th>Genres</th>\n      <th>Num Votes</th>\n      <th>Release Date</th>\n      <th>Directors</th>\n      <th>const</th>\n    </tr>\n  </thead>\n  <tbody>\n    <tr>\n      <th>288</th>\n      <td>5</td>\n      <td>2019-11-09</td>\n      <td>Men in Black: International</td>\n      <td>https://www.imdb.com/title/tt2283336/</td>\n      <td>1</td>\n      <td>5.6</td>\n      <td>114</td>\n      <td>2019.0</td>\n      <td>Action, Adventure, Comedy, Sci-Fi</td>\n      <td>84874</td>\n      <td>2019-06-11</td>\n      <td>F. Gary Gray</td>\n      <td>2</td>\n    </tr>\n    <tr>\n      <th>606</th>\n      <td>7</td>\n      <td>2019-05-27</td>\n      <td>Pokémon Detective Pikachu</td>\n      <td>https://www.imdb.com/title/tt5884052/</td>\n      <td>1</td>\n      <td>6.6</td>\n      <td>104</td>\n      <td>2019.0</td>\n      <td>Action, Adventure, Comedy, Family, Mystery, Sc...</td>\n      <td>113162</td>\n      <td>2019-05-02</td>\n      <td>Rob Letterman</td>\n      <td>2</td>\n    </tr>\n    <tr>\n      <th>442</th>\n      <td>7</td>\n      <td>2019-05-02</td>\n      <td>The Lego Movie 2: The Second Part</td>\n      <td>https://www.imdb.com/title/tt3513498/</td>\n      <td>1</td>\n      <td>6.6</td>\n      <td>107</td>\n      <td>2019.0</td>\n      <td>Animation, Action, Adventure, Comedy, Family, ...</td>\n      <td>45293</td>\n      <td>2019-02-02</td>\n      <td>Mike Mitchell</td>\n      <td>2</td>\n    </tr>\n    <tr>\n      <th>324</th>\n      <td>8</td>\n      <td>2019-12-20</td>\n      <td>Star Wars: Episode IX - The Rise of Skywalker</td>\n      <td>https://www.imdb.com/title/tt2527338/</td>\n      <td>1</td>\n      <td>6.9</td>\n      <td>142</td>\n      <td>2019.0</td>\n      <td>Action, Adventure, Fantasy, Sci-Fi</td>\n      <td>250930</td>\n      <td>2019-12-16</td>\n      <td>J.J. Abrams</td>\n      <td>2</td>\n    </tr>\n    <tr>\n      <th>24</th>\n      <td>8</td>\n      <td>2019-10-07</td>\n      <td>Steven Universe: The Movie</td>\n      <td>https://www.imdb.com/title/tt10515852/</td>\n      <td>7</td>\n      <td>8.0</td>\n      <td>82</td>\n      <td>2019.0</td>\n      <td>Animation, Action, Adventure, Comedy, Drama, F...</td>\n      <td>2915</td>\n      <td>2019-09-02</td>\n      <td>Rebecca Sugar</td>\n      <td>2</td>\n    </tr>\n    <tr>\n      <th>...</th>\n      <td>...</td>\n      <td>...</td>\n      <td>...</td>\n      <td>...</td>\n      <td>...</td>\n      <td>...</td>\n      <td>...</td>\n      <td>...</td>\n      <td>...</td>\n      <td>...</td>\n      <td>...</td>\n      <td>...</td>\n      <td>...</td>\n    </tr>\n    <tr>\n      <th>612</th>\n      <td>9</td>\n      <td>2015-05-31</td>\n      <td>The Godfather</td>\n      <td>https://www.imdb.com/title/tt0068646/</td>\n      <td>1</td>\n      <td>9.2</td>\n      <td>175</td>\n      <td>1972.0</td>\n      <td>Crime, Drama</td>\n      <td>1507586</td>\n      <td>1972-03-14</td>\n      <td>Francis Ford Coppola</td>\n      <td>2</td>\n    </tr>\n    <tr>\n      <th>610</th>\n      <td>8</td>\n      <td>2015-02-20</td>\n      <td>Dad's Army</td>\n      <td>https://www.imdb.com/title/tt0062552/</td>\n      <td>3</td>\n      <td>8.1</td>\n      <td>30</td>\n      <td>1968.0</td>\n      <td>Comedy, War</td>\n      <td>5215</td>\n      <td>1968-07-31</td>\n      <td>NaN</td>\n      <td>2</td>\n    </tr>\n    <tr>\n      <th>607</th>\n      <td>7</td>\n      <td>2015-02-27</td>\n      <td>Thunderball</td>\n      <td>https://www.imdb.com/title/tt0059800/</td>\n      <td>1</td>\n      <td>7.0</td>\n      <td>130</td>\n      <td>1965.0</td>\n      <td>Action, Adventure, Thriller</td>\n      <td>98754</td>\n      <td>1965-12-09</td>\n      <td>Terence Young</td>\n      <td>2</td>\n    </tr>\n    <tr>\n      <th>604</th>\n      <td>8</td>\n      <td>2015-03-13</td>\n      <td>Goldfinger</td>\n      <td>https://www.imdb.com/title/tt0058150/</td>\n      <td>1</td>\n      <td>7.7</td>\n      <td>110</td>\n      <td>1964.0</td>\n      <td>Action, Adventure, Thriller</td>\n      <td>163127</td>\n      <td>1964-09-17</td>\n      <td>Guy Hamilton</td>\n      <td>2</td>\n    </tr>\n    <tr>\n      <th>601</th>\n      <td>7</td>\n      <td>2015-03-13</td>\n      <td>Dr. No</td>\n      <td>https://www.imdb.com/title/tt0055928/</td>\n      <td>1</td>\n      <td>7.3</td>\n      <td>110</td>\n      <td>1962.0</td>\n      <td>Action, Adventure, Thriller</td>\n      <td>138645</td>\n      <td>1962-10-05</td>\n      <td>Terence Young</td>\n      <td>2</td>\n    </tr>\n  </tbody>\n</table>\n<p>706 rows × 13 columns</p>\n</div>"
     },
     "execution_count": 50,
     "metadata": {},
     "output_type": "execute_result"
    }
   ],
   "source": [
    "data_in.sort_values(by='Year',ascending=False)"
   ]
  },
  {
   "cell_type": "markdown",
   "metadata": {
    "colab_type": "text",
    "id": "CQEjhe-V2JHU"
   },
   "source": [
    "As much as it is useful for us to subset the data it is usually more useful for us to filter the data based on some criteria.\n",
    "Look at the examples below on how we create filters and apply them."
   ]
  },
  {
   "cell_type": "code",
   "execution_count": 51,
   "metadata": {
    "colab": {
     "base_uri": "https://localhost:8080/",
     "height": 221
    },
    "colab_type": "code",
    "id": "mqNO8hHS2JHV",
    "outputId": "45a32a15-32ab-411b-b128-592b668c5f70"
   },
   "outputs": [
    {
     "data": {
      "text/plain": "0       True\n1       True\n2      False\n3      False\n4       True\n       ...  \n701     True\n702    False\n703     True\n704     True\n705     True\nName: Year, Length: 706, dtype: bool"
     },
     "execution_count": 51,
     "metadata": {},
     "output_type": "execute_result"
    }
   ],
   "source": [
    "data_in['Year']<1999"
   ]
  },
  {
   "cell_type": "markdown",
   "metadata": {
    "colab_type": "text",
    "id": "ciyag1tW2JHZ"
   },
   "source": [
    "In the example above we have shown the results of the evaluation but have not applied the filter to the dataset. Let's now apply the filter to the associated dataset."
   ]
  },
  {
   "cell_type": "code",
   "execution_count": 52,
   "metadata": {
    "colab": {
     "base_uri": "https://localhost:8080/",
     "height": 306
    },
    "colab_type": "code",
    "id": "6UqI0CtE2JHZ",
    "outputId": "952db6be-6bc6-47e1-912f-c6391dbfdce3"
   },
   "outputs": [
    {
     "data": {
      "text/plain": "    Your Rating  Date Rated                 Title  \\\n0             8  2014-04-21                Misery   \n1             7  2019-06-16          Pretty Woman   \n4             7  2014-04-21     The Addams Family   \n12            7  2015-05-26  Beauty and the Beast   \n15            8  2015-09-30                  Hook   \n\n                              Web Address  Title Type  IMDb Rating  \\\n0   https://www.imdb.com/title/tt0100157/           1          7.8   \n1   https://www.imdb.com/title/tt0100405/           1          7.0   \n4   https://www.imdb.com/title/tt0101272/           1          6.9   \n12  https://www.imdb.com/title/tt0101414/           1          8.0   \n15  https://www.imdb.com/title/tt0102057/           1          6.8   \n\n    Runtime (mins)    Year                                        Genres  \\\n0              107  1990.0                               Drama, Thriller   \n1              119  1990.0                               Comedy, Romance   \n4               99  1991.0                               Comedy, Fantasy   \n12              84  1991.0  Animation, Family, Fantasy, Musical, Romance   \n15             142  1991.0            Adventure, Comedy, Family, Fantasy   \n\n    Num Votes Release Date                  Directors  const  \n0      171962   1990-11-29                 Rob Reiner      2  \n1      271083   1990-03-23             Garry Marshall      2  \n4      123080   1991-11-19           Barry Sonnenfeld      2  \n12     401814   1991-09-29  Gary Trousdale, Kirk Wise      2  \n15     221807   1991-12-08           Steven Spielberg      2  ",
      "text/html": "<div>\n<style scoped>\n    .dataframe tbody tr th:only-of-type {\n        vertical-align: middle;\n    }\n\n    .dataframe tbody tr th {\n        vertical-align: top;\n    }\n\n    .dataframe thead th {\n        text-align: right;\n    }\n</style>\n<table border=\"1\" class=\"dataframe\">\n  <thead>\n    <tr style=\"text-align: right;\">\n      <th></th>\n      <th>Your Rating</th>\n      <th>Date Rated</th>\n      <th>Title</th>\n      <th>Web Address</th>\n      <th>Title Type</th>\n      <th>IMDb Rating</th>\n      <th>Runtime (mins)</th>\n      <th>Year</th>\n      <th>Genres</th>\n      <th>Num Votes</th>\n      <th>Release Date</th>\n      <th>Directors</th>\n      <th>const</th>\n    </tr>\n  </thead>\n  <tbody>\n    <tr>\n      <th>0</th>\n      <td>8</td>\n      <td>2014-04-21</td>\n      <td>Misery</td>\n      <td>https://www.imdb.com/title/tt0100157/</td>\n      <td>1</td>\n      <td>7.8</td>\n      <td>107</td>\n      <td>1990.0</td>\n      <td>Drama, Thriller</td>\n      <td>171962</td>\n      <td>1990-11-29</td>\n      <td>Rob Reiner</td>\n      <td>2</td>\n    </tr>\n    <tr>\n      <th>1</th>\n      <td>7</td>\n      <td>2019-06-16</td>\n      <td>Pretty Woman</td>\n      <td>https://www.imdb.com/title/tt0100405/</td>\n      <td>1</td>\n      <td>7.0</td>\n      <td>119</td>\n      <td>1990.0</td>\n      <td>Comedy, Romance</td>\n      <td>271083</td>\n      <td>1990-03-23</td>\n      <td>Garry Marshall</td>\n      <td>2</td>\n    </tr>\n    <tr>\n      <th>4</th>\n      <td>7</td>\n      <td>2014-04-21</td>\n      <td>The Addams Family</td>\n      <td>https://www.imdb.com/title/tt0101272/</td>\n      <td>1</td>\n      <td>6.9</td>\n      <td>99</td>\n      <td>1991.0</td>\n      <td>Comedy, Fantasy</td>\n      <td>123080</td>\n      <td>1991-11-19</td>\n      <td>Barry Sonnenfeld</td>\n      <td>2</td>\n    </tr>\n    <tr>\n      <th>12</th>\n      <td>7</td>\n      <td>2015-05-26</td>\n      <td>Beauty and the Beast</td>\n      <td>https://www.imdb.com/title/tt0101414/</td>\n      <td>1</td>\n      <td>8.0</td>\n      <td>84</td>\n      <td>1991.0</td>\n      <td>Animation, Family, Fantasy, Musical, Romance</td>\n      <td>401814</td>\n      <td>1991-09-29</td>\n      <td>Gary Trousdale, Kirk Wise</td>\n      <td>2</td>\n    </tr>\n    <tr>\n      <th>15</th>\n      <td>8</td>\n      <td>2015-09-30</td>\n      <td>Hook</td>\n      <td>https://www.imdb.com/title/tt0102057/</td>\n      <td>1</td>\n      <td>6.8</td>\n      <td>142</td>\n      <td>1991.0</td>\n      <td>Adventure, Comedy, Family, Fantasy</td>\n      <td>221807</td>\n      <td>1991-12-08</td>\n      <td>Steven Spielberg</td>\n      <td>2</td>\n    </tr>\n  </tbody>\n</table>\n</div>"
     },
     "execution_count": 52,
     "metadata": {},
     "output_type": "execute_result"
    }
   ],
   "source": [
    "filter1 = data_in['Year']<1999\n",
    "filtered_new = data_in[filter1]\n",
    "filtered_new.head()"
   ]
  },
  {
   "cell_type": "markdown",
   "metadata": {
    "colab_type": "text",
    "id": "4ecOLOtU2JHc"
   },
   "source": [
    "In the previous example we only filtered on one condition, let's now create a filter based on multiple variables:"
   ]
  },
  {
   "cell_type": "code",
   "execution_count": 53,
   "metadata": {
    "colab": {
     "base_uri": "https://localhost:8080/",
     "height": 306
    },
    "colab_type": "code",
    "id": "LAQp8KBe2JHd",
    "outputId": "cec4d8eb-685d-4673-f25d-33e3bc1dcfe5"
   },
   "outputs": [
    {
     "data": {
      "text/plain": "    Your Rating  Date Rated                       Title  \\\n0             8  2014-04-21                      Misery   \n15            8  2015-09-30                        Hook   \n17            8  2014-04-20    The Silence of the Lambs   \n18            8  2014-04-21  Terminator 2: Judgment Day   \n22            8  2015-05-26             A Grand Day Out   \n\n                              Web Address  Title Type  IMDb Rating  \\\n0   https://www.imdb.com/title/tt0100157/           1          7.8   \n15  https://www.imdb.com/title/tt0102057/           1          6.8   \n17  https://www.imdb.com/title/tt0102926/           1          8.6   \n18  https://www.imdb.com/title/tt0103064/           1          8.5   \n22  https://www.imdb.com/title/tt0104361/           4          7.8   \n\n    Runtime (mins)    Year                                             Genres  \\\n0              107  1990.0                                    Drama, Thriller   \n15             142  1991.0                 Adventure, Comedy, Family, Fantasy   \n17             118  1991.0                             Crime, Drama, Thriller   \n18             137  1991.0                                     Action, Sci-Fi   \n22              23  1989.0  Animation, Short, Adventure, Comedy, Family, S...   \n\n    Num Votes Release Date         Directors  const  \n0      171962   1990-11-29        Rob Reiner      2  \n15     221807   1991-12-08  Steven Spielberg      2  \n17    1187183   1991-01-30    Jonathan Demme      2  \n18     946998   1991-07-01     James Cameron      2  \n22      29787   1989-11-04         Nick Park      2  ",
      "text/html": "<div>\n<style scoped>\n    .dataframe tbody tr th:only-of-type {\n        vertical-align: middle;\n    }\n\n    .dataframe tbody tr th {\n        vertical-align: top;\n    }\n\n    .dataframe thead th {\n        text-align: right;\n    }\n</style>\n<table border=\"1\" class=\"dataframe\">\n  <thead>\n    <tr style=\"text-align: right;\">\n      <th></th>\n      <th>Your Rating</th>\n      <th>Date Rated</th>\n      <th>Title</th>\n      <th>Web Address</th>\n      <th>Title Type</th>\n      <th>IMDb Rating</th>\n      <th>Runtime (mins)</th>\n      <th>Year</th>\n      <th>Genres</th>\n      <th>Num Votes</th>\n      <th>Release Date</th>\n      <th>Directors</th>\n      <th>const</th>\n    </tr>\n  </thead>\n  <tbody>\n    <tr>\n      <th>0</th>\n      <td>8</td>\n      <td>2014-04-21</td>\n      <td>Misery</td>\n      <td>https://www.imdb.com/title/tt0100157/</td>\n      <td>1</td>\n      <td>7.8</td>\n      <td>107</td>\n      <td>1990.0</td>\n      <td>Drama, Thriller</td>\n      <td>171962</td>\n      <td>1990-11-29</td>\n      <td>Rob Reiner</td>\n      <td>2</td>\n    </tr>\n    <tr>\n      <th>15</th>\n      <td>8</td>\n      <td>2015-09-30</td>\n      <td>Hook</td>\n      <td>https://www.imdb.com/title/tt0102057/</td>\n      <td>1</td>\n      <td>6.8</td>\n      <td>142</td>\n      <td>1991.0</td>\n      <td>Adventure, Comedy, Family, Fantasy</td>\n      <td>221807</td>\n      <td>1991-12-08</td>\n      <td>Steven Spielberg</td>\n      <td>2</td>\n    </tr>\n    <tr>\n      <th>17</th>\n      <td>8</td>\n      <td>2014-04-20</td>\n      <td>The Silence of the Lambs</td>\n      <td>https://www.imdb.com/title/tt0102926/</td>\n      <td>1</td>\n      <td>8.6</td>\n      <td>118</td>\n      <td>1991.0</td>\n      <td>Crime, Drama, Thriller</td>\n      <td>1187183</td>\n      <td>1991-01-30</td>\n      <td>Jonathan Demme</td>\n      <td>2</td>\n    </tr>\n    <tr>\n      <th>18</th>\n      <td>8</td>\n      <td>2014-04-21</td>\n      <td>Terminator 2: Judgment Day</td>\n      <td>https://www.imdb.com/title/tt0103064/</td>\n      <td>1</td>\n      <td>8.5</td>\n      <td>137</td>\n      <td>1991.0</td>\n      <td>Action, Sci-Fi</td>\n      <td>946998</td>\n      <td>1991-07-01</td>\n      <td>James Cameron</td>\n      <td>2</td>\n    </tr>\n    <tr>\n      <th>22</th>\n      <td>8</td>\n      <td>2015-05-26</td>\n      <td>A Grand Day Out</td>\n      <td>https://www.imdb.com/title/tt0104361/</td>\n      <td>4</td>\n      <td>7.8</td>\n      <td>23</td>\n      <td>1989.0</td>\n      <td>Animation, Short, Adventure, Comedy, Family, S...</td>\n      <td>29787</td>\n      <td>1989-11-04</td>\n      <td>Nick Park</td>\n      <td>2</td>\n    </tr>\n  </tbody>\n</table>\n</div>"
     },
     "execution_count": 53,
     "metadata": {},
     "output_type": "execute_result"
    }
   ],
   "source": [
    "filter2 = (data_in['Year']<1999) & (data_in['Your Rating']>7)\n",
    "filter_review=data_in[filter2]\n",
    "filter_review.head()"
   ]
  },
  {
   "cell_type": "markdown",
   "metadata": {
    "pycharm": {
     "name": "#%% md\n"
    }
   },
   "source": [
    "As Python usually does not allow this kind of filtering, Pandas requires we include the brackets around the conditions.\n",
    "\n",
    "### Creating Categories from the data:\n",
    "\n",
    "Pandas also offers functionality to create categorical variables from the numerical values. This can be useful if we are wanting to do something specific with the groups. This is done with the **cut** method.\n",
    "\n",
    "Let's create some groups for the different Decade's of the Movies watched:"
   ]
  },
  {
   "cell_type": "code",
   "execution_count": 54,
   "metadata": {
    "pycharm": {
     "name": "#%%\n"
    }
   },
   "outputs": [
    {
     "data": {
      "text/plain": "<matplotlib.axes._subplots.AxesSubplot at 0x10f0e190>"
     },
     "execution_count": 54,
     "metadata": {},
     "output_type": "execute_result"
    },
    {
     "data": {
      "text/plain": "<Figure size 432x288 with 1 Axes>",
      "image/png": "[encoded data removed]"
     },
     "metadata": {
      "needs_background": "light"
     },
     "output_type": "display_data"
    }
   ],
   "source": [
    "%matplotlib inline\n",
    "Movies_decades = pd.cut(data_in['Year'],bins=[1960,1970,1980,1990,2000,2010,2020,2030],right=False,labels=[1960,1970,1980,1990,2000,2010,2020])\n",
    "\n",
    "Movies_decades.hist()"
   ]
  },
  {
   "cell_type": "markdown",
   "metadata": {
    "scrolled": true,
    "pycharm": {
     "name": "#%% md\n"
    }
   },
   "source": [
    "A key element in using this method is the labels are always one less than the number of bins, this is to ensure that you include a maximum value to the final bin.\n",
    "\n"
   ]
  }
 ],
 "metadata": {
  "colab": {
   "collapsed_sections": [
    "zSCoiQAZ2JCl",
    "4wt0jofP2JDh",
    "3KpCgvtH2JEC",
    "_In7MRRb2JF5",
    "e6Z3DUE-2JGZ",
    "u6B0MuoA2JG6"
   ],
   "name": "1.Panda's Basics.ipynb",
   "provenance": [],
   "toc_visible": true
  },
  "kernelspec": {
   "display_name": "Python 3",
   "language": "python",
   "name": "python3"
  },
  "language_info": {
   "codemirror_mode": {
    "name": "ipython",
    "version": 3
   },
   "file_extension": ".py",
   "mimetype": "text/x-python",
   "name": "python",
   "nbconvert_exporter": "python",
   "pygments_lexer": "ipython3",
   "version": "3.8.1"
  }
 },
 "nbformat": 4,
 "nbformat_minor": 1
}