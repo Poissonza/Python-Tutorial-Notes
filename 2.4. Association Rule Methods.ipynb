{
 "cells": [
  {
   "cell_type": "markdown",
   "source": [
    "# Association Rule Learning\n",
    "\n",
    "This is something that is experienced in our day to day life but people don't know about this. One of the primary examples of their uses is \"The person that watched this also watched...\"\n",
    "\n",
    "There are two different Methods we will look at here:\n",
    "\n",
    "* Apriori Intuition\n",
    "* Eclat\n",
    "\n",
    "## Apriori Intution\n",
    "\n",
    "It has three parts:\n",
    "\n",
    "* Support\n",
    "* Confidence\n",
    "* Lift\n",
    "\n",
    "The example we will be using is the grouping of movies that people have on their watchlists.\n",
    "\n",
    "### Support:\n",
    "\n",
    "The support is defined as:\n",
    "\n",
    "* the number of watchlists containing $M_2$ divided by number of user watchlists\n",
    "\n",
    "### Confidence:\n",
    "\n",
    "The confidence is defined as:\n",
    "\n",
    "* Number of watchlists containing Movie $M_1$ and $M_2$ divided by watchlists containing $M_1$\n",
    "\n",
    "### Lift\n",
    "\n",
    "Lift is the increase in confidence we have if we use the prior knowledge to increase the values.\n",
    "\n",
    "This is defined as:\n",
    "\n",
    "* Confidence divided by the support.\n",
    "\n",
    "\n",
    "There are a few steps we want to take:\n",
    "* We are wanting to set up a minimum Support and confidence.\n",
    "* Take all of the subsets in transactions having higher support than mimimum suport\n",
    "* Take all the rules of these subsets having higher confidence than minimum confidence\n",
    "* Sort the rules by decreasing lift\n",
    "\n",
    "Let's now do the analysis in Python for a store that sells food, to do this we will import a library required:"
   ],
   "metadata": {
    "collapsed": false
   }
  },
  {
   "cell_type": "code",
   "execution_count": 9,
   "outputs": [],
   "source": [
    "import pandas as pd\n",
    "dataset = pd.read_csv('data\\Market_Basket_Optimisation.csv',header=None)"
   ],
   "metadata": {
    "collapsed": false,
    "pycharm": {
     "name": "#%%\n"
    }
   }
  },
  {
   "cell_type": "markdown",
   "source": [
    "the Function is expecting us to import a list of lists and not the dataframe that we have above:\n",
    "\n",
    "We will do this via two for loops:"
   ],
   "metadata": {
    "collapsed": false
   }
  },
  {
   "cell_type": "code",
   "execution_count": 10,
   "outputs": [],
   "source": [
    "transactions = []\n",
    "for i in range(0,7501):\n",
    "    transactions.append([str(dataset.values[i,j]) for j in range(0,20)])\n",
    "transactions\n",
    "\n",
    "from Library.apyori import apriori\n",
    "\n",
    "rules =  apriori(transactions,min_support=0.003,min_confidence=0.2,min_lift=3,min_length=2)\n"
   ],
   "metadata": {
    "collapsed": false,
    "pycharm": {
     "name": "#%%\n"
    }
   }
  },
  {
   "cell_type": "markdown",
   "source": [
    "Min support and confidence is not fixed and we can adjust it as we see fit and how the final model looks like.\n",
    "\n",
    "We are going to look at items purchased 3 times a day - converted to a week: $3\\times7=21$ we then take this and divide it by the toal sample of 7500.\n",
    "\n",
    "min length is the number of items in the basket.\n",
    "\n",
    "Let's now visulise the results:"
   ],
   "metadata": {
    "collapsed": false
   }
  },
  {
   "cell_type": "code",
   "execution_count": 11,
   "outputs": [
    {
     "data": {
      "text/plain": "                                                 items   support  \\\n0                               (chicken, light cream)  0.004533   \n1                     (escalope, mushroom cream sauce)  0.005733   \n2                                    (escalope, pasta)  0.005866   \n3                               (fromage blanc, honey)  0.003333   \n4                         (ground beef, herb & pepper)  0.015998   \n..                                                 ...       ...   \n149  (frozen vegetables, nan, spaghetti, mineral wa...  0.003066   \n150  (spaghetti, nan, mineral water, olive oil, gro...  0.003066   \n151  (nan, spaghetti, mineral water, tomatoes, grou...  0.003066   \n152   (spaghetti, nan, mineral water, olive oil, milk)  0.003333   \n153    (nan, spaghetti, mineral water, tomatoes, milk)  0.003333   \n\n                                    ordered_statistics  \n0    [((light cream), (chicken), 0.2905982905982905...  \n1    [((mushroom cream sauce), (escalope), 0.300699...  \n2    [((pasta), (escalope), 0.3728813559322034, 4.7...  \n3    [((fromage blanc), (honey), 0.2450980392156863...  \n4    [((herb & pepper), (ground beef), 0.3234501347...  \n..                                                 ...  \n149  [((mineral water, frozen vegetables, nan, spag...  \n150  [((mineral water, spaghetti, nan, olive oil), ...  \n151  [((mineral water, ground beef, nan, tomatoes),...  \n152  [((mineral water, nan, spaghetti, milk), (oliv...  \n153  [((mineral water, nan, spaghetti, milk), (toma...  \n\n[154 rows x 3 columns]",
      "text/html": "<div>\n<style scoped>\n    .dataframe tbody tr th:only-of-type {\n        vertical-align: middle;\n    }\n\n    .dataframe tbody tr th {\n        vertical-align: top;\n    }\n\n    .dataframe thead th {\n        text-align: right;\n    }\n</style>\n<table border=\"1\" class=\"dataframe\">\n  <thead>\n    <tr style=\"text-align: right;\">\n      <th></th>\n      <th>items</th>\n      <th>support</th>\n      <th>ordered_statistics</th>\n    </tr>\n  </thead>\n  <tbody>\n    <tr>\n      <th>0</th>\n      <td>(chicken, light cream)</td>\n      <td>0.004533</td>\n      <td>[((light cream), (chicken), 0.2905982905982905...</td>\n    </tr>\n    <tr>\n      <th>1</th>\n      <td>(escalope, mushroom cream sauce)</td>\n      <td>0.005733</td>\n      <td>[((mushroom cream sauce), (escalope), 0.300699...</td>\n    </tr>\n    <tr>\n      <th>2</th>\n      <td>(escalope, pasta)</td>\n      <td>0.005866</td>\n      <td>[((pasta), (escalope), 0.3728813559322034, 4.7...</td>\n    </tr>\n    <tr>\n      <th>3</th>\n      <td>(fromage blanc, honey)</td>\n      <td>0.003333</td>\n      <td>[((fromage blanc), (honey), 0.2450980392156863...</td>\n    </tr>\n    <tr>\n      <th>4</th>\n      <td>(ground beef, herb &amp; pepper)</td>\n      <td>0.015998</td>\n      <td>[((herb &amp; pepper), (ground beef), 0.3234501347...</td>\n    </tr>\n    <tr>\n      <th>...</th>\n      <td>...</td>\n      <td>...</td>\n      <td>...</td>\n    </tr>\n    <tr>\n      <th>149</th>\n      <td>(frozen vegetables, nan, spaghetti, mineral wa...</td>\n      <td>0.003066</td>\n      <td>[((mineral water, frozen vegetables, nan, spag...</td>\n    </tr>\n    <tr>\n      <th>150</th>\n      <td>(spaghetti, nan, mineral water, olive oil, gro...</td>\n      <td>0.003066</td>\n      <td>[((mineral water, spaghetti, nan, olive oil), ...</td>\n    </tr>\n    <tr>\n      <th>151</th>\n      <td>(nan, spaghetti, mineral water, tomatoes, grou...</td>\n      <td>0.003066</td>\n      <td>[((mineral water, ground beef, nan, tomatoes),...</td>\n    </tr>\n    <tr>\n      <th>152</th>\n      <td>(spaghetti, nan, mineral water, olive oil, milk)</td>\n      <td>0.003333</td>\n      <td>[((mineral water, nan, spaghetti, milk), (oliv...</td>\n    </tr>\n    <tr>\n      <th>153</th>\n      <td>(nan, spaghetti, mineral water, tomatoes, milk)</td>\n      <td>0.003333</td>\n      <td>[((mineral water, nan, spaghetti, milk), (toma...</td>\n    </tr>\n  </tbody>\n</table>\n<p>154 rows × 3 columns</p>\n</div>"
     },
     "execution_count": 11,
     "metadata": {},
     "output_type": "execute_result"
    }
   ],
   "source": [
    "results =list(rules)\n",
    "\n",
    "results = pd.DataFrame(results)\n",
    "results"
   ],
   "metadata": {
    "collapsed": false,
    "pycharm": {
     "name": "#%%\n"
    }
   }
  },
  {
   "cell_type": "markdown",
   "source": [
    "The results will give the two items that are grouped together as well as the confidence or the probability that someone will buy the two items together.\n"
   ],
   "metadata": {
    "collapsed": false
   }
  }
 ],
 "metadata": {
  "kernelspec": {
   "display_name": "Python 3",
   "language": "python",
   "name": "python3"
  },
  "language_info": {
   "codemirror_mode": {
    "name": "ipython",
    "version": 2
   },
   "file_extension": ".py",
   "mimetype": "text/x-python",
   "name": "python",
   "nbconvert_exporter": "python",
   "pygments_lexer": "ipython2",
   "version": "2.7.6"
  }
 },
 "nbformat": 4,
 "nbformat_minor": 0
}