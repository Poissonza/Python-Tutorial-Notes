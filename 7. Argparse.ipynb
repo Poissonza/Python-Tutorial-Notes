{
 "cells": [
  {
   "cell_type": "markdown",
   "metadata": {
    "collapsed": true,
    "pycharm": {
     "name": "#%% md\n"
    }
   },
   "source": [
    "# Argparse"
   ]
  },
  {
   "cell_type": "markdown",
   "source": [
    "## Table of Contents\n",
    "\n",
    " 1. [Introduction](#Introduction)\n",
    " 2. [Concepts](#Concepts)\n",
    " 3. [The Basics](#The_Basics)\n",
    " 4. [Introducing Positional Arguments](#Introducing_Positional_Arguments)\n",
    " 5. [Introducing Optional Arguments](#Introducing_Optional_Arguments)\n",
    " 6. [Short Options](#Short_Options)\n",
    " 7. [Combining Positional and Optional arguments](#Combining_Positional_and_Optional_arguments)\n",
    " 8. [Source](#Source)"
   ],
   "metadata": {
    "collapsed": false,
    "pycharm": {
     "name": "#%% md\n"
    }
   }
  },
  {
   "cell_type": "markdown",
   "source": [
    "## Introduction"
   ],
   "metadata": {
    "collapsed": false
   }
  },
  {
   "cell_type": "markdown",
   "source": [
    "This is a module that offers the capability to parse commands to the command line of a system. There are others that offer this functionality as\n",
    "well but some are outdated."
   ],
   "metadata": {
    "collapsed": false
   }
  },
  {
   "cell_type": "markdown",
   "source": [
    "## Concepts\n",
    "\n",
    "Before we start on the overall module it is important to keep in mind a few easy commands that are avaliable to us in the normal command line that\n",
    "will make it easier to understand the commands in this module.\n",
    "\n",
    " - The ls command is useful when run without any options at all and will only default to showing the contents of the current directory.\n",
    " - We can also go beyond the basic functionality by giving it a bit more information. For instance we may give it a positional argument\n",
    " to display the items in a different directory.\n",
    " - We also have optional arguments that could be parsed to the command. An example of this would be the -l optional argument.\n",
    " - There is also a snippet of help text and can help you understand commands and their arguments."
   ],
   "metadata": {
    "collapsed": false,
    "pycharm": {
     "name": "#%% md\n"
    }
   }
  },
  {
   "cell_type": "markdown",
   "source": [
    "## The Basics"
   ],
   "metadata": {
    "collapsed": false,
    "pycharm": {
     "name": "#%% md\n"
    }
   }
  },
  {
   "cell_type": "markdown",
   "source": [
    "With the first example we will create a program that will do (almost) nothing:\n",
    "\n",
    "    import argparse\n",
    "    parser = argparse.ArgumentParser()\n",
    "    parser.parse_args()\n",
    "\n",
    "The program will be run from the command line with the following commands:\n",
    "\n",
    "    ➜  python prog.py\n",
    "\n",
    "    ➜  python prog.py --help\n",
    "    usage: prog.py [-h]\n",
    "\n",
    "    optional arguments:\n",
    "      -h, --help  show this help message and exit\n",
    "\n",
    "    ➜ python prog.py --verbose\n",
    "    usage: prog.py [-h]\n",
    "    prog.py: error: unrecognized arguments: --verbose\n",
    "\n",
    "    ➜ python prog.py foo\n",
    "    usage: prog.py [-h]\n",
    "    prog.py: error: unrecognized arguments: foo\n",
    "\n",
    "With this program the following will happen:\n",
    "\n",
    " - Running the script without any options will result in nothing displayed to stdout (Not too useful).\n",
    " - The second one will display the usefulness of the argsparse module which although\n",
    " we have not done much we still get a help message.\n",
    " - The help argument (which can also be done with -h) is the only argument that is\n",
    " avaliable to us at the start of the argsparse module."
   ],
   "metadata": {
    "collapsed": false,
    "pycharm": {
     "name": "#%% md\n"
    }
   }
  },
  {
   "cell_type": "markdown",
   "source": [
    "## Introducing Positional Arguments"
   ],
   "metadata": {
    "collapsed": false,
    "pycharm": {
     "name": "#%% md\n"
    }
   }
  },
  {
   "cell_type": "markdown",
   "source": [
    "An Example to start us off on this is the following syntax:\n",
    "\n",
    "    import argparse\n",
    "    parser = argparse.ArgumentParser()\n",
    "    parser.add_argument('echo')\n",
    "    args = parser.parse_args()\n",
    "    print(args.echo)\n",
    "\n",
    "We get the following output from this program:\n",
    "\n",
    "    ➜ python prog.py\n",
    "    usage: prog.py [-h] echo\n",
    "    prog.py: error: the following arguments are required: echo\n",
    "\n",
    "    ➜ python prog.py --help\n",
    "    usage: prog.py [-h] echo\n",
    "\n",
    "    positional arguments:\n",
    "      echo\n",
    "\n",
    "    optional arguments:\n",
    "      -h, --help  show this help message and exit\n",
    "\n",
    "    ➜ python prog.py foo\n",
    "    foo\n",
    "\n",
    "Here is what is happening:\n",
    "\n",
    " - the add_argument method specifies what command line options the program is willing\n",
    " to accept. in this example echo has been added which is used to display a line of text.\n",
    " - Calling the program now requires us to specify an option.\n",
    " - The variable is some form of magic that argparser performs for free (no need to\n",
    " specify which variable the data is stored in) and you will notice that\n",
    " the name matches the string argument given to the method 'echo'.\n",
    "\n",
    "Note that although the help display looks nice and all it is not currently helpful as it can be.\n",
    "For example we can see that echo as a position version but we don't see what it does other than guessing\n",
    "or reading the source code. But we can make this more useful:\n",
    "\n",
    "    import argparse\n",
    "    parser = argparse.ArgumentParser()\n",
    "    parser.add_argument('echo',help='echo the string you use here')\n",
    "    args = parser.parse_args()\n",
    "    print(args.echo)\n",
    "\n",
    "And the result is the following:\n",
    "\n",
    "    ➜ python prog.py -h\n",
    "    usage: prog.py [-h] echo\n",
    "\n",
    "    positional arguments:\n",
    "      echo        echo the string you use here\n",
    "\n",
    "    optional arguments:\n",
    "      -h, --help  show this help message and exit\n",
    "\n",
    "Now let's consider doing something more useful than just displaying the imputted text.\n",
    "\n",
    "    import argparse\n",
    "    parser = argparse.ArgumentParser()\n",
    "    parser.add_argument(\"square\", help=\"display a square of a given number\")\n",
    "    args = parser.parse_args()\n",
    "    print(args.square**2)\n",
    "\n",
    "Which gives us the following output:\n",
    "\n",
    "    ➜ python prog.py 4\n",
    "    Traceback (most recent call last):\n",
    "      File \"prog.py\", line 5, in <module>\n",
    "        print(args.square**2)\n",
    "    TypeError: unsupported operand type(s) for ** or pow(): 'str' and 'int'\n",
    "\n",
    "This did not go well but this is because argparse treats all options given as strings, unless we tell it otherwise,\n",
    "so we can now do the same but make an adjustment to specify the variable type parsed in\n",
    "\n",
    "    import argparse\n",
    "    parser = argparse.ArgumentParser()\n",
    "    parser.add_argument(\"square\",help=\"display a square of a given number\",type=int)\n",
    "    args = parser.parse_args()\n",
    "    print(args.square**2)\n",
    "\n",
    "and now we get the follwing output:\n",
    "\n",
    "    ➜ python prog.py 4\n",
    "    16"
   ],
   "metadata": {
    "collapsed": false,
    "pycharm": {
     "name": "#%% md\n"
    }
   }
  },
  {
   "cell_type": "markdown",
   "source": [
    "## Introducing Optional Arguments"
   ],
   "metadata": {
    "collapsed": false,
    "pycharm": {
     "name": "#%% md\n"
    }
   }
  },
  {
   "cell_type": "markdown",
   "source": [
    "Now that we have worked with positional arguments, it is time to start working with the optional arguments and introducing them to our\n",
    "code:\n",
    "\n",
    "    import argparse\n",
    "    parser = argparse.ArgumentParser()\n",
    "    parser.add_argument(\"--verbosity\", help=\"increase output verbosity\")\n",
    "    args = parser.parse_args()\n",
    "    if args.verbosity:\n",
    "        print(\"verbosity turned on\")\n",
    "\n",
    "With running the new syntax we have the following:\n",
    "\n",
    "    ➜ python prog.py --verbosity 1\n",
    "    verbosity turned on\n",
    "\n",
    "    ➜ python prog.py\n",
    "\n",
    "    ➜ python prog.py --help\n",
    "    usage: prog.py [-h] [--verbosity VERBOSITY]\n",
    "\n",
    "    optional arguments:\n",
    "      -h, --help            show this help message and exit\n",
    "      --verbosity VERBOSITY\n",
    "                            increase output verbosity\n",
    "\n",
    "    ➜ python prog.py --verbosity\n",
    "    usage: prog.py [-h] [--verbosity VERBOSITY]\n",
    "    prog.py: error: argument --verbosity: expected one argument\n",
    "\n",
    "The following is happening in the program now:\n",
    "\n",
    " - The code is written to display something when --verbosity is specified\n",
    " and to not display anything if it is not.\n",
    " - To show that the option is actually optional, there is no error when running the program without it.\n",
    " By default if an optional variable is not used the *args.verbosity* is given none for the conditional\n",
    " statement so it does not pass.\n",
    " - the help message is a bit different\n",
    " - When using the *--verbosity* it is required to specify a value.\n",
    "\n",
    "The above program accepts an arbitary value for *--verbosity* but infact with our\n",
    "simple program only requires two values: True or False, so let's modify the code accordingly.\n",
    "\n",
    "    import argparse\n",
    "    parser = argparse.ArgumentParser()\n",
    "    parser.add_argument('--verbosity',help='increase output verbosity',action='store_true')\n",
    "    args = parser.parse_args()\n",
    "    if args.verbosity:\n",
    "        print('Increasing the verbosity')\n",
    "\n",
    "With this modification let's see the outcome:\n",
    "\n",
    "    ➜ python prog.py --verbosity\n",
    "    Increasing the verbosity\n",
    "\n",
    "    ➜ python prog.py --verbosity 1\n",
    "    usage: prog.py [-h] [--verbosity]\n",
    "    prog.py: error: unrecognized arguments: 1\n",
    "\n",
    "    ➜ python prog.py --help\n",
    "    usage: prog.py [-h] [--verbosity]\n",
    "\n",
    "    optional arguments:\n",
    "      -h, --help   show this help message and exit\n",
    "      --verbosity  increase output verbosity\n",
    " and the outcome for the output is the following:\n",
    "\n",
    "  - The option is now more of a flag then something that requires a value, this was\n",
    "  done by specifying the keyword *action* and give the action *store_true*.\n",
    "  - It complains when you specify a value to the argument\n",
    "  - Notice the difference in the help text."
   ],
   "metadata": {
    "collapsed": false,
    "pycharm": {
     "name": "#%% md\n"
    }
   }
  },
  {
   "cell_type": "markdown",
   "source": [
    "## Short Options"
   ],
   "metadata": {
    "collapsed": false,
    "pycharm": {
     "name": "#%% md\n"
    }
   }
  },
  {
   "cell_type": "markdown",
   "source": [
    "In the command line there is also short versions of the options, we can include these within our arguments when we setup the\n",
    "short versions in a simple way:\n",
    "\n",
    "    import argparse\n",
    "    parser = argparse.ArgumentParser()\n",
    "    parser.add_argument(\"-v\",\"--verbosity\",help = 'Increase the verbosity',action='store_true')\n",
    "    args = parser.parse_args()\n",
    "    if args.verbosity:\n",
    "        print('Increasing the verbosity')\n",
    "\n",
    "Let's see the results of this:\n",
    "\n",
    "    ➜ python prog.py -v\n",
    "    Increasing the verbosity\n",
    "\n",
    "    ➜ python prog.py --verbosity\n",
    "    Increasing the verbosity\n",
    "\n",
    "    ➜ python prog.py --help\n",
    "    usage: prog.py [-h] [-v]\n",
    "\n",
    "    optional arguments:\n",
    "      -h, --help       show this help message and exit\n",
    "      -v, --verbosity  Increase the verbosity\n",
    "\n",
    "With the changes we can see the following:\n",
    " - We get the same results from the short version and the long version of the call\n",
    " - the help has also been updted to reflect the change."
   ],
   "metadata": {
    "collapsed": false,
    "pycharm": {
     "name": "#%% md\n"
    }
   }
  },
  {
   "cell_type": "markdown",
   "source": [
    "## Combining Positional and Optional arguments"
   ],
   "metadata": {
    "collapsed": false,
    "pycharm": {
     "name": "#%% md\n"
    }
   }
  },
  {
   "cell_type": "markdown",
   "source": [
    "As we go along we start to grow the small program into something more complex, one of the ways to do this is to add\n",
    "more than just one argument at a time:\n",
    "\n",
    "    import argparse\n",
    "    parser = argparse.ArgumentParser()\n",
    "    parser.add_argument('Square',help='display a square of a given number',type=int)\n",
    "    parser.add_argument('-v','--verbosity',help='Increase the Verbosity',action='store_true')\n",
    "    args = parser.parse_args()\n",
    "    answer = args.Square**2\n",
    "    if args.verbosity:\n",
    "        print(f\"The Square of {args.Square} is equal to {answer}\")\n",
    "    else:\n",
    "        print(answer)\n",
    "\n",
    "We can now see how the program has been improved to work with all the options given:\n",
    "\n",
    "    ➜ python prog.py 6\n",
    "    36\n",
    "\n",
    "    ➜ python prog.py 6 -v\n",
    "    The Square of 6 is equal to 36\n",
    "\n",
    "    ➜ python prog.py --help\n",
    "    usage: prog.py [-h] [-v] Square\n",
    "\n",
    "    positional arguments:\n",
    "      Square           display a square of a given number\n",
    "\n",
    "    optional arguments:\n",
    "      -h, --help       show this help message and exit\n",
    "      -v, --verbosity  Increase the Verbosity\n",
    "\n",
    "    ➜ python prog.py --verbosity 6\n",
    "    The Square of 6 is equal to 36\n",
    "\n",
    "With some key items to note:\n",
    "\n",
    " - the positional argument has been brought back hence the requirement to have some input\n",
    " - The order does not matter.\n",
    "\n",
    "let's have a look at an example where we bring back inputting values using the optional argument\n",
    "\n",
    "    import argparse\n",
    "    parser = argparse.ArgumentParser()\n",
    "    parser.add_argument('Square',help='display the square of a given number',type=int)\n",
    "    parser.add_argument('-v','--verbosity',help='decide on how the output should look',type=int)\n",
    "    args = parser.parse_args()\n",
    "    answer = args.Square**2\n",
    "    if args.verbosity==1:\n",
    "        print(f'The square of {args.Square} is equal to {answer}')\n",
    "    elif args.verbosity==2:\n",
    "        print(f'The value of {args.Square}^2 is equal to {answer}')\n",
    "    else:\n",
    "        print(answer)\n",
    "\n",
    "This will produce the following output when we run the command line again:\n",
    "\n",
    "    ➜ python prog.py 4\n",
    "    16\n",
    "\n",
    "    ➜ python prog.py 4 -v\n",
    "    usage: prog.py [-h] [-v VERBOSITY] Square\n",
    "    prog.py: error: argument -v/--verbosity: expected one argument\n",
    "\n",
    "    ➜ python prog.py 4 -v 1\n",
    "    The square of 4 is equal to 16\n",
    "\n",
    "    ➜ python prog.py 4 -v 2\n",
    "    The value of 4^2 is equal to 16\n",
    "\n",
    "    ➜  Python-Tutorial-Notes git:(PathlibNotes) ✗ python prog.py 4 -v 3\n",
    "    16\n",
    "\n",
    "These all look good except a slight issue in the code which is in the last one which is\n",
    "the output if any value that is not 1 and 2 is parsed in. this can be fixed with the following code:\n",
    "\n",
    "    import argparse\n",
    "    parser = argparse.ArgumentParser()\n",
    "    parser.add_argument('Square',help='display the square of a given number',type=int)\n",
    "    parser.add_argument('-v','--verbosity',help='decide on how the output should look',type=int,choices=[0,1,2])\n",
    "    args = parser.parse_args()\n",
    "    answer = args.Square**2\n",
    "    if args.verbosity==1:\n",
    "        print(f'The square of {args.Square} is equal to {answer}')\n",
    "    elif args.verbosity==2:\n",
    "        print(f'The value of {args.Square}^2 is equal to {answer}')\n",
    "    else:\n",
    "        print(answer)\n",
    "\n",
    "with the following output:\n",
    "\n",
    "    ➜ python prog.py 4 -v 3\n",
    "    usage: prog.py [-h] [-v {0,1,2}] Square\n",
    "    prog.py: error: argument -v/--verbosity: invalid choice: 3 (choose from 0, 1, 2)\n",
    "\n",
    "    ➜ python prog.py 4 -h\n",
    "    usage: prog.py [-h] [-v {0,1,2}] Square\n",
    "\n",
    "    positional arguments:\n",
    "      Square                display the square of a given number\n",
    "\n",
    "    optional arguments:\n",
    "      -h, --help            show this help message and exit\n",
    "      -v {0,1,2}, --verbosity {0,1,2}\n",
    "                            decide on how the output should look\n",
    "\n",
    "\n",
    "As we can see the command line will throw an error if a value that is outside of the choice set is parsed and\n",
    "the help section has been updated to reflect the changes.\n",
    "\n",
    "With the previous example we required the user to input the verbosity value that they wanted to use, what happens if we\n",
    "trying doing this with a new action called *count*:\n",
    "\n",
    "    import argparse\n",
    "    parser = argparse.ArgumentParser()\n",
    "    parser.add_argument('Square',help='display the square of a given number',type=int)\n",
    "    parser.add_argument('-v','--verbosity',help='decide on how the output should look',action='count')\n",
    "    args = parser.parse_args()\n",
    "    answer = args.Square**2\n",
    "    if args.verbosity==1:\n",
    "        print(f'The square of {args.Square} is equal to {answer}')\n",
    "    elif args.verbosity==2:\n",
    "        print(f'The value of {args.Square}^2 is equal to {answer}')\n",
    "    else:\n",
    "        print(answer)\n",
    "\n",
    "This will allow us to run the following command lines with the output:\n",
    "\n",
    "    ➜ python prog.py 4\n",
    "    16\n",
    "\n",
    "    ➜ python prog.py 4 -v\n",
    "    The square of 4 is equal to 16\n",
    "\n",
    "    ➜ python prog.py 4 -v -v\n",
    "    The value of 4^2 is equal to 16\n",
    "\n",
    "    ➜ python prog.py 4 -vv\n",
    "    The value of 4^2 is equal to 16\n",
    "\n",
    "    ➜ python prog.py 4 --help\n",
    "    usage: prog.py [-h] [-v] Square\n",
    "\n",
    "    positional arguments:\n",
    "      Square           display the square of a given number\n",
    "\n",
    "    optional arguments:\n",
    "      -h, --help       show this help message and exit\n",
    "      -v, --verbosity  decide on how the output should look\n",
    "\n",
    "From this we can see the following:\n",
    " - the optional argument is now more like a flag just like when we used *store_true*\n",
    " - if the *-v* is not specified then it is regarded as none.\n",
    " - Sadly the help is not too useful in terms of what can be expected and how many of the arguments can be passed.\n",
    " - if we include more than 2 arguments then again it will be a \"bug\" in the program.\n",
    " - the solution to this is to use an argument in the conditional statement of >=2 instead of ==2 and set a default value of\n",
    " 0 to the verbosity argument."
   ],
   "metadata": {
    "collapsed": false,
    "pycharm": {
     "name": "#%% md\n"
    }
   }
  },
  {
   "cell_type": "markdown",
   "source": [
    "## Source"
   ],
   "metadata": {
    "collapsed": false,
    "pycharm": {
     "name": "#%% md\n"
    }
   }
  },
  {
   "cell_type": "markdown",
   "source": [
    "https://docs.python.org/3/howto/argparse.html"
   ],
   "metadata": {
    "collapsed": false,
    "pycharm": {
     "name": "#%% md\n"
    }
   }
  }
 ],
 "metadata": {
  "kernelspec": {
   "display_name": "Python 3",
   "language": "python",
   "name": "python3"
  },
  "language_info": {
   "codemirror_mode": {
    "name": "ipython",
    "version": 2
   },
   "file_extension": ".py",
   "mimetype": "text/x-python",
   "name": "python",
   "nbconvert_exporter": "python",
   "pygments_lexer": "ipython2",
   "version": "2.7.6"
  }
 },
 "nbformat": 4,
 "nbformat_minor": 0
}