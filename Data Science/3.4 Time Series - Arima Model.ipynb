{
 "cells": [
  {
   "cell_type": "markdown",
   "metadata": {
    "collapsed": true,
    "pycharm": {
     "name": "#%% md\n"
    }
   },
   "source": [
    "#Arima Theory:\n",
    "\n",
    "There are three components for the Arima model p,q,d,\n",
    "\n",
    "p for the AR - which is the new y variable is regressed on it's prior y values\n",
    "d - data values have been replaced by their difference to get this stationary.\n",
    "q - Moving Average indicates the regression error is a linear combination of the error terms.(Uses dependency between observation and prior noise) (Regression on the Error Component)\n",
    "\n",
    "## Choosing Arima Orders:\n",
    "\n",
    "Method 1:\n",
    "\n",
    "Using the ACF and PACF:\n",
    "\n",
    "It is usually common on only include on side of the ARIMA model and not booth/\n",
    "\n",
    "If ACF shows positive at lag 1 then it is suggested to use the AR terms in relation to the lag.\n",
    "\n",
    "If ACF shows negative at lag 1 then we should use MA terms.\n",
    "\n",
    "PACF - a sharp drop after lag k suggests an AR(k) should be used). A grandual decline suggests an MA model instead.\n",
    "\n",
    "Identification of MA model is usually done better with the ACF and not only the PACF.\n",
    "\n",
    "Method 2:\n",
    "\n",
    "Using a grid search rather than a graphical look at the data - rather search over the full data sets and then see how the model fits best.\n",
    "\n",
    "we will use pyramid Arima model function to make our selections:"
   ]
  },
  {
   "cell_type": "code",
   "execution_count": 10,
   "outputs": [
    {
     "name": "stdout",
     "output_type": "stream",
     "text": [
      "Performing stepwise search to minimize aic\n",
      "Fit ARIMA(2,1,2)x(0,0,0,0) [intercept=True]; AIC=2463.035, BIC=2486.418, Time=0.684 seconds\n",
      "Fit ARIMA(0,1,0)x(0,0,0,0) [intercept=True]; AIC=2650.760, BIC=2658.555, Time=0.014 seconds\n",
      "Fit ARIMA(1,1,0)x(0,0,0,0) [intercept=True]; AIC=2565.234, BIC=2576.925, Time=0.049 seconds\n",
      "Fit ARIMA(0,1,1)x(0,0,0,0) [intercept=True]; AIC=2463.584, BIC=2475.275, Time=0.080 seconds\n",
      "Fit ARIMA(0,1,0)x(0,0,0,0) [intercept=False]; AIC=2648.768, BIC=2652.665, Time=0.014 seconds\n",
      "Fit ARIMA(1,1,2)x(0,0,0,0) [intercept=True]; AIC=2460.770, BIC=2480.256, Time=0.523 seconds\n",
      "Near non-invertible roots for order (1, 1, 2)(0, 0, 0, 0); setting score to inf (at least one inverse root too close to the border of the unit circle: 0.996)\n",
      "Fit ARIMA(2,1,1)x(0,0,0,0) [intercept=True]; AIC=2461.271, BIC=2480.757, Time=0.219 seconds\n",
      "Fit ARIMA(1,1,1)x(0,0,0,0) [intercept=True]; AIC=2460.154, BIC=2475.743, Time=0.181 seconds\n",
      "Fit ARIMA(0,1,2)x(0,0,0,0) [intercept=True]; AIC=2460.722, BIC=2476.311, Time=0.188 seconds\n",
      "Fit ARIMA(2,1,0)x(0,0,0,0) [intercept=True]; AIC=2536.154, BIC=2551.742, Time=0.136 seconds\n",
      "Total fit time: 2.104 seconds\n"
     ]
    },
    {
     "data": {
      "text/plain": "<class 'statsmodels.iolib.summary.Summary'>\n\"\"\"\n                               SARIMAX Results                                \n==============================================================================\nDep. Variable:                      y   No. Observations:                  365\nModel:               SARIMAX(1, 1, 1)   Log Likelihood               -1226.077\nDate:                Sun, 21 Jun 2020   AIC                           2460.154\nTime:                        19:06:57   BIC                           2475.743\nSample:                             0   HQIC                          2466.350\n                                - 365                                         \nCovariance Type:                  opg                                         \n==============================================================================\n                 coef    std err          z      P>|z|      [0.025      0.975]\n------------------------------------------------------------------------------\nintercept      0.0132      0.014      0.975      0.330      -0.013       0.040\nar.L1          0.1299      0.059      2.217      0.027       0.015       0.245\nma.L1         -0.9694      0.016    -62.235      0.000      -1.000      -0.939\nsigma2        48.9989      3.432     14.279      0.000      42.273      55.725\n===================================================================================\nLjung-Box (Q):                       36.69   Jarque-Bera (JB):                26.17\nProb(Q):                              0.62   Prob(JB):                         0.00\nHeteroskedasticity (H):               0.97   Skew:                             0.58\nProb(H) (two-sided):                  0.85   Kurtosis:                         3.62\n===================================================================================\n\nWarnings:\n[1] Covariance matrix calculated using the outer product of gradients (complex-step).\n\"\"\"",
      "text/html": "<table class=\"simpletable\">\n<caption>SARIMAX Results</caption>\n<tr>\n  <th>Dep. Variable:</th>           <td>y</td>        <th>  No. Observations:  </th>    <td>365</td>   \n</tr>\n<tr>\n  <th>Model:</th>           <td>SARIMAX(1, 1, 1)</td> <th>  Log Likelihood     </th> <td>-1226.077</td>\n</tr>\n<tr>\n  <th>Date:</th>            <td>Sun, 21 Jun 2020</td> <th>  AIC                </th> <td>2460.154</td> \n</tr>\n<tr>\n  <th>Time:</th>                <td>19:06:57</td>     <th>  BIC                </th> <td>2475.743</td> \n</tr>\n<tr>\n  <th>Sample:</th>                  <td>0</td>        <th>  HQIC               </th> <td>2466.350</td> \n</tr>\n<tr>\n  <th></th>                      <td> - 365</td>      <th>                     </th>     <td> </td>    \n</tr>\n<tr>\n  <th>Covariance Type:</th>        <td>opg</td>       <th>                     </th>     <td> </td>    \n</tr>\n</table>\n<table class=\"simpletable\">\n<tr>\n      <td></td>         <th>coef</th>     <th>std err</th>      <th>z</th>      <th>P>|z|</th>  <th>[0.025</th>    <th>0.975]</th>  \n</tr>\n<tr>\n  <th>intercept</th> <td>    0.0132</td> <td>    0.014</td> <td>    0.975</td> <td> 0.330</td> <td>   -0.013</td> <td>    0.040</td>\n</tr>\n<tr>\n  <th>ar.L1</th>     <td>    0.1299</td> <td>    0.059</td> <td>    2.217</td> <td> 0.027</td> <td>    0.015</td> <td>    0.245</td>\n</tr>\n<tr>\n  <th>ma.L1</th>     <td>   -0.9694</td> <td>    0.016</td> <td>  -62.235</td> <td> 0.000</td> <td>   -1.000</td> <td>   -0.939</td>\n</tr>\n<tr>\n  <th>sigma2</th>    <td>   48.9989</td> <td>    3.432</td> <td>   14.279</td> <td> 0.000</td> <td>   42.273</td> <td>   55.725</td>\n</tr>\n</table>\n<table class=\"simpletable\">\n<tr>\n  <th>Ljung-Box (Q):</th>          <td>36.69</td> <th>  Jarque-Bera (JB):  </th> <td>26.17</td>\n</tr>\n<tr>\n  <th>Prob(Q):</th>                <td>0.62</td>  <th>  Prob(JB):          </th> <td>0.00</td> \n</tr>\n<tr>\n  <th>Heteroskedasticity (H):</th> <td>0.97</td>  <th>  Skew:              </th> <td>0.58</td> \n</tr>\n<tr>\n  <th>Prob(H) (two-sided):</th>    <td>0.85</td>  <th>  Kurtosis:          </th> <td>3.62</td> \n</tr>\n</table><br/><br/>Warnings:<br/>[1] Covariance matrix calculated using the outer product of gradients (complex-step)."
     },
     "execution_count": 10,
     "metadata": {},
     "output_type": "execute_result"
    }
   ],
   "source": [
    "import pandas as pd\n",
    "import numpy as np\n",
    "%matplotlib inline\n",
    "\n",
    "df1 = pd.read_csv('data\\\\Time Series\\\\airline_passengers.csv',index_col='Month',parse_dates=True)\n",
    "df1.index.freq='MS'\n",
    "\n",
    "df2 = pd.read_csv('data\\\\Time Series\\\\DailyTotalFemaleBirths.csv',index_col='Date',parse_dates=True)\n",
    "df2.index.freq='D'\n",
    "\n",
    "from pmdarima import auto_arima\n",
    "#Need to install pmdarima...\n",
    "import warnings\n",
    "warnings.filterwarnings('ignore')\n",
    "auto_arima(df2['Births'],seasonal=False,trace=True).summary()"
   ],
   "metadata": {
    "collapsed": false,
    "pycharm": {
     "name": "#%%\n"
    }
   }
  },
  {
   "cell_type": "markdown",
   "source": [
    "## ARIMA models"
   ],
   "metadata": {
    "collapsed": false,
    "pycharm": {
     "name": "#%% md\n"
    }
   }
  },
  {
   "cell_type": "code",
   "execution_count": null,
   "outputs": [],
   "source": [
    "from statsmodels.tsa.arima_model import ARIMA,ARMA,ARIMAResults,ARMAResults\n",
    "from statsmodels.graphics.tsaplots import plot_acf,plot_pacf"
   ],
   "metadata": {
    "collapsed": false,
    "pycharm": {
     "name": "#%%\n"
    }
   }
  },
  {
   "cell_type": "markdown",
   "source": [
    "##FItting ARMA Model:"
   ],
   "metadata": {
    "collapsed": false,
    "pycharm": {
     "name": "#%% md\n"
    }
   }
  },
  {
   "cell_type": "code",
   "execution_count": null,
   "outputs": [],
   "source": [],
   "metadata": {
    "collapsed": false,
    "pycharm": {
     "name": "#%%\n"
    }
   }
  }
 ],
 "metadata": {
  "kernelspec": {
   "display_name": "Python 3",
   "language": "python",
   "name": "python3"
  },
  "language_info": {
   "codemirror_mode": {
    "name": "ipython",
    "version": 2
   },
   "file_extension": ".py",
   "mimetype": "text/x-python",
   "name": "python",
   "nbconvert_exporter": "python",
   "pygments_lexer": "ipython2",
   "version": "2.7.6"
  }
 },
 "nbformat": 4,
 "nbformat_minor": 0
}