{
 "cells": [
  {
   "cell_type": "markdown",
   "metadata": {
    "collapsed": true,
    "pycharm": {
     "name": "#%% md\n"
    }
   },
   "source": [
    "# Machine Learning with SKLearn and Python"
   ]
  },
  {
   "cell_type": "markdown",
   "source": [
    "Once we have gotten ourselves acquainted with python and use of Pandas to work we data we are ready to work with a few of the libraries in Python to make predictions.\n",
    "\n",
    "In Machine learning we will be looking at Supervised and unsupervised models as well as Regressors and Classifyers.\n",
    "\n",
    "For Regressors there are the following methods avaliable:\n",
    "\n",
    "* Simple Linear Regression\n",
    "* Multiple Linear Regression\n",
    "* Polynomial Regression\n",
    "* KNN\n",
    "* Decision Tree's\n",
    "* Random Forest\n",
    "* SVM\n",
    "\n",
    "For the Classifiers we will look at:\n",
    "\n",
    "* Logistic Regression\n",
    "* KNN\n",
    "* Decision Trees\n",
    "* Random Forest\n",
    "* SVM\n",
    "* Kernel SVM\n",
    "* Naive Bayes\n",
    "\n",
    "For all of the methods that we will be looking at we will need to load in a relevant data set and also import the correct classifier to make the prediction and fit the data."
   ],
   "metadata": {
    "collapsed": false
   }
  },
  {
   "cell_type": "markdown",
   "source": [
    "## Regression vs Classification\n",
    "\n",
    "The best way to think about the differences is the final outcome. With a Regressor we have a numerical value that we are trying to predict so the values could be anything between a maximum and a minimum value (For instance price or Mark Achieved), with Classification we are predicting a categorical varaible (So a variable in which you have to fit one of multiple predescribed classes (Gender or age group for instance)."
   ],
   "metadata": {
    "collapsed": false
   }
  },
  {
   "cell_type": "markdown",
   "source": [
    "# Regressors:\n",
    "## Simple linear Regression"
   ],
   "metadata": {
    "collapsed": false
   }
  },
  {
   "cell_type": "markdown",
   "source": [
    "Simple linear regression is the most simple form of a regression model, this model we are predicting our dependend variable $Y$ with only a single independent variable $X$.\n",
    "\n",
    "If we were to look at the overall function we are fitting we have the following $y=b_0 + b_1x_1$. \n",
    "\n",
    "In this example we have data on the salary of an employee and their years of experience. We will be using this information to see if we can predict the Salary they should Achieve.\n",
    "\n",
    "\n",
    "The first part is the import of the data to use it:"
   ],
   "metadata": {
    "collapsed": false
   }
  },
  {
   "cell_type": "code",
   "execution_count": 1,
   "outputs": [],
   "source": [
    "import pandas as pd\n",
    "\n",
    "dataset = pd.read_csv('data\\\\Salary_Data.csv')\n",
    "x = dataset.iloc[:,0].values\n",
    "y = dataset.iloc[:,1].values"
   ],
   "metadata": {
    "collapsed": false,
    "pycharm": {
     "name": "#%%\n",
     "is_executing": false
    }
   }
  },
  {
   "cell_type": "markdown",
   "source": [
    "As we only have $n=30$ we will not split the sample into a train and test set.  \n",
    "\n",
    "now that we have the dataset imported we can import the regresor and make our first prediction model:"
   ],
   "metadata": {
    "collapsed": false,
    "pycharm": {
     "name": "#%% md\n"
    }
   }
  },
  {
   "cell_type": "code",
   "execution_count": 2,
   "outputs": [
    {
     "data": {
      "text/plain": "LinearRegression(copy_X=True, fit_intercept=True, n_jobs=None, normalize=False)"
     },
     "metadata": {},
     "output_type": "execute_result",
     "execution_count": 2
    }
   ],
   "source": [
    "from sklearn.linear_model import LinearRegression\n",
    "slregressor = LinearRegression()\n",
    "slregressor.fit(x.reshape(-1,1),y)"
   ],
   "metadata": {
    "collapsed": false,
    "pycharm": {
     "name": "#%%\n",
     "is_executing": false
    }
   }
  },
  {
   "cell_type": "markdown",
   "source": [
    "We have now fitted the model.\n",
    "\n",
    "All of the information relating to the fitted model is contained in the instance we have created of the LinearRegression object.\n",
    "\n",
    "Let's have a look at some of the variables we can obtain from this fitted model:"
   ],
   "metadata": {
    "collapsed": false,
    "pycharm": {
     "name": "#%% md\n"
    }
   }
  },
  {
   "cell_type": "code",
   "execution_count": 3,
   "outputs": [
    {
     "name": "stdout",
     "text": [
      "Intercept: 25792.20019866871\n",
      "Coefficient: [9449.96232146]\n"
     ],
     "output_type": "stream"
    }
   ],
   "source": [
    "print(\"Intercept: \" + str(slregressor.intercept_))\n",
    "print(\"Coefficient: \" + str(slregressor.coef_))"
   ],
   "metadata": {
    "collapsed": false,
    "pycharm": {
     "name": "#%%\n",
     "is_executing": false
    }
   }
  },
  {
   "cell_type": "markdown",
   "source": [
    "This is certainly not the output that most people are used to as we are not getting a single output will all of the details we need but rather we need to call up the individual items we require. This may not be what we are expecting but we will be looking at a different library later that will provide similar output to what we are used to.\n",
    "\n",
    "Now that we have fitted the model let's start by running some predictions using the model:"
   ],
   "metadata": {
    "collapsed": false,
    "pycharm": {
     "name": "#%% md\n"
    }
   }
  },
  {
   "cell_type": "code",
   "execution_count": 4,
   "outputs": [
    {
     "data": {
      "text/plain": "array([87216.95528813])"
     },
     "metadata": {},
     "output_type": "execute_result",
     "execution_count": 4
    }
   ],
   "source": [
    "slregressor.predict([[6.5]])"
   ],
   "metadata": {
    "collapsed": false,
    "pycharm": {
     "name": "#%%\n",
     "is_executing": false
    }
   }
  },
  {
   "cell_type": "markdown",
   "source": [
    "We can now say that a person with 6.5 years worth of experience should be earning a salary of 87 217. But we may not always want to predict a single item, so let's plot the line we have fitted to the data:"
   ],
   "metadata": {
    "collapsed": false,
    "pycharm": {
     "name": "#%% md\n"
    }
   }
  },
  {
   "cell_type": "code",
   "execution_count": 5,
   "outputs": [
    {
     "data": {
      "text/plain": "Text(0.5, 1.0, 'Expected Salary based on years of experience')"
     },
     "metadata": {},
     "output_type": "execute_result",
     "execution_count": 5
    },
    {
     "data": {
      "text/plain": "<Figure size 432x288 with 1 Axes>",
      "image/png": "[encoded data removed]"
     },
     "metadata": {
      "needs_background": "light"
     },
     "output_type": "display_data"
    }
   ],
   "source": [
    "import matplotlib.pyplot as plt\n",
    "\n",
    "plt.scatter(x,y,color='black')\n",
    "plt.plot(x,slregressor.predict(x.reshape(-1,1)))\n",
    "plt.xlabel(\"Years of Experience\")\n",
    "plt.ylabel(\"Salary\")\n",
    "plt.title(\"Expected Salary based on years of experience\")"
   ],
   "metadata": {
    "collapsed": false,
    "pycharm": {
     "name": "#%%\n",
     "is_executing": false
    }
   }
  },
  {
   "cell_type": "markdown",
   "source": [
    "This was simple enough and we can see the overall graph that was fitted. But we won't always have just one independent variable and will need to look at an example with more independents.\n",
    "\n",
    "## Multiple Linear Regression\n",
    "\n",
    "This method is very similar to the simple Linear Regression where we are fitting a straight line to the data however the big difference is the number of independent varables that we have in the model to predict the data, so the function now looks like this:\n",
    "\n",
    " - $Y=b_0 + b_1 x_1 + b_2 x_2 + ... + b_n x_n$\n",
    " \n",
    " In our example for Multiple linear regression we will be predicting the profit of a company based on R & D Spend, Administration, Marketing Spend and the state.\n",
    " \n",
    " We will need to do a bit of data clean up as we can't insert text into the model for prediction (So will need to create dummy variables.\n",
    " "
   ],
   "metadata": {
    "collapsed": false,
    "pycharm": {
     "name": "#%% md\n"
    }
   }
  },
  {
   "cell_type": "code",
   "execution_count": 11,
   "outputs": [
    {
     "data": {
      "text/plain": "    R&D Spend  Administration  Marketing Spend  California  Florida\n0   165349.20       136897.80        471784.10           0        0\n1   162597.70       151377.59        443898.53           1        0\n2   153441.51       101145.55        407934.54           0        1\n3   144372.41       118671.85        383199.62           0        0\n4   142107.34        91391.77        366168.42           0        1\n5   131876.90        99814.71        362861.36           0        0\n6   134615.46       147198.87        127716.82           1        0\n7   130298.13       145530.06        323876.68           0        1\n8   120542.52       148718.95        311613.29           0        0\n9   123334.88       108679.17        304981.62           1        0\n10  101913.08       110594.11        229160.95           0        1\n11  100671.96        91790.61        249744.55           1        0\n12   93863.75       127320.38        249839.44           0        1\n13   91992.39       135495.07        252664.93           1        0\n14  119943.24       156547.42        256512.92           0        1\n15  114523.61       122616.84        261776.23           0        0\n16   78013.11       121597.55        264346.06           1        0\n17   94657.16       145077.58        282574.31           0        0\n18   91749.16       114175.79        294919.57           0        1\n19   86419.70       153514.11             0.00           0        0\n20   76253.86       113867.30        298664.47           1        0\n21   78389.47       153773.43        299737.29           0        0\n22   73994.56       122782.75        303319.26           0        1\n23   67532.53       105751.03        304768.73           0        1\n24   77044.01        99281.34        140574.81           0        0\n25   64664.71       139553.16        137962.62           1        0\n26   75328.87       144135.98        134050.07           0        1\n27   72107.60       127864.55        353183.81           0        0\n28   66051.52       182645.56        118148.20           0        1\n29   65605.48       153032.06        107138.38           0        0\n30   61994.48       115641.28         91131.24           0        1\n31   61136.38       152701.92         88218.23           0        0\n32   63408.86       129219.61         46085.25           1        0\n33   55493.95       103057.49        214634.81           0        1\n34   46426.07       157693.92        210797.67           1        0\n35   46014.02        85047.44        205517.64           0        0\n36   28663.76       127056.21        201126.82           0        1\n37   44069.95        51283.14        197029.42           1        0\n38   20229.59        65947.93        185265.10           0        0\n39   38558.51        82982.09        174999.30           1        0\n40   28754.33       118546.05        172795.67           1        0\n41   27892.92        84710.77        164470.71           0        1\n42   23640.93        96189.63        148001.11           1        0\n43   15505.73       127382.30         35534.17           0        0\n44   22177.74       154806.14         28334.72           1        0\n45    1000.23       124153.04          1903.93           0        0\n46    1315.46       115816.21        297114.46           0        1\n47       0.00       135426.92             0.00           1        0\n48     542.05        51743.15             0.00           0        0\n49       0.00       116983.80         45173.06           1        0",
      "text/html": "<div>\n<style scoped>\n    .dataframe tbody tr th:only-of-type {\n        vertical-align: middle;\n    }\n\n    .dataframe tbody tr th {\n        vertical-align: top;\n    }\n\n    .dataframe thead th {\n        text-align: right;\n    }\n</style>\n<table border=\"1\" class=\"dataframe\">\n  <thead>\n    <tr style=\"text-align: right;\">\n      <th></th>\n      <th>R&amp;D Spend</th>\n      <th>Administration</th>\n      <th>Marketing Spend</th>\n      <th>California</th>\n      <th>Florida</th>\n    </tr>\n  </thead>\n  <tbody>\n    <tr>\n      <th>0</th>\n      <td>165349.20</td>\n      <td>136897.80</td>\n      <td>471784.10</td>\n      <td>0</td>\n      <td>0</td>\n    </tr>\n    <tr>\n      <th>1</th>\n      <td>162597.70</td>\n      <td>151377.59</td>\n      <td>443898.53</td>\n      <td>1</td>\n      <td>0</td>\n    </tr>\n    <tr>\n      <th>2</th>\n      <td>153441.51</td>\n      <td>101145.55</td>\n      <td>407934.54</td>\n      <td>0</td>\n      <td>1</td>\n    </tr>\n    <tr>\n      <th>3</th>\n      <td>144372.41</td>\n      <td>118671.85</td>\n      <td>383199.62</td>\n      <td>0</td>\n      <td>0</td>\n    </tr>\n    <tr>\n      <th>4</th>\n      <td>142107.34</td>\n      <td>91391.77</td>\n      <td>366168.42</td>\n      <td>0</td>\n      <td>1</td>\n    </tr>\n    <tr>\n      <th>5</th>\n      <td>131876.90</td>\n      <td>99814.71</td>\n      <td>362861.36</td>\n      <td>0</td>\n      <td>0</td>\n    </tr>\n    <tr>\n      <th>6</th>\n      <td>134615.46</td>\n      <td>147198.87</td>\n      <td>127716.82</td>\n      <td>1</td>\n      <td>0</td>\n    </tr>\n    <tr>\n      <th>7</th>\n      <td>130298.13</td>\n      <td>145530.06</td>\n      <td>323876.68</td>\n      <td>0</td>\n      <td>1</td>\n    </tr>\n    <tr>\n      <th>8</th>\n      <td>120542.52</td>\n      <td>148718.95</td>\n      <td>311613.29</td>\n      <td>0</td>\n      <td>0</td>\n    </tr>\n    <tr>\n      <th>9</th>\n      <td>123334.88</td>\n      <td>108679.17</td>\n      <td>304981.62</td>\n      <td>1</td>\n      <td>0</td>\n    </tr>\n    <tr>\n      <th>10</th>\n      <td>101913.08</td>\n      <td>110594.11</td>\n      <td>229160.95</td>\n      <td>0</td>\n      <td>1</td>\n    </tr>\n    <tr>\n      <th>11</th>\n      <td>100671.96</td>\n      <td>91790.61</td>\n      <td>249744.55</td>\n      <td>1</td>\n      <td>0</td>\n    </tr>\n    <tr>\n      <th>12</th>\n      <td>93863.75</td>\n      <td>127320.38</td>\n      <td>249839.44</td>\n      <td>0</td>\n      <td>1</td>\n    </tr>\n    <tr>\n      <th>13</th>\n      <td>91992.39</td>\n      <td>135495.07</td>\n      <td>252664.93</td>\n      <td>1</td>\n      <td>0</td>\n    </tr>\n    <tr>\n      <th>14</th>\n      <td>119943.24</td>\n      <td>156547.42</td>\n      <td>256512.92</td>\n      <td>0</td>\n      <td>1</td>\n    </tr>\n    <tr>\n      <th>15</th>\n      <td>114523.61</td>\n      <td>122616.84</td>\n      <td>261776.23</td>\n      <td>0</td>\n      <td>0</td>\n    </tr>\n    <tr>\n      <th>16</th>\n      <td>78013.11</td>\n      <td>121597.55</td>\n      <td>264346.06</td>\n      <td>1</td>\n      <td>0</td>\n    </tr>\n    <tr>\n      <th>17</th>\n      <td>94657.16</td>\n      <td>145077.58</td>\n      <td>282574.31</td>\n      <td>0</td>\n      <td>0</td>\n    </tr>\n    <tr>\n      <th>18</th>\n      <td>91749.16</td>\n      <td>114175.79</td>\n      <td>294919.57</td>\n      <td>0</td>\n      <td>1</td>\n    </tr>\n    <tr>\n      <th>19</th>\n      <td>86419.70</td>\n      <td>153514.11</td>\n      <td>0.00</td>\n      <td>0</td>\n      <td>0</td>\n    </tr>\n    <tr>\n      <th>20</th>\n      <td>76253.86</td>\n      <td>113867.30</td>\n      <td>298664.47</td>\n      <td>1</td>\n      <td>0</td>\n    </tr>\n    <tr>\n      <th>21</th>\n      <td>78389.47</td>\n      <td>153773.43</td>\n      <td>299737.29</td>\n      <td>0</td>\n      <td>0</td>\n    </tr>\n    <tr>\n      <th>22</th>\n      <td>73994.56</td>\n      <td>122782.75</td>\n      <td>303319.26</td>\n      <td>0</td>\n      <td>1</td>\n    </tr>\n    <tr>\n      <th>23</th>\n      <td>67532.53</td>\n      <td>105751.03</td>\n      <td>304768.73</td>\n      <td>0</td>\n      <td>1</td>\n    </tr>\n    <tr>\n      <th>24</th>\n      <td>77044.01</td>\n      <td>99281.34</td>\n      <td>140574.81</td>\n      <td>0</td>\n      <td>0</td>\n    </tr>\n    <tr>\n      <th>25</th>\n      <td>64664.71</td>\n      <td>139553.16</td>\n      <td>137962.62</td>\n      <td>1</td>\n      <td>0</td>\n    </tr>\n    <tr>\n      <th>26</th>\n      <td>75328.87</td>\n      <td>144135.98</td>\n      <td>134050.07</td>\n      <td>0</td>\n      <td>1</td>\n    </tr>\n    <tr>\n      <th>27</th>\n      <td>72107.60</td>\n      <td>127864.55</td>\n      <td>353183.81</td>\n      <td>0</td>\n      <td>0</td>\n    </tr>\n    <tr>\n      <th>28</th>\n      <td>66051.52</td>\n      <td>182645.56</td>\n      <td>118148.20</td>\n      <td>0</td>\n      <td>1</td>\n    </tr>\n    <tr>\n      <th>29</th>\n      <td>65605.48</td>\n      <td>153032.06</td>\n      <td>107138.38</td>\n      <td>0</td>\n      <td>0</td>\n    </tr>\n    <tr>\n      <th>30</th>\n      <td>61994.48</td>\n      <td>115641.28</td>\n      <td>91131.24</td>\n      <td>0</td>\n      <td>1</td>\n    </tr>\n    <tr>\n      <th>31</th>\n      <td>61136.38</td>\n      <td>152701.92</td>\n      <td>88218.23</td>\n      <td>0</td>\n      <td>0</td>\n    </tr>\n    <tr>\n      <th>32</th>\n      <td>63408.86</td>\n      <td>129219.61</td>\n      <td>46085.25</td>\n      <td>1</td>\n      <td>0</td>\n    </tr>\n    <tr>\n      <th>33</th>\n      <td>55493.95</td>\n      <td>103057.49</td>\n      <td>214634.81</td>\n      <td>0</td>\n      <td>1</td>\n    </tr>\n    <tr>\n      <th>34</th>\n      <td>46426.07</td>\n      <td>157693.92</td>\n      <td>210797.67</td>\n      <td>1</td>\n      <td>0</td>\n    </tr>\n    <tr>\n      <th>35</th>\n      <td>46014.02</td>\n      <td>85047.44</td>\n      <td>205517.64</td>\n      <td>0</td>\n      <td>0</td>\n    </tr>\n    <tr>\n      <th>36</th>\n      <td>28663.76</td>\n      <td>127056.21</td>\n      <td>201126.82</td>\n      <td>0</td>\n      <td>1</td>\n    </tr>\n    <tr>\n      <th>37</th>\n      <td>44069.95</td>\n      <td>51283.14</td>\n      <td>197029.42</td>\n      <td>1</td>\n      <td>0</td>\n    </tr>\n    <tr>\n      <th>38</th>\n      <td>20229.59</td>\n      <td>65947.93</td>\n      <td>185265.10</td>\n      <td>0</td>\n      <td>0</td>\n    </tr>\n    <tr>\n      <th>39</th>\n      <td>38558.51</td>\n      <td>82982.09</td>\n      <td>174999.30</td>\n      <td>1</td>\n      <td>0</td>\n    </tr>\n    <tr>\n      <th>40</th>\n      <td>28754.33</td>\n      <td>118546.05</td>\n      <td>172795.67</td>\n      <td>1</td>\n      <td>0</td>\n    </tr>\n    <tr>\n      <th>41</th>\n      <td>27892.92</td>\n      <td>84710.77</td>\n      <td>164470.71</td>\n      <td>0</td>\n      <td>1</td>\n    </tr>\n    <tr>\n      <th>42</th>\n      <td>23640.93</td>\n      <td>96189.63</td>\n      <td>148001.11</td>\n      <td>1</td>\n      <td>0</td>\n    </tr>\n    <tr>\n      <th>43</th>\n      <td>15505.73</td>\n      <td>127382.30</td>\n      <td>35534.17</td>\n      <td>0</td>\n      <td>0</td>\n    </tr>\n    <tr>\n      <th>44</th>\n      <td>22177.74</td>\n      <td>154806.14</td>\n      <td>28334.72</td>\n      <td>1</td>\n      <td>0</td>\n    </tr>\n    <tr>\n      <th>45</th>\n      <td>1000.23</td>\n      <td>124153.04</td>\n      <td>1903.93</td>\n      <td>0</td>\n      <td>0</td>\n    </tr>\n    <tr>\n      <th>46</th>\n      <td>1315.46</td>\n      <td>115816.21</td>\n      <td>297114.46</td>\n      <td>0</td>\n      <td>1</td>\n    </tr>\n    <tr>\n      <th>47</th>\n      <td>0.00</td>\n      <td>135426.92</td>\n      <td>0.00</td>\n      <td>1</td>\n      <td>0</td>\n    </tr>\n    <tr>\n      <th>48</th>\n      <td>542.05</td>\n      <td>51743.15</td>\n      <td>0.00</td>\n      <td>0</td>\n      <td>0</td>\n    </tr>\n    <tr>\n      <th>49</th>\n      <td>0.00</td>\n      <td>116983.80</td>\n      <td>45173.06</td>\n      <td>1</td>\n      <td>0</td>\n    </tr>\n  </tbody>\n</table>\n</div>"
     },
     "metadata": {},
     "output_type": "execute_result",
     "execution_count": 11
    }
   ],
   "source": [
    "dataset=pd.read_csv('data\\\\50_Startups.csv')\n",
    "\n",
    "y = dataset.iloc[:,4]\n",
    "x = dataset.iloc[:,:3]\n",
    "x_dummy = pd.get_dummies(dataset.iloc[:,3])\n",
    "x = x.join(x_dummy.iloc[:,:-1],how='right')"
   ],
   "metadata": {
    "collapsed": false,
    "pycharm": {
     "name": "#%%\n",
     "is_executing": false
    }
   }
  },
  {
   "cell_type": "markdown",
   "source": [
    "Now we have a new function that we can use, **get_dummies** from **pandas**, this will take any text columns and create the dummy variables from the text. We must also just remember to remove one of the dummies as we run the model with $n-1$ dummies if they are exclusive.\n",
    "\n",
    "Let's now fit the model, we will be using the same created instance as the simple linear regression:"
   ],
   "metadata": {
    "collapsed": false,
    "pycharm": {
     "name": "#%% md\n"
    }
   }
  },
  {
   "cell_type": "code",
   "execution_count": 15,
   "outputs": [
    {
     "name": "stdout",
     "text": [
      "Intercept: 50083.45681250342\n",
      "Coefficients: [ 8.06023114e-01 -2.70043196e-02  2.69798610e-02  4.18870191e+01\n",
      "  2.40675812e+02]\n"
     ],
     "output_type": "stream"
    }
   ],
   "source": [
    "slregressor.fit(x,y)\n",
    "\n",
    "print('Intercept: ' +str(slregressor.intercept_))\n",
    "print('Coefficients: '+str(slregressor.coef_))"
   ],
   "metadata": {
    "collapsed": false,
    "pycharm": {
     "name": "#%%\n",
     "is_executing": false
    }
   }
  },
  {
   "cell_type": "markdown",
   "source": [
    "The only problem with this is we can't use a forward or backward method to see which variables to include or exclude as we don't have the p-values.\n",
    "\n",
    "So we will now have a look at a different library (Which was mentioned earlier that will show us a lot more information)."
   ],
   "metadata": {
    "collapsed": false,
    "pycharm": {
     "name": "#%% md\n"
    }
   }
  },
  {
   "cell_type": "code",
   "execution_count": 30,
   "outputs": [
    {
     "data": {
      "text/plain": "<class 'statsmodels.iolib.summary.Summary'>\n\"\"\"\n                                 OLS Regression Results                                \n=======================================================================================\nDep. Variable:                 Profit   R-squared (uncentered):                   0.988\nModel:                            OLS   Adj. R-squared (uncentered):              0.987\nMethod:                 Least Squares   F-statistic:                              735.7\nDate:                Tue, 25 Feb 2020   Prob (F-statistic):                    6.07e-42\nTime:                        23:35:48   Log-Likelihood:                         -544.86\nNo. Observations:                  50   AIC:                                      1100.\nDf Residuals:                      45   BIC:                                      1109.\nDf Model:                           5                                                  \nCovariance Type:            nonrobust                                                  \n===================================================================================\n                      coef    std err          t      P>|t|      [0.025      0.975]\n-----------------------------------------------------------------------------------\nR&D Spend           0.7308      0.066     11.072      0.000       0.598       0.864\nAdministration      0.3021      0.037      8.174      0.000       0.228       0.377\nMarketing Spend     0.0776      0.023      3.397      0.001       0.032       0.124\nCalifornia       6019.9282   4596.090      1.310      0.197   -3237.072    1.53e+04\nFlorida          3814.3461   4819.854      0.791      0.433   -5893.338    1.35e+04\n==============================================================================\nOmnibus:                        0.012   Durbin-Watson:                   1.533\nProb(Omnibus):                  0.994   Jarque-Bera (JB):                0.071\nSkew:                          -0.015   Prob(JB):                        0.965\nKurtosis:                       2.817   Cond. No.                     8.14e+05\n==============================================================================\n\nWarnings:\n[1] Standard Errors assume that the covariance matrix of the errors is correctly specified.\n[2] The condition number is large, 8.14e+05. This might indicate that there are\nstrong multicollinearity or other numerical problems.\n\"\"\"",
      "text/html": "<table class=\"simpletable\">\n<caption>OLS Regression Results</caption>\n<tr>\n  <th>Dep. Variable:</th>         <td>Profit</td>      <th>  R-squared (uncentered):</th>      <td>   0.988</td>\n</tr>\n<tr>\n  <th>Model:</th>                   <td>OLS</td>       <th>  Adj. R-squared (uncentered):</th> <td>   0.987</td>\n</tr>\n<tr>\n  <th>Method:</th>             <td>Least Squares</td>  <th>  F-statistic:       </th>          <td>   735.7</td>\n</tr>\n<tr>\n  <th>Date:</th>             <td>Tue, 25 Feb 2020</td> <th>  Prob (F-statistic):</th>          <td>6.07e-42</td>\n</tr>\n<tr>\n  <th>Time:</th>                 <td>23:35:48</td>     <th>  Log-Likelihood:    </th>          <td> -544.86</td>\n</tr>\n<tr>\n  <th>No. Observations:</th>      <td>    50</td>      <th>  AIC:               </th>          <td>   1100.</td>\n</tr>\n<tr>\n  <th>Df Residuals:</th>          <td>    45</td>      <th>  BIC:               </th>          <td>   1109.</td>\n</tr>\n<tr>\n  <th>Df Model:</th>              <td>     5</td>      <th>                     </th>              <td> </td>   \n</tr>\n<tr>\n  <th>Covariance Type:</th>      <td>nonrobust</td>    <th>                     </th>              <td> </td>   \n</tr>\n</table>\n<table class=\"simpletable\">\n<tr>\n         <td></td>            <th>coef</th>     <th>std err</th>      <th>t</th>      <th>P>|t|</th>  <th>[0.025</th>    <th>0.975]</th>  \n</tr>\n<tr>\n  <th>R&D Spend</th>       <td>    0.7308</td> <td>    0.066</td> <td>   11.072</td> <td> 0.000</td> <td>    0.598</td> <td>    0.864</td>\n</tr>\n<tr>\n  <th>Administration</th>  <td>    0.3021</td> <td>    0.037</td> <td>    8.174</td> <td> 0.000</td> <td>    0.228</td> <td>    0.377</td>\n</tr>\n<tr>\n  <th>Marketing Spend</th> <td>    0.0776</td> <td>    0.023</td> <td>    3.397</td> <td> 0.001</td> <td>    0.032</td> <td>    0.124</td>\n</tr>\n<tr>\n  <th>California</th>      <td> 6019.9282</td> <td> 4596.090</td> <td>    1.310</td> <td> 0.197</td> <td>-3237.072</td> <td> 1.53e+04</td>\n</tr>\n<tr>\n  <th>Florida</th>         <td> 3814.3461</td> <td> 4819.854</td> <td>    0.791</td> <td> 0.433</td> <td>-5893.338</td> <td> 1.35e+04</td>\n</tr>\n</table>\n<table class=\"simpletable\">\n<tr>\n  <th>Omnibus:</th>       <td> 0.012</td> <th>  Durbin-Watson:     </th> <td>   1.533</td>\n</tr>\n<tr>\n  <th>Prob(Omnibus):</th> <td> 0.994</td> <th>  Jarque-Bera (JB):  </th> <td>   0.071</td>\n</tr>\n<tr>\n  <th>Skew:</th>          <td>-0.015</td> <th>  Prob(JB):          </th> <td>   0.965</td>\n</tr>\n<tr>\n  <th>Kurtosis:</th>      <td> 2.817</td> <th>  Cond. No.          </th> <td>8.14e+05</td>\n</tr>\n</table><br/><br/>Warnings:<br/>[1] Standard Errors assume that the covariance matrix of the errors is correctly specified.<br/>[2] The condition number is large, 8.14e+05. This might indicate that there are<br/>strong multicollinearity or other numerical problems."
     },
     "metadata": {},
     "output_type": "execute_result",
     "execution_count": 30
    }
   ],
   "source": [
    "import statsmodels.api as sm\n",
    "\n",
    "reg2 = sm.OLS(endog=y,exog=x)\n",
    "\n",
    "reg2.fit().summary()"
   ],
   "metadata": {
    "collapsed": false,
    "pycharm": {
     "name": "#%%\n",
     "is_executing": false
    }
   }
  },
  {
   "cell_type": "markdown",
   "source": [
    "Now this look more like the variables we are used to to with all of the measures and the P-values for the coefficients to make decisions around which of the variables should be included and removed.\n",
    "\n",
    "From this point we can keep reruning the models until we have removed all of the variables that are not significant in the overall model.\n",
    "\n",
    "## Polynomial regression "
   ],
   "metadata": {
    "collapsed": false,
    "pycharm": {
     "name": "#%% md\n"
    }
   }
  }
 ],
 "metadata": {
  "kernelspec": {
   "display_name": "Python 3",
   "language": "python",
   "name": "python3"
  },
  "language_info": {
   "codemirror_mode": {
    "name": "ipython",
    "version": 2
   },
   "file_extension": ".py",
   "mimetype": "text/x-python",
   "name": "python",
   "nbconvert_exporter": "python",
   "pygments_lexer": "ipython2",
   "version": "2.7.6"
  },
  "pycharm": {
   "stem_cell": {
    "cell_type": "raw",
    "source": [],
    "metadata": {
     "collapsed": false
    }
   }
  }
 },
 "nbformat": 4,
 "nbformat_minor": 0
}