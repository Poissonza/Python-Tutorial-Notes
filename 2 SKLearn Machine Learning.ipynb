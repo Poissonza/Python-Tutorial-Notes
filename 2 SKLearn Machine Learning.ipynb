{
 "cells": [
  {
   "cell_type": "markdown",
   "metadata": {
    "collapsed": true,
    "pycharm": {
     "name": "#%% md\n"
    }
   },
   "source": [
    "# Machine Learning with SKLearn and Python"
   ]
  },
  {
   "cell_type": "markdown",
   "source": [
    "Once we have gotten ourselves acquainted with python and use of Pandas to work we data we are ready to work with a few of the libraries in Python to make predictions.\n",
    "\n",
    "In Machine learning we will be looking at Supervised and unsupervised models as well as Regressors and Classifyers.\n",
    "\n",
    "For Regressors there are the following methods avaliable:\n",
    "\n",
    "* Simple Linear Regression\n",
    "* Multiple Linear Regression\n",
    "* Polynomial Regression\n",
    "* KNN\n",
    "* Decision Tree's\n",
    "* Random Forest\n",
    "* SVM\n",
    "\n",
    "For the Classifiers we will look at:\n",
    "\n",
    "* Logistic Regression\n",
    "* KNN\n",
    "* Decision Trees\n",
    "* Random Forest\n",
    "* SVM\n",
    "* Kernel SVM\n",
    "* Naive Bayes\n",
    "\n",
    "For all of the methods that we will be looking at we will need to load in a relevant data set and also import the correct classifier to make the prediction and fit the data."
   ],
   "metadata": {
    "collapsed": false
   }
  },
  {
   "cell_type": "markdown",
   "source": [
    "## Regression vs Classification\n",
    "\n",
    "The best way to think about the differences is the final outcome. With a Regressor we have a numerical value that we are trying to predict so the values could be anything between a maximum and a minimum value (For instance price or Mark Achieved), with Classification we are predicting a categorical varaible (So a variable in which you have to fit one of multiple predescribed classes (Gender or age group for instance)."
   ],
   "metadata": {
    "collapsed": false
   }
  },
  {
   "cell_type": "markdown",
   "source": [
    "# Regressors:\n",
    "## Simple linear Regression"
   ],
   "metadata": {
    "collapsed": false
   }
  },
  {
   "cell_type": "markdown",
   "source": [
    "Simple linear regression is the most simple form of a regression model, this model we are predicting our dependend variable $Y$ with only a single independent variable $X$.\n",
    "\n",
    "If we were to look at the overall function we are fitting we have the following $y=b_0 + b_1x_1$. \n",
    "\n",
    "In this example we have data on the salary of an employee and their years of experience. We will be using this information to see if we can predict the Salary they should Achieve.\n",
    "\n",
    "\n",
    "The first part is the import of the data to use it:"
   ],
   "metadata": {
    "collapsed": false
   }
  },
  {
   "cell_type": "code",
   "execution_count": 21,
   "outputs": [],
   "source": [
    "import pandas as pd\n",
    "\n",
    "dataset = pd.read_csv('data\\\\Salary_Data.csv')\n",
    "x = dataset.iloc[:,0].values\n",
    "y = dataset.iloc[:,1].values"
   ],
   "metadata": {
    "collapsed": false,
    "pycharm": {
     "name": "#%%\n",
     "is_executing": false
    }
   }
  },
  {
   "cell_type": "markdown",
   "source": [
    "As we only have $n=30$ we will not split the sample into a train and test set.  \n",
    "\n",
    "now that we have the dataset imported we can import the regresor and make our first prediction model:"
   ],
   "metadata": {
    "collapsed": false,
    "pycharm": {
     "name": "#%% md\n"
    }
   }
  },
  {
   "cell_type": "code",
   "execution_count": 22,
   "outputs": [
    {
     "data": {
      "text/plain": "LinearRegression(copy_X=True, fit_intercept=True, n_jobs=None, normalize=False)"
     },
     "metadata": {},
     "output_type": "execute_result",
     "execution_count": 22
    }
   ],
   "source": [
    "from sklearn.linear_model import LinearRegression\n",
    "slregressor = LinearRegression()\n",
    "slregressor.fit(x.reshape(-1,1),y)"
   ],
   "metadata": {
    "collapsed": false,
    "pycharm": {
     "name": "#%%\n",
     "is_executing": false
    }
   }
  },
  {
   "cell_type": "markdown",
   "source": [
    "We have now fitted the model.\n",
    "\n",
    "All of the information relating to the fitted model is contained in the instance we have created of the LinearRegression object.\n",
    "\n",
    "Let's have a look at some of the variables we can obtain from this fitted model:"
   ],
   "metadata": {
    "collapsed": false,
    "pycharm": {
     "name": "#%% md\n"
    }
   }
  },
  {
   "cell_type": "code",
   "execution_count": 23,
   "outputs": [
    {
     "name": "stdout",
     "text": [
      "Intercept: 25792.20019866871\n",
      "Coefficient: [9449.96232146]\n"
     ],
     "output_type": "stream"
    }
   ],
   "source": [
    "print(\"Intercept: \" + str(slregressor.intercept_))\n",
    "print(\"Coefficient: \" + str(slregressor.coef_))"
   ],
   "metadata": {
    "collapsed": false,
    "pycharm": {
     "name": "#%%\n",
     "is_executing": false
    }
   }
  },
  {
   "cell_type": "markdown",
   "source": [
    "This is certainly not the output that most people are used to as we are not getting a single output will all of the details we need but rather we need to call up the individual items we require. This may not be what we are expecting but we will be looking at a different library later that will provide similar output to what we are used to.\n",
    "\n",
    "Now that we have fitted the model let's start by running some predictions using the model:"
   ],
   "metadata": {
    "collapsed": false,
    "pycharm": {
     "name": "#%% md\n"
    }
   }
  },
  {
   "cell_type": "code",
   "execution_count": 26,
   "outputs": [
    {
     "data": {
      "text/plain": "array([87216.95528813])"
     },
     "metadata": {},
     "output_type": "execute_result",
     "execution_count": 26
    }
   ],
   "source": [
    "slregressor.predict([[6.5]])"
   ],
   "metadata": {
    "collapsed": false,
    "pycharm": {
     "name": "#%%\n",
     "is_executing": false
    }
   }
  },
  {
   "cell_type": "markdown",
   "source": [
    "We can now say that a person with 6.5 years worth of experience should be earning a salary of 87 217. But we may not always want to predict a single item, so let's plot the line we have fitted to the data:"
   ],
   "metadata": {
    "collapsed": false,
    "pycharm": {
     "name": "#%% md\n"
    }
   }
  },
  {
   "cell_type": "code",
   "execution_count": 30,
   "outputs": [
    {
     "data": {
      "text/plain": "Text(0.5, 1.0, 'Expected Salary based on years of experience')"
     },
     "metadata": {},
     "output_type": "execute_result",
     "execution_count": 30
    },
    {
     "data": {
      "text/plain": "<Figure size 432x288 with 1 Axes>",
      "image/png": "[encoded data removed]"
     },
     "metadata": {
      "needs_background": "light"
     },
     "output_type": "display_data"
    }
   ],
   "source": [
    "import matplotlib.pyplot as plt\n",
    "\n",
    "plt.scatter(x,y,color='black')\n",
    "plt.plot(x,slregressor.predict(x.reshape(-1,1)))\n",
    "plt.xlabel(\"Years of Experience\")\n",
    "plt.ylabel(\"Salary\")\n",
    "plt.title(\"Expected Salary based on years of experience\")"
   ],
   "metadata": {
    "collapsed": false,
    "pycharm": {
     "name": "#%%\n",
     "is_executing": false
    }
   }
  },
  {
   "cell_type": "markdown",
   "source": [
    "This was simple enough and we can see the overall graph that was fitted. But we won't always have just one independent variable and will need to look at an example with more independents.\n",
    "\n",
    "## Multiple Linear Regression\n",
    "\n",
    "This method is very similar to the simple Linear Regression where we are fitting a straight line to the data however the big difference is the number of independent "
   ],
   "metadata": {
    "collapsed": false,
    "pycharm": {
     "name": "#%% md\n"
    }
   }
  }
 ],
 "metadata": {
  "kernelspec": {
   "display_name": "Python 3",
   "language": "python",
   "name": "python3"
  },
  "language_info": {
   "codemirror_mode": {
    "name": "ipython",
    "version": 2
   },
   "file_extension": ".py",
   "mimetype": "text/x-python",
   "name": "python",
   "nbconvert_exporter": "python",
   "pygments_lexer": "ipython2",
   "version": "2.7.6"
  },
  "pycharm": {
   "stem_cell": {
    "cell_type": "raw",
    "source": [],
    "metadata": {
     "collapsed": false
    }
   }
  }
 },
 "nbformat": 4,
 "nbformat_minor": 0
}