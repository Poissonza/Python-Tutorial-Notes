{
 "cells": [
  {
   "cell_type": "code",
   "execution_count": 1,
   "outputs": [],
   "source": [
    "import pandas as pd"
   ],
   "metadata": {
    "collapsed": false,
    "pycharm": {
     "name": "#%%\n",
     "is_executing": false
    }
   }
  },
  {
   "cell_type": "markdown",
   "metadata": {
    "collapsed": true,
    "pycharm": {
     "name": "#%% md\n"
    }
   },
   "source": [
    "# Upper Confidence Bound\n",
    "\n",
    "## The multi-Armed Bandit Problem\n",
    "\n",
    "This is not the only problem that can be used to learn reniforcement learning, another one would be the training of a robot dog and getting it to learn how to move.\n",
    "\n",
    "In reinforcement learning we reward the positive outcome by giving the algorithm a 1 for each time it does the desired outcome. Most of this is more of a topic on Artificial Intelligence than Machine learning.\n",
    "\n",
    "For the Multi-Armed Bandit Problem:\n",
    "\n",
    "* This is a slot machine in a casino\n",
    "* The problem is what does a respondent do we they come to a full set of these machines and not just one.\n",
    "* Each machine has a distribution out of which it picks results\n",
    "* The individual does not know the distribution in advance and it can also be different for each machine\n",
    "* The goal is to find the best distributions for us so we can make the most money.\n",
    "\n",
    "There are two key things that need to be done here:\n",
    "\n",
    "* Explore - this is to discover the ideal machine\n",
    "* Exploit - taking our findings and use it to our benefit.\n",
    "\n",
    "There is also a concept of Regret which can be looked at - this is when we are doing a sub-optimal decision and not going with the outcome that would be best for us.\n",
    "\n",
    "If little exploration is done then we may use a sub optimal machine as we don't have a full view on what is the most optimal machine.\n",
    "\n",
    "The most common application of this - is advertising.\n",
    "\n",
    "## Upper Confidence Bound\n",
    "\n",
    "We will be looking at the following for our problem:\n",
    "\n",
    "* We have d arms. For example the arms are ads that we display to users each time they connect to a web page\n",
    "* Each time a user connects to this web page that makes a round\n",
    "* At each round n, we choose one ad to display to the user\n",
    "* at each round n, ad i gives a reward if the user clicked on the ad or a 0 if they did not\n",
    "* our goal is to maximise the total reward we get over many rounds\n",
    "\n",
    "The intuition:\n",
    "\n",
    "* We don't know the expected value for each of the items.\n",
    "* We assume that we have a starting value which is equal for each item.\n",
    "* The Algorithm will create a confidence band for each of these starting values and we go on the assumption that the confidence band will include the actual expected value\n",
    "* The Confidence band will be very large to start off with.\n",
    "\n",
    "The first step is \n",
    "\n",
    "* We actual run the scenario either if someone clicked on the ad or not\n",
    "    * if they did not click on the ad then the starting value will reduce and we will move it so it starts to converge with the actual expected value\n",
    "    * now that we have further information, the confidence interval becomes smaller\n",
    "    * We keep doing this step for the item that has the highest confidence bound if there is a tie we do a random value.\n",
    "\n",
    "Since we have a higher number of values in the data the confidence bound decreases as we have higher confidence"
   ]
  },
  {
   "cell_type": "code",
   "execution_count": 2,
   "outputs": [],
   "source": [
    "data_in = pd.read_csv('data\\\\Ads_CTR_Optimisation.csv')\n"
   ],
   "metadata": {
    "collapsed": false,
    "pycharm": {
     "name": "#%%\n",
     "is_executing": false
    }
   }
  }
 ],
 "metadata": {
  "kernelspec": {
   "display_name": "Python 3",
   "language": "python",
   "name": "python3"
  },
  "language_info": {
   "codemirror_mode": {
    "name": "ipython",
    "version": 2
   },
   "file_extension": ".py",
   "mimetype": "text/x-python",
   "name": "python",
   "nbconvert_exporter": "python",
   "pygments_lexer": "ipython2",
   "version": "2.7.6"
  },
  "pycharm": {
   "stem_cell": {
    "cell_type": "raw",
    "source": [],
    "metadata": {
     "collapsed": false
    }
   }
  }
 },
 "nbformat": 4,
 "nbformat_minor": 0
}