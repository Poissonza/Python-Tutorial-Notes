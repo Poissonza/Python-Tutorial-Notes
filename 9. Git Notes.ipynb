{
 "cells": [
  {
   "cell_type": "markdown",
   "metadata": {
    "collapsed": true,
    "pycharm": {
     "name": "#%% md\n"
    }
   },
   "source": [
    "# Git Notes"
   ]
  },
  {
   "cell_type": "markdown",
   "source": [
    "## Table of Contents\n",
    "\n",
    " 1. [Introduction to Git](#Introduction-to-Git)\n",
    " 2. [](#)"
   ],
   "metadata": {
    "collapsed": false,
    "pycharm": {
     "name": "#%% md\n"
    }
   }
  },
  {
   "cell_type": "markdown",
   "source": [
    "## Introduction to Git\n",
    "\n",
    "With most hit projects you will probably have a remote repository that is hosted by a website like Github.com.\n",
    "We can always have a local version of our reository that is using the git version control while the github will give a nice\n",
    "interfact to work on especially when working with other people.\n",
    "\n",
    "## Initializing\n",
    "\n",
    "The first thing we need to do is initiate a repository.\n",
    "\n",
    "We can do this with `git init`command in the folder that you would like to track the changes in. The biggest recommendation is\n",
    "to not initialize in a home folder but rather the project folder.\n",
    "\n",
    "Once you have types in the command it will create the necessary folders in the root of the folder and it will manage the\n",
    "version control of the folder for all future files.\n",
    "\n",
    "You can also initialize a repository in a folder that already has files, all that will happen here\n",
    "is the git won't track previous changes.\n",
    "\n",
    "## Adding files\n",
    "\n",
    "### Staging area\n",
    "\n",
    "In the staging area we will have tracked and untracked files in the staging area, usually the untracked files\n",
    "is due to us not adding the files to tracking.\n",
    "\n",
    "if we are wanting to check the status we can use `git status` to see which files are untracked.\n",
    "\n",
    "there sre three main area's, **local area** , **Staging area** and the commit or repository.\n",
    "\n",
    " - Local area - The local view of the files\n",
    " - Staging area - The files we want to be part of the commit (A bundle of changes)\n",
    " - Repository -  is the stored code once it has been included\n"
   ],
   "metadata": {
    "collapsed": false,
    "pycharm": {
     "name": "#%% md\n"
    }
   }
  },
  {
   "cell_type": "markdown",
   "source": [
    "## Adding files\n",
    "\n",
    "In order to add files to the staging area we will use the `git add <filename>` which wil; then add the file\n",
    "into the staging area for the following commit that you may want to do.\n",
    "\n",
    "if we ever need to remove a file from the staging area we can use `git rm--cached <filename>`"
   ],
   "metadata": {
    "collapsed": false,
    "pycharm": {
     "name": "#%% md\n"
    }
   }
  },
  {
   "cell_type": "markdown",
   "source": [
    "## Commits\n",
    "\n",
    "A commit can be thought as a point in a timeline in the life of the code `git commit -m \"<commit message\"`\n",
    "Usually the files that were in the previous commit will be tracked by the version control in the folder but it\n",
    "wont be staged meaning we need to stage the file by readding the file to the staging area."
   ],
   "metadata": {
    "collapsed": false,
    "pycharm": {
     "name": "#%% md\n"
    }
   }
  },
  {
   "cell_type": "markdown",
   "source": [
    "## Branches\n",
    "\n",
    "This can be though of as a veration to the code base - for instance a new feature that we are packaging into a\n",
    "single bundle of code. We can also branch off from the branches.\n",
    "\n",
    "The Master branch is the standard default branch but we can create new branches off the current branch we\n",
    "are currently using. This can be done `git checkout -b <Branch Name>`\n",
    "\n",
    "The -b indicates we want to checkout a new branch.\n",
    "\n",
    "If we want to move back to the existing master branch we can use `git checkout master` . Remember if you are\n",
    "working in multiple branches that the code is not transfered between the branches even if there are commits in the\n",
    "branches.\n",
    "\n",
    "To view all branches we can use `git branch`"
   ],
   "metadata": {
    "collapsed": false,
    "pycharm": {
     "name": "#%% md\n"
    }
   }
  },
  {
   "cell_type": "markdown",
   "source": [
    "#Pull requests / Merge Branches\n",
    "\n",
    "We may want to bring the changes in one branch and bring the changes into another set of code.\n",
    "This can be done with ` git merge <branch>` this will merge the branch into the currently selected branch.\n",
    "\n",
    "If we have a merge conflict (We have conflicted changes) we need to know how to fix it as this can happen often:\n",
    "To sort out the conflict issues we modify the file to ensure that it is exactly how we want it to look like, after we have\n",
    "fixed it we do a commit of the fix that we have done as per the usual commits."
   ],
   "metadata": {
    "collapsed": false,
    "pycharm": {
     "name": "#%% md\n"
    }
   }
  },
  {
   "cell_type": "markdown",
   "source": [
    "## Remote Repositories\n",
    "\n",
    "With remote repositories we can create the repository on github and then we will get some instructions on\n",
    "how we can get a local copy of the local repository on our machine. When we do the add command we nam\n",
    "the location incase we have multiple locations that we send the code to.\n"
   ],
   "metadata": {
    "collapsed": false,
    "pycharm": {
     "name": "#%% md\n"
    }
   }
  }
 ],
 "metadata": {
  "kernelspec": {
   "display_name": "Python 3",
   "language": "python",
   "name": "python3"
  },
  "language_info": {
   "codemirror_mode": {
    "name": "ipython",
    "version": 2
   },
   "file_extension": ".py",
   "mimetype": "text/x-python",
   "name": "python",
   "nbconvert_exporter": "python",
   "pygments_lexer": "ipython2",
   "version": "2.7.6"
  }
 },
 "nbformat": 4,
 "nbformat_minor": 0
}