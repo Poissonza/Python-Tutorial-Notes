{
  "nbformat": 4,
  "nbformat_minor": 0,
  "metadata": {
    "kernelspec": {
      "display_name": "Python 3",
      "language": "python",
      "name": "python3"
    },
    "language_info": {
      "codemirror_mode": {
        "name": "ipython",
        "version": 3
      },
      "file_extension": ".py",
      "mimetype": "text/x-python",
      "name": "python",
      "nbconvert_exporter": "python",
      "pygments_lexer": "ipython3",
      "version": "3.7.4"
    },
    "colab": {
      "name": "1.Panda's Basics.ipynb",
      "provenance": [],
      "collapsed_sections": [
        "zSCoiQAZ2JCl",
        "4wt0jofP2JDh",
        "3KpCgvtH2JEC",
        "_In7MRRb2JF5",
        "e6Z3DUE-2JGZ",
        "u6B0MuoA2JG6"
      ],
      "toc_visible": true
    }
  },
  "cells": [
    {
      "cell_type": "markdown",
      "metadata": {
        "id": "NHdvusN42JB1",
        "colab_type": "text"
      },
      "source": [
        "# Pandas"
      ]
    },
    {
      "cell_type": "markdown",
      "metadata": {
        "id": "yu3MaNnu2JB6",
        "colab_type": "text"
      },
      "source": [
        "The first part of any data project is the handling and manipulation of data \n",
        "in order to prepare for data analysis. This is where the library Pandas comes in to assist the process.\n",
        "\n",
        "Pandas name comes from the word \"Panel Data\" - Which is a multidimension date of measurements of time. Pandas is an open source library to assist with data manipulation.\n",
        "\n",
        "Features of Pandas:\n",
        "\n",
        " * Series Objects and Data Frames\n",
        "     * Allows to deal with 1 and 2 dimensional data\n",
        " * Handling of Missing Data\n",
        "     * Presented as NaN\n",
        "representation:\n",
        " * Data Alignment\n",
        "     * Data will be aligned to a set of labels or Pandas objects will allocate the data to a set of labels itself.\n",
        " * Functions to Group the data:\n",
        "     * Split, Combine  and apply opperations can be used here\n",
        " * Slicing, Indexing and Subsetting:\n",
        "     * Can be done to the data set\n",
        " * Merging and Joining:\n",
        "    * Allows us to have an intellgent method to combine multiple datasets. \n",
        " * Reshape:\n",
        "   * Allows us to modify how the dataset looks for analysis.\n",
        " * Hierachical Labelling of Axes\n",
        " * Robust input output tool\n",
        "     * Can input from multiple sources\n",
        " * Time series specific functionality\n",
        " "
      ]
    },
    {
      "cell_type": "markdown",
      "metadata": {
        "id": "ixFjTqgd2JB8",
        "colab_type": "text"
      },
      "source": [
        "## Pandas Vs Numpy"
      ]
    },
    {
      "cell_type": "markdown",
      "metadata": {
        "id": "S1rsrPbq2JB-",
        "colab_type": "text"
      },
      "source": [
        "In Python there are two different Libraries that handle any data requests. We will be focusing on Pandas but it may be useful to see the difference between Numpy and Pandas:\n",
        " \n",
        " * Pandas works better with 500k+ rows than Numpy\n",
        " * Pandas Series is more flexible than Numpy Arrays"
      ]
    },
    {
      "cell_type": "markdown",
      "metadata": {
        "id": "Fue9w9P22JB_",
        "colab_type": "text"
      },
      "source": [
        "## How to Import Pandas into Python"
      ]
    },
    {
      "cell_type": "markdown",
      "metadata": {
        "id": "NN_Rf6Bk2JCB",
        "colab_type": "text"
      },
      "source": [
        "A Simple command is used to import pandas, much like the other librarys that may be Required:"
      ]
    },
    {
      "cell_type": "code",
      "metadata": {
        "id": "9RhZp60D2JCD",
        "colab_type": "code",
        "colab": {}
      },
      "source": [
        "import pandas as pd"
      ],
      "execution_count": 0,
      "outputs": []
    },
    {
      "cell_type": "markdown",
      "metadata": {
        "id": "qlIgPS9PWkJ0",
        "colab_type": "text"
      },
      "source": [
        "In the command above we are importing the pandas library and we are allocating it a name that we will be able to use in the rest of the code (pd)."
      ]
    },
    {
      "cell_type": "markdown",
      "metadata": {
        "id": "bfSozDaO2JCJ",
        "colab_type": "text"
      },
      "source": [
        "## Datasets in Pandas"
      ]
    },
    {
      "cell_type": "markdown",
      "metadata": {
        "id": "zndHSH8S2JCL",
        "colab_type": "text"
      },
      "source": [
        "Pandas handles anything between a one dimensional to a multiple dimension dataset.\n",
        "\n",
        "If the data is one dimensional, Pandas will treat it as a Series object, If it is two dimension it will be treated as a DataFrame and finally multi-dimensional is treated as Panel data."
      ]
    },
    {
      "cell_type": "markdown",
      "metadata": {
        "id": "OSK-qPE22JCM",
        "colab_type": "text"
      },
      "source": [
        "### One Dimensional - Series data"
      ]
    },
    {
      "cell_type": "markdown",
      "metadata": {
        "id": "s-nlpov92JCN",
        "colab_type": "text"
      },
      "source": [
        "A series object is a Single column Array that can hold any kind of data Type. It can be mixed or similar data.\n",
        "\n",
        "To Create a series object we will use the data of (1,2,3,4).\n",
        "\n",
        "Let's see how to create this into a series and then print the data:"
      ]
    },
    {
      "cell_type": "code",
      "metadata": {
        "id": "xwb9ES6Y2JCP",
        "colab_type": "code",
        "outputId": "8240523c-463e-484a-bf7a-318c7c860428",
        "colab": {
          "base_uri": "https://localhost:8080/",
          "height": 102
        }
      },
      "source": [
        "data = [1,2,3,4]\n",
        "Series1 = pd.Series(data)\n",
        "Series1"
      ],
      "execution_count": 40,
      "outputs": [
        {
          "output_type": "execute_result",
          "data": {
            "text/plain": [
              "0    1\n",
              "1    2\n",
              "2    3\n",
              "3    4\n",
              "dtype: int64"
            ]
          },
          "metadata": {
            "tags": []
          },
          "execution_count": 40
        }
      ]
    },
    {
      "cell_type": "markdown",
      "metadata": {
        "id": "ulj4L0qv2JCW",
        "colab_type": "text"
      },
      "source": [
        "Please note that the data now has a 0 - 3 running down the side depicting the row number (Python is a language that is 0 indexed). Also remember that Python is case sensitive so watch all cases in the calling of data and functions. \n",
        "\n",
        "To check the type of the object we can use the type() function:"
      ]
    },
    {
      "cell_type": "code",
      "metadata": {
        "id": "V7NNRDtt2JCY",
        "colab_type": "code",
        "outputId": "c97ed33c-a75b-46c3-b27e-84145ab80f60",
        "colab": {
          "base_uri": "https://localhost:8080/",
          "height": 34
        }
      },
      "source": [
        "type(Series1)"
      ],
      "execution_count": 41,
      "outputs": [
        {
          "output_type": "execute_result",
          "data": {
            "text/plain": [
              "pandas.core.series.Series"
            ]
          },
          "metadata": {
            "tags": []
          },
          "execution_count": 41
        }
      ]
    },
    {
      "cell_type": "markdown",
      "metadata": {
        "id": "0wbq_Ffn2JCd",
        "colab_type": "text"
      },
      "source": [
        "It is nice that we have an index of 0 - 3 but we may not always want this and rather prefer some different details. This can be done with including the index option in the series function. Take note of the index after we run the function again. Let's see how below:"
      ]
    },
    {
      "cell_type": "code",
      "metadata": {
        "id": "Yx2LsBHw2JCe",
        "colab_type": "code",
        "outputId": "e3895d14-8239-4235-cdc7-ee9c3431c2d8",
        "colab": {
          "base_uri": "https://localhost:8080/",
          "height": 102
        }
      },
      "source": [
        "Series1 = pd.Series(data,index=['a','b','c','d'])\n",
        "Series1"
      ],
      "execution_count": 42,
      "outputs": [
        {
          "output_type": "execute_result",
          "data": {
            "text/plain": [
              "a    1\n",
              "b    2\n",
              "c    3\n",
              "d    4\n",
              "dtype: int64"
            ]
          },
          "metadata": {
            "tags": []
          },
          "execution_count": 42
        }
      ]
    },
    {
      "cell_type": "markdown",
      "metadata": {
        "id": "UBXRsOsX2JCj",
        "colab_type": "text"
      },
      "source": [
        "The Series data can also be created using array's, Dictionary or Scalar or constant value to create a Series with it."
      ]
    },
    {
      "cell_type": "markdown",
      "metadata": {
        "id": "zSCoiQAZ2JCl",
        "colab_type": "text"
      },
      "source": [
        "### Two Dimensional - DataFrame"
      ]
    },
    {
      "cell_type": "markdown",
      "metadata": {
        "id": "_6Pq2LxX2JCm",
        "colab_type": "text"
      },
      "source": [
        "A DataFrame is a two dimensional labeled data structure with columns with potentially different types. They have the following features:\n",
        "\n",
        "* Different Columns Types\n",
        "* Mutable size\n",
        "* Labeled axes\n",
        "* Arithmic operations on rows and columns\n",
        "\n",
        "But the first important step is the creation of the DataFrame, We will now create a new dataset and turn it into a dataframe below:"
      ]
    },
    {
      "cell_type": "code",
      "metadata": {
        "id": "Fy4xM1aU2JCo",
        "colab_type": "code",
        "outputId": "dd303c9d-4846-4408-a4f0-ee8ed418ddcd",
        "colab": {
          "base_uri": "https://localhost:8080/",
          "height": 204
        }
      },
      "source": [
        "data = [1,2,3,4,5]\n",
        "df = pd.DataFrame(data)\n",
        "df"
      ],
      "execution_count": 43,
      "outputs": [
        {
          "output_type": "execute_result",
          "data": {
            "text/html": [
              "<div>\n",
              "<style scoped>\n",
              "    .dataframe tbody tr th:only-of-type {\n",
              "        vertical-align: middle;\n",
              "    }\n",
              "\n",
              "    .dataframe tbody tr th {\n",
              "        vertical-align: top;\n",
              "    }\n",
              "\n",
              "    .dataframe thead th {\n",
              "        text-align: right;\n",
              "    }\n",
              "</style>\n",
              "<table border=\"1\" class=\"dataframe\">\n",
              "  <thead>\n",
              "    <tr style=\"text-align: right;\">\n",
              "      <th></th>\n",
              "      <th>0</th>\n",
              "    </tr>\n",
              "  </thead>\n",
              "  <tbody>\n",
              "    <tr>\n",
              "      <th>0</th>\n",
              "      <td>1</td>\n",
              "    </tr>\n",
              "    <tr>\n",
              "      <th>1</th>\n",
              "      <td>2</td>\n",
              "    </tr>\n",
              "    <tr>\n",
              "      <th>2</th>\n",
              "      <td>3</td>\n",
              "    </tr>\n",
              "    <tr>\n",
              "      <th>3</th>\n",
              "      <td>4</td>\n",
              "    </tr>\n",
              "    <tr>\n",
              "      <th>4</th>\n",
              "      <td>5</td>\n",
              "    </tr>\n",
              "  </tbody>\n",
              "</table>\n",
              "</div>"
            ],
            "text/plain": [
              "   0\n",
              "0  1\n",
              "1  2\n",
              "2  3\n",
              "3  4\n",
              "4  5"
            ]
          },
          "metadata": {
            "tags": []
          },
          "execution_count": 43
        }
      ]
    },
    {
      "cell_type": "markdown",
      "metadata": {
        "id": "pVyzN1gB2JCt",
        "colab_type": "text"
      },
      "source": [
        "\n",
        "\n",
        "```\n",
        "# This is formatted as code\n",
        "```\n",
        "\n",
        "We can create the dataframe from a dictionary as well, for this example we will create a dictionary of the number of fruits we have and then convert it into a dataframe."
      ]
    },
    {
      "cell_type": "code",
      "metadata": {
        "id": "0eODixHw2JCu",
        "colab_type": "code",
        "outputId": "ce93517c-8b63-4625-9966-44c769efd890",
        "colab": {
          "base_uri": "https://localhost:8080/",
          "height": 142
        }
      },
      "source": [
        "dictionary = {'fruits':['apples','banana','mangoes'],'count':[10,20,15]}\n",
        "df = pd.DataFrame(dictionary)\n",
        "df"
      ],
      "execution_count": 44,
      "outputs": [
        {
          "output_type": "execute_result",
          "data": {
            "text/html": [
              "<div>\n",
              "<style scoped>\n",
              "    .dataframe tbody tr th:only-of-type {\n",
              "        vertical-align: middle;\n",
              "    }\n",
              "\n",
              "    .dataframe tbody tr th {\n",
              "        vertical-align: top;\n",
              "    }\n",
              "\n",
              "    .dataframe thead th {\n",
              "        text-align: right;\n",
              "    }\n",
              "</style>\n",
              "<table border=\"1\" class=\"dataframe\">\n",
              "  <thead>\n",
              "    <tr style=\"text-align: right;\">\n",
              "      <th></th>\n",
              "      <th>fruits</th>\n",
              "      <th>count</th>\n",
              "    </tr>\n",
              "  </thead>\n",
              "  <tbody>\n",
              "    <tr>\n",
              "      <th>0</th>\n",
              "      <td>apples</td>\n",
              "      <td>10</td>\n",
              "    </tr>\n",
              "    <tr>\n",
              "      <th>1</th>\n",
              "      <td>banana</td>\n",
              "      <td>20</td>\n",
              "    </tr>\n",
              "    <tr>\n",
              "      <th>2</th>\n",
              "      <td>mangoes</td>\n",
              "      <td>15</td>\n",
              "    </tr>\n",
              "  </tbody>\n",
              "</table>\n",
              "</div>"
            ],
            "text/plain": [
              "    fruits  count\n",
              "0   apples     10\n",
              "1   banana     20\n",
              "2  mangoes     15"
            ]
          },
          "metadata": {
            "tags": []
          },
          "execution_count": 44
        }
      ]
    },
    {
      "cell_type": "markdown",
      "metadata": {
        "id": "zM9pIVob2JCz",
        "colab_type": "text"
      },
      "source": [
        "We can now see that the columns have the labels included that were set in the dictionary as well as the data that is both the numerical and string values.\n",
        "\n",
        "The next thing to look at is how to create a DataFrame from a series dataset:"
      ]
    },
    {
      "cell_type": "code",
      "metadata": {
        "id": "kaAOsjf32JC0",
        "colab_type": "code",
        "outputId": "203f16d6-4b3e-4afa-8913-fc2c412a9a1c",
        "colab": {
          "base_uri": "https://localhost:8080/",
          "height": 111
        }
      },
      "source": [
        "Series = pd.Series([6,12],index=['a','b'])\n",
        "df = pd.DataFrame(Series)\n",
        "df"
      ],
      "execution_count": 45,
      "outputs": [
        {
          "output_type": "execute_result",
          "data": {
            "text/html": [
              "<div>\n",
              "<style scoped>\n",
              "    .dataframe tbody tr th:only-of-type {\n",
              "        vertical-align: middle;\n",
              "    }\n",
              "\n",
              "    .dataframe tbody tr th {\n",
              "        vertical-align: top;\n",
              "    }\n",
              "\n",
              "    .dataframe thead th {\n",
              "        text-align: right;\n",
              "    }\n",
              "</style>\n",
              "<table border=\"1\" class=\"dataframe\">\n",
              "  <thead>\n",
              "    <tr style=\"text-align: right;\">\n",
              "      <th></th>\n",
              "      <th>0</th>\n",
              "    </tr>\n",
              "  </thead>\n",
              "  <tbody>\n",
              "    <tr>\n",
              "      <th>a</th>\n",
              "      <td>6</td>\n",
              "    </tr>\n",
              "    <tr>\n",
              "      <th>b</th>\n",
              "      <td>12</td>\n",
              "    </tr>\n",
              "  </tbody>\n",
              "</table>\n",
              "</div>"
            ],
            "text/plain": [
              "    0\n",
              "a   6\n",
              "b  12"
            ]
          },
          "metadata": {
            "tags": []
          },
          "execution_count": 45
        }
      ]
    },
    {
      "cell_type": "markdown",
      "metadata": {
        "id": "eHjP64Qi2JC5",
        "colab_type": "text"
      },
      "source": [
        "Now we can see that the one dimensional Series was converted into a two dimensional dataframe with an index and column. If you think about the original Series example you will see that the new dataset now has a column name.\n",
        "\n",
        "Most data formats can be converted into a pandas dataframe in a similar fashion to all of the examples."
      ]
    },
    {
      "cell_type": "markdown",
      "metadata": {
        "id": "TL9xASpJ2JC7",
        "colab_type": "text"
      },
      "source": [
        "## Merge, Join and concatenate functions"
      ]
    },
    {
      "cell_type": "markdown",
      "metadata": {
        "id": "3c0wddAG2JC8",
        "colab_type": "text"
      },
      "source": [
        "When we are working with multiple datasets we may get to a point were we will need to combine the datasets. There are three different functions that allow us to do this.\n",
        "\n",
        "We will go through all of the three functions to see the differences. The first step in this example is to create two dataframes and start working with the Merge Function:"
      ]
    },
    {
      "cell_type": "code",
      "metadata": {
        "id": "hYEWxKsY2JC9",
        "colab_type": "code",
        "outputId": "37153c41-7493-41ee-f11a-d8659c3f709e",
        "colab": {
          "base_uri": "https://localhost:8080/",
          "height": 142
        }
      },
      "source": [
        "#Data frame 1 creation\n",
        "\n",
        "player = ['Player1','Player2','Player3']\n",
        "point=[8,9,6]\n",
        "title=['Game1','Game2','Game3']\n",
        "\n",
        "df1 = pd.DataFrame({'Player':player,'Points':point,'Title':title})\n",
        "df1"
      ],
      "execution_count": 46,
      "outputs": [
        {
          "output_type": "execute_result",
          "data": {
            "text/html": [
              "<div>\n",
              "<style scoped>\n",
              "    .dataframe tbody tr th:only-of-type {\n",
              "        vertical-align: middle;\n",
              "    }\n",
              "\n",
              "    .dataframe tbody tr th {\n",
              "        vertical-align: top;\n",
              "    }\n",
              "\n",
              "    .dataframe thead th {\n",
              "        text-align: right;\n",
              "    }\n",
              "</style>\n",
              "<table border=\"1\" class=\"dataframe\">\n",
              "  <thead>\n",
              "    <tr style=\"text-align: right;\">\n",
              "      <th></th>\n",
              "      <th>Player</th>\n",
              "      <th>Points</th>\n",
              "      <th>Title</th>\n",
              "    </tr>\n",
              "  </thead>\n",
              "  <tbody>\n",
              "    <tr>\n",
              "      <th>0</th>\n",
              "      <td>Player1</td>\n",
              "      <td>8</td>\n",
              "      <td>Game1</td>\n",
              "    </tr>\n",
              "    <tr>\n",
              "      <th>1</th>\n",
              "      <td>Player2</td>\n",
              "      <td>9</td>\n",
              "      <td>Game2</td>\n",
              "    </tr>\n",
              "    <tr>\n",
              "      <th>2</th>\n",
              "      <td>Player3</td>\n",
              "      <td>6</td>\n",
              "      <td>Game3</td>\n",
              "    </tr>\n",
              "  </tbody>\n",
              "</table>\n",
              "</div>"
            ],
            "text/plain": [
              "    Player  Points  Title\n",
              "0  Player1       8  Game1\n",
              "1  Player2       9  Game2\n",
              "2  Player3       6  Game3"
            ]
          },
          "metadata": {
            "tags": []
          },
          "execution_count": 46
        }
      ]
    },
    {
      "cell_type": "code",
      "metadata": {
        "id": "f-MKfq342JDC",
        "colab_type": "code",
        "outputId": "b6461729-87c0-439f-aa78-d5e05080ed7f",
        "colab": {
          "base_uri": "https://localhost:8080/",
          "height": 142
        }
      },
      "source": [
        "#Dataframe 2 creation\n",
        "\n",
        "player = ['Player1','Player5','Player6']\n",
        "power = ['Punch','Kick','Elbow']\n",
        "title=['Game1','Game5','Game6']\n",
        "df2 = pd.DataFrame({'Player':player,'Power':power,'Title':title})\n",
        "df2"
      ],
      "execution_count": 47,
      "outputs": [
        {
          "output_type": "execute_result",
          "data": {
            "text/html": [
              "<div>\n",
              "<style scoped>\n",
              "    .dataframe tbody tr th:only-of-type {\n",
              "        vertical-align: middle;\n",
              "    }\n",
              "\n",
              "    .dataframe tbody tr th {\n",
              "        vertical-align: top;\n",
              "    }\n",
              "\n",
              "    .dataframe thead th {\n",
              "        text-align: right;\n",
              "    }\n",
              "</style>\n",
              "<table border=\"1\" class=\"dataframe\">\n",
              "  <thead>\n",
              "    <tr style=\"text-align: right;\">\n",
              "      <th></th>\n",
              "      <th>Player</th>\n",
              "      <th>Power</th>\n",
              "      <th>Title</th>\n",
              "    </tr>\n",
              "  </thead>\n",
              "  <tbody>\n",
              "    <tr>\n",
              "      <th>0</th>\n",
              "      <td>Player1</td>\n",
              "      <td>Punch</td>\n",
              "      <td>Game1</td>\n",
              "    </tr>\n",
              "    <tr>\n",
              "      <th>1</th>\n",
              "      <td>Player5</td>\n",
              "      <td>Kick</td>\n",
              "      <td>Game5</td>\n",
              "    </tr>\n",
              "    <tr>\n",
              "      <th>2</th>\n",
              "      <td>Player6</td>\n",
              "      <td>Elbow</td>\n",
              "      <td>Game6</td>\n",
              "    </tr>\n",
              "  </tbody>\n",
              "</table>\n",
              "</div>"
            ],
            "text/plain": [
              "    Player  Power  Title\n",
              "0  Player1  Punch  Game1\n",
              "1  Player5   Kick  Game5\n",
              "2  Player6  Elbow  Game6"
            ]
          },
          "metadata": {
            "tags": []
          },
          "execution_count": 47
        }
      ]
    },
    {
      "cell_type": "markdown",
      "metadata": {
        "id": "JP7EVxzL2JDI",
        "colab_type": "text"
      },
      "source": [
        "The Merge function works with the data inside both of the DataFrames to join the data, this is especially useful if there are some unique identifyers that can be used to connect the data.\n",
        "\n",
        "One of the first types of Merge is the Inner Merge. This Merge looks for the common values between the two DataFrames and only outputs the values that are common between the two dataframes."
      ]
    },
    {
      "cell_type": "code",
      "metadata": {
        "id": "z1aB1lpK2JDJ",
        "colab_type": "code",
        "outputId": "ab33dfd4-def8-4ee5-f730-077a278a61a6",
        "colab": {
          "base_uri": "https://localhost:8080/",
          "height": 80
        }
      },
      "source": [
        "df1.merge(df2, on='Title',how='inner')"
      ],
      "execution_count": 48,
      "outputs": [
        {
          "output_type": "execute_result",
          "data": {
            "text/html": [
              "<div>\n",
              "<style scoped>\n",
              "    .dataframe tbody tr th:only-of-type {\n",
              "        vertical-align: middle;\n",
              "    }\n",
              "\n",
              "    .dataframe tbody tr th {\n",
              "        vertical-align: top;\n",
              "    }\n",
              "\n",
              "    .dataframe thead th {\n",
              "        text-align: right;\n",
              "    }\n",
              "</style>\n",
              "<table border=\"1\" class=\"dataframe\">\n",
              "  <thead>\n",
              "    <tr style=\"text-align: right;\">\n",
              "      <th></th>\n",
              "      <th>Player_x</th>\n",
              "      <th>Points</th>\n",
              "      <th>Title</th>\n",
              "      <th>Player_y</th>\n",
              "      <th>Power</th>\n",
              "    </tr>\n",
              "  </thead>\n",
              "  <tbody>\n",
              "    <tr>\n",
              "      <th>0</th>\n",
              "      <td>Player1</td>\n",
              "      <td>8</td>\n",
              "      <td>Game1</td>\n",
              "      <td>Player1</td>\n",
              "      <td>Punch</td>\n",
              "    </tr>\n",
              "  </tbody>\n",
              "</table>\n",
              "</div>"
            ],
            "text/plain": [
              "  Player_x  Points  Title Player_y  Power\n",
              "0  Player1       8  Game1  Player1  Punch"
            ]
          },
          "metadata": {
            "tags": []
          },
          "execution_count": 48
        }
      ]
    },
    {
      "cell_type": "markdown",
      "metadata": {
        "id": "pP27irLz2JDN",
        "colab_type": "text"
      },
      "source": [
        "Notice that player is split up as it is not our joining variable and needs to be recorded for both sides of the DataFrames.\n",
        "\n",
        "The next type of **Merge** is the Left **Merge**. This **Merge** keeps all of the values from the DataFrame on the left and includes only the relevant variables from the dataframe on the right where they match up."
      ]
    },
    {
      "cell_type": "code",
      "metadata": {
        "id": "jfSGlz8H2JDP",
        "colab_type": "code",
        "outputId": "f136dca8-bf74-4dd2-f8b9-d298efd50141",
        "colab": {
          "base_uri": "https://localhost:8080/",
          "height": 142
        }
      },
      "source": [
        "df1.merge(df2, on='Title',how='left')"
      ],
      "execution_count": 49,
      "outputs": [
        {
          "output_type": "execute_result",
          "data": {
            "text/html": [
              "<div>\n",
              "<style scoped>\n",
              "    .dataframe tbody tr th:only-of-type {\n",
              "        vertical-align: middle;\n",
              "    }\n",
              "\n",
              "    .dataframe tbody tr th {\n",
              "        vertical-align: top;\n",
              "    }\n",
              "\n",
              "    .dataframe thead th {\n",
              "        text-align: right;\n",
              "    }\n",
              "</style>\n",
              "<table border=\"1\" class=\"dataframe\">\n",
              "  <thead>\n",
              "    <tr style=\"text-align: right;\">\n",
              "      <th></th>\n",
              "      <th>Player_x</th>\n",
              "      <th>Points</th>\n",
              "      <th>Title</th>\n",
              "      <th>Player_y</th>\n",
              "      <th>Power</th>\n",
              "    </tr>\n",
              "  </thead>\n",
              "  <tbody>\n",
              "    <tr>\n",
              "      <th>0</th>\n",
              "      <td>Player1</td>\n",
              "      <td>8</td>\n",
              "      <td>Game1</td>\n",
              "      <td>Player1</td>\n",
              "      <td>Punch</td>\n",
              "    </tr>\n",
              "    <tr>\n",
              "      <th>1</th>\n",
              "      <td>Player2</td>\n",
              "      <td>9</td>\n",
              "      <td>Game2</td>\n",
              "      <td>NaN</td>\n",
              "      <td>NaN</td>\n",
              "    </tr>\n",
              "    <tr>\n",
              "      <th>2</th>\n",
              "      <td>Player3</td>\n",
              "      <td>6</td>\n",
              "      <td>Game3</td>\n",
              "      <td>NaN</td>\n",
              "      <td>NaN</td>\n",
              "    </tr>\n",
              "  </tbody>\n",
              "</table>\n",
              "</div>"
            ],
            "text/plain": [
              "  Player_x  Points  Title Player_y  Power\n",
              "0  Player1       8  Game1  Player1  Punch\n",
              "1  Player2       9  Game2      NaN    NaN\n",
              "2  Player3       6  Game3      NaN    NaN"
            ]
          },
          "metadata": {
            "tags": []
          },
          "execution_count": 49
        }
      ]
    },
    {
      "cell_type": "markdown",
      "metadata": {
        "id": "4eX9dA8O2JDT",
        "colab_type": "text"
      },
      "source": [
        "Notice the NaN for the values missing in DataFrame 2 that could not be merged into DataFrame 1.\n",
        "\n",
        "The next type of **Merge** is the Right **Merge**. It is very similar to the left join with the main change being that the data from the DataFrame on the right is kept but the data from the left dataframe will be joined where applicable."
      ]
    },
    {
      "cell_type": "code",
      "metadata": {
        "id": "Bsheli2t2JDV",
        "colab_type": "code",
        "outputId": "44a2642e-733f-46c4-8ed9-68dea397747d",
        "colab": {
          "base_uri": "https://localhost:8080/",
          "height": 142
        }
      },
      "source": [
        "df1.merge(df2, on='Title',how='right')"
      ],
      "execution_count": 50,
      "outputs": [
        {
          "output_type": "execute_result",
          "data": {
            "text/html": [
              "<div>\n",
              "<style scoped>\n",
              "    .dataframe tbody tr th:only-of-type {\n",
              "        vertical-align: middle;\n",
              "    }\n",
              "\n",
              "    .dataframe tbody tr th {\n",
              "        vertical-align: top;\n",
              "    }\n",
              "\n",
              "    .dataframe thead th {\n",
              "        text-align: right;\n",
              "    }\n",
              "</style>\n",
              "<table border=\"1\" class=\"dataframe\">\n",
              "  <thead>\n",
              "    <tr style=\"text-align: right;\">\n",
              "      <th></th>\n",
              "      <th>Player_x</th>\n",
              "      <th>Points</th>\n",
              "      <th>Title</th>\n",
              "      <th>Player_y</th>\n",
              "      <th>Power</th>\n",
              "    </tr>\n",
              "  </thead>\n",
              "  <tbody>\n",
              "    <tr>\n",
              "      <th>0</th>\n",
              "      <td>Player1</td>\n",
              "      <td>8.0</td>\n",
              "      <td>Game1</td>\n",
              "      <td>Player1</td>\n",
              "      <td>Punch</td>\n",
              "    </tr>\n",
              "    <tr>\n",
              "      <th>1</th>\n",
              "      <td>NaN</td>\n",
              "      <td>NaN</td>\n",
              "      <td>Game5</td>\n",
              "      <td>Player5</td>\n",
              "      <td>Kick</td>\n",
              "    </tr>\n",
              "    <tr>\n",
              "      <th>2</th>\n",
              "      <td>NaN</td>\n",
              "      <td>NaN</td>\n",
              "      <td>Game6</td>\n",
              "      <td>Player6</td>\n",
              "      <td>Elbow</td>\n",
              "    </tr>\n",
              "  </tbody>\n",
              "</table>\n",
              "</div>"
            ],
            "text/plain": [
              "  Player_x  Points  Title Player_y  Power\n",
              "0  Player1     8.0  Game1  Player1  Punch\n",
              "1      NaN     NaN  Game5  Player5   Kick\n",
              "2      NaN     NaN  Game6  Player6  Elbow"
            ]
          },
          "metadata": {
            "tags": []
          },
          "execution_count": 50
        }
      ]
    },
    {
      "cell_type": "markdown",
      "metadata": {
        "id": "5MDmUsyM2JDZ",
        "colab_type": "text"
      },
      "source": [
        "The final **Merge** is the Outer **Merge**. With this **Merge** Pandas will **Merge** both DataFrames together on the joining variables and the non applicable variables will contain a NaN value."
      ]
    },
    {
      "cell_type": "code",
      "metadata": {
        "id": "Lzqn1dlD2JDb",
        "colab_type": "code",
        "outputId": "38064cd4-8796-4fdf-b4fb-d5fc7b269e83",
        "colab": {
          "base_uri": "https://localhost:8080/",
          "height": 204
        }
      },
      "source": [
        "df1.merge(df2, on='Title',how='outer')"
      ],
      "execution_count": 51,
      "outputs": [
        {
          "output_type": "execute_result",
          "data": {
            "text/html": [
              "<div>\n",
              "<style scoped>\n",
              "    .dataframe tbody tr th:only-of-type {\n",
              "        vertical-align: middle;\n",
              "    }\n",
              "\n",
              "    .dataframe tbody tr th {\n",
              "        vertical-align: top;\n",
              "    }\n",
              "\n",
              "    .dataframe thead th {\n",
              "        text-align: right;\n",
              "    }\n",
              "</style>\n",
              "<table border=\"1\" class=\"dataframe\">\n",
              "  <thead>\n",
              "    <tr style=\"text-align: right;\">\n",
              "      <th></th>\n",
              "      <th>Player_x</th>\n",
              "      <th>Points</th>\n",
              "      <th>Title</th>\n",
              "      <th>Player_y</th>\n",
              "      <th>Power</th>\n",
              "    </tr>\n",
              "  </thead>\n",
              "  <tbody>\n",
              "    <tr>\n",
              "      <th>0</th>\n",
              "      <td>Player1</td>\n",
              "      <td>8.0</td>\n",
              "      <td>Game1</td>\n",
              "      <td>Player1</td>\n",
              "      <td>Punch</td>\n",
              "    </tr>\n",
              "    <tr>\n",
              "      <th>1</th>\n",
              "      <td>Player2</td>\n",
              "      <td>9.0</td>\n",
              "      <td>Game2</td>\n",
              "      <td>NaN</td>\n",
              "      <td>NaN</td>\n",
              "    </tr>\n",
              "    <tr>\n",
              "      <th>2</th>\n",
              "      <td>Player3</td>\n",
              "      <td>6.0</td>\n",
              "      <td>Game3</td>\n",
              "      <td>NaN</td>\n",
              "      <td>NaN</td>\n",
              "    </tr>\n",
              "    <tr>\n",
              "      <th>3</th>\n",
              "      <td>NaN</td>\n",
              "      <td>NaN</td>\n",
              "      <td>Game5</td>\n",
              "      <td>Player5</td>\n",
              "      <td>Kick</td>\n",
              "    </tr>\n",
              "    <tr>\n",
              "      <th>4</th>\n",
              "      <td>NaN</td>\n",
              "      <td>NaN</td>\n",
              "      <td>Game6</td>\n",
              "      <td>Player6</td>\n",
              "      <td>Elbow</td>\n",
              "    </tr>\n",
              "  </tbody>\n",
              "</table>\n",
              "</div>"
            ],
            "text/plain": [
              "  Player_x  Points  Title Player_y  Power\n",
              "0  Player1     8.0  Game1  Player1  Punch\n",
              "1  Player2     9.0  Game2      NaN    NaN\n",
              "2  Player3     6.0  Game3      NaN    NaN\n",
              "3      NaN     NaN  Game5  Player5   Kick\n",
              "4      NaN     NaN  Game6  Player6  Elbow"
            ]
          },
          "metadata": {
            "tags": []
          },
          "execution_count": 51
        }
      ]
    },
    {
      "cell_type": "markdown",
      "metadata": {
        "id": "4wt0jofP2JDh",
        "colab_type": "text"
      },
      "source": [
        "## Join Function"
      ]
    },
    {
      "cell_type": "markdown",
      "metadata": {
        "id": "b-tn7ffp2JDi",
        "colab_type": "text"
      },
      "source": [
        "When we used the Merge function it was required for the data to have one similar attribute to join the two datasets however the join function merges the data on the index of the data and does not require a common variable to perform the merge. \n",
        "\n",
        "Let's start with creating two DataFrames that will be joined together at a later stage."
      ]
    },
    {
      "cell_type": "code",
      "metadata": {
        "id": "IqsGmU1b2JDn",
        "colab_type": "code",
        "outputId": "1de9487a-2678-4ff5-deff-9b676c1a0bef",
        "colab": {
          "base_uri": "https://localhost:8080/",
          "height": 142
        }
      },
      "source": [
        "#Data frame 3 creation\n",
        "player = ['Player1','Player2','Player3']\n",
        "point=[8,9,6]\n",
        "title=['Game1','Game2','Game3']\n",
        "\n",
        "df3 = pd.DataFrame({'Player':player,'Points':point,'Title':title},index=['L1','L2','L3'])\n",
        "df3"
      ],
      "execution_count": 52,
      "outputs": [
        {
          "output_type": "execute_result",
          "data": {
            "text/html": [
              "<div>\n",
              "<style scoped>\n",
              "    .dataframe tbody tr th:only-of-type {\n",
              "        vertical-align: middle;\n",
              "    }\n",
              "\n",
              "    .dataframe tbody tr th {\n",
              "        vertical-align: top;\n",
              "    }\n",
              "\n",
              "    .dataframe thead th {\n",
              "        text-align: right;\n",
              "    }\n",
              "</style>\n",
              "<table border=\"1\" class=\"dataframe\">\n",
              "  <thead>\n",
              "    <tr style=\"text-align: right;\">\n",
              "      <th></th>\n",
              "      <th>Player</th>\n",
              "      <th>Points</th>\n",
              "      <th>Title</th>\n",
              "    </tr>\n",
              "  </thead>\n",
              "  <tbody>\n",
              "    <tr>\n",
              "      <th>L1</th>\n",
              "      <td>Player1</td>\n",
              "      <td>8</td>\n",
              "      <td>Game1</td>\n",
              "    </tr>\n",
              "    <tr>\n",
              "      <th>L2</th>\n",
              "      <td>Player2</td>\n",
              "      <td>9</td>\n",
              "      <td>Game2</td>\n",
              "    </tr>\n",
              "    <tr>\n",
              "      <th>L3</th>\n",
              "      <td>Player3</td>\n",
              "      <td>6</td>\n",
              "      <td>Game3</td>\n",
              "    </tr>\n",
              "  </tbody>\n",
              "</table>\n",
              "</div>"
            ],
            "text/plain": [
              "     Player  Points  Title\n",
              "L1  Player1       8  Game1\n",
              "L2  Player2       9  Game2\n",
              "L3  Player3       6  Game3"
            ]
          },
          "metadata": {
            "tags": []
          },
          "execution_count": 52
        }
      ]
    },
    {
      "cell_type": "code",
      "metadata": {
        "id": "t_bOR9ws2JDt",
        "colab_type": "code",
        "outputId": "296214be-fc15-4c85-b679-035e47ec1fba",
        "colab": {
          "base_uri": "https://localhost:8080/",
          "height": 142
        }
      },
      "source": [
        "#Dataframe 4 creation\n",
        "\n",
        "player = ['Player1','Player5','Player6']\n",
        "power = ['Punch','Kick','Elbow']\n",
        "title=['Game1','Game5','Game6']\n",
        "df4 = pd.DataFrame({'Players':player,'Power':power,'Titles':title},index=['L2','L3','L4'])\n",
        "df4"
      ],
      "execution_count": 53,
      "outputs": [
        {
          "output_type": "execute_result",
          "data": {
            "text/html": [
              "<div>\n",
              "<style scoped>\n",
              "    .dataframe tbody tr th:only-of-type {\n",
              "        vertical-align: middle;\n",
              "    }\n",
              "\n",
              "    .dataframe tbody tr th {\n",
              "        vertical-align: top;\n",
              "    }\n",
              "\n",
              "    .dataframe thead th {\n",
              "        text-align: right;\n",
              "    }\n",
              "</style>\n",
              "<table border=\"1\" class=\"dataframe\">\n",
              "  <thead>\n",
              "    <tr style=\"text-align: right;\">\n",
              "      <th></th>\n",
              "      <th>Players</th>\n",
              "      <th>Power</th>\n",
              "      <th>Titles</th>\n",
              "    </tr>\n",
              "  </thead>\n",
              "  <tbody>\n",
              "    <tr>\n",
              "      <th>L2</th>\n",
              "      <td>Player1</td>\n",
              "      <td>Punch</td>\n",
              "      <td>Game1</td>\n",
              "    </tr>\n",
              "    <tr>\n",
              "      <th>L3</th>\n",
              "      <td>Player5</td>\n",
              "      <td>Kick</td>\n",
              "      <td>Game5</td>\n",
              "    </tr>\n",
              "    <tr>\n",
              "      <th>L4</th>\n",
              "      <td>Player6</td>\n",
              "      <td>Elbow</td>\n",
              "      <td>Game6</td>\n",
              "    </tr>\n",
              "  </tbody>\n",
              "</table>\n",
              "</div>"
            ],
            "text/plain": [
              "    Players  Power Titles\n",
              "L2  Player1  Punch  Game1\n",
              "L3  Player5   Kick  Game5\n",
              "L4  Player6  Elbow  Game6"
            ]
          },
          "metadata": {
            "tags": []
          },
          "execution_count": 53
        }
      ]
    },
    {
      "cell_type": "markdown",
      "metadata": {
        "id": "xPwyXNNu2JDx",
        "colab_type": "text"
      },
      "source": [
        "The first **Join** we will explore is the inner **Join**. Very much like the **Merge** function this will only combine the common indexes. \n",
        "\n",
        "One of the key differences between **Join** and **Merge** functions is the column names must not be the same in either DataFrame for the **Join** function. So in the example you will see the title and player names are different between the two DataFrames."
      ]
    },
    {
      "cell_type": "code",
      "metadata": {
        "id": "I2tSpM2J2JDy",
        "colab_type": "code",
        "outputId": "1968da37-8451-42d9-8960-e0d057ef0d71",
        "colab": {
          "base_uri": "https://localhost:8080/",
          "height": 111
        }
      },
      "source": [
        "df3.join(df4,how=\"inner\")"
      ],
      "execution_count": 54,
      "outputs": [
        {
          "output_type": "execute_result",
          "data": {
            "text/html": [
              "<div>\n",
              "<style scoped>\n",
              "    .dataframe tbody tr th:only-of-type {\n",
              "        vertical-align: middle;\n",
              "    }\n",
              "\n",
              "    .dataframe tbody tr th {\n",
              "        vertical-align: top;\n",
              "    }\n",
              "\n",
              "    .dataframe thead th {\n",
              "        text-align: right;\n",
              "    }\n",
              "</style>\n",
              "<table border=\"1\" class=\"dataframe\">\n",
              "  <thead>\n",
              "    <tr style=\"text-align: right;\">\n",
              "      <th></th>\n",
              "      <th>Player</th>\n",
              "      <th>Points</th>\n",
              "      <th>Title</th>\n",
              "      <th>Players</th>\n",
              "      <th>Power</th>\n",
              "      <th>Titles</th>\n",
              "    </tr>\n",
              "  </thead>\n",
              "  <tbody>\n",
              "    <tr>\n",
              "      <th>L2</th>\n",
              "      <td>Player2</td>\n",
              "      <td>9</td>\n",
              "      <td>Game2</td>\n",
              "      <td>Player1</td>\n",
              "      <td>Punch</td>\n",
              "      <td>Game1</td>\n",
              "    </tr>\n",
              "    <tr>\n",
              "      <th>L3</th>\n",
              "      <td>Player3</td>\n",
              "      <td>6</td>\n",
              "      <td>Game3</td>\n",
              "      <td>Player5</td>\n",
              "      <td>Kick</td>\n",
              "      <td>Game5</td>\n",
              "    </tr>\n",
              "  </tbody>\n",
              "</table>\n",
              "</div>"
            ],
            "text/plain": [
              "     Player  Points  Title  Players  Power Titles\n",
              "L2  Player2       9  Game2  Player1  Punch  Game1\n",
              "L3  Player3       6  Game3  Player5   Kick  Game5"
            ]
          },
          "metadata": {
            "tags": []
          },
          "execution_count": 54
        }
      ]
    },
    {
      "cell_type": "markdown",
      "metadata": {
        "id": "ViiHP8Vu2JD2",
        "colab_type": "text"
      },
      "source": [
        "The next **Join** is the left **Join**. Again like the **Merge** function of the same name it will keep all of the values in the left DataFrame and only join the matching data from the right DataFrame."
      ]
    },
    {
      "cell_type": "code",
      "metadata": {
        "id": "ARg-_2gd2JD4",
        "colab_type": "code",
        "outputId": "77a239a9-8387-4faf-cd52-7d42a1b5d25f",
        "colab": {
          "base_uri": "https://localhost:8080/",
          "height": 142
        }
      },
      "source": [
        "df3.join(df4,how=\"left\")"
      ],
      "execution_count": 55,
      "outputs": [
        {
          "output_type": "execute_result",
          "data": {
            "text/html": [
              "<div>\n",
              "<style scoped>\n",
              "    .dataframe tbody tr th:only-of-type {\n",
              "        vertical-align: middle;\n",
              "    }\n",
              "\n",
              "    .dataframe tbody tr th {\n",
              "        vertical-align: top;\n",
              "    }\n",
              "\n",
              "    .dataframe thead th {\n",
              "        text-align: right;\n",
              "    }\n",
              "</style>\n",
              "<table border=\"1\" class=\"dataframe\">\n",
              "  <thead>\n",
              "    <tr style=\"text-align: right;\">\n",
              "      <th></th>\n",
              "      <th>Player</th>\n",
              "      <th>Points</th>\n",
              "      <th>Title</th>\n",
              "      <th>Players</th>\n",
              "      <th>Power</th>\n",
              "      <th>Titles</th>\n",
              "    </tr>\n",
              "  </thead>\n",
              "  <tbody>\n",
              "    <tr>\n",
              "      <th>L1</th>\n",
              "      <td>Player1</td>\n",
              "      <td>8</td>\n",
              "      <td>Game1</td>\n",
              "      <td>NaN</td>\n",
              "      <td>NaN</td>\n",
              "      <td>NaN</td>\n",
              "    </tr>\n",
              "    <tr>\n",
              "      <th>L2</th>\n",
              "      <td>Player2</td>\n",
              "      <td>9</td>\n",
              "      <td>Game2</td>\n",
              "      <td>Player1</td>\n",
              "      <td>Punch</td>\n",
              "      <td>Game1</td>\n",
              "    </tr>\n",
              "    <tr>\n",
              "      <th>L3</th>\n",
              "      <td>Player3</td>\n",
              "      <td>6</td>\n",
              "      <td>Game3</td>\n",
              "      <td>Player5</td>\n",
              "      <td>Kick</td>\n",
              "      <td>Game5</td>\n",
              "    </tr>\n",
              "  </tbody>\n",
              "</table>\n",
              "</div>"
            ],
            "text/plain": [
              "     Player  Points  Title  Players  Power Titles\n",
              "L1  Player1       8  Game1      NaN    NaN    NaN\n",
              "L2  Player2       9  Game2  Player1  Punch  Game1\n",
              "L3  Player3       6  Game3  Player5   Kick  Game5"
            ]
          },
          "metadata": {
            "tags": []
          },
          "execution_count": 55
        }
      ]
    },
    {
      "cell_type": "markdown",
      "metadata": {
        "id": "Ort3xVcA2JD8",
        "colab_type": "text"
      },
      "source": [
        "The final **Join** is the outer **Join**. Just like before this **Join** will include all of the data from both datasets with NaN values filling in the spaces that is not common when we join the index."
      ]
    },
    {
      "cell_type": "code",
      "metadata": {
        "id": "dZzBMVlk2JD9",
        "colab_type": "code",
        "outputId": "33c38038-b66e-4b27-d233-42cf5c358aab",
        "colab": {
          "base_uri": "https://localhost:8080/",
          "height": 173
        }
      },
      "source": [
        "df3.join(df4,how=\"outer\")"
      ],
      "execution_count": 56,
      "outputs": [
        {
          "output_type": "execute_result",
          "data": {
            "text/html": [
              "<div>\n",
              "<style scoped>\n",
              "    .dataframe tbody tr th:only-of-type {\n",
              "        vertical-align: middle;\n",
              "    }\n",
              "\n",
              "    .dataframe tbody tr th {\n",
              "        vertical-align: top;\n",
              "    }\n",
              "\n",
              "    .dataframe thead th {\n",
              "        text-align: right;\n",
              "    }\n",
              "</style>\n",
              "<table border=\"1\" class=\"dataframe\">\n",
              "  <thead>\n",
              "    <tr style=\"text-align: right;\">\n",
              "      <th></th>\n",
              "      <th>Player</th>\n",
              "      <th>Points</th>\n",
              "      <th>Title</th>\n",
              "      <th>Players</th>\n",
              "      <th>Power</th>\n",
              "      <th>Titles</th>\n",
              "    </tr>\n",
              "  </thead>\n",
              "  <tbody>\n",
              "    <tr>\n",
              "      <th>L1</th>\n",
              "      <td>Player1</td>\n",
              "      <td>8.0</td>\n",
              "      <td>Game1</td>\n",
              "      <td>NaN</td>\n",
              "      <td>NaN</td>\n",
              "      <td>NaN</td>\n",
              "    </tr>\n",
              "    <tr>\n",
              "      <th>L2</th>\n",
              "      <td>Player2</td>\n",
              "      <td>9.0</td>\n",
              "      <td>Game2</td>\n",
              "      <td>Player1</td>\n",
              "      <td>Punch</td>\n",
              "      <td>Game1</td>\n",
              "    </tr>\n",
              "    <tr>\n",
              "      <th>L3</th>\n",
              "      <td>Player3</td>\n",
              "      <td>6.0</td>\n",
              "      <td>Game3</td>\n",
              "      <td>Player5</td>\n",
              "      <td>Kick</td>\n",
              "      <td>Game5</td>\n",
              "    </tr>\n",
              "    <tr>\n",
              "      <th>L4</th>\n",
              "      <td>NaN</td>\n",
              "      <td>NaN</td>\n",
              "      <td>NaN</td>\n",
              "      <td>Player6</td>\n",
              "      <td>Elbow</td>\n",
              "      <td>Game6</td>\n",
              "    </tr>\n",
              "  </tbody>\n",
              "</table>\n",
              "</div>"
            ],
            "text/plain": [
              "     Player  Points  Title  Players  Power Titles\n",
              "L1  Player1     8.0  Game1      NaN    NaN    NaN\n",
              "L2  Player2     9.0  Game2  Player1  Punch  Game1\n",
              "L3  Player3     6.0  Game3  Player5   Kick  Game5\n",
              "L4      NaN     NaN    NaN  Player6  Elbow  Game6"
            ]
          },
          "metadata": {
            "tags": []
          },
          "execution_count": 56
        }
      ]
    },
    {
      "cell_type": "markdown",
      "metadata": {
        "id": "3KpCgvtH2JEC",
        "colab_type": "text"
      },
      "source": [
        "## Concaternations"
      ]
    },
    {
      "cell_type": "markdown",
      "metadata": {
        "id": "I3nU1mjN2JED",
        "colab_type": "text"
      },
      "source": [
        "**Concaternations** is the final method to combine two DataSets together. This does not perform a **Join** action but rather puts the two datasets on top of each other.\n",
        "\n",
        "Using the same two DataSets as before we will **Concatenate** them and see the final results. Please note the inclusion of the NaN values."
      ]
    },
    {
      "cell_type": "code",
      "metadata": {
        "id": "F5opkZrn2JEF",
        "colab_type": "code",
        "outputId": "c21cb623-1c0d-41a9-d73c-85a5b661df56",
        "colab": {
          "base_uri": "https://localhost:8080/",
          "height": 235
        }
      },
      "source": [
        "pd.concat([df3,df4],sort=True)"
      ],
      "execution_count": 57,
      "outputs": [
        {
          "output_type": "execute_result",
          "data": {
            "text/html": [
              "<div>\n",
              "<style scoped>\n",
              "    .dataframe tbody tr th:only-of-type {\n",
              "        vertical-align: middle;\n",
              "    }\n",
              "\n",
              "    .dataframe tbody tr th {\n",
              "        vertical-align: top;\n",
              "    }\n",
              "\n",
              "    .dataframe thead th {\n",
              "        text-align: right;\n",
              "    }\n",
              "</style>\n",
              "<table border=\"1\" class=\"dataframe\">\n",
              "  <thead>\n",
              "    <tr style=\"text-align: right;\">\n",
              "      <th></th>\n",
              "      <th>Player</th>\n",
              "      <th>Players</th>\n",
              "      <th>Points</th>\n",
              "      <th>Power</th>\n",
              "      <th>Title</th>\n",
              "      <th>Titles</th>\n",
              "    </tr>\n",
              "  </thead>\n",
              "  <tbody>\n",
              "    <tr>\n",
              "      <th>L1</th>\n",
              "      <td>Player1</td>\n",
              "      <td>NaN</td>\n",
              "      <td>8.0</td>\n",
              "      <td>NaN</td>\n",
              "      <td>Game1</td>\n",
              "      <td>NaN</td>\n",
              "    </tr>\n",
              "    <tr>\n",
              "      <th>L2</th>\n",
              "      <td>Player2</td>\n",
              "      <td>NaN</td>\n",
              "      <td>9.0</td>\n",
              "      <td>NaN</td>\n",
              "      <td>Game2</td>\n",
              "      <td>NaN</td>\n",
              "    </tr>\n",
              "    <tr>\n",
              "      <th>L3</th>\n",
              "      <td>Player3</td>\n",
              "      <td>NaN</td>\n",
              "      <td>6.0</td>\n",
              "      <td>NaN</td>\n",
              "      <td>Game3</td>\n",
              "      <td>NaN</td>\n",
              "    </tr>\n",
              "    <tr>\n",
              "      <th>L2</th>\n",
              "      <td>NaN</td>\n",
              "      <td>Player1</td>\n",
              "      <td>NaN</td>\n",
              "      <td>Punch</td>\n",
              "      <td>NaN</td>\n",
              "      <td>Game1</td>\n",
              "    </tr>\n",
              "    <tr>\n",
              "      <th>L3</th>\n",
              "      <td>NaN</td>\n",
              "      <td>Player5</td>\n",
              "      <td>NaN</td>\n",
              "      <td>Kick</td>\n",
              "      <td>NaN</td>\n",
              "      <td>Game5</td>\n",
              "    </tr>\n",
              "    <tr>\n",
              "      <th>L4</th>\n",
              "      <td>NaN</td>\n",
              "      <td>Player6</td>\n",
              "      <td>NaN</td>\n",
              "      <td>Elbow</td>\n",
              "      <td>NaN</td>\n",
              "      <td>Game6</td>\n",
              "    </tr>\n",
              "  </tbody>\n",
              "</table>\n",
              "</div>"
            ],
            "text/plain": [
              "     Player  Players  Points  Power  Title Titles\n",
              "L1  Player1      NaN     8.0    NaN  Game1    NaN\n",
              "L2  Player2      NaN     9.0    NaN  Game2    NaN\n",
              "L3  Player3      NaN     6.0    NaN  Game3    NaN\n",
              "L2      NaN  Player1     NaN  Punch    NaN  Game1\n",
              "L3      NaN  Player5     NaN   Kick    NaN  Game5\n",
              "L4      NaN  Player6     NaN  Elbow    NaN  Game6"
            ]
          },
          "metadata": {
            "tags": []
          },
          "execution_count": 57
        }
      ]
    },
    {
      "cell_type": "markdown",
      "metadata": {
        "id": "gxZ--Mu_2JEJ",
        "colab_type": "text"
      },
      "source": [
        "## Importing and analysing a dataset"
      ]
    },
    {
      "cell_type": "markdown",
      "metadata": {
        "id": "z9DpChU02JEL",
        "colab_type": "text"
      },
      "source": [
        "One of the key elements that we need to look at with any data science project is the importation of data we will cover this in the next section.\n",
        "\n",
        "The first import function will be how to import a csv file using the pandas function:"
      ]
    },
    {
      "cell_type": "code",
      "metadata": {
        "id": "0AZDUkpA2JEN",
        "colab_type": "code",
        "outputId": "1e9c9e68-e15e-46ae-cda2-c0319a464a26",
        "colab": {
          "base_uri": "https://localhost:8080/",
          "height": 606
        }
      },
      "source": [
        "data_in =pd.read_csv('Ratings.csv')\n",
        "\n",
        "data_in"
      ],
      "execution_count": 58,
      "outputs": [
        {
          "output_type": "execute_result",
          "data": {
            "text/html": [
              "<div>\n",
              "<style scoped>\n",
              "    .dataframe tbody tr th:only-of-type {\n",
              "        vertical-align: middle;\n",
              "    }\n",
              "\n",
              "    .dataframe tbody tr th {\n",
              "        vertical-align: top;\n",
              "    }\n",
              "\n",
              "    .dataframe thead th {\n",
              "        text-align: right;\n",
              "    }\n",
              "</style>\n",
              "<table border=\"1\" class=\"dataframe\">\n",
              "  <thead>\n",
              "    <tr style=\"text-align: right;\">\n",
              "      <th></th>\n",
              "      <th>Const</th>\n",
              "      <th>Your Rating</th>\n",
              "      <th>Date Rated</th>\n",
              "      <th>Title</th>\n",
              "      <th>URL</th>\n",
              "      <th>Title Type</th>\n",
              "      <th>IMDb Rating</th>\n",
              "      <th>Runtime (mins)</th>\n",
              "      <th>Year</th>\n",
              "      <th>Genres</th>\n",
              "      <th>Num Votes</th>\n",
              "      <th>Release Date</th>\n",
              "      <th>Directors</th>\n",
              "    </tr>\n",
              "  </thead>\n",
              "  <tbody>\n",
              "    <tr>\n",
              "      <th>0</th>\n",
              "      <td>tt0100157</td>\n",
              "      <td>8</td>\n",
              "      <td>2014-04-21</td>\n",
              "      <td>Misery</td>\n",
              "      <td>https://www.imdb.com/title/tt0100157/</td>\n",
              "      <td>movie</td>\n",
              "      <td>7.8</td>\n",
              "      <td>107</td>\n",
              "      <td>1990</td>\n",
              "      <td>Drama, Thriller</td>\n",
              "      <td>171962</td>\n",
              "      <td>1990-11-29</td>\n",
              "      <td>Rob Reiner</td>\n",
              "    </tr>\n",
              "    <tr>\n",
              "      <th>1</th>\n",
              "      <td>tt0100405</td>\n",
              "      <td>7</td>\n",
              "      <td>2019-06-16</td>\n",
              "      <td>Pretty Woman</td>\n",
              "      <td>https://www.imdb.com/title/tt0100405/</td>\n",
              "      <td>movie</td>\n",
              "      <td>7.0</td>\n",
              "      <td>119</td>\n",
              "      <td>1990</td>\n",
              "      <td>Comedy, Romance</td>\n",
              "      <td>271083</td>\n",
              "      <td>1990-03-23</td>\n",
              "      <td>Garry Marshall</td>\n",
              "    </tr>\n",
              "    <tr>\n",
              "      <th>2</th>\n",
              "      <td>tt1007029</td>\n",
              "      <td>7</td>\n",
              "      <td>2014-04-22</td>\n",
              "      <td>The Iron Lady</td>\n",
              "      <td>https://www.imdb.com/title/tt1007029/</td>\n",
              "      <td>movie</td>\n",
              "      <td>6.4</td>\n",
              "      <td>105</td>\n",
              "      <td>2011</td>\n",
              "      <td>Biography, Drama</td>\n",
              "      <td>98773</td>\n",
              "      <td>2011-12-26</td>\n",
              "      <td>Phyllida Lloyd</td>\n",
              "    </tr>\n",
              "    <tr>\n",
              "      <th>3</th>\n",
              "      <td>tt1010048</td>\n",
              "      <td>7</td>\n",
              "      <td>2015-03-13</td>\n",
              "      <td>Slumdog Millionaire</td>\n",
              "      <td>https://www.imdb.com/title/tt1010048/</td>\n",
              "      <td>movie</td>\n",
              "      <td>8.0</td>\n",
              "      <td>120</td>\n",
              "      <td>2008</td>\n",
              "      <td>Drama, Romance</td>\n",
              "      <td>766624</td>\n",
              "      <td>2008-08-30</td>\n",
              "      <td>Loveleen Tandan, Danny Boyle</td>\n",
              "    </tr>\n",
              "    <tr>\n",
              "      <th>4</th>\n",
              "      <td>tt0101272</td>\n",
              "      <td>7</td>\n",
              "      <td>2014-04-21</td>\n",
              "      <td>The Addams Family</td>\n",
              "      <td>https://www.imdb.com/title/tt0101272/</td>\n",
              "      <td>movie</td>\n",
              "      <td>6.9</td>\n",
              "      <td>99</td>\n",
              "      <td>1991</td>\n",
              "      <td>Comedy, Fantasy</td>\n",
              "      <td>123080</td>\n",
              "      <td>1991-11-19</td>\n",
              "      <td>Barry Sonnenfeld</td>\n",
              "    </tr>\n",
              "    <tr>\n",
              "      <th>...</th>\n",
              "      <td>...</td>\n",
              "      <td>...</td>\n",
              "      <td>...</td>\n",
              "      <td>...</td>\n",
              "      <td>...</td>\n",
              "      <td>...</td>\n",
              "      <td>...</td>\n",
              "      <td>...</td>\n",
              "      <td>...</td>\n",
              "      <td>...</td>\n",
              "      <td>...</td>\n",
              "      <td>...</td>\n",
              "      <td>...</td>\n",
              "    </tr>\n",
              "    <tr>\n",
              "      <th>701</th>\n",
              "      <td>tt0099088</td>\n",
              "      <td>8</td>\n",
              "      <td>2015-02-27</td>\n",
              "      <td>Back to the Future Part III</td>\n",
              "      <td>https://www.imdb.com/title/tt0099088/</td>\n",
              "      <td>movie</td>\n",
              "      <td>7.4</td>\n",
              "      <td>118</td>\n",
              "      <td>1990</td>\n",
              "      <td>Adventure, Comedy, Sci-Fi, Western</td>\n",
              "      <td>376811</td>\n",
              "      <td>1990-05-25</td>\n",
              "      <td>Robert Zemeckis</td>\n",
              "    </tr>\n",
              "    <tr>\n",
              "      <th>702</th>\n",
              "      <td>tt0993846</td>\n",
              "      <td>9</td>\n",
              "      <td>2014-06-02</td>\n",
              "      <td>The Wolf of Wall Street</td>\n",
              "      <td>https://www.imdb.com/title/tt0993846/</td>\n",
              "      <td>movie</td>\n",
              "      <td>8.2</td>\n",
              "      <td>180</td>\n",
              "      <td>2013</td>\n",
              "      <td>Biography, Crime, Drama</td>\n",
              "      <td>1087889</td>\n",
              "      <td>2013-12-09</td>\n",
              "      <td>Martin Scorsese</td>\n",
              "    </tr>\n",
              "    <tr>\n",
              "      <th>703</th>\n",
              "      <td>tt0099487</td>\n",
              "      <td>8</td>\n",
              "      <td>2015-02-20</td>\n",
              "      <td>Edward Scissorhands</td>\n",
              "      <td>https://www.imdb.com/title/tt0099487/</td>\n",
              "      <td>movie</td>\n",
              "      <td>7.9</td>\n",
              "      <td>105</td>\n",
              "      <td>1990</td>\n",
              "      <td>Drama, Fantasy, Romance</td>\n",
              "      <td>426764</td>\n",
              "      <td>1990-12-06</td>\n",
              "      <td>Tim Burton</td>\n",
              "    </tr>\n",
              "    <tr>\n",
              "      <th>704</th>\n",
              "      <td>tt0099653</td>\n",
              "      <td>8</td>\n",
              "      <td>2015-02-20</td>\n",
              "      <td>Ghost</td>\n",
              "      <td>https://www.imdb.com/title/tt0099653/</td>\n",
              "      <td>movie</td>\n",
              "      <td>7.0</td>\n",
              "      <td>127</td>\n",
              "      <td>1990</td>\n",
              "      <td>Drama, Fantasy, Romance, Thriller</td>\n",
              "      <td>186060</td>\n",
              "      <td>1990-07-13</td>\n",
              "      <td>Jerry Zucker</td>\n",
              "    </tr>\n",
              "    <tr>\n",
              "      <th>705</th>\n",
              "      <td>tt0099864</td>\n",
              "      <td>7</td>\n",
              "      <td>2015-02-20</td>\n",
              "      <td>It</td>\n",
              "      <td>https://www.imdb.com/title/tt0099864/</td>\n",
              "      <td>tvMiniSeries</td>\n",
              "      <td>6.8</td>\n",
              "      <td>192</td>\n",
              "      <td>1990</td>\n",
              "      <td>Drama, Horror, Mystery, Thriller</td>\n",
              "      <td>110099</td>\n",
              "      <td>1990-11-18</td>\n",
              "      <td>NaN</td>\n",
              "    </tr>\n",
              "  </tbody>\n",
              "</table>\n",
              "<p>706 rows × 13 columns</p>\n",
              "</div>"
            ],
            "text/plain": [
              "         Const  Your Rating  ... Release Date                     Directors\n",
              "0    tt0100157            8  ...   1990-11-29                    Rob Reiner\n",
              "1    tt0100405            7  ...   1990-03-23                Garry Marshall\n",
              "2    tt1007029            7  ...   2011-12-26                Phyllida Lloyd\n",
              "3    tt1010048            7  ...   2008-08-30  Loveleen Tandan, Danny Boyle\n",
              "4    tt0101272            7  ...   1991-11-19              Barry Sonnenfeld\n",
              "..         ...          ...  ...          ...                           ...\n",
              "701  tt0099088            8  ...   1990-05-25               Robert Zemeckis\n",
              "702  tt0993846            9  ...   2013-12-09               Martin Scorsese\n",
              "703  tt0099487            8  ...   1990-12-06                    Tim Burton\n",
              "704  tt0099653            8  ...   1990-07-13                  Jerry Zucker\n",
              "705  tt0099864            7  ...   1990-11-18                           NaN\n",
              "\n",
              "[706 rows x 13 columns]"
            ]
          },
          "metadata": {
            "tags": []
          },
          "execution_count": 58
        }
      ]
    },
    {
      "cell_type": "markdown",
      "metadata": {
        "id": "fSwMA-Sl2JER",
        "colab_type": "text"
      },
      "source": [
        "With the newly imported data we can find out how python has imported it by checking the **type**."
      ]
    },
    {
      "cell_type": "code",
      "metadata": {
        "id": "Z3OfXoBS2JET",
        "colab_type": "code",
        "colab": {
          "base_uri": "https://localhost:8080/",
          "height": 34
        },
        "outputId": "70c132c7-80bb-453b-b759-c735744e8e97"
      },
      "source": [
        "type(data_in)"
      ],
      "execution_count": 59,
      "outputs": [
        {
          "output_type": "execute_result",
          "data": {
            "text/plain": [
              "pandas.core.frame.DataFrame"
            ]
          },
          "metadata": {
            "tags": []
          },
          "execution_count": 59
        }
      ]
    },
    {
      "cell_type": "markdown",
      "metadata": {
        "id": "geiUcg4u2JEc",
        "colab_type": "text"
      },
      "source": [
        "There may be moments when we need to look at certain parts of the data but don't want to view the full data set. \n",
        "\n",
        "There is where the head and tail comes in use. You can either keep the default of looking at the 5 values or parse a number for the number of rows you want to look at.\n",
        "\n",
        "If it is the start of the data you will use the head function and the bottom of the data you will use tail."
      ]
    },
    {
      "cell_type": "code",
      "metadata": {
        "id": "cONt9o2i2JEd",
        "colab_type": "code",
        "colab": {
          "base_uri": "https://localhost:8080/",
          "height": 289
        },
        "outputId": "dc3a0fbe-2205-47c1-952e-595911fd0dc4"
      },
      "source": [
        "data_in.head()"
      ],
      "execution_count": 60,
      "outputs": [
        {
          "output_type": "execute_result",
          "data": {
            "text/html": [
              "<div>\n",
              "<style scoped>\n",
              "    .dataframe tbody tr th:only-of-type {\n",
              "        vertical-align: middle;\n",
              "    }\n",
              "\n",
              "    .dataframe tbody tr th {\n",
              "        vertical-align: top;\n",
              "    }\n",
              "\n",
              "    .dataframe thead th {\n",
              "        text-align: right;\n",
              "    }\n",
              "</style>\n",
              "<table border=\"1\" class=\"dataframe\">\n",
              "  <thead>\n",
              "    <tr style=\"text-align: right;\">\n",
              "      <th></th>\n",
              "      <th>Const</th>\n",
              "      <th>Your Rating</th>\n",
              "      <th>Date Rated</th>\n",
              "      <th>Title</th>\n",
              "      <th>URL</th>\n",
              "      <th>Title Type</th>\n",
              "      <th>IMDb Rating</th>\n",
              "      <th>Runtime (mins)</th>\n",
              "      <th>Year</th>\n",
              "      <th>Genres</th>\n",
              "      <th>Num Votes</th>\n",
              "      <th>Release Date</th>\n",
              "      <th>Directors</th>\n",
              "    </tr>\n",
              "  </thead>\n",
              "  <tbody>\n",
              "    <tr>\n",
              "      <th>0</th>\n",
              "      <td>tt0100157</td>\n",
              "      <td>8</td>\n",
              "      <td>2014-04-21</td>\n",
              "      <td>Misery</td>\n",
              "      <td>https://www.imdb.com/title/tt0100157/</td>\n",
              "      <td>movie</td>\n",
              "      <td>7.8</td>\n",
              "      <td>107</td>\n",
              "      <td>1990</td>\n",
              "      <td>Drama, Thriller</td>\n",
              "      <td>171962</td>\n",
              "      <td>1990-11-29</td>\n",
              "      <td>Rob Reiner</td>\n",
              "    </tr>\n",
              "    <tr>\n",
              "      <th>1</th>\n",
              "      <td>tt0100405</td>\n",
              "      <td>7</td>\n",
              "      <td>2019-06-16</td>\n",
              "      <td>Pretty Woman</td>\n",
              "      <td>https://www.imdb.com/title/tt0100405/</td>\n",
              "      <td>movie</td>\n",
              "      <td>7.0</td>\n",
              "      <td>119</td>\n",
              "      <td>1990</td>\n",
              "      <td>Comedy, Romance</td>\n",
              "      <td>271083</td>\n",
              "      <td>1990-03-23</td>\n",
              "      <td>Garry Marshall</td>\n",
              "    </tr>\n",
              "    <tr>\n",
              "      <th>2</th>\n",
              "      <td>tt1007029</td>\n",
              "      <td>7</td>\n",
              "      <td>2014-04-22</td>\n",
              "      <td>The Iron Lady</td>\n",
              "      <td>https://www.imdb.com/title/tt1007029/</td>\n",
              "      <td>movie</td>\n",
              "      <td>6.4</td>\n",
              "      <td>105</td>\n",
              "      <td>2011</td>\n",
              "      <td>Biography, Drama</td>\n",
              "      <td>98773</td>\n",
              "      <td>2011-12-26</td>\n",
              "      <td>Phyllida Lloyd</td>\n",
              "    </tr>\n",
              "    <tr>\n",
              "      <th>3</th>\n",
              "      <td>tt1010048</td>\n",
              "      <td>7</td>\n",
              "      <td>2015-03-13</td>\n",
              "      <td>Slumdog Millionaire</td>\n",
              "      <td>https://www.imdb.com/title/tt1010048/</td>\n",
              "      <td>movie</td>\n",
              "      <td>8.0</td>\n",
              "      <td>120</td>\n",
              "      <td>2008</td>\n",
              "      <td>Drama, Romance</td>\n",
              "      <td>766624</td>\n",
              "      <td>2008-08-30</td>\n",
              "      <td>Loveleen Tandan, Danny Boyle</td>\n",
              "    </tr>\n",
              "    <tr>\n",
              "      <th>4</th>\n",
              "      <td>tt0101272</td>\n",
              "      <td>7</td>\n",
              "      <td>2014-04-21</td>\n",
              "      <td>The Addams Family</td>\n",
              "      <td>https://www.imdb.com/title/tt0101272/</td>\n",
              "      <td>movie</td>\n",
              "      <td>6.9</td>\n",
              "      <td>99</td>\n",
              "      <td>1991</td>\n",
              "      <td>Comedy, Fantasy</td>\n",
              "      <td>123080</td>\n",
              "      <td>1991-11-19</td>\n",
              "      <td>Barry Sonnenfeld</td>\n",
              "    </tr>\n",
              "  </tbody>\n",
              "</table>\n",
              "</div>"
            ],
            "text/plain": [
              "       Const  Your Rating  ... Release Date                     Directors\n",
              "0  tt0100157            8  ...   1990-11-29                    Rob Reiner\n",
              "1  tt0100405            7  ...   1990-03-23                Garry Marshall\n",
              "2  tt1007029            7  ...   2011-12-26                Phyllida Lloyd\n",
              "3  tt1010048            7  ...   2008-08-30  Loveleen Tandan, Danny Boyle\n",
              "4  tt0101272            7  ...   1991-11-19              Barry Sonnenfeld\n",
              "\n",
              "[5 rows x 13 columns]"
            ]
          },
          "metadata": {
            "tags": []
          },
          "execution_count": 60
        }
      ]
    },
    {
      "cell_type": "markdown",
      "metadata": {
        "id": "20cLM1yOdQJ-",
        "colab_type": "text"
      },
      "source": [
        "The default **head** function will show up a default of the top 5 values however we can parse in a value to increase the display (For instance 10 below):"
      ]
    },
    {
      "cell_type": "code",
      "metadata": {
        "id": "DWCjmOXz2JEh",
        "colab_type": "code",
        "colab": {
          "base_uri": "https://localhost:8080/",
          "height": 546
        },
        "outputId": "bf43dc80-4aa0-4cd3-d583-3fbdb68bbbdf"
      },
      "source": [
        "data_in.head(10)"
      ],
      "execution_count": 61,
      "outputs": [
        {
          "output_type": "execute_result",
          "data": {
            "text/html": [
              "<div>\n",
              "<style scoped>\n",
              "    .dataframe tbody tr th:only-of-type {\n",
              "        vertical-align: middle;\n",
              "    }\n",
              "\n",
              "    .dataframe tbody tr th {\n",
              "        vertical-align: top;\n",
              "    }\n",
              "\n",
              "    .dataframe thead th {\n",
              "        text-align: right;\n",
              "    }\n",
              "</style>\n",
              "<table border=\"1\" class=\"dataframe\">\n",
              "  <thead>\n",
              "    <tr style=\"text-align: right;\">\n",
              "      <th></th>\n",
              "      <th>Const</th>\n",
              "      <th>Your Rating</th>\n",
              "      <th>Date Rated</th>\n",
              "      <th>Title</th>\n",
              "      <th>URL</th>\n",
              "      <th>Title Type</th>\n",
              "      <th>IMDb Rating</th>\n",
              "      <th>Runtime (mins)</th>\n",
              "      <th>Year</th>\n",
              "      <th>Genres</th>\n",
              "      <th>Num Votes</th>\n",
              "      <th>Release Date</th>\n",
              "      <th>Directors</th>\n",
              "    </tr>\n",
              "  </thead>\n",
              "  <tbody>\n",
              "    <tr>\n",
              "      <th>0</th>\n",
              "      <td>tt0100157</td>\n",
              "      <td>8</td>\n",
              "      <td>2014-04-21</td>\n",
              "      <td>Misery</td>\n",
              "      <td>https://www.imdb.com/title/tt0100157/</td>\n",
              "      <td>movie</td>\n",
              "      <td>7.8</td>\n",
              "      <td>107</td>\n",
              "      <td>1990</td>\n",
              "      <td>Drama, Thriller</td>\n",
              "      <td>171962</td>\n",
              "      <td>1990-11-29</td>\n",
              "      <td>Rob Reiner</td>\n",
              "    </tr>\n",
              "    <tr>\n",
              "      <th>1</th>\n",
              "      <td>tt0100405</td>\n",
              "      <td>7</td>\n",
              "      <td>2019-06-16</td>\n",
              "      <td>Pretty Woman</td>\n",
              "      <td>https://www.imdb.com/title/tt0100405/</td>\n",
              "      <td>movie</td>\n",
              "      <td>7.0</td>\n",
              "      <td>119</td>\n",
              "      <td>1990</td>\n",
              "      <td>Comedy, Romance</td>\n",
              "      <td>271083</td>\n",
              "      <td>1990-03-23</td>\n",
              "      <td>Garry Marshall</td>\n",
              "    </tr>\n",
              "    <tr>\n",
              "      <th>2</th>\n",
              "      <td>tt1007029</td>\n",
              "      <td>7</td>\n",
              "      <td>2014-04-22</td>\n",
              "      <td>The Iron Lady</td>\n",
              "      <td>https://www.imdb.com/title/tt1007029/</td>\n",
              "      <td>movie</td>\n",
              "      <td>6.4</td>\n",
              "      <td>105</td>\n",
              "      <td>2011</td>\n",
              "      <td>Biography, Drama</td>\n",
              "      <td>98773</td>\n",
              "      <td>2011-12-26</td>\n",
              "      <td>Phyllida Lloyd</td>\n",
              "    </tr>\n",
              "    <tr>\n",
              "      <th>3</th>\n",
              "      <td>tt1010048</td>\n",
              "      <td>7</td>\n",
              "      <td>2015-03-13</td>\n",
              "      <td>Slumdog Millionaire</td>\n",
              "      <td>https://www.imdb.com/title/tt1010048/</td>\n",
              "      <td>movie</td>\n",
              "      <td>8.0</td>\n",
              "      <td>120</td>\n",
              "      <td>2008</td>\n",
              "      <td>Drama, Romance</td>\n",
              "      <td>766624</td>\n",
              "      <td>2008-08-30</td>\n",
              "      <td>Loveleen Tandan, Danny Boyle</td>\n",
              "    </tr>\n",
              "    <tr>\n",
              "      <th>4</th>\n",
              "      <td>tt0101272</td>\n",
              "      <td>7</td>\n",
              "      <td>2014-04-21</td>\n",
              "      <td>The Addams Family</td>\n",
              "      <td>https://www.imdb.com/title/tt0101272/</td>\n",
              "      <td>movie</td>\n",
              "      <td>6.9</td>\n",
              "      <td>99</td>\n",
              "      <td>1991</td>\n",
              "      <td>Comedy, Fantasy</td>\n",
              "      <td>123080</td>\n",
              "      <td>1991-11-19</td>\n",
              "      <td>Barry Sonnenfeld</td>\n",
              "    </tr>\n",
              "    <tr>\n",
              "      <th>5</th>\n",
              "      <td>tt1013752</td>\n",
              "      <td>7</td>\n",
              "      <td>2014-04-21</td>\n",
              "      <td>Fast &amp; Furious</td>\n",
              "      <td>https://www.imdb.com/title/tt1013752/</td>\n",
              "      <td>movie</td>\n",
              "      <td>6.6</td>\n",
              "      <td>107</td>\n",
              "      <td>2009</td>\n",
              "      <td>Action, Adventure, Thriller</td>\n",
              "      <td>250291</td>\n",
              "      <td>2009-03-12</td>\n",
              "      <td>Justin Lin</td>\n",
              "    </tr>\n",
              "    <tr>\n",
              "      <th>6</th>\n",
              "      <td>tt1013977</td>\n",
              "      <td>9</td>\n",
              "      <td>2014-05-05</td>\n",
              "      <td>Dexter: It's Alive!</td>\n",
              "      <td>https://www.imdb.com/title/tt1013977/</td>\n",
              "      <td>tvEpisode</td>\n",
              "      <td>8.8</td>\n",
              "      <td>53</td>\n",
              "      <td>2007</td>\n",
              "      <td>Crime, Drama, Mystery, Thriller</td>\n",
              "      <td>4036</td>\n",
              "      <td>2007-09-30</td>\n",
              "      <td>Tony Goldwyn</td>\n",
              "    </tr>\n",
              "    <tr>\n",
              "      <th>7</th>\n",
              "      <td>tt1013981</td>\n",
              "      <td>9</td>\n",
              "      <td>2014-05-05</td>\n",
              "      <td>Dexter: Waiting to Exhale</td>\n",
              "      <td>https://www.imdb.com/title/tt1013981/</td>\n",
              "      <td>tvEpisode</td>\n",
              "      <td>8.6</td>\n",
              "      <td>56</td>\n",
              "      <td>2007</td>\n",
              "      <td>Crime, Drama, Mystery, Thriller</td>\n",
              "      <td>3643</td>\n",
              "      <td>2007-10-07</td>\n",
              "      <td>Marcos Siega</td>\n",
              "    </tr>\n",
              "    <tr>\n",
              "      <th>8</th>\n",
              "      <td>tt1013982</td>\n",
              "      <td>8</td>\n",
              "      <td>2014-05-05</td>\n",
              "      <td>Dexter: An Inconvenient Lie</td>\n",
              "      <td>https://www.imdb.com/title/tt1013982/</td>\n",
              "      <td>tvEpisode</td>\n",
              "      <td>8.7</td>\n",
              "      <td>52</td>\n",
              "      <td>2007</td>\n",
              "      <td>Crime, Drama, Mystery, Thriller</td>\n",
              "      <td>3609</td>\n",
              "      <td>2007-10-14</td>\n",
              "      <td>Tony Goldwyn</td>\n",
              "    </tr>\n",
              "    <tr>\n",
              "      <th>9</th>\n",
              "      <td>tt1013983</td>\n",
              "      <td>8</td>\n",
              "      <td>2014-05-07</td>\n",
              "      <td>Dexter: See-Through</td>\n",
              "      <td>https://www.imdb.com/title/tt1013983/</td>\n",
              "      <td>tvEpisode</td>\n",
              "      <td>8.5</td>\n",
              "      <td>53</td>\n",
              "      <td>2007</td>\n",
              "      <td>Crime, Drama, Mystery, Thriller</td>\n",
              "      <td>3443</td>\n",
              "      <td>2007-10-21</td>\n",
              "      <td>Nick Gomez</td>\n",
              "    </tr>\n",
              "  </tbody>\n",
              "</table>\n",
              "</div>"
            ],
            "text/plain": [
              "       Const  Your Rating  ... Release Date                     Directors\n",
              "0  tt0100157            8  ...   1990-11-29                    Rob Reiner\n",
              "1  tt0100405            7  ...   1990-03-23                Garry Marshall\n",
              "2  tt1007029            7  ...   2011-12-26                Phyllida Lloyd\n",
              "3  tt1010048            7  ...   2008-08-30  Loveleen Tandan, Danny Boyle\n",
              "4  tt0101272            7  ...   1991-11-19              Barry Sonnenfeld\n",
              "5  tt1013752            7  ...   2009-03-12                    Justin Lin\n",
              "6  tt1013977            9  ...   2007-09-30                  Tony Goldwyn\n",
              "7  tt1013981            9  ...   2007-10-07                  Marcos Siega\n",
              "8  tt1013982            8  ...   2007-10-14                  Tony Goldwyn\n",
              "9  tt1013983            8  ...   2007-10-21                    Nick Gomez\n",
              "\n",
              "[10 rows x 13 columns]"
            ]
          },
          "metadata": {
            "tags": []
          },
          "execution_count": 61
        }
      ]
    },
    {
      "cell_type": "markdown",
      "metadata": {
        "id": "qhEYhaF8dfhd",
        "colab_type": "text"
      },
      "source": [
        "The same applys to the **tail** function:"
      ]
    },
    {
      "cell_type": "code",
      "metadata": {
        "id": "g8QPRR4y2JEr",
        "colab_type": "code",
        "colab": {
          "base_uri": "https://localhost:8080/",
          "height": 306
        },
        "outputId": "73334e30-c250-4e5d-d27d-5cfc72e02f72"
      },
      "source": [
        "data_in.tail()"
      ],
      "execution_count": 62,
      "outputs": [
        {
          "output_type": "execute_result",
          "data": {
            "text/html": [
              "<div>\n",
              "<style scoped>\n",
              "    .dataframe tbody tr th:only-of-type {\n",
              "        vertical-align: middle;\n",
              "    }\n",
              "\n",
              "    .dataframe tbody tr th {\n",
              "        vertical-align: top;\n",
              "    }\n",
              "\n",
              "    .dataframe thead th {\n",
              "        text-align: right;\n",
              "    }\n",
              "</style>\n",
              "<table border=\"1\" class=\"dataframe\">\n",
              "  <thead>\n",
              "    <tr style=\"text-align: right;\">\n",
              "      <th></th>\n",
              "      <th>Const</th>\n",
              "      <th>Your Rating</th>\n",
              "      <th>Date Rated</th>\n",
              "      <th>Title</th>\n",
              "      <th>URL</th>\n",
              "      <th>Title Type</th>\n",
              "      <th>IMDb Rating</th>\n",
              "      <th>Runtime (mins)</th>\n",
              "      <th>Year</th>\n",
              "      <th>Genres</th>\n",
              "      <th>Num Votes</th>\n",
              "      <th>Release Date</th>\n",
              "      <th>Directors</th>\n",
              "    </tr>\n",
              "  </thead>\n",
              "  <tbody>\n",
              "    <tr>\n",
              "      <th>701</th>\n",
              "      <td>tt0099088</td>\n",
              "      <td>8</td>\n",
              "      <td>2015-02-27</td>\n",
              "      <td>Back to the Future Part III</td>\n",
              "      <td>https://www.imdb.com/title/tt0099088/</td>\n",
              "      <td>movie</td>\n",
              "      <td>7.4</td>\n",
              "      <td>118</td>\n",
              "      <td>1990</td>\n",
              "      <td>Adventure, Comedy, Sci-Fi, Western</td>\n",
              "      <td>376811</td>\n",
              "      <td>1990-05-25</td>\n",
              "      <td>Robert Zemeckis</td>\n",
              "    </tr>\n",
              "    <tr>\n",
              "      <th>702</th>\n",
              "      <td>tt0993846</td>\n",
              "      <td>9</td>\n",
              "      <td>2014-06-02</td>\n",
              "      <td>The Wolf of Wall Street</td>\n",
              "      <td>https://www.imdb.com/title/tt0993846/</td>\n",
              "      <td>movie</td>\n",
              "      <td>8.2</td>\n",
              "      <td>180</td>\n",
              "      <td>2013</td>\n",
              "      <td>Biography, Crime, Drama</td>\n",
              "      <td>1087889</td>\n",
              "      <td>2013-12-09</td>\n",
              "      <td>Martin Scorsese</td>\n",
              "    </tr>\n",
              "    <tr>\n",
              "      <th>703</th>\n",
              "      <td>tt0099487</td>\n",
              "      <td>8</td>\n",
              "      <td>2015-02-20</td>\n",
              "      <td>Edward Scissorhands</td>\n",
              "      <td>https://www.imdb.com/title/tt0099487/</td>\n",
              "      <td>movie</td>\n",
              "      <td>7.9</td>\n",
              "      <td>105</td>\n",
              "      <td>1990</td>\n",
              "      <td>Drama, Fantasy, Romance</td>\n",
              "      <td>426764</td>\n",
              "      <td>1990-12-06</td>\n",
              "      <td>Tim Burton</td>\n",
              "    </tr>\n",
              "    <tr>\n",
              "      <th>704</th>\n",
              "      <td>tt0099653</td>\n",
              "      <td>8</td>\n",
              "      <td>2015-02-20</td>\n",
              "      <td>Ghost</td>\n",
              "      <td>https://www.imdb.com/title/tt0099653/</td>\n",
              "      <td>movie</td>\n",
              "      <td>7.0</td>\n",
              "      <td>127</td>\n",
              "      <td>1990</td>\n",
              "      <td>Drama, Fantasy, Romance, Thriller</td>\n",
              "      <td>186060</td>\n",
              "      <td>1990-07-13</td>\n",
              "      <td>Jerry Zucker</td>\n",
              "    </tr>\n",
              "    <tr>\n",
              "      <th>705</th>\n",
              "      <td>tt0099864</td>\n",
              "      <td>7</td>\n",
              "      <td>2015-02-20</td>\n",
              "      <td>It</td>\n",
              "      <td>https://www.imdb.com/title/tt0099864/</td>\n",
              "      <td>tvMiniSeries</td>\n",
              "      <td>6.8</td>\n",
              "      <td>192</td>\n",
              "      <td>1990</td>\n",
              "      <td>Drama, Horror, Mystery, Thriller</td>\n",
              "      <td>110099</td>\n",
              "      <td>1990-11-18</td>\n",
              "      <td>NaN</td>\n",
              "    </tr>\n",
              "  </tbody>\n",
              "</table>\n",
              "</div>"
            ],
            "text/plain": [
              "         Const  Your Rating  ... Release Date        Directors\n",
              "701  tt0099088            8  ...   1990-05-25  Robert Zemeckis\n",
              "702  tt0993846            9  ...   2013-12-09  Martin Scorsese\n",
              "703  tt0099487            8  ...   1990-12-06       Tim Burton\n",
              "704  tt0099653            8  ...   1990-07-13     Jerry Zucker\n",
              "705  tt0099864            7  ...   1990-11-18              NaN\n",
              "\n",
              "[5 rows x 13 columns]"
            ]
          },
          "metadata": {
            "tags": []
          },
          "execution_count": 62
        }
      ]
    },
    {
      "cell_type": "code",
      "metadata": {
        "id": "SmBlMRpw2JE2",
        "colab_type": "code",
        "colab": {
          "base_uri": "https://localhost:8080/",
          "height": 546
        },
        "outputId": "bcb4e931-b7b1-4313-e897-1cb8a07836ca"
      },
      "source": [
        "data_in.tail(10)"
      ],
      "execution_count": 63,
      "outputs": [
        {
          "output_type": "execute_result",
          "data": {
            "text/html": [
              "<div>\n",
              "<style scoped>\n",
              "    .dataframe tbody tr th:only-of-type {\n",
              "        vertical-align: middle;\n",
              "    }\n",
              "\n",
              "    .dataframe tbody tr th {\n",
              "        vertical-align: top;\n",
              "    }\n",
              "\n",
              "    .dataframe thead th {\n",
              "        text-align: right;\n",
              "    }\n",
              "</style>\n",
              "<table border=\"1\" class=\"dataframe\">\n",
              "  <thead>\n",
              "    <tr style=\"text-align: right;\">\n",
              "      <th></th>\n",
              "      <th>Const</th>\n",
              "      <th>Your Rating</th>\n",
              "      <th>Date Rated</th>\n",
              "      <th>Title</th>\n",
              "      <th>URL</th>\n",
              "      <th>Title Type</th>\n",
              "      <th>IMDb Rating</th>\n",
              "      <th>Runtime (mins)</th>\n",
              "      <th>Year</th>\n",
              "      <th>Genres</th>\n",
              "      <th>Num Votes</th>\n",
              "      <th>Release Date</th>\n",
              "      <th>Directors</th>\n",
              "    </tr>\n",
              "  </thead>\n",
              "  <tbody>\n",
              "    <tr>\n",
              "      <th>696</th>\n",
              "      <td>tt0098084</td>\n",
              "      <td>7</td>\n",
              "      <td>2014-04-21</td>\n",
              "      <td>Pet Sematary</td>\n",
              "      <td>https://www.imdb.com/title/tt0098084/</td>\n",
              "      <td>movie</td>\n",
              "      <td>6.6</td>\n",
              "      <td>103</td>\n",
              "      <td>1989</td>\n",
              "      <td>Horror, Thriller</td>\n",
              "      <td>89242</td>\n",
              "      <td>1989-04-21</td>\n",
              "      <td>Mary Lambert</td>\n",
              "    </tr>\n",
              "    <tr>\n",
              "      <th>697</th>\n",
              "      <td>tt0985699</td>\n",
              "      <td>9</td>\n",
              "      <td>2015-02-20</td>\n",
              "      <td>Valkyrie</td>\n",
              "      <td>https://www.imdb.com/title/tt0985699/</td>\n",
              "      <td>movie</td>\n",
              "      <td>7.1</td>\n",
              "      <td>121</td>\n",
              "      <td>2008</td>\n",
              "      <td>Drama, History, Thriller, War</td>\n",
              "      <td>219249</td>\n",
              "      <td>2008-12-25</td>\n",
              "      <td>Bryan Singer</td>\n",
              "    </tr>\n",
              "    <tr>\n",
              "      <th>698</th>\n",
              "      <td>tt0986263</td>\n",
              "      <td>8</td>\n",
              "      <td>2014-04-21</td>\n",
              "      <td>Surrogates</td>\n",
              "      <td>https://www.imdb.com/title/tt0986263/</td>\n",
              "      <td>movie</td>\n",
              "      <td>6.3</td>\n",
              "      <td>89</td>\n",
              "      <td>2009</td>\n",
              "      <td>Action, Sci-Fi, Thriller</td>\n",
              "      <td>165464</td>\n",
              "      <td>2009-09-24</td>\n",
              "      <td>Jonathan Mostow</td>\n",
              "    </tr>\n",
              "    <tr>\n",
              "      <th>699</th>\n",
              "      <td>tt0988045</td>\n",
              "      <td>8</td>\n",
              "      <td>2014-04-20</td>\n",
              "      <td>Sherlock Holmes</td>\n",
              "      <td>https://www.imdb.com/title/tt0988045/</td>\n",
              "      <td>movie</td>\n",
              "      <td>7.6</td>\n",
              "      <td>128</td>\n",
              "      <td>2009</td>\n",
              "      <td>Action, Adventure, Crime, Mystery, Thriller</td>\n",
              "      <td>561544</td>\n",
              "      <td>2009-12-14</td>\n",
              "      <td>Guy Ritchie</td>\n",
              "    </tr>\n",
              "    <tr>\n",
              "      <th>700</th>\n",
              "      <td>tt0990407</td>\n",
              "      <td>5</td>\n",
              "      <td>2015-02-20</td>\n",
              "      <td>The Green Hornet</td>\n",
              "      <td>https://www.imdb.com/title/tt0990407/</td>\n",
              "      <td>movie</td>\n",
              "      <td>5.8</td>\n",
              "      <td>119</td>\n",
              "      <td>2011</td>\n",
              "      <td>Action, Comedy</td>\n",
              "      <td>150988</td>\n",
              "      <td>2011-01-12</td>\n",
              "      <td>Michel Gondry</td>\n",
              "    </tr>\n",
              "    <tr>\n",
              "      <th>701</th>\n",
              "      <td>tt0099088</td>\n",
              "      <td>8</td>\n",
              "      <td>2015-02-27</td>\n",
              "      <td>Back to the Future Part III</td>\n",
              "      <td>https://www.imdb.com/title/tt0099088/</td>\n",
              "      <td>movie</td>\n",
              "      <td>7.4</td>\n",
              "      <td>118</td>\n",
              "      <td>1990</td>\n",
              "      <td>Adventure, Comedy, Sci-Fi, Western</td>\n",
              "      <td>376811</td>\n",
              "      <td>1990-05-25</td>\n",
              "      <td>Robert Zemeckis</td>\n",
              "    </tr>\n",
              "    <tr>\n",
              "      <th>702</th>\n",
              "      <td>tt0993846</td>\n",
              "      <td>9</td>\n",
              "      <td>2014-06-02</td>\n",
              "      <td>The Wolf of Wall Street</td>\n",
              "      <td>https://www.imdb.com/title/tt0993846/</td>\n",
              "      <td>movie</td>\n",
              "      <td>8.2</td>\n",
              "      <td>180</td>\n",
              "      <td>2013</td>\n",
              "      <td>Biography, Crime, Drama</td>\n",
              "      <td>1087889</td>\n",
              "      <td>2013-12-09</td>\n",
              "      <td>Martin Scorsese</td>\n",
              "    </tr>\n",
              "    <tr>\n",
              "      <th>703</th>\n",
              "      <td>tt0099487</td>\n",
              "      <td>8</td>\n",
              "      <td>2015-02-20</td>\n",
              "      <td>Edward Scissorhands</td>\n",
              "      <td>https://www.imdb.com/title/tt0099487/</td>\n",
              "      <td>movie</td>\n",
              "      <td>7.9</td>\n",
              "      <td>105</td>\n",
              "      <td>1990</td>\n",
              "      <td>Drama, Fantasy, Romance</td>\n",
              "      <td>426764</td>\n",
              "      <td>1990-12-06</td>\n",
              "      <td>Tim Burton</td>\n",
              "    </tr>\n",
              "    <tr>\n",
              "      <th>704</th>\n",
              "      <td>tt0099653</td>\n",
              "      <td>8</td>\n",
              "      <td>2015-02-20</td>\n",
              "      <td>Ghost</td>\n",
              "      <td>https://www.imdb.com/title/tt0099653/</td>\n",
              "      <td>movie</td>\n",
              "      <td>7.0</td>\n",
              "      <td>127</td>\n",
              "      <td>1990</td>\n",
              "      <td>Drama, Fantasy, Romance, Thriller</td>\n",
              "      <td>186060</td>\n",
              "      <td>1990-07-13</td>\n",
              "      <td>Jerry Zucker</td>\n",
              "    </tr>\n",
              "    <tr>\n",
              "      <th>705</th>\n",
              "      <td>tt0099864</td>\n",
              "      <td>7</td>\n",
              "      <td>2015-02-20</td>\n",
              "      <td>It</td>\n",
              "      <td>https://www.imdb.com/title/tt0099864/</td>\n",
              "      <td>tvMiniSeries</td>\n",
              "      <td>6.8</td>\n",
              "      <td>192</td>\n",
              "      <td>1990</td>\n",
              "      <td>Drama, Horror, Mystery, Thriller</td>\n",
              "      <td>110099</td>\n",
              "      <td>1990-11-18</td>\n",
              "      <td>NaN</td>\n",
              "    </tr>\n",
              "  </tbody>\n",
              "</table>\n",
              "</div>"
            ],
            "text/plain": [
              "         Const  Your Rating  ... Release Date        Directors\n",
              "696  tt0098084            7  ...   1989-04-21     Mary Lambert\n",
              "697  tt0985699            9  ...   2008-12-25     Bryan Singer\n",
              "698  tt0986263            8  ...   2009-09-24  Jonathan Mostow\n",
              "699  tt0988045            8  ...   2009-12-14      Guy Ritchie\n",
              "700  tt0990407            5  ...   2011-01-12    Michel Gondry\n",
              "701  tt0099088            8  ...   1990-05-25  Robert Zemeckis\n",
              "702  tt0993846            9  ...   2013-12-09  Martin Scorsese\n",
              "703  tt0099487            8  ...   1990-12-06       Tim Burton\n",
              "704  tt0099653            8  ...   1990-07-13     Jerry Zucker\n",
              "705  tt0099864            7  ...   1990-11-18              NaN\n",
              "\n",
              "[10 rows x 13 columns]"
            ]
          },
          "metadata": {
            "tags": []
          },
          "execution_count": 63
        }
      ]
    },
    {
      "cell_type": "markdown",
      "metadata": {
        "id": "w745kJ5X2JFB",
        "colab_type": "text"
      },
      "source": [
        "If we need more details about the number of rows and columns that have been imported in the data we can use the **shape** function. This will return a set of values to indicate the number of rows and columns present."
      ]
    },
    {
      "cell_type": "code",
      "metadata": {
        "id": "JeA6KD-r2JFE",
        "colab_type": "code",
        "colab": {
          "base_uri": "https://localhost:8080/",
          "height": 34
        },
        "outputId": "f5f54f73-16d3-42f9-f6ba-1469a5dce3a0"
      },
      "source": [
        "data_in.shape"
      ],
      "execution_count": 64,
      "outputs": [
        {
          "output_type": "execute_result",
          "data": {
            "text/plain": [
              "(706, 13)"
            ]
          },
          "metadata": {
            "tags": []
          },
          "execution_count": 64
        }
      ]
    },
    {
      "cell_type": "markdown",
      "metadata": {
        "id": "aeDrxqjX2JFN",
        "colab_type": "text"
      },
      "source": [
        "This means we have 706 rows and 13 columns in the data Set.\n",
        "\n",
        "But this may not be enough information for us. We may want to check the number of values per variable as well as the type that each variable has been imported as. This is where the **info** function is highly useful."
      ]
    },
    {
      "cell_type": "code",
      "metadata": {
        "id": "CHFiKoMr2JFP",
        "colab_type": "code",
        "colab": {
          "base_uri": "https://localhost:8080/",
          "height": 323
        },
        "outputId": "f234593c-b761-4dde-a441-1dd703c0a516"
      },
      "source": [
        "data_in.info(null_counts=True)"
      ],
      "execution_count": 65,
      "outputs": [
        {
          "output_type": "stream",
          "text": [
            "<class 'pandas.core.frame.DataFrame'>\n",
            "RangeIndex: 706 entries, 0 to 705\n",
            "Data columns (total 13 columns):\n",
            "Const             706 non-null object\n",
            "Your Rating       706 non-null int64\n",
            "Date Rated        706 non-null object\n",
            "Title             706 non-null object\n",
            "URL               706 non-null object\n",
            "Title Type        706 non-null object\n",
            "IMDb Rating       706 non-null float64\n",
            "Runtime (mins)    706 non-null int64\n",
            "Year              706 non-null int64\n",
            "Genres            706 non-null object\n",
            "Num Votes         706 non-null int64\n",
            "Release Date      706 non-null object\n",
            "Directors         685 non-null object\n",
            "dtypes: float64(1), int64(4), object(8)\n",
            "memory usage: 71.8+ KB\n"
          ],
          "name": "stdout"
        }
      ]
    },
    {
      "cell_type": "markdown",
      "metadata": {
        "id": "a2qKxDWB2JFT",
        "colab_type": "text"
      },
      "source": [
        "At the dtypes info we can see we have 1 floating value, 4 interger columns and 8 objects in this dataset - this is a view of the data types in the current dataset. \n",
        "\n",
        "The next bit will cover the various basic Statistic measures that we may want to look at. The first of which will be two locational measures (The **mean** and the **median**)"
      ]
    },
    {
      "cell_type": "code",
      "metadata": {
        "id": "D7ntOtXK2JFU",
        "colab_type": "code",
        "colab": {
          "base_uri": "https://localhost:8080/",
          "height": 119
        },
        "outputId": "95fbbc64-5c85-45e3-909d-51399a36ed8d"
      },
      "source": [
        "data_in.mean()"
      ],
      "execution_count": 66,
      "outputs": [
        {
          "output_type": "execute_result",
          "data": {
            "text/plain": [
              "Your Rating            7.174221\n",
              "IMDb Rating            7.043909\n",
              "Runtime (mins)       111.237960\n",
              "Year                2006.871105\n",
              "Num Votes         322995.311615\n",
              "dtype: float64"
            ]
          },
          "metadata": {
            "tags": []
          },
          "execution_count": 66
        }
      ]
    },
    {
      "cell_type": "code",
      "metadata": {
        "id": "L_CR5_uG2JFX",
        "colab_type": "code",
        "colab": {
          "base_uri": "https://localhost:8080/",
          "height": 119
        },
        "outputId": "ffa9b5bd-57bb-4ebc-c74f-16ea59324b81"
      },
      "source": [
        "data_in.median()"
      ],
      "execution_count": 67,
      "outputs": [
        {
          "output_type": "execute_result",
          "data": {
            "text/plain": [
              "Your Rating            7.0\n",
              "IMDb Rating            7.0\n",
              "Runtime (mins)       110.0\n",
              "Year                2009.0\n",
              "Num Votes         231925.0\n",
              "dtype: float64"
            ]
          },
          "metadata": {
            "tags": []
          },
          "execution_count": 67
        }
      ]
    },
    {
      "cell_type": "markdown",
      "metadata": {
        "id": "PW0FVJGn2JFb",
        "colab_type": "text"
      },
      "source": [
        "Now that we have a few measures of location, we should start looking at some of the measures of spread to see how we can analyse the data. One of the first methods is the standard Deviation as well as the Maximum and Minimum Values."
      ]
    },
    {
      "cell_type": "code",
      "metadata": {
        "id": "orPsSbSs2JFc",
        "colab_type": "code",
        "colab": {
          "base_uri": "https://localhost:8080/",
          "height": 119
        },
        "outputId": "74a0d92e-c23a-49a4-9334-573b587df11c"
      },
      "source": [
        "data_in.std()"
      ],
      "execution_count": 68,
      "outputs": [
        {
          "output_type": "execute_result",
          "data": {
            "text/plain": [
              "Your Rating            1.178754\n",
              "IMDb Rating            0.953678\n",
              "Runtime (mins)        29.839857\n",
              "Year                   9.197692\n",
              "Num Votes         309869.726427\n",
              "dtype: float64"
            ]
          },
          "metadata": {
            "tags": []
          },
          "execution_count": 68
        }
      ]
    },
    {
      "cell_type": "code",
      "metadata": {
        "id": "43okaO7r2JFf",
        "colab_type": "code",
        "colab": {
          "base_uri": "https://localhost:8080/",
          "height": 238
        },
        "outputId": "983ac918-31ce-4e53-a5fe-7b526cecc6e1"
      },
      "source": [
        "data_in.max()"
      ],
      "execution_count": 69,
      "outputs": [
        {
          "output_type": "execute_result",
          "data": {
            "text/plain": [
              "Const                                         tt9358204\n",
              "Your Rating                                          10\n",
              "Date Rated                                   2019-12-20\n",
              "Title                                          Æon Flux\n",
              "URL               https://www.imdb.com/title/tt9358204/\n",
              "Title Type                                        video\n",
              "IMDb Rating                                         9.7\n",
              "Runtime (mins)                                      361\n",
              "Year                                               2019\n",
              "Genres                                 Sci-Fi, Thriller\n",
              "Num Votes                                       2188152\n",
              "Release Date                                 2019-12-16\n",
              "dtype: object"
            ]
          },
          "metadata": {
            "tags": []
          },
          "execution_count": 69
        }
      ]
    },
    {
      "cell_type": "code",
      "metadata": {
        "id": "Bvqd68ps2JFk",
        "colab_type": "code",
        "colab": {
          "base_uri": "https://localhost:8080/",
          "height": 238
        },
        "outputId": "c1a583f3-9fd5-4178-9f7b-c13ed73e414c"
      },
      "source": [
        "data_in.min()"
      ],
      "execution_count": 70,
      "outputs": [
        {
          "output_type": "execute_result",
          "data": {
            "text/plain": [
              "Const                                                     tt0055928\n",
              "Your Rating                                                       2\n",
              "Date Rated                                               2014-04-19\n",
              "Title                                          (500) Days of Summer\n",
              "URL                           https://www.imdb.com/title/tt0055928/\n",
              "Title Type                                                    movie\n",
              "IMDb Rating                                                     3.1\n",
              "Runtime (mins)                                                    5\n",
              "Year                                                           1962\n",
              "Genres            Action, Adventure, Biography, Drama, History, ...\n",
              "Num Votes                                                        10\n",
              "Release Date                                             1962-10-05\n",
              "dtype: object"
            ]
          },
          "metadata": {
            "tags": []
          },
          "execution_count": 70
        }
      ]
    },
    {
      "cell_type": "markdown",
      "metadata": {
        "id": "FIxdpvcT2JFx",
        "colab_type": "text"
      },
      "source": [
        "Sometimes the measures of location and spread are not enough to indicate the underlying issues with the data - for instance missing data in the variables. This is where count can assist:"
      ]
    },
    {
      "cell_type": "code",
      "metadata": {
        "id": "bETJfw-s2JFy",
        "colab_type": "code",
        "colab": {
          "base_uri": "https://localhost:8080/",
          "height": 255
        },
        "outputId": "403113c3-f512-4a79-d145-1d0d50c7608f"
      },
      "source": [
        "#count non null:\n",
        "\n",
        "data_in.count()"
      ],
      "execution_count": 71,
      "outputs": [
        {
          "output_type": "execute_result",
          "data": {
            "text/plain": [
              "Const             706\n",
              "Your Rating       706\n",
              "Date Rated        706\n",
              "Title             706\n",
              "URL               706\n",
              "Title Type        706\n",
              "IMDb Rating       706\n",
              "Runtime (mins)    706\n",
              "Year              706\n",
              "Genres            706\n",
              "Num Votes         706\n",
              "Release Date      706\n",
              "Directors         685\n",
              "dtype: int64"
            ]
          },
          "metadata": {
            "tags": []
          },
          "execution_count": 71
        }
      ]
    },
    {
      "cell_type": "markdown",
      "metadata": {
        "id": "wW821y1_2JF1",
        "colab_type": "text"
      },
      "source": [
        "And finally we may want to have a view of the full dataset. This is where the **describe** function comes in - it will offer various statistics for all of the quantitative variables in the dataset."
      ]
    },
    {
      "cell_type": "code",
      "metadata": {
        "id": "aLfdmtBd2JF2",
        "colab_type": "code",
        "colab": {
          "base_uri": "https://localhost:8080/",
          "height": 297
        },
        "outputId": "e4ee4484-a11c-4090-c714-63f2610cad1e"
      },
      "source": [
        "data_in.describe()"
      ],
      "execution_count": 72,
      "outputs": [
        {
          "output_type": "execute_result",
          "data": {
            "text/html": [
              "<div>\n",
              "<style scoped>\n",
              "    .dataframe tbody tr th:only-of-type {\n",
              "        vertical-align: middle;\n",
              "    }\n",
              "\n",
              "    .dataframe tbody tr th {\n",
              "        vertical-align: top;\n",
              "    }\n",
              "\n",
              "    .dataframe thead th {\n",
              "        text-align: right;\n",
              "    }\n",
              "</style>\n",
              "<table border=\"1\" class=\"dataframe\">\n",
              "  <thead>\n",
              "    <tr style=\"text-align: right;\">\n",
              "      <th></th>\n",
              "      <th>Your Rating</th>\n",
              "      <th>IMDb Rating</th>\n",
              "      <th>Runtime (mins)</th>\n",
              "      <th>Year</th>\n",
              "      <th>Num Votes</th>\n",
              "    </tr>\n",
              "  </thead>\n",
              "  <tbody>\n",
              "    <tr>\n",
              "      <th>count</th>\n",
              "      <td>706.000000</td>\n",
              "      <td>706.000000</td>\n",
              "      <td>706.000000</td>\n",
              "      <td>706.000000</td>\n",
              "      <td>7.060000e+02</td>\n",
              "    </tr>\n",
              "    <tr>\n",
              "      <th>mean</th>\n",
              "      <td>7.174221</td>\n",
              "      <td>7.043909</td>\n",
              "      <td>111.237960</td>\n",
              "      <td>2006.871105</td>\n",
              "      <td>3.229953e+05</td>\n",
              "    </tr>\n",
              "    <tr>\n",
              "      <th>std</th>\n",
              "      <td>1.178754</td>\n",
              "      <td>0.953678</td>\n",
              "      <td>29.839857</td>\n",
              "      <td>9.197692</td>\n",
              "      <td>3.098697e+05</td>\n",
              "    </tr>\n",
              "    <tr>\n",
              "      <th>min</th>\n",
              "      <td>2.000000</td>\n",
              "      <td>3.100000</td>\n",
              "      <td>5.000000</td>\n",
              "      <td>1962.000000</td>\n",
              "      <td>1.000000e+01</td>\n",
              "    </tr>\n",
              "    <tr>\n",
              "      <th>25%</th>\n",
              "      <td>7.000000</td>\n",
              "      <td>6.400000</td>\n",
              "      <td>97.000000</td>\n",
              "      <td>2003.000000</td>\n",
              "      <td>1.197800e+05</td>\n",
              "    </tr>\n",
              "    <tr>\n",
              "      <th>50%</th>\n",
              "      <td>7.000000</td>\n",
              "      <td>7.000000</td>\n",
              "      <td>110.000000</td>\n",
              "      <td>2009.000000</td>\n",
              "      <td>2.319250e+05</td>\n",
              "    </tr>\n",
              "    <tr>\n",
              "      <th>75%</th>\n",
              "      <td>8.000000</td>\n",
              "      <td>7.700000</td>\n",
              "      <td>125.000000</td>\n",
              "      <td>2014.000000</td>\n",
              "      <td>4.264912e+05</td>\n",
              "    </tr>\n",
              "    <tr>\n",
              "      <th>max</th>\n",
              "      <td>10.000000</td>\n",
              "      <td>9.700000</td>\n",
              "      <td>361.000000</td>\n",
              "      <td>2019.000000</td>\n",
              "      <td>2.188152e+06</td>\n",
              "    </tr>\n",
              "  </tbody>\n",
              "</table>\n",
              "</div>"
            ],
            "text/plain": [
              "       Your Rating  IMDb Rating  Runtime (mins)         Year     Num Votes\n",
              "count   706.000000   706.000000      706.000000   706.000000  7.060000e+02\n",
              "mean      7.174221     7.043909      111.237960  2006.871105  3.229953e+05\n",
              "std       1.178754     0.953678       29.839857     9.197692  3.098697e+05\n",
              "min       2.000000     3.100000        5.000000  1962.000000  1.000000e+01\n",
              "25%       7.000000     6.400000       97.000000  2003.000000  1.197800e+05\n",
              "50%       7.000000     7.000000      110.000000  2009.000000  2.319250e+05\n",
              "75%       8.000000     7.700000      125.000000  2014.000000  4.264912e+05\n",
              "max      10.000000     9.700000      361.000000  2019.000000  2.188152e+06"
            ]
          },
          "metadata": {
            "tags": []
          },
          "execution_count": 72
        }
      ]
    },
    {
      "cell_type": "markdown",
      "metadata": {
        "id": "_In7MRRb2JF5",
        "colab_type": "text"
      },
      "source": [
        "## Cleaning the Data set"
      ]
    },
    {
      "cell_type": "markdown",
      "metadata": {
        "id": "LWzySxGG2JF6",
        "colab_type": "text"
      },
      "source": [
        "Using the dataset as it comes may not be the ideal way to analyse without doing a bit of data cleaning. We should first start with a cleaning of the dataset.\n",
        "\n",
        "First part is rename the columns."
      ]
    },
    {
      "cell_type": "code",
      "metadata": {
        "id": "addznPjK2JF8",
        "colab_type": "code",
        "colab": {
          "base_uri": "https://localhost:8080/",
          "height": 289
        },
        "outputId": "a65c8494-bbc5-418b-a776-f658f1736e0a"
      },
      "source": [
        "data_in = data_in.rename(columns={'URL':'Web Address'})\n",
        "data_in.head()"
      ],
      "execution_count": 73,
      "outputs": [
        {
          "output_type": "execute_result",
          "data": {
            "text/html": [
              "<div>\n",
              "<style scoped>\n",
              "    .dataframe tbody tr th:only-of-type {\n",
              "        vertical-align: middle;\n",
              "    }\n",
              "\n",
              "    .dataframe tbody tr th {\n",
              "        vertical-align: top;\n",
              "    }\n",
              "\n",
              "    .dataframe thead th {\n",
              "        text-align: right;\n",
              "    }\n",
              "</style>\n",
              "<table border=\"1\" class=\"dataframe\">\n",
              "  <thead>\n",
              "    <tr style=\"text-align: right;\">\n",
              "      <th></th>\n",
              "      <th>Const</th>\n",
              "      <th>Your Rating</th>\n",
              "      <th>Date Rated</th>\n",
              "      <th>Title</th>\n",
              "      <th>Web Address</th>\n",
              "      <th>Title Type</th>\n",
              "      <th>IMDb Rating</th>\n",
              "      <th>Runtime (mins)</th>\n",
              "      <th>Year</th>\n",
              "      <th>Genres</th>\n",
              "      <th>Num Votes</th>\n",
              "      <th>Release Date</th>\n",
              "      <th>Directors</th>\n",
              "    </tr>\n",
              "  </thead>\n",
              "  <tbody>\n",
              "    <tr>\n",
              "      <th>0</th>\n",
              "      <td>tt0100157</td>\n",
              "      <td>8</td>\n",
              "      <td>2014-04-21</td>\n",
              "      <td>Misery</td>\n",
              "      <td>https://www.imdb.com/title/tt0100157/</td>\n",
              "      <td>movie</td>\n",
              "      <td>7.8</td>\n",
              "      <td>107</td>\n",
              "      <td>1990</td>\n",
              "      <td>Drama, Thriller</td>\n",
              "      <td>171962</td>\n",
              "      <td>1990-11-29</td>\n",
              "      <td>Rob Reiner</td>\n",
              "    </tr>\n",
              "    <tr>\n",
              "      <th>1</th>\n",
              "      <td>tt0100405</td>\n",
              "      <td>7</td>\n",
              "      <td>2019-06-16</td>\n",
              "      <td>Pretty Woman</td>\n",
              "      <td>https://www.imdb.com/title/tt0100405/</td>\n",
              "      <td>movie</td>\n",
              "      <td>7.0</td>\n",
              "      <td>119</td>\n",
              "      <td>1990</td>\n",
              "      <td>Comedy, Romance</td>\n",
              "      <td>271083</td>\n",
              "      <td>1990-03-23</td>\n",
              "      <td>Garry Marshall</td>\n",
              "    </tr>\n",
              "    <tr>\n",
              "      <th>2</th>\n",
              "      <td>tt1007029</td>\n",
              "      <td>7</td>\n",
              "      <td>2014-04-22</td>\n",
              "      <td>The Iron Lady</td>\n",
              "      <td>https://www.imdb.com/title/tt1007029/</td>\n",
              "      <td>movie</td>\n",
              "      <td>6.4</td>\n",
              "      <td>105</td>\n",
              "      <td>2011</td>\n",
              "      <td>Biography, Drama</td>\n",
              "      <td>98773</td>\n",
              "      <td>2011-12-26</td>\n",
              "      <td>Phyllida Lloyd</td>\n",
              "    </tr>\n",
              "    <tr>\n",
              "      <th>3</th>\n",
              "      <td>tt1010048</td>\n",
              "      <td>7</td>\n",
              "      <td>2015-03-13</td>\n",
              "      <td>Slumdog Millionaire</td>\n",
              "      <td>https://www.imdb.com/title/tt1010048/</td>\n",
              "      <td>movie</td>\n",
              "      <td>8.0</td>\n",
              "      <td>120</td>\n",
              "      <td>2008</td>\n",
              "      <td>Drama, Romance</td>\n",
              "      <td>766624</td>\n",
              "      <td>2008-08-30</td>\n",
              "      <td>Loveleen Tandan, Danny Boyle</td>\n",
              "    </tr>\n",
              "    <tr>\n",
              "      <th>4</th>\n",
              "      <td>tt0101272</td>\n",
              "      <td>7</td>\n",
              "      <td>2014-04-21</td>\n",
              "      <td>The Addams Family</td>\n",
              "      <td>https://www.imdb.com/title/tt0101272/</td>\n",
              "      <td>movie</td>\n",
              "      <td>6.9</td>\n",
              "      <td>99</td>\n",
              "      <td>1991</td>\n",
              "      <td>Comedy, Fantasy</td>\n",
              "      <td>123080</td>\n",
              "      <td>1991-11-19</td>\n",
              "      <td>Barry Sonnenfeld</td>\n",
              "    </tr>\n",
              "  </tbody>\n",
              "</table>\n",
              "</div>"
            ],
            "text/plain": [
              "       Const  Your Rating  ... Release Date                     Directors\n",
              "0  tt0100157            8  ...   1990-11-29                    Rob Reiner\n",
              "1  tt0100405            7  ...   1990-03-23                Garry Marshall\n",
              "2  tt1007029            7  ...   2011-12-26                Phyllida Lloyd\n",
              "3  tt1010048            7  ...   2008-08-30  Loveleen Tandan, Danny Boyle\n",
              "4  tt0101272            7  ...   1991-11-19              Barry Sonnenfeld\n",
              "\n",
              "[5 rows x 13 columns]"
            ]
          },
          "metadata": {
            "tags": []
          },
          "execution_count": 73
        }
      ]
    },
    {
      "cell_type": "markdown",
      "metadata": {
        "id": "UvKaGe7u2JGD",
        "colab_type": "text"
      },
      "source": [
        "With Bigger data sets we may end up in a situation where we have variables that won't be usable in any future analysis we have planned. This is where we can use the drop columns to reduce the size of the full dataset."
      ]
    },
    {
      "cell_type": "code",
      "metadata": {
        "id": "jliGsekX2JGE",
        "colab_type": "code",
        "colab": {
          "base_uri": "https://localhost:8080/",
          "height": 204
        },
        "outputId": "7aa2fdde-3d01-4096-dcfd-c9938c148b59"
      },
      "source": [
        "data_in=data_in.drop(columns=['Const'])\n",
        "data_in.head()"
      ],
      "execution_count": 74,
      "outputs": [
        {
          "output_type": "execute_result",
          "data": {
            "text/html": [
              "<div>\n",
              "<style scoped>\n",
              "    .dataframe tbody tr th:only-of-type {\n",
              "        vertical-align: middle;\n",
              "    }\n",
              "\n",
              "    .dataframe tbody tr th {\n",
              "        vertical-align: top;\n",
              "    }\n",
              "\n",
              "    .dataframe thead th {\n",
              "        text-align: right;\n",
              "    }\n",
              "</style>\n",
              "<table border=\"1\" class=\"dataframe\">\n",
              "  <thead>\n",
              "    <tr style=\"text-align: right;\">\n",
              "      <th></th>\n",
              "      <th>Your Rating</th>\n",
              "      <th>Date Rated</th>\n",
              "      <th>Title</th>\n",
              "      <th>Web Address</th>\n",
              "      <th>Title Type</th>\n",
              "      <th>IMDb Rating</th>\n",
              "      <th>Runtime (mins)</th>\n",
              "      <th>Year</th>\n",
              "      <th>Genres</th>\n",
              "      <th>Num Votes</th>\n",
              "      <th>Release Date</th>\n",
              "      <th>Directors</th>\n",
              "    </tr>\n",
              "  </thead>\n",
              "  <tbody>\n",
              "    <tr>\n",
              "      <th>0</th>\n",
              "      <td>8</td>\n",
              "      <td>2014-04-21</td>\n",
              "      <td>Misery</td>\n",
              "      <td>https://www.imdb.com/title/tt0100157/</td>\n",
              "      <td>movie</td>\n",
              "      <td>7.8</td>\n",
              "      <td>107</td>\n",
              "      <td>1990</td>\n",
              "      <td>Drama, Thriller</td>\n",
              "      <td>171962</td>\n",
              "      <td>1990-11-29</td>\n",
              "      <td>Rob Reiner</td>\n",
              "    </tr>\n",
              "    <tr>\n",
              "      <th>1</th>\n",
              "      <td>7</td>\n",
              "      <td>2019-06-16</td>\n",
              "      <td>Pretty Woman</td>\n",
              "      <td>https://www.imdb.com/title/tt0100405/</td>\n",
              "      <td>movie</td>\n",
              "      <td>7.0</td>\n",
              "      <td>119</td>\n",
              "      <td>1990</td>\n",
              "      <td>Comedy, Romance</td>\n",
              "      <td>271083</td>\n",
              "      <td>1990-03-23</td>\n",
              "      <td>Garry Marshall</td>\n",
              "    </tr>\n",
              "    <tr>\n",
              "      <th>2</th>\n",
              "      <td>7</td>\n",
              "      <td>2014-04-22</td>\n",
              "      <td>The Iron Lady</td>\n",
              "      <td>https://www.imdb.com/title/tt1007029/</td>\n",
              "      <td>movie</td>\n",
              "      <td>6.4</td>\n",
              "      <td>105</td>\n",
              "      <td>2011</td>\n",
              "      <td>Biography, Drama</td>\n",
              "      <td>98773</td>\n",
              "      <td>2011-12-26</td>\n",
              "      <td>Phyllida Lloyd</td>\n",
              "    </tr>\n",
              "    <tr>\n",
              "      <th>3</th>\n",
              "      <td>7</td>\n",
              "      <td>2015-03-13</td>\n",
              "      <td>Slumdog Millionaire</td>\n",
              "      <td>https://www.imdb.com/title/tt1010048/</td>\n",
              "      <td>movie</td>\n",
              "      <td>8.0</td>\n",
              "      <td>120</td>\n",
              "      <td>2008</td>\n",
              "      <td>Drama, Romance</td>\n",
              "      <td>766624</td>\n",
              "      <td>2008-08-30</td>\n",
              "      <td>Loveleen Tandan, Danny Boyle</td>\n",
              "    </tr>\n",
              "    <tr>\n",
              "      <th>4</th>\n",
              "      <td>7</td>\n",
              "      <td>2014-04-21</td>\n",
              "      <td>The Addams Family</td>\n",
              "      <td>https://www.imdb.com/title/tt0101272/</td>\n",
              "      <td>movie</td>\n",
              "      <td>6.9</td>\n",
              "      <td>99</td>\n",
              "      <td>1991</td>\n",
              "      <td>Comedy, Fantasy</td>\n",
              "      <td>123080</td>\n",
              "      <td>1991-11-19</td>\n",
              "      <td>Barry Sonnenfeld</td>\n",
              "    </tr>\n",
              "  </tbody>\n",
              "</table>\n",
              "</div>"
            ],
            "text/plain": [
              "   Your Rating  Date Rated  ... Release Date                     Directors\n",
              "0            8  2014-04-21  ...   1990-11-29                    Rob Reiner\n",
              "1            7  2019-06-16  ...   1990-03-23                Garry Marshall\n",
              "2            7  2014-04-22  ...   2011-12-26                Phyllida Lloyd\n",
              "3            7  2015-03-13  ...   2008-08-30  Loveleen Tandan, Danny Boyle\n",
              "4            7  2014-04-21  ...   1991-11-19              Barry Sonnenfeld\n",
              "\n",
              "[5 rows x 12 columns]"
            ]
          },
          "metadata": {
            "tags": []
          },
          "execution_count": 74
        }
      ]
    },
    {
      "cell_type": "markdown",
      "metadata": {
        "id": "lvfZYfq42JGI",
        "colab_type": "text"
      },
      "source": [
        "Once we have a working dataset and before we need to decide on the model to be applying to the data. we will need to determine the relationships. One of the most basic ways of doing this is through the Correlation matrix:"
      ]
    },
    {
      "cell_type": "code",
      "metadata": {
        "id": "_H2T6NaZ2JGJ",
        "colab_type": "code",
        "colab": {
          "base_uri": "https://localhost:8080/",
          "height": 173
        },
        "outputId": "fa2ae5c9-39b1-43c9-9f37-26e129168a99"
      },
      "source": [
        "data_in[['Your Rating','IMDb Rating','Runtime (mins)','Year']].corr()\n"
      ],
      "execution_count": 75,
      "outputs": [
        {
          "output_type": "execute_result",
          "data": {
            "text/html": [
              "<div>\n",
              "<style scoped>\n",
              "    .dataframe tbody tr th:only-of-type {\n",
              "        vertical-align: middle;\n",
              "    }\n",
              "\n",
              "    .dataframe tbody tr th {\n",
              "        vertical-align: top;\n",
              "    }\n",
              "\n",
              "    .dataframe thead th {\n",
              "        text-align: right;\n",
              "    }\n",
              "</style>\n",
              "<table border=\"1\" class=\"dataframe\">\n",
              "  <thead>\n",
              "    <tr style=\"text-align: right;\">\n",
              "      <th></th>\n",
              "      <th>Your Rating</th>\n",
              "      <th>IMDb Rating</th>\n",
              "      <th>Runtime (mins)</th>\n",
              "      <th>Year</th>\n",
              "    </tr>\n",
              "  </thead>\n",
              "  <tbody>\n",
              "    <tr>\n",
              "      <th>Your Rating</th>\n",
              "      <td>1.000000</td>\n",
              "      <td>0.586351</td>\n",
              "      <td>-0.009205</td>\n",
              "      <td>0.066704</td>\n",
              "    </tr>\n",
              "    <tr>\n",
              "      <th>IMDb Rating</th>\n",
              "      <td>0.586351</td>\n",
              "      <td>1.000000</td>\n",
              "      <td>-0.014269</td>\n",
              "      <td>-0.155935</td>\n",
              "    </tr>\n",
              "    <tr>\n",
              "      <th>Runtime (mins)</th>\n",
              "      <td>-0.009205</td>\n",
              "      <td>-0.014269</td>\n",
              "      <td>1.000000</td>\n",
              "      <td>0.016268</td>\n",
              "    </tr>\n",
              "    <tr>\n",
              "      <th>Year</th>\n",
              "      <td>0.066704</td>\n",
              "      <td>-0.155935</td>\n",
              "      <td>0.016268</td>\n",
              "      <td>1.000000</td>\n",
              "    </tr>\n",
              "  </tbody>\n",
              "</table>\n",
              "</div>"
            ],
            "text/plain": [
              "                Your Rating  IMDb Rating  Runtime (mins)      Year\n",
              "Your Rating        1.000000     0.586351       -0.009205  0.066704\n",
              "IMDb Rating        0.586351     1.000000       -0.014269 -0.155935\n",
              "Runtime (mins)    -0.009205    -0.014269        1.000000  0.016268\n",
              "Year               0.066704    -0.155935        0.016268  1.000000"
            ]
          },
          "metadata": {
            "tags": []
          },
          "execution_count": 75
        }
      ]
    },
    {
      "cell_type": "markdown",
      "metadata": {
        "id": "_pXLdrP62JGQ",
        "colab_type": "text"
      },
      "source": [
        "In Some instances the data we receive may be imported with the wrong variable types and need to be changed before we can include them in analysis. First lets get the type of all the variables and then change year to type Float."
      ]
    },
    {
      "cell_type": "code",
      "metadata": {
        "id": "u_aishbY2JGR",
        "colab_type": "code",
        "colab": {
          "base_uri": "https://localhost:8080/",
          "height": 306
        },
        "outputId": "f7f54ff2-d6f5-4409-9958-b4a72c899329"
      },
      "source": [
        "#changing the data type:\n",
        "#of the year to float\n",
        "\n",
        "data_in.info()"
      ],
      "execution_count": 76,
      "outputs": [
        {
          "output_type": "stream",
          "text": [
            "<class 'pandas.core.frame.DataFrame'>\n",
            "RangeIndex: 706 entries, 0 to 705\n",
            "Data columns (total 12 columns):\n",
            "Your Rating       706 non-null int64\n",
            "Date Rated        706 non-null object\n",
            "Title             706 non-null object\n",
            "Web Address       706 non-null object\n",
            "Title Type        706 non-null object\n",
            "IMDb Rating       706 non-null float64\n",
            "Runtime (mins)    706 non-null int64\n",
            "Year              706 non-null int64\n",
            "Genres            706 non-null object\n",
            "Num Votes         706 non-null int64\n",
            "Release Date      706 non-null object\n",
            "Directors         685 non-null object\n",
            "dtypes: float64(1), int64(4), object(7)\n",
            "memory usage: 66.3+ KB\n"
          ],
          "name": "stdout"
        }
      ]
    },
    {
      "cell_type": "code",
      "metadata": {
        "id": "LaWnuz3O2JGW",
        "colab_type": "code",
        "colab": {
          "base_uri": "https://localhost:8080/",
          "height": 306
        },
        "outputId": "717cb63d-f153-4e13-d112-b5f2fcdcbfc8"
      },
      "source": [
        "data_in.Year = data_in.Year.astype(float)\n",
        "data_in.info()"
      ],
      "execution_count": 77,
      "outputs": [
        {
          "output_type": "stream",
          "text": [
            "<class 'pandas.core.frame.DataFrame'>\n",
            "RangeIndex: 706 entries, 0 to 705\n",
            "Data columns (total 12 columns):\n",
            "Your Rating       706 non-null int64\n",
            "Date Rated        706 non-null object\n",
            "Title             706 non-null object\n",
            "Web Address       706 non-null object\n",
            "Title Type        706 non-null object\n",
            "IMDb Rating       706 non-null float64\n",
            "Runtime (mins)    706 non-null int64\n",
            "Year              706 non-null float64\n",
            "Genres            706 non-null object\n",
            "Num Votes         706 non-null int64\n",
            "Release Date      706 non-null object\n",
            "Directors         685 non-null object\n",
            "dtypes: float64(2), int64(3), object(7)\n",
            "memory usage: 66.3+ KB\n"
          ],
          "name": "stdout"
        }
      ]
    },
    {
      "cell_type": "markdown",
      "metadata": {
        "id": "e6Z3DUE-2JGZ",
        "colab_type": "text"
      },
      "source": [
        "## Manipulating the data"
      ]
    },
    {
      "cell_type": "markdown",
      "metadata": {
        "id": "AZUb59ph2JGa",
        "colab_type": "text"
      },
      "source": [
        "Now that we have covered most of the ways we have to combine and fix issues in the data it is now time to look at the ways we can subset the data and either select rows or columns.\n",
        "\n",
        "The first of which is to select specific columns using the **iloc** function - this function only passes in numerical values in the selection. For the example we want to select the third column so we will put a 2 in the column section of the selection criteria [,].\n",
        "\n",
        "Since we are wanting the 3 column we will use the **iloc[,]** to obtain this information, it is important to note that the inputs for the **[,]** is row,column. We are selecting all rows so will use \":\" in the row request and 2 in the columns."
      ]
    },
    {
      "cell_type": "code",
      "metadata": {
        "id": "-w_T3bgf2JGb",
        "colab_type": "code",
        "colab": {
          "base_uri": "https://localhost:8080/",
          "height": 221
        },
        "outputId": "56224501-6b29-488e-aba9-c90d9b53af7b"
      },
      "source": [
        "\n",
        "data_in.iloc[:,2]\n"
      ],
      "execution_count": 78,
      "outputs": [
        {
          "output_type": "execute_result",
          "data": {
            "text/plain": [
              "0                           Misery\n",
              "1                     Pretty Woman\n",
              "2                    The Iron Lady\n",
              "3              Slumdog Millionaire\n",
              "4                The Addams Family\n",
              "                  ...             \n",
              "701    Back to the Future Part III\n",
              "702        The Wolf of Wall Street\n",
              "703            Edward Scissorhands\n",
              "704                          Ghost\n",
              "705                             It\n",
              "Name: Title, Length: 706, dtype: object"
            ]
          },
          "metadata": {
            "tags": []
          },
          "execution_count": 78
        }
      ]
    },
    {
      "cell_type": "markdown",
      "metadata": {
        "id": "8MQGpI8U2JGh",
        "colab_type": "text"
      },
      "source": [
        "Now that we have explored a specific way to select only on column the next consideration is how to select sections of rows as well as sections of columns. For this section we will first select the first 5 rows from colums 5. This requires us to use a \" : \" to indicate to select a range."
      ]
    },
    {
      "cell_type": "code",
      "metadata": {
        "id": "csvi50Qh2JGi",
        "colab_type": "code",
        "colab": {
          "base_uri": "https://localhost:8080/",
          "height": 119
        },
        "outputId": "654bf893-af83-435e-bc56-703c09f0cdfd"
      },
      "source": [
        "data_in.iloc[0:5,4]"
      ],
      "execution_count": 79,
      "outputs": [
        {
          "output_type": "execute_result",
          "data": {
            "text/plain": [
              "0    movie\n",
              "1    movie\n",
              "2    movie\n",
              "3    movie\n",
              "4    movie\n",
              "Name: Title Type, dtype: object"
            ]
          },
          "metadata": {
            "tags": []
          },
          "execution_count": 79
        }
      ]
    },
    {
      "cell_type": "markdown",
      "metadata": {
        "id": "AfsH6eQK2JGl",
        "colab_type": "text"
      },
      "source": [
        "Using what we have learnt lets now select all of the rows and columns from the dataset."
      ]
    },
    {
      "cell_type": "code",
      "metadata": {
        "id": "Roldhctg2JGm",
        "colab_type": "code",
        "colab": {
          "base_uri": "https://localhost:8080/",
          "height": 606
        },
        "outputId": "1b3bcb91-5a1e-4cc3-b219-62bd14bc50ca"
      },
      "source": [
        "data_in.iloc[:,:]"
      ],
      "execution_count": 80,
      "outputs": [
        {
          "output_type": "execute_result",
          "data": {
            "text/html": [
              "<div>\n",
              "<style scoped>\n",
              "    .dataframe tbody tr th:only-of-type {\n",
              "        vertical-align: middle;\n",
              "    }\n",
              "\n",
              "    .dataframe tbody tr th {\n",
              "        vertical-align: top;\n",
              "    }\n",
              "\n",
              "    .dataframe thead th {\n",
              "        text-align: right;\n",
              "    }\n",
              "</style>\n",
              "<table border=\"1\" class=\"dataframe\">\n",
              "  <thead>\n",
              "    <tr style=\"text-align: right;\">\n",
              "      <th></th>\n",
              "      <th>Your Rating</th>\n",
              "      <th>Date Rated</th>\n",
              "      <th>Title</th>\n",
              "      <th>Web Address</th>\n",
              "      <th>Title Type</th>\n",
              "      <th>IMDb Rating</th>\n",
              "      <th>Runtime (mins)</th>\n",
              "      <th>Year</th>\n",
              "      <th>Genres</th>\n",
              "      <th>Num Votes</th>\n",
              "      <th>Release Date</th>\n",
              "      <th>Directors</th>\n",
              "    </tr>\n",
              "  </thead>\n",
              "  <tbody>\n",
              "    <tr>\n",
              "      <th>0</th>\n",
              "      <td>8</td>\n",
              "      <td>2014-04-21</td>\n",
              "      <td>Misery</td>\n",
              "      <td>https://www.imdb.com/title/tt0100157/</td>\n",
              "      <td>movie</td>\n",
              "      <td>7.8</td>\n",
              "      <td>107</td>\n",
              "      <td>1990.0</td>\n",
              "      <td>Drama, Thriller</td>\n",
              "      <td>171962</td>\n",
              "      <td>1990-11-29</td>\n",
              "      <td>Rob Reiner</td>\n",
              "    </tr>\n",
              "    <tr>\n",
              "      <th>1</th>\n",
              "      <td>7</td>\n",
              "      <td>2019-06-16</td>\n",
              "      <td>Pretty Woman</td>\n",
              "      <td>https://www.imdb.com/title/tt0100405/</td>\n",
              "      <td>movie</td>\n",
              "      <td>7.0</td>\n",
              "      <td>119</td>\n",
              "      <td>1990.0</td>\n",
              "      <td>Comedy, Romance</td>\n",
              "      <td>271083</td>\n",
              "      <td>1990-03-23</td>\n",
              "      <td>Garry Marshall</td>\n",
              "    </tr>\n",
              "    <tr>\n",
              "      <th>2</th>\n",
              "      <td>7</td>\n",
              "      <td>2014-04-22</td>\n",
              "      <td>The Iron Lady</td>\n",
              "      <td>https://www.imdb.com/title/tt1007029/</td>\n",
              "      <td>movie</td>\n",
              "      <td>6.4</td>\n",
              "      <td>105</td>\n",
              "      <td>2011.0</td>\n",
              "      <td>Biography, Drama</td>\n",
              "      <td>98773</td>\n",
              "      <td>2011-12-26</td>\n",
              "      <td>Phyllida Lloyd</td>\n",
              "    </tr>\n",
              "    <tr>\n",
              "      <th>3</th>\n",
              "      <td>7</td>\n",
              "      <td>2015-03-13</td>\n",
              "      <td>Slumdog Millionaire</td>\n",
              "      <td>https://www.imdb.com/title/tt1010048/</td>\n",
              "      <td>movie</td>\n",
              "      <td>8.0</td>\n",
              "      <td>120</td>\n",
              "      <td>2008.0</td>\n",
              "      <td>Drama, Romance</td>\n",
              "      <td>766624</td>\n",
              "      <td>2008-08-30</td>\n",
              "      <td>Loveleen Tandan, Danny Boyle</td>\n",
              "    </tr>\n",
              "    <tr>\n",
              "      <th>4</th>\n",
              "      <td>7</td>\n",
              "      <td>2014-04-21</td>\n",
              "      <td>The Addams Family</td>\n",
              "      <td>https://www.imdb.com/title/tt0101272/</td>\n",
              "      <td>movie</td>\n",
              "      <td>6.9</td>\n",
              "      <td>99</td>\n",
              "      <td>1991.0</td>\n",
              "      <td>Comedy, Fantasy</td>\n",
              "      <td>123080</td>\n",
              "      <td>1991-11-19</td>\n",
              "      <td>Barry Sonnenfeld</td>\n",
              "    </tr>\n",
              "    <tr>\n",
              "      <th>...</th>\n",
              "      <td>...</td>\n",
              "      <td>...</td>\n",
              "      <td>...</td>\n",
              "      <td>...</td>\n",
              "      <td>...</td>\n",
              "      <td>...</td>\n",
              "      <td>...</td>\n",
              "      <td>...</td>\n",
              "      <td>...</td>\n",
              "      <td>...</td>\n",
              "      <td>...</td>\n",
              "      <td>...</td>\n",
              "    </tr>\n",
              "    <tr>\n",
              "      <th>701</th>\n",
              "      <td>8</td>\n",
              "      <td>2015-02-27</td>\n",
              "      <td>Back to the Future Part III</td>\n",
              "      <td>https://www.imdb.com/title/tt0099088/</td>\n",
              "      <td>movie</td>\n",
              "      <td>7.4</td>\n",
              "      <td>118</td>\n",
              "      <td>1990.0</td>\n",
              "      <td>Adventure, Comedy, Sci-Fi, Western</td>\n",
              "      <td>376811</td>\n",
              "      <td>1990-05-25</td>\n",
              "      <td>Robert Zemeckis</td>\n",
              "    </tr>\n",
              "    <tr>\n",
              "      <th>702</th>\n",
              "      <td>9</td>\n",
              "      <td>2014-06-02</td>\n",
              "      <td>The Wolf of Wall Street</td>\n",
              "      <td>https://www.imdb.com/title/tt0993846/</td>\n",
              "      <td>movie</td>\n",
              "      <td>8.2</td>\n",
              "      <td>180</td>\n",
              "      <td>2013.0</td>\n",
              "      <td>Biography, Crime, Drama</td>\n",
              "      <td>1087889</td>\n",
              "      <td>2013-12-09</td>\n",
              "      <td>Martin Scorsese</td>\n",
              "    </tr>\n",
              "    <tr>\n",
              "      <th>703</th>\n",
              "      <td>8</td>\n",
              "      <td>2015-02-20</td>\n",
              "      <td>Edward Scissorhands</td>\n",
              "      <td>https://www.imdb.com/title/tt0099487/</td>\n",
              "      <td>movie</td>\n",
              "      <td>7.9</td>\n",
              "      <td>105</td>\n",
              "      <td>1990.0</td>\n",
              "      <td>Drama, Fantasy, Romance</td>\n",
              "      <td>426764</td>\n",
              "      <td>1990-12-06</td>\n",
              "      <td>Tim Burton</td>\n",
              "    </tr>\n",
              "    <tr>\n",
              "      <th>704</th>\n",
              "      <td>8</td>\n",
              "      <td>2015-02-20</td>\n",
              "      <td>Ghost</td>\n",
              "      <td>https://www.imdb.com/title/tt0099653/</td>\n",
              "      <td>movie</td>\n",
              "      <td>7.0</td>\n",
              "      <td>127</td>\n",
              "      <td>1990.0</td>\n",
              "      <td>Drama, Fantasy, Romance, Thriller</td>\n",
              "      <td>186060</td>\n",
              "      <td>1990-07-13</td>\n",
              "      <td>Jerry Zucker</td>\n",
              "    </tr>\n",
              "    <tr>\n",
              "      <th>705</th>\n",
              "      <td>7</td>\n",
              "      <td>2015-02-20</td>\n",
              "      <td>It</td>\n",
              "      <td>https://www.imdb.com/title/tt0099864/</td>\n",
              "      <td>tvMiniSeries</td>\n",
              "      <td>6.8</td>\n",
              "      <td>192</td>\n",
              "      <td>1990.0</td>\n",
              "      <td>Drama, Horror, Mystery, Thriller</td>\n",
              "      <td>110099</td>\n",
              "      <td>1990-11-18</td>\n",
              "      <td>NaN</td>\n",
              "    </tr>\n",
              "  </tbody>\n",
              "</table>\n",
              "<p>706 rows × 12 columns</p>\n",
              "</div>"
            ],
            "text/plain": [
              "     Your Rating  Date Rated  ... Release Date                     Directors\n",
              "0              8  2014-04-21  ...   1990-11-29                    Rob Reiner\n",
              "1              7  2019-06-16  ...   1990-03-23                Garry Marshall\n",
              "2              7  2014-04-22  ...   2011-12-26                Phyllida Lloyd\n",
              "3              7  2015-03-13  ...   2008-08-30  Loveleen Tandan, Danny Boyle\n",
              "4              7  2014-04-21  ...   1991-11-19              Barry Sonnenfeld\n",
              "..           ...         ...  ...          ...                           ...\n",
              "701            8  2015-02-27  ...   1990-05-25               Robert Zemeckis\n",
              "702            9  2014-06-02  ...   2013-12-09               Martin Scorsese\n",
              "703            8  2015-02-20  ...   1990-12-06                    Tim Burton\n",
              "704            8  2015-02-20  ...   1990-07-13                  Jerry Zucker\n",
              "705            7  2015-02-20  ...   1990-11-18                           NaN\n",
              "\n",
              "[706 rows x 12 columns]"
            ]
          },
          "metadata": {
            "tags": []
          },
          "execution_count": 80
        }
      ]
    },
    {
      "cell_type": "markdown",
      "metadata": {
        "id": "i5ONpxl32JGp",
        "colab_type": "text"
      },
      "source": [
        "Let's now use the selection to create a subset that will reduce the elements in the dataset based on an exclusion of certain variables rather than selecting only certain ones. Since we have a starting location we won't include an ending point in the request."
      ]
    },
    {
      "cell_type": "code",
      "metadata": {
        "id": "Ym7z0k4W2JGq",
        "colab_type": "code",
        "colab": {
          "base_uri": "https://localhost:8080/",
          "height": 419
        },
        "outputId": "fd26155f-b5fc-4690-d07e-5add05df2584"
      },
      "source": [
        "data_in.iloc[5:,5:]"
      ],
      "execution_count": 81,
      "outputs": [
        {
          "output_type": "execute_result",
          "data": {
            "text/html": [
              "<div>\n",
              "<style scoped>\n",
              "    .dataframe tbody tr th:only-of-type {\n",
              "        vertical-align: middle;\n",
              "    }\n",
              "\n",
              "    .dataframe tbody tr th {\n",
              "        vertical-align: top;\n",
              "    }\n",
              "\n",
              "    .dataframe thead th {\n",
              "        text-align: right;\n",
              "    }\n",
              "</style>\n",
              "<table border=\"1\" class=\"dataframe\">\n",
              "  <thead>\n",
              "    <tr style=\"text-align: right;\">\n",
              "      <th></th>\n",
              "      <th>IMDb Rating</th>\n",
              "      <th>Runtime (mins)</th>\n",
              "      <th>Year</th>\n",
              "      <th>Genres</th>\n",
              "      <th>Num Votes</th>\n",
              "      <th>Release Date</th>\n",
              "      <th>Directors</th>\n",
              "    </tr>\n",
              "  </thead>\n",
              "  <tbody>\n",
              "    <tr>\n",
              "      <th>5</th>\n",
              "      <td>6.6</td>\n",
              "      <td>107</td>\n",
              "      <td>2009.0</td>\n",
              "      <td>Action, Adventure, Thriller</td>\n",
              "      <td>250291</td>\n",
              "      <td>2009-03-12</td>\n",
              "      <td>Justin Lin</td>\n",
              "    </tr>\n",
              "    <tr>\n",
              "      <th>6</th>\n",
              "      <td>8.8</td>\n",
              "      <td>53</td>\n",
              "      <td>2007.0</td>\n",
              "      <td>Crime, Drama, Mystery, Thriller</td>\n",
              "      <td>4036</td>\n",
              "      <td>2007-09-30</td>\n",
              "      <td>Tony Goldwyn</td>\n",
              "    </tr>\n",
              "    <tr>\n",
              "      <th>7</th>\n",
              "      <td>8.6</td>\n",
              "      <td>56</td>\n",
              "      <td>2007.0</td>\n",
              "      <td>Crime, Drama, Mystery, Thriller</td>\n",
              "      <td>3643</td>\n",
              "      <td>2007-10-07</td>\n",
              "      <td>Marcos Siega</td>\n",
              "    </tr>\n",
              "    <tr>\n",
              "      <th>8</th>\n",
              "      <td>8.7</td>\n",
              "      <td>52</td>\n",
              "      <td>2007.0</td>\n",
              "      <td>Crime, Drama, Mystery, Thriller</td>\n",
              "      <td>3609</td>\n",
              "      <td>2007-10-14</td>\n",
              "      <td>Tony Goldwyn</td>\n",
              "    </tr>\n",
              "    <tr>\n",
              "      <th>9</th>\n",
              "      <td>8.5</td>\n",
              "      <td>53</td>\n",
              "      <td>2007.0</td>\n",
              "      <td>Crime, Drama, Mystery, Thriller</td>\n",
              "      <td>3443</td>\n",
              "      <td>2007-10-21</td>\n",
              "      <td>Nick Gomez</td>\n",
              "    </tr>\n",
              "    <tr>\n",
              "      <th>...</th>\n",
              "      <td>...</td>\n",
              "      <td>...</td>\n",
              "      <td>...</td>\n",
              "      <td>...</td>\n",
              "      <td>...</td>\n",
              "      <td>...</td>\n",
              "      <td>...</td>\n",
              "    </tr>\n",
              "    <tr>\n",
              "      <th>701</th>\n",
              "      <td>7.4</td>\n",
              "      <td>118</td>\n",
              "      <td>1990.0</td>\n",
              "      <td>Adventure, Comedy, Sci-Fi, Western</td>\n",
              "      <td>376811</td>\n",
              "      <td>1990-05-25</td>\n",
              "      <td>Robert Zemeckis</td>\n",
              "    </tr>\n",
              "    <tr>\n",
              "      <th>702</th>\n",
              "      <td>8.2</td>\n",
              "      <td>180</td>\n",
              "      <td>2013.0</td>\n",
              "      <td>Biography, Crime, Drama</td>\n",
              "      <td>1087889</td>\n",
              "      <td>2013-12-09</td>\n",
              "      <td>Martin Scorsese</td>\n",
              "    </tr>\n",
              "    <tr>\n",
              "      <th>703</th>\n",
              "      <td>7.9</td>\n",
              "      <td>105</td>\n",
              "      <td>1990.0</td>\n",
              "      <td>Drama, Fantasy, Romance</td>\n",
              "      <td>426764</td>\n",
              "      <td>1990-12-06</td>\n",
              "      <td>Tim Burton</td>\n",
              "    </tr>\n",
              "    <tr>\n",
              "      <th>704</th>\n",
              "      <td>7.0</td>\n",
              "      <td>127</td>\n",
              "      <td>1990.0</td>\n",
              "      <td>Drama, Fantasy, Romance, Thriller</td>\n",
              "      <td>186060</td>\n",
              "      <td>1990-07-13</td>\n",
              "      <td>Jerry Zucker</td>\n",
              "    </tr>\n",
              "    <tr>\n",
              "      <th>705</th>\n",
              "      <td>6.8</td>\n",
              "      <td>192</td>\n",
              "      <td>1990.0</td>\n",
              "      <td>Drama, Horror, Mystery, Thriller</td>\n",
              "      <td>110099</td>\n",
              "      <td>1990-11-18</td>\n",
              "      <td>NaN</td>\n",
              "    </tr>\n",
              "  </tbody>\n",
              "</table>\n",
              "<p>701 rows × 7 columns</p>\n",
              "</div>"
            ],
            "text/plain": [
              "     IMDb Rating  Runtime (mins)  ...  Release Date        Directors\n",
              "5            6.6             107  ...    2009-03-12       Justin Lin\n",
              "6            8.8              53  ...    2007-09-30     Tony Goldwyn\n",
              "7            8.6              56  ...    2007-10-07     Marcos Siega\n",
              "8            8.7              52  ...    2007-10-14     Tony Goldwyn\n",
              "9            8.5              53  ...    2007-10-21       Nick Gomez\n",
              "..           ...             ...  ...           ...              ...\n",
              "701          7.4             118  ...    1990-05-25  Robert Zemeckis\n",
              "702          8.2             180  ...    2013-12-09  Martin Scorsese\n",
              "703          7.9             105  ...    1990-12-06       Tim Burton\n",
              "704          7.0             127  ...    1990-07-13     Jerry Zucker\n",
              "705          6.8             192  ...    1990-11-18              NaN\n",
              "\n",
              "[701 rows x 7 columns]"
            ]
          },
          "metadata": {
            "tags": []
          },
          "execution_count": 81
        }
      ]
    },
    {
      "cell_type": "markdown",
      "metadata": {
        "id": "SblGcukE2JGu",
        "colab_type": "text"
      },
      "source": [
        "If we want to select the columns by name rather than number we can use the location command or the loc.\n",
        "\n",
        "This also takes the input of [row,column] with the big difference of the columns passed through as strings.\n",
        "\n",
        "Again we will go through a similar exercise as the iloc with the first selection of a full column, then a section of the column"
      ]
    },
    {
      "cell_type": "code",
      "metadata": {
        "id": "C3I4RHTF2JGw",
        "colab_type": "code",
        "colab": {
          "base_uri": "https://localhost:8080/",
          "height": 221
        },
        "outputId": "91c9ff69-d686-4735-ef1e-1b0d75ffa444"
      },
      "source": [
        "data_in.loc[:,'Year']"
      ],
      "execution_count": 82,
      "outputs": [
        {
          "output_type": "execute_result",
          "data": {
            "text/plain": [
              "0      1990.0\n",
              "1      1990.0\n",
              "2      2011.0\n",
              "3      2008.0\n",
              "4      1991.0\n",
              "        ...  \n",
              "701    1990.0\n",
              "702    2013.0\n",
              "703    1990.0\n",
              "704    1990.0\n",
              "705    1990.0\n",
              "Name: Year, Length: 706, dtype: float64"
            ]
          },
          "metadata": {
            "tags": []
          },
          "execution_count": 82
        }
      ]
    },
    {
      "cell_type": "code",
      "metadata": {
        "id": "u0qAezvV2JGz",
        "colab_type": "code",
        "colab": {
          "base_uri": "https://localhost:8080/",
          "height": 153
        },
        "outputId": "48e7de68-77fd-4e21-95b0-4be9d2cdc6ad"
      },
      "source": [
        "data_in.loc[:6,'Year']"
      ],
      "execution_count": 83,
      "outputs": [
        {
          "output_type": "execute_result",
          "data": {
            "text/plain": [
              "0    1990.0\n",
              "1    1990.0\n",
              "2    2011.0\n",
              "3    2008.0\n",
              "4    1991.0\n",
              "5    2009.0\n",
              "6    2007.0\n",
              "Name: Year, dtype: float64"
            ]
          },
          "metadata": {
            "tags": []
          },
          "execution_count": 83
        }
      ]
    },
    {
      "cell_type": "markdown",
      "metadata": {
        "id": "u6B0MuoA2JG6",
        "colab_type": "text"
      },
      "source": [
        "## Other Data Maipulation"
      ]
    },
    {
      "cell_type": "markdown",
      "metadata": {
        "id": "5PeEle6b2JG7",
        "colab_type": "text"
      },
      "source": [
        "The next section will cover a few other elements of data manipulation that may become useful at a later stage.\n",
        "\n",
        "The first of which is inserting values into a data frame, for this example we can insert a constant value of 1 in a row."
      ]
    },
    {
      "cell_type": "code",
      "metadata": {
        "id": "Xalpd8042JG8",
        "colab_type": "code",
        "colab": {
          "base_uri": "https://localhost:8080/",
          "height": 272
        },
        "outputId": "77df963d-d7c4-41fb-fbf8-9e717aaad916"
      },
      "source": [
        "data_in['const']=1\n",
        "data_in.head()"
      ],
      "execution_count": 84,
      "outputs": [
        {
          "output_type": "execute_result",
          "data": {
            "text/html": [
              "<div>\n",
              "<style scoped>\n",
              "    .dataframe tbody tr th:only-of-type {\n",
              "        vertical-align: middle;\n",
              "    }\n",
              "\n",
              "    .dataframe tbody tr th {\n",
              "        vertical-align: top;\n",
              "    }\n",
              "\n",
              "    .dataframe thead th {\n",
              "        text-align: right;\n",
              "    }\n",
              "</style>\n",
              "<table border=\"1\" class=\"dataframe\">\n",
              "  <thead>\n",
              "    <tr style=\"text-align: right;\">\n",
              "      <th></th>\n",
              "      <th>Your Rating</th>\n",
              "      <th>Date Rated</th>\n",
              "      <th>Title</th>\n",
              "      <th>Web Address</th>\n",
              "      <th>Title Type</th>\n",
              "      <th>IMDb Rating</th>\n",
              "      <th>Runtime (mins)</th>\n",
              "      <th>Year</th>\n",
              "      <th>Genres</th>\n",
              "      <th>Num Votes</th>\n",
              "      <th>Release Date</th>\n",
              "      <th>Directors</th>\n",
              "      <th>const</th>\n",
              "    </tr>\n",
              "  </thead>\n",
              "  <tbody>\n",
              "    <tr>\n",
              "      <th>0</th>\n",
              "      <td>8</td>\n",
              "      <td>2014-04-21</td>\n",
              "      <td>Misery</td>\n",
              "      <td>https://www.imdb.com/title/tt0100157/</td>\n",
              "      <td>movie</td>\n",
              "      <td>7.8</td>\n",
              "      <td>107</td>\n",
              "      <td>1990.0</td>\n",
              "      <td>Drama, Thriller</td>\n",
              "      <td>171962</td>\n",
              "      <td>1990-11-29</td>\n",
              "      <td>Rob Reiner</td>\n",
              "      <td>1</td>\n",
              "    </tr>\n",
              "    <tr>\n",
              "      <th>1</th>\n",
              "      <td>7</td>\n",
              "      <td>2019-06-16</td>\n",
              "      <td>Pretty Woman</td>\n",
              "      <td>https://www.imdb.com/title/tt0100405/</td>\n",
              "      <td>movie</td>\n",
              "      <td>7.0</td>\n",
              "      <td>119</td>\n",
              "      <td>1990.0</td>\n",
              "      <td>Comedy, Romance</td>\n",
              "      <td>271083</td>\n",
              "      <td>1990-03-23</td>\n",
              "      <td>Garry Marshall</td>\n",
              "      <td>1</td>\n",
              "    </tr>\n",
              "    <tr>\n",
              "      <th>2</th>\n",
              "      <td>7</td>\n",
              "      <td>2014-04-22</td>\n",
              "      <td>The Iron Lady</td>\n",
              "      <td>https://www.imdb.com/title/tt1007029/</td>\n",
              "      <td>movie</td>\n",
              "      <td>6.4</td>\n",
              "      <td>105</td>\n",
              "      <td>2011.0</td>\n",
              "      <td>Biography, Drama</td>\n",
              "      <td>98773</td>\n",
              "      <td>2011-12-26</td>\n",
              "      <td>Phyllida Lloyd</td>\n",
              "      <td>1</td>\n",
              "    </tr>\n",
              "    <tr>\n",
              "      <th>3</th>\n",
              "      <td>7</td>\n",
              "      <td>2015-03-13</td>\n",
              "      <td>Slumdog Millionaire</td>\n",
              "      <td>https://www.imdb.com/title/tt1010048/</td>\n",
              "      <td>movie</td>\n",
              "      <td>8.0</td>\n",
              "      <td>120</td>\n",
              "      <td>2008.0</td>\n",
              "      <td>Drama, Romance</td>\n",
              "      <td>766624</td>\n",
              "      <td>2008-08-30</td>\n",
              "      <td>Loveleen Tandan, Danny Boyle</td>\n",
              "      <td>1</td>\n",
              "    </tr>\n",
              "    <tr>\n",
              "      <th>4</th>\n",
              "      <td>7</td>\n",
              "      <td>2014-04-21</td>\n",
              "      <td>The Addams Family</td>\n",
              "      <td>https://www.imdb.com/title/tt0101272/</td>\n",
              "      <td>movie</td>\n",
              "      <td>6.9</td>\n",
              "      <td>99</td>\n",
              "      <td>1991.0</td>\n",
              "      <td>Comedy, Fantasy</td>\n",
              "      <td>123080</td>\n",
              "      <td>1991-11-19</td>\n",
              "      <td>Barry Sonnenfeld</td>\n",
              "      <td>1</td>\n",
              "    </tr>\n",
              "  </tbody>\n",
              "</table>\n",
              "</div>"
            ],
            "text/plain": [
              "   Your Rating  Date Rated  ...                     Directors const\n",
              "0            8  2014-04-21  ...                    Rob Reiner     1\n",
              "1            7  2019-06-16  ...                Garry Marshall     1\n",
              "2            7  2014-04-22  ...                Phyllida Lloyd     1\n",
              "3            7  2015-03-13  ...  Loveleen Tandan, Danny Boyle     1\n",
              "4            7  2014-04-21  ...              Barry Sonnenfeld     1\n",
              "\n",
              "[5 rows x 13 columns]"
            ]
          },
          "metadata": {
            "tags": []
          },
          "execution_count": 84
        }
      ]
    },
    {
      "cell_type": "markdown",
      "metadata": {
        "id": "pF5KkObc2JG_",
        "colab_type": "text"
      },
      "source": [
        "The next interesting manipulation is to apply a function to the full dataset row by row. In the example below we are going to create a new function that will multiple the values by and then use the newly created function to apply it to all of the rows in the dataset."
      ]
    },
    {
      "cell_type": "code",
      "metadata": {
        "id": "uB-U68Gr2JHA",
        "colab_type": "code",
        "colab": {
          "base_uri": "https://localhost:8080/",
          "height": 272
        },
        "outputId": "6da8df21-76fa-4e48-fc0c-432ba0962acd"
      },
      "source": [
        "f = lambda x:x*2\n",
        "\n",
        "data_in['const']=data_in['const'].apply(f)\n",
        "data_in.head()"
      ],
      "execution_count": 85,
      "outputs": [
        {
          "output_type": "execute_result",
          "data": {
            "text/html": [
              "<div>\n",
              "<style scoped>\n",
              "    .dataframe tbody tr th:only-of-type {\n",
              "        vertical-align: middle;\n",
              "    }\n",
              "\n",
              "    .dataframe tbody tr th {\n",
              "        vertical-align: top;\n",
              "    }\n",
              "\n",
              "    .dataframe thead th {\n",
              "        text-align: right;\n",
              "    }\n",
              "</style>\n",
              "<table border=\"1\" class=\"dataframe\">\n",
              "  <thead>\n",
              "    <tr style=\"text-align: right;\">\n",
              "      <th></th>\n",
              "      <th>Your Rating</th>\n",
              "      <th>Date Rated</th>\n",
              "      <th>Title</th>\n",
              "      <th>Web Address</th>\n",
              "      <th>Title Type</th>\n",
              "      <th>IMDb Rating</th>\n",
              "      <th>Runtime (mins)</th>\n",
              "      <th>Year</th>\n",
              "      <th>Genres</th>\n",
              "      <th>Num Votes</th>\n",
              "      <th>Release Date</th>\n",
              "      <th>Directors</th>\n",
              "      <th>const</th>\n",
              "    </tr>\n",
              "  </thead>\n",
              "  <tbody>\n",
              "    <tr>\n",
              "      <th>0</th>\n",
              "      <td>8</td>\n",
              "      <td>2014-04-21</td>\n",
              "      <td>Misery</td>\n",
              "      <td>https://www.imdb.com/title/tt0100157/</td>\n",
              "      <td>movie</td>\n",
              "      <td>7.8</td>\n",
              "      <td>107</td>\n",
              "      <td>1990.0</td>\n",
              "      <td>Drama, Thriller</td>\n",
              "      <td>171962</td>\n",
              "      <td>1990-11-29</td>\n",
              "      <td>Rob Reiner</td>\n",
              "      <td>2</td>\n",
              "    </tr>\n",
              "    <tr>\n",
              "      <th>1</th>\n",
              "      <td>7</td>\n",
              "      <td>2019-06-16</td>\n",
              "      <td>Pretty Woman</td>\n",
              "      <td>https://www.imdb.com/title/tt0100405/</td>\n",
              "      <td>movie</td>\n",
              "      <td>7.0</td>\n",
              "      <td>119</td>\n",
              "      <td>1990.0</td>\n",
              "      <td>Comedy, Romance</td>\n",
              "      <td>271083</td>\n",
              "      <td>1990-03-23</td>\n",
              "      <td>Garry Marshall</td>\n",
              "      <td>2</td>\n",
              "    </tr>\n",
              "    <tr>\n",
              "      <th>2</th>\n",
              "      <td>7</td>\n",
              "      <td>2014-04-22</td>\n",
              "      <td>The Iron Lady</td>\n",
              "      <td>https://www.imdb.com/title/tt1007029/</td>\n",
              "      <td>movie</td>\n",
              "      <td>6.4</td>\n",
              "      <td>105</td>\n",
              "      <td>2011.0</td>\n",
              "      <td>Biography, Drama</td>\n",
              "      <td>98773</td>\n",
              "      <td>2011-12-26</td>\n",
              "      <td>Phyllida Lloyd</td>\n",
              "      <td>2</td>\n",
              "    </tr>\n",
              "    <tr>\n",
              "      <th>3</th>\n",
              "      <td>7</td>\n",
              "      <td>2015-03-13</td>\n",
              "      <td>Slumdog Millionaire</td>\n",
              "      <td>https://www.imdb.com/title/tt1010048/</td>\n",
              "      <td>movie</td>\n",
              "      <td>8.0</td>\n",
              "      <td>120</td>\n",
              "      <td>2008.0</td>\n",
              "      <td>Drama, Romance</td>\n",
              "      <td>766624</td>\n",
              "      <td>2008-08-30</td>\n",
              "      <td>Loveleen Tandan, Danny Boyle</td>\n",
              "      <td>2</td>\n",
              "    </tr>\n",
              "    <tr>\n",
              "      <th>4</th>\n",
              "      <td>7</td>\n",
              "      <td>2014-04-21</td>\n",
              "      <td>The Addams Family</td>\n",
              "      <td>https://www.imdb.com/title/tt0101272/</td>\n",
              "      <td>movie</td>\n",
              "      <td>6.9</td>\n",
              "      <td>99</td>\n",
              "      <td>1991.0</td>\n",
              "      <td>Comedy, Fantasy</td>\n",
              "      <td>123080</td>\n",
              "      <td>1991-11-19</td>\n",
              "      <td>Barry Sonnenfeld</td>\n",
              "      <td>2</td>\n",
              "    </tr>\n",
              "  </tbody>\n",
              "</table>\n",
              "</div>"
            ],
            "text/plain": [
              "   Your Rating  Date Rated  ...                     Directors const\n",
              "0            8  2014-04-21  ...                    Rob Reiner     2\n",
              "1            7  2019-06-16  ...                Garry Marshall     2\n",
              "2            7  2014-04-22  ...                Phyllida Lloyd     2\n",
              "3            7  2015-03-13  ...  Loveleen Tandan, Danny Boyle     2\n",
              "4            7  2014-04-21  ...              Barry Sonnenfeld     2\n",
              "\n",
              "[5 rows x 13 columns]"
            ]
          },
          "metadata": {
            "tags": []
          },
          "execution_count": 85
        }
      ]
    },
    {
      "cell_type": "markdown",
      "metadata": {
        "id": "FcMkG-KG2JHJ",
        "colab_type": "text"
      },
      "source": [
        "In the example above we create a **lamdba** function, this is a temporary annonymous function that will take one input (here it is x) and do a quick function on it.\n",
        "\n",
        "The next application that is avaliable to us is a way to sort the data by certain columns."
      ]
    },
    {
      "cell_type": "code",
      "metadata": {
        "id": "1BRWfuDZ2JHK",
        "colab_type": "code",
        "colab": {
          "base_uri": "https://localhost:8080/",
          "height": 606
        },
        "outputId": "af3cb168-b071-431f-b7de-51eb1ed600b8"
      },
      "source": [
        "data_in.sort_values(by='Year')"
      ],
      "execution_count": 86,
      "outputs": [
        {
          "output_type": "execute_result",
          "data": {
            "text/html": [
              "<div>\n",
              "<style scoped>\n",
              "    .dataframe tbody tr th:only-of-type {\n",
              "        vertical-align: middle;\n",
              "    }\n",
              "\n",
              "    .dataframe tbody tr th {\n",
              "        vertical-align: top;\n",
              "    }\n",
              "\n",
              "    .dataframe thead th {\n",
              "        text-align: right;\n",
              "    }\n",
              "</style>\n",
              "<table border=\"1\" class=\"dataframe\">\n",
              "  <thead>\n",
              "    <tr style=\"text-align: right;\">\n",
              "      <th></th>\n",
              "      <th>Your Rating</th>\n",
              "      <th>Date Rated</th>\n",
              "      <th>Title</th>\n",
              "      <th>Web Address</th>\n",
              "      <th>Title Type</th>\n",
              "      <th>IMDb Rating</th>\n",
              "      <th>Runtime (mins)</th>\n",
              "      <th>Year</th>\n",
              "      <th>Genres</th>\n",
              "      <th>Num Votes</th>\n",
              "      <th>Release Date</th>\n",
              "      <th>Directors</th>\n",
              "      <th>const</th>\n",
              "    </tr>\n",
              "  </thead>\n",
              "  <tbody>\n",
              "    <tr>\n",
              "      <th>601</th>\n",
              "      <td>7</td>\n",
              "      <td>2015-03-13</td>\n",
              "      <td>Dr. No</td>\n",
              "      <td>https://www.imdb.com/title/tt0055928/</td>\n",
              "      <td>movie</td>\n",
              "      <td>7.3</td>\n",
              "      <td>110</td>\n",
              "      <td>1962.0</td>\n",
              "      <td>Action, Adventure, Thriller</td>\n",
              "      <td>138645</td>\n",
              "      <td>1962-10-05</td>\n",
              "      <td>Terence Young</td>\n",
              "      <td>2</td>\n",
              "    </tr>\n",
              "    <tr>\n",
              "      <th>604</th>\n",
              "      <td>8</td>\n",
              "      <td>2015-03-13</td>\n",
              "      <td>Goldfinger</td>\n",
              "      <td>https://www.imdb.com/title/tt0058150/</td>\n",
              "      <td>movie</td>\n",
              "      <td>7.7</td>\n",
              "      <td>110</td>\n",
              "      <td>1964.0</td>\n",
              "      <td>Action, Adventure, Thriller</td>\n",
              "      <td>163127</td>\n",
              "      <td>1964-09-17</td>\n",
              "      <td>Guy Hamilton</td>\n",
              "      <td>2</td>\n",
              "    </tr>\n",
              "    <tr>\n",
              "      <th>607</th>\n",
              "      <td>7</td>\n",
              "      <td>2015-02-27</td>\n",
              "      <td>Thunderball</td>\n",
              "      <td>https://www.imdb.com/title/tt0059800/</td>\n",
              "      <td>movie</td>\n",
              "      <td>7.0</td>\n",
              "      <td>130</td>\n",
              "      <td>1965.0</td>\n",
              "      <td>Action, Adventure, Thriller</td>\n",
              "      <td>98754</td>\n",
              "      <td>1965-12-09</td>\n",
              "      <td>Terence Young</td>\n",
              "      <td>2</td>\n",
              "    </tr>\n",
              "    <tr>\n",
              "      <th>610</th>\n",
              "      <td>8</td>\n",
              "      <td>2015-02-20</td>\n",
              "      <td>Dad's Army</td>\n",
              "      <td>https://www.imdb.com/title/tt0062552/</td>\n",
              "      <td>tvSeries</td>\n",
              "      <td>8.1</td>\n",
              "      <td>30</td>\n",
              "      <td>1968.0</td>\n",
              "      <td>Comedy, War</td>\n",
              "      <td>5215</td>\n",
              "      <td>1968-07-31</td>\n",
              "      <td>NaN</td>\n",
              "      <td>2</td>\n",
              "    </tr>\n",
              "    <tr>\n",
              "      <th>612</th>\n",
              "      <td>9</td>\n",
              "      <td>2015-05-31</td>\n",
              "      <td>The Godfather</td>\n",
              "      <td>https://www.imdb.com/title/tt0068646/</td>\n",
              "      <td>movie</td>\n",
              "      <td>9.2</td>\n",
              "      <td>175</td>\n",
              "      <td>1972.0</td>\n",
              "      <td>Crime, Drama</td>\n",
              "      <td>1507586</td>\n",
              "      <td>1972-03-14</td>\n",
              "      <td>Francis Ford Coppola</td>\n",
              "      <td>2</td>\n",
              "    </tr>\n",
              "    <tr>\n",
              "      <th>...</th>\n",
              "      <td>...</td>\n",
              "      <td>...</td>\n",
              "      <td>...</td>\n",
              "      <td>...</td>\n",
              "      <td>...</td>\n",
              "      <td>...</td>\n",
              "      <td>...</td>\n",
              "      <td>...</td>\n",
              "      <td>...</td>\n",
              "      <td>...</td>\n",
              "      <td>...</td>\n",
              "      <td>...</td>\n",
              "      <td>...</td>\n",
              "    </tr>\n",
              "    <tr>\n",
              "      <th>652</th>\n",
              "      <td>7</td>\n",
              "      <td>2019-07-14</td>\n",
              "      <td>Pet Sematary</td>\n",
              "      <td>https://www.imdb.com/title/tt0837563/</td>\n",
              "      <td>movie</td>\n",
              "      <td>5.8</td>\n",
              "      <td>101</td>\n",
              "      <td>2019.0</td>\n",
              "      <td>Horror, Mystery, Thriller</td>\n",
              "      <td>66648</td>\n",
              "      <td>2019-03-16</td>\n",
              "      <td>Dennis Widmyer, Kevin Kölsch</td>\n",
              "      <td>2</td>\n",
              "    </tr>\n",
              "    <tr>\n",
              "      <th>24</th>\n",
              "      <td>8</td>\n",
              "      <td>2019-10-07</td>\n",
              "      <td>Steven Universe: The Movie</td>\n",
              "      <td>https://www.imdb.com/title/tt10515852/</td>\n",
              "      <td>tvMovie</td>\n",
              "      <td>8.0</td>\n",
              "      <td>82</td>\n",
              "      <td>2019.0</td>\n",
              "      <td>Animation, Action, Adventure, Comedy, Drama, F...</td>\n",
              "      <td>2915</td>\n",
              "      <td>2019-09-02</td>\n",
              "      <td>Rebecca Sugar</td>\n",
              "      <td>2</td>\n",
              "    </tr>\n",
              "    <tr>\n",
              "      <th>264</th>\n",
              "      <td>8</td>\n",
              "      <td>2019-06-28</td>\n",
              "      <td>Rocketman</td>\n",
              "      <td>https://www.imdb.com/title/tt2066051/</td>\n",
              "      <td>movie</td>\n",
              "      <td>7.4</td>\n",
              "      <td>121</td>\n",
              "      <td>2019.0</td>\n",
              "      <td>Biography, Drama, Music, Musical</td>\n",
              "      <td>93940</td>\n",
              "      <td>2019-05-16</td>\n",
              "      <td>Dexter Fletcher</td>\n",
              "      <td>2</td>\n",
              "    </tr>\n",
              "    <tr>\n",
              "      <th>602</th>\n",
              "      <td>9</td>\n",
              "      <td>2019-11-10</td>\n",
              "      <td>Doctor Sleep</td>\n",
              "      <td>https://www.imdb.com/title/tt5606664/</td>\n",
              "      <td>movie</td>\n",
              "      <td>7.5</td>\n",
              "      <td>152</td>\n",
              "      <td>2019.0</td>\n",
              "      <td>Drama, Fantasy, Horror, Thriller</td>\n",
              "      <td>66968</td>\n",
              "      <td>2019-10-30</td>\n",
              "      <td>Mike Flanagan</td>\n",
              "      <td>2</td>\n",
              "    </tr>\n",
              "    <tr>\n",
              "      <th>609</th>\n",
              "      <td>7</td>\n",
              "      <td>2019-09-30</td>\n",
              "      <td>John Wick: Chapter 3 - Parabellum</td>\n",
              "      <td>https://www.imdb.com/title/tt6146586/</td>\n",
              "      <td>movie</td>\n",
              "      <td>7.5</td>\n",
              "      <td>131</td>\n",
              "      <td>2019.0</td>\n",
              "      <td>Action, Crime, Thriller</td>\n",
              "      <td>221907</td>\n",
              "      <td>2019-05-15</td>\n",
              "      <td>Chad Stahelski</td>\n",
              "      <td>2</td>\n",
              "    </tr>\n",
              "  </tbody>\n",
              "</table>\n",
              "<p>706 rows × 13 columns</p>\n",
              "</div>"
            ],
            "text/plain": [
              "     Your Rating  Date Rated  ...                     Directors const\n",
              "601            7  2015-03-13  ...                 Terence Young     2\n",
              "604            8  2015-03-13  ...                  Guy Hamilton     2\n",
              "607            7  2015-02-27  ...                 Terence Young     2\n",
              "610            8  2015-02-20  ...                           NaN     2\n",
              "612            9  2015-05-31  ...          Francis Ford Coppola     2\n",
              "..           ...         ...  ...                           ...   ...\n",
              "652            7  2019-07-14  ...  Dennis Widmyer, Kevin Kölsch     2\n",
              "24             8  2019-10-07  ...                 Rebecca Sugar     2\n",
              "264            8  2019-06-28  ...               Dexter Fletcher     2\n",
              "602            9  2019-11-10  ...                 Mike Flanagan     2\n",
              "609            7  2019-09-30  ...                Chad Stahelski     2\n",
              "\n",
              "[706 rows x 13 columns]"
            ]
          },
          "metadata": {
            "tags": []
          },
          "execution_count": 86
        }
      ]
    },
    {
      "cell_type": "code",
      "metadata": {
        "id": "5xrL1T9E2JHN",
        "colab_type": "code",
        "colab": {
          "base_uri": "https://localhost:8080/",
          "height": 606
        },
        "outputId": "778b9d7c-3e2a-4ecd-9cb9-1c21b3d1b840"
      },
      "source": [
        "data_in.sort_values(by='Year',ascending=False)"
      ],
      "execution_count": 87,
      "outputs": [
        {
          "output_type": "execute_result",
          "data": {
            "text/html": [
              "<div>\n",
              "<style scoped>\n",
              "    .dataframe tbody tr th:only-of-type {\n",
              "        vertical-align: middle;\n",
              "    }\n",
              "\n",
              "    .dataframe tbody tr th {\n",
              "        vertical-align: top;\n",
              "    }\n",
              "\n",
              "    .dataframe thead th {\n",
              "        text-align: right;\n",
              "    }\n",
              "</style>\n",
              "<table border=\"1\" class=\"dataframe\">\n",
              "  <thead>\n",
              "    <tr style=\"text-align: right;\">\n",
              "      <th></th>\n",
              "      <th>Your Rating</th>\n",
              "      <th>Date Rated</th>\n",
              "      <th>Title</th>\n",
              "      <th>Web Address</th>\n",
              "      <th>Title Type</th>\n",
              "      <th>IMDb Rating</th>\n",
              "      <th>Runtime (mins)</th>\n",
              "      <th>Year</th>\n",
              "      <th>Genres</th>\n",
              "      <th>Num Votes</th>\n",
              "      <th>Release Date</th>\n",
              "      <th>Directors</th>\n",
              "      <th>const</th>\n",
              "    </tr>\n",
              "  </thead>\n",
              "  <tbody>\n",
              "    <tr>\n",
              "      <th>288</th>\n",
              "      <td>5</td>\n",
              "      <td>2019-11-09</td>\n",
              "      <td>Men in Black: International</td>\n",
              "      <td>https://www.imdb.com/title/tt2283336/</td>\n",
              "      <td>movie</td>\n",
              "      <td>5.6</td>\n",
              "      <td>114</td>\n",
              "      <td>2019.0</td>\n",
              "      <td>Action, Adventure, Comedy, Sci-Fi</td>\n",
              "      <td>84874</td>\n",
              "      <td>2019-06-11</td>\n",
              "      <td>F. Gary Gray</td>\n",
              "      <td>2</td>\n",
              "    </tr>\n",
              "    <tr>\n",
              "      <th>606</th>\n",
              "      <td>7</td>\n",
              "      <td>2019-05-27</td>\n",
              "      <td>Pokémon Detective Pikachu</td>\n",
              "      <td>https://www.imdb.com/title/tt5884052/</td>\n",
              "      <td>movie</td>\n",
              "      <td>6.6</td>\n",
              "      <td>104</td>\n",
              "      <td>2019.0</td>\n",
              "      <td>Action, Adventure, Comedy, Family, Mystery, Sc...</td>\n",
              "      <td>113162</td>\n",
              "      <td>2019-05-02</td>\n",
              "      <td>Rob Letterman</td>\n",
              "      <td>2</td>\n",
              "    </tr>\n",
              "    <tr>\n",
              "      <th>442</th>\n",
              "      <td>7</td>\n",
              "      <td>2019-05-02</td>\n",
              "      <td>The Lego Movie 2: The Second Part</td>\n",
              "      <td>https://www.imdb.com/title/tt3513498/</td>\n",
              "      <td>movie</td>\n",
              "      <td>6.6</td>\n",
              "      <td>107</td>\n",
              "      <td>2019.0</td>\n",
              "      <td>Animation, Action, Adventure, Comedy, Family, ...</td>\n",
              "      <td>45293</td>\n",
              "      <td>2019-02-02</td>\n",
              "      <td>Mike Mitchell</td>\n",
              "      <td>2</td>\n",
              "    </tr>\n",
              "    <tr>\n",
              "      <th>324</th>\n",
              "      <td>8</td>\n",
              "      <td>2019-12-20</td>\n",
              "      <td>Star Wars: Episode IX - The Rise of Skywalker</td>\n",
              "      <td>https://www.imdb.com/title/tt2527338/</td>\n",
              "      <td>movie</td>\n",
              "      <td>6.9</td>\n",
              "      <td>142</td>\n",
              "      <td>2019.0</td>\n",
              "      <td>Action, Adventure, Fantasy, Sci-Fi</td>\n",
              "      <td>250930</td>\n",
              "      <td>2019-12-16</td>\n",
              "      <td>J.J. Abrams</td>\n",
              "      <td>2</td>\n",
              "    </tr>\n",
              "    <tr>\n",
              "      <th>24</th>\n",
              "      <td>8</td>\n",
              "      <td>2019-10-07</td>\n",
              "      <td>Steven Universe: The Movie</td>\n",
              "      <td>https://www.imdb.com/title/tt10515852/</td>\n",
              "      <td>tvMovie</td>\n",
              "      <td>8.0</td>\n",
              "      <td>82</td>\n",
              "      <td>2019.0</td>\n",
              "      <td>Animation, Action, Adventure, Comedy, Drama, F...</td>\n",
              "      <td>2915</td>\n",
              "      <td>2019-09-02</td>\n",
              "      <td>Rebecca Sugar</td>\n",
              "      <td>2</td>\n",
              "    </tr>\n",
              "    <tr>\n",
              "      <th>...</th>\n",
              "      <td>...</td>\n",
              "      <td>...</td>\n",
              "      <td>...</td>\n",
              "      <td>...</td>\n",
              "      <td>...</td>\n",
              "      <td>...</td>\n",
              "      <td>...</td>\n",
              "      <td>...</td>\n",
              "      <td>...</td>\n",
              "      <td>...</td>\n",
              "      <td>...</td>\n",
              "      <td>...</td>\n",
              "      <td>...</td>\n",
              "    </tr>\n",
              "    <tr>\n",
              "      <th>612</th>\n",
              "      <td>9</td>\n",
              "      <td>2015-05-31</td>\n",
              "      <td>The Godfather</td>\n",
              "      <td>https://www.imdb.com/title/tt0068646/</td>\n",
              "      <td>movie</td>\n",
              "      <td>9.2</td>\n",
              "      <td>175</td>\n",
              "      <td>1972.0</td>\n",
              "      <td>Crime, Drama</td>\n",
              "      <td>1507586</td>\n",
              "      <td>1972-03-14</td>\n",
              "      <td>Francis Ford Coppola</td>\n",
              "      <td>2</td>\n",
              "    </tr>\n",
              "    <tr>\n",
              "      <th>610</th>\n",
              "      <td>8</td>\n",
              "      <td>2015-02-20</td>\n",
              "      <td>Dad's Army</td>\n",
              "      <td>https://www.imdb.com/title/tt0062552/</td>\n",
              "      <td>tvSeries</td>\n",
              "      <td>8.1</td>\n",
              "      <td>30</td>\n",
              "      <td>1968.0</td>\n",
              "      <td>Comedy, War</td>\n",
              "      <td>5215</td>\n",
              "      <td>1968-07-31</td>\n",
              "      <td>NaN</td>\n",
              "      <td>2</td>\n",
              "    </tr>\n",
              "    <tr>\n",
              "      <th>607</th>\n",
              "      <td>7</td>\n",
              "      <td>2015-02-27</td>\n",
              "      <td>Thunderball</td>\n",
              "      <td>https://www.imdb.com/title/tt0059800/</td>\n",
              "      <td>movie</td>\n",
              "      <td>7.0</td>\n",
              "      <td>130</td>\n",
              "      <td>1965.0</td>\n",
              "      <td>Action, Adventure, Thriller</td>\n",
              "      <td>98754</td>\n",
              "      <td>1965-12-09</td>\n",
              "      <td>Terence Young</td>\n",
              "      <td>2</td>\n",
              "    </tr>\n",
              "    <tr>\n",
              "      <th>604</th>\n",
              "      <td>8</td>\n",
              "      <td>2015-03-13</td>\n",
              "      <td>Goldfinger</td>\n",
              "      <td>https://www.imdb.com/title/tt0058150/</td>\n",
              "      <td>movie</td>\n",
              "      <td>7.7</td>\n",
              "      <td>110</td>\n",
              "      <td>1964.0</td>\n",
              "      <td>Action, Adventure, Thriller</td>\n",
              "      <td>163127</td>\n",
              "      <td>1964-09-17</td>\n",
              "      <td>Guy Hamilton</td>\n",
              "      <td>2</td>\n",
              "    </tr>\n",
              "    <tr>\n",
              "      <th>601</th>\n",
              "      <td>7</td>\n",
              "      <td>2015-03-13</td>\n",
              "      <td>Dr. No</td>\n",
              "      <td>https://www.imdb.com/title/tt0055928/</td>\n",
              "      <td>movie</td>\n",
              "      <td>7.3</td>\n",
              "      <td>110</td>\n",
              "      <td>1962.0</td>\n",
              "      <td>Action, Adventure, Thriller</td>\n",
              "      <td>138645</td>\n",
              "      <td>1962-10-05</td>\n",
              "      <td>Terence Young</td>\n",
              "      <td>2</td>\n",
              "    </tr>\n",
              "  </tbody>\n",
              "</table>\n",
              "<p>706 rows × 13 columns</p>\n",
              "</div>"
            ],
            "text/plain": [
              "     Your Rating  Date Rated  ...             Directors const\n",
              "288            5  2019-11-09  ...          F. Gary Gray     2\n",
              "606            7  2019-05-27  ...         Rob Letterman     2\n",
              "442            7  2019-05-02  ...         Mike Mitchell     2\n",
              "324            8  2019-12-20  ...           J.J. Abrams     2\n",
              "24             8  2019-10-07  ...         Rebecca Sugar     2\n",
              "..           ...         ...  ...                   ...   ...\n",
              "612            9  2015-05-31  ...  Francis Ford Coppola     2\n",
              "610            8  2015-02-20  ...                   NaN     2\n",
              "607            7  2015-02-27  ...         Terence Young     2\n",
              "604            8  2015-03-13  ...          Guy Hamilton     2\n",
              "601            7  2015-03-13  ...         Terence Young     2\n",
              "\n",
              "[706 rows x 13 columns]"
            ]
          },
          "metadata": {
            "tags": []
          },
          "execution_count": 87
        }
      ]
    },
    {
      "cell_type": "markdown",
      "metadata": {
        "id": "CQEjhe-V2JHU",
        "colab_type": "text"
      },
      "source": [
        "As much as it is useful for us to subset the data it is usually more useful for us to filter the data based on some criteria. Look at the examples below on how we create filters and apply them."
      ]
    },
    {
      "cell_type": "code",
      "metadata": {
        "id": "mqNO8hHS2JHV",
        "colab_type": "code",
        "colab": {
          "base_uri": "https://localhost:8080/",
          "height": 221
        },
        "outputId": "45a32a15-32ab-411b-b128-592b668c5f70"
      },
      "source": [
        "data_in['Year']<1999"
      ],
      "execution_count": 88,
      "outputs": [
        {
          "output_type": "execute_result",
          "data": {
            "text/plain": [
              "0       True\n",
              "1       True\n",
              "2      False\n",
              "3      False\n",
              "4       True\n",
              "       ...  \n",
              "701     True\n",
              "702    False\n",
              "703     True\n",
              "704     True\n",
              "705     True\n",
              "Name: Year, Length: 706, dtype: bool"
            ]
          },
          "metadata": {
            "tags": []
          },
          "execution_count": 88
        }
      ]
    },
    {
      "cell_type": "markdown",
      "metadata": {
        "id": "ciyag1tW2JHZ",
        "colab_type": "text"
      },
      "source": [
        "In the example above we have shown the results of the evaluation but have not applied the filter to the dataset. Let's now apply the filter to the associated dataset."
      ]
    },
    {
      "cell_type": "code",
      "metadata": {
        "id": "6UqI0CtE2JHZ",
        "colab_type": "code",
        "colab": {
          "base_uri": "https://localhost:8080/",
          "height": 306
        },
        "outputId": "952db6be-6bc6-47e1-912f-c6391dbfdce3"
      },
      "source": [
        "filter1 = data_in['Year']<1999\n",
        "filtered_new = data_in[filter1]\n",
        "filtered_new.head()"
      ],
      "execution_count": 89,
      "outputs": [
        {
          "output_type": "execute_result",
          "data": {
            "text/html": [
              "<div>\n",
              "<style scoped>\n",
              "    .dataframe tbody tr th:only-of-type {\n",
              "        vertical-align: middle;\n",
              "    }\n",
              "\n",
              "    .dataframe tbody tr th {\n",
              "        vertical-align: top;\n",
              "    }\n",
              "\n",
              "    .dataframe thead th {\n",
              "        text-align: right;\n",
              "    }\n",
              "</style>\n",
              "<table border=\"1\" class=\"dataframe\">\n",
              "  <thead>\n",
              "    <tr style=\"text-align: right;\">\n",
              "      <th></th>\n",
              "      <th>Your Rating</th>\n",
              "      <th>Date Rated</th>\n",
              "      <th>Title</th>\n",
              "      <th>Web Address</th>\n",
              "      <th>Title Type</th>\n",
              "      <th>IMDb Rating</th>\n",
              "      <th>Runtime (mins)</th>\n",
              "      <th>Year</th>\n",
              "      <th>Genres</th>\n",
              "      <th>Num Votes</th>\n",
              "      <th>Release Date</th>\n",
              "      <th>Directors</th>\n",
              "      <th>const</th>\n",
              "    </tr>\n",
              "  </thead>\n",
              "  <tbody>\n",
              "    <tr>\n",
              "      <th>0</th>\n",
              "      <td>8</td>\n",
              "      <td>2014-04-21</td>\n",
              "      <td>Misery</td>\n",
              "      <td>https://www.imdb.com/title/tt0100157/</td>\n",
              "      <td>movie</td>\n",
              "      <td>7.8</td>\n",
              "      <td>107</td>\n",
              "      <td>1990.0</td>\n",
              "      <td>Drama, Thriller</td>\n",
              "      <td>171962</td>\n",
              "      <td>1990-11-29</td>\n",
              "      <td>Rob Reiner</td>\n",
              "      <td>2</td>\n",
              "    </tr>\n",
              "    <tr>\n",
              "      <th>1</th>\n",
              "      <td>7</td>\n",
              "      <td>2019-06-16</td>\n",
              "      <td>Pretty Woman</td>\n",
              "      <td>https://www.imdb.com/title/tt0100405/</td>\n",
              "      <td>movie</td>\n",
              "      <td>7.0</td>\n",
              "      <td>119</td>\n",
              "      <td>1990.0</td>\n",
              "      <td>Comedy, Romance</td>\n",
              "      <td>271083</td>\n",
              "      <td>1990-03-23</td>\n",
              "      <td>Garry Marshall</td>\n",
              "      <td>2</td>\n",
              "    </tr>\n",
              "    <tr>\n",
              "      <th>4</th>\n",
              "      <td>7</td>\n",
              "      <td>2014-04-21</td>\n",
              "      <td>The Addams Family</td>\n",
              "      <td>https://www.imdb.com/title/tt0101272/</td>\n",
              "      <td>movie</td>\n",
              "      <td>6.9</td>\n",
              "      <td>99</td>\n",
              "      <td>1991.0</td>\n",
              "      <td>Comedy, Fantasy</td>\n",
              "      <td>123080</td>\n",
              "      <td>1991-11-19</td>\n",
              "      <td>Barry Sonnenfeld</td>\n",
              "      <td>2</td>\n",
              "    </tr>\n",
              "    <tr>\n",
              "      <th>12</th>\n",
              "      <td>7</td>\n",
              "      <td>2015-05-26</td>\n",
              "      <td>Beauty and the Beast</td>\n",
              "      <td>https://www.imdb.com/title/tt0101414/</td>\n",
              "      <td>movie</td>\n",
              "      <td>8.0</td>\n",
              "      <td>84</td>\n",
              "      <td>1991.0</td>\n",
              "      <td>Animation, Family, Fantasy, Musical, Romance</td>\n",
              "      <td>401814</td>\n",
              "      <td>1991-09-29</td>\n",
              "      <td>Gary Trousdale, Kirk Wise</td>\n",
              "      <td>2</td>\n",
              "    </tr>\n",
              "    <tr>\n",
              "      <th>15</th>\n",
              "      <td>8</td>\n",
              "      <td>2015-09-30</td>\n",
              "      <td>Hook</td>\n",
              "      <td>https://www.imdb.com/title/tt0102057/</td>\n",
              "      <td>movie</td>\n",
              "      <td>6.8</td>\n",
              "      <td>142</td>\n",
              "      <td>1991.0</td>\n",
              "      <td>Adventure, Comedy, Family, Fantasy</td>\n",
              "      <td>221807</td>\n",
              "      <td>1991-12-08</td>\n",
              "      <td>Steven Spielberg</td>\n",
              "      <td>2</td>\n",
              "    </tr>\n",
              "  </tbody>\n",
              "</table>\n",
              "</div>"
            ],
            "text/plain": [
              "    Your Rating  Date Rated  ...                  Directors const\n",
              "0             8  2014-04-21  ...                 Rob Reiner     2\n",
              "1             7  2019-06-16  ...             Garry Marshall     2\n",
              "4             7  2014-04-21  ...           Barry Sonnenfeld     2\n",
              "12            7  2015-05-26  ...  Gary Trousdale, Kirk Wise     2\n",
              "15            8  2015-09-30  ...           Steven Spielberg     2\n",
              "\n",
              "[5 rows x 13 columns]"
            ]
          },
          "metadata": {
            "tags": []
          },
          "execution_count": 89
        }
      ]
    },
    {
      "cell_type": "markdown",
      "metadata": {
        "id": "4ecOLOtU2JHc",
        "colab_type": "text"
      },
      "source": [
        "In the previous example we only filtered on one condition, let's now create a filter based on multiple variables:"
      ]
    },
    {
      "cell_type": "code",
      "metadata": {
        "id": "LAQp8KBe2JHd",
        "colab_type": "code",
        "colab": {
          "base_uri": "https://localhost:8080/",
          "height": 306
        },
        "outputId": "cec4d8eb-685d-4673-f25d-33e3bc1dcfe5"
      },
      "source": [
        "filter2 = (data_in['Year']<1999) & (data_in['Your Rating']>7)\n",
        "filter_review=data_in[filter2]\n",
        "filter_review.head()"
      ],
      "execution_count": 90,
      "outputs": [
        {
          "output_type": "execute_result",
          "data": {
            "text/html": [
              "<div>\n",
              "<style scoped>\n",
              "    .dataframe tbody tr th:only-of-type {\n",
              "        vertical-align: middle;\n",
              "    }\n",
              "\n",
              "    .dataframe tbody tr th {\n",
              "        vertical-align: top;\n",
              "    }\n",
              "\n",
              "    .dataframe thead th {\n",
              "        text-align: right;\n",
              "    }\n",
              "</style>\n",
              "<table border=\"1\" class=\"dataframe\">\n",
              "  <thead>\n",
              "    <tr style=\"text-align: right;\">\n",
              "      <th></th>\n",
              "      <th>Your Rating</th>\n",
              "      <th>Date Rated</th>\n",
              "      <th>Title</th>\n",
              "      <th>Web Address</th>\n",
              "      <th>Title Type</th>\n",
              "      <th>IMDb Rating</th>\n",
              "      <th>Runtime (mins)</th>\n",
              "      <th>Year</th>\n",
              "      <th>Genres</th>\n",
              "      <th>Num Votes</th>\n",
              "      <th>Release Date</th>\n",
              "      <th>Directors</th>\n",
              "      <th>const</th>\n",
              "    </tr>\n",
              "  </thead>\n",
              "  <tbody>\n",
              "    <tr>\n",
              "      <th>0</th>\n",
              "      <td>8</td>\n",
              "      <td>2014-04-21</td>\n",
              "      <td>Misery</td>\n",
              "      <td>https://www.imdb.com/title/tt0100157/</td>\n",
              "      <td>movie</td>\n",
              "      <td>7.8</td>\n",
              "      <td>107</td>\n",
              "      <td>1990.0</td>\n",
              "      <td>Drama, Thriller</td>\n",
              "      <td>171962</td>\n",
              "      <td>1990-11-29</td>\n",
              "      <td>Rob Reiner</td>\n",
              "      <td>2</td>\n",
              "    </tr>\n",
              "    <tr>\n",
              "      <th>15</th>\n",
              "      <td>8</td>\n",
              "      <td>2015-09-30</td>\n",
              "      <td>Hook</td>\n",
              "      <td>https://www.imdb.com/title/tt0102057/</td>\n",
              "      <td>movie</td>\n",
              "      <td>6.8</td>\n",
              "      <td>142</td>\n",
              "      <td>1991.0</td>\n",
              "      <td>Adventure, Comedy, Family, Fantasy</td>\n",
              "      <td>221807</td>\n",
              "      <td>1991-12-08</td>\n",
              "      <td>Steven Spielberg</td>\n",
              "      <td>2</td>\n",
              "    </tr>\n",
              "    <tr>\n",
              "      <th>17</th>\n",
              "      <td>8</td>\n",
              "      <td>2014-04-20</td>\n",
              "      <td>The Silence of the Lambs</td>\n",
              "      <td>https://www.imdb.com/title/tt0102926/</td>\n",
              "      <td>movie</td>\n",
              "      <td>8.6</td>\n",
              "      <td>118</td>\n",
              "      <td>1991.0</td>\n",
              "      <td>Crime, Drama, Thriller</td>\n",
              "      <td>1187183</td>\n",
              "      <td>1991-01-30</td>\n",
              "      <td>Jonathan Demme</td>\n",
              "      <td>2</td>\n",
              "    </tr>\n",
              "    <tr>\n",
              "      <th>18</th>\n",
              "      <td>8</td>\n",
              "      <td>2014-04-21</td>\n",
              "      <td>Terminator 2: Judgment Day</td>\n",
              "      <td>https://www.imdb.com/title/tt0103064/</td>\n",
              "      <td>movie</td>\n",
              "      <td>8.5</td>\n",
              "      <td>137</td>\n",
              "      <td>1991.0</td>\n",
              "      <td>Action, Sci-Fi</td>\n",
              "      <td>946998</td>\n",
              "      <td>1991-07-01</td>\n",
              "      <td>James Cameron</td>\n",
              "      <td>2</td>\n",
              "    </tr>\n",
              "    <tr>\n",
              "      <th>22</th>\n",
              "      <td>8</td>\n",
              "      <td>2015-05-26</td>\n",
              "      <td>A Grand Day Out</td>\n",
              "      <td>https://www.imdb.com/title/tt0104361/</td>\n",
              "      <td>short</td>\n",
              "      <td>7.8</td>\n",
              "      <td>23</td>\n",
              "      <td>1989.0</td>\n",
              "      <td>Animation, Short, Adventure, Comedy, Family, S...</td>\n",
              "      <td>29787</td>\n",
              "      <td>1989-11-04</td>\n",
              "      <td>Nick Park</td>\n",
              "      <td>2</td>\n",
              "    </tr>\n",
              "  </tbody>\n",
              "</table>\n",
              "</div>"
            ],
            "text/plain": [
              "    Your Rating  Date Rated  ...         Directors const\n",
              "0             8  2014-04-21  ...        Rob Reiner     2\n",
              "15            8  2015-09-30  ...  Steven Spielberg     2\n",
              "17            8  2014-04-20  ...    Jonathan Demme     2\n",
              "18            8  2014-04-21  ...     James Cameron     2\n",
              "22            8  2015-05-26  ...         Nick Park     2\n",
              "\n",
              "[5 rows x 13 columns]"
            ]
          },
          "metadata": {
            "tags": []
          },
          "execution_count": 90
        }
      ]
    }
  ]
}