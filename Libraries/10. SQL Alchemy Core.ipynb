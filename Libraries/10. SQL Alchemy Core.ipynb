{
 "cells": [
  {
   "cell_type": "markdown",
   "metadata": {
    "collapsed": true,
    "pycharm": {
     "name": "#%% md\n"
    }
   },
   "source": [
    "# SQL Alchemy Core"
   ]
  },
  {
   "cell_type": "markdown",
   "source": [
    "## Table of Contents\n",
    "\n",
    "  1. [Introduction](#Introduction)\n",
    "  2. [Coding](#Coding)\n",
    "    1. [Connecting](#Connecting)\n",
    "    2. [Define and create tables](#Define-and-Create-Tables)\n",
    "    3. [Insert Expressions](#Insert-Expressions)\n",
    "    4. [Executing the Query](#Executing-the-Query)\n",
    "    5. [Executing Multiple Statements](#Executing-Multiple-Statements)\n",
    "    6. [Select Query](#Select-Query)\n",
    "    7. [Selecting Specific Columns](#Selecting-Specific-Columns)\n",
    "    8. [Operators](#Operators)\n",
    "    9. [Using Conjunctions](#Using-Conjunctions)\n",
    "    10. [Using Joins](#Using-Joins)"
   ],
   "metadata": {
    "collapsed": false,
    "pycharm": {
     "name": "#%% md\n"
    }
   }
  },
  {
   "cell_type": "markdown",
   "source": [
    "## Introduction\n",
    "\n",
    "This is a library that gives Python developers the full power and flexibility of SQL. It provides us with a full\n",
    "suite of well known enterise-level persisentence patterns adapted into simple Python domain langauge.\n",
    "\n",
    "With SQlAlcemy the SQL databases will behave less like object collections the more size and performance matter,\n",
    "Object collections behave less like tables and rows the more abstractions matter. SQLAlchemy aims to accomodate\n",
    "both of these principles.\n",
    "\n",
    "SQLAlchemy considers the databases to be a relational algebra engine, not just a collection of tables. Rows can\n",
    "not only be selcted from tables but also joins and other select statements. Any of these units can be composed\n",
    "into a larger structure. The language SQLAlchemy uses builds on this concept from it's core.\n",
    "\n",
    "SQLAlchemy is most famous for its object-relational mapper (ORM). an optional component that provides the **data mapper pattern**\n",
    ", where classes can be mapped to the database in open-ended, multiple ways - allowing the object model and database\n",
    "schema to develop in a cleanly decoupled way from the beginning.\n",
    "\n",
    "SQLAlchemy overall approach to these platforms is entirely different from that of most other SQL tools, rooted in\n",
    "a so-called **complimentary**- orientated approach. All processes are **fully-exposed** within a series of composable\n",
    ", transparent tools."
   ],
   "metadata": {
    "collapsed": false,
    "pycharm": {
     "name": "#%% md\n"
    }
   }
  },
  {
   "cell_type": "markdown",
   "source": [
    "## Coding\n",
    "\n",
    "### Connecting\n",
    "\n",
    "For this example I will be using an in Memory database like SQLLite.\n",
    "\n",
    "We will start with importing the library and connecting to the database in"
   ],
   "metadata": {
    "collapsed": false,
    "pycharm": {
     "name": "#%% md\n"
    }
   }
  },
  {
   "cell_type": "code",
   "execution_count": 68,
   "outputs": [],
   "source": [
    "from sqlalchemy import create_engine\n",
    "engine = create_engine(\"sqlite:///data/Example.db\", echo=True)"
   ],
   "metadata": {
    "collapsed": false,
    "pycharm": {
     "name": "#%%\n"
    }
   }
  },
  {
   "cell_type": "markdown",
   "source": [
    "The echo statement setups up the SQLAlchemy logging which will allow us to see all\n",
    "of the SQL statements generated.\n",
    "\n",
    "The return of the **create_engine** method is an instance of an engine and represents\n",
    "the core interfact to the database.\n",
    "\n",
    "It is important to know that the creation of the engine has not actually attempted to\n",
    "connect to the database just yet and will only connect once an execution is requested.\n",
    "\n",
    "We can now use either `engine.connect()`or `engine.execute()`  to connect to the database."
   ],
   "metadata": {
    "collapsed": false,
    "pycharm": {
     "name": "#%% md\n"
    }
   }
  },
  {
   "cell_type": "markdown",
   "source": [
    "### Define and Create Tables\n",
    "\n",
    "The SQL Expression Language constructs its expressions in most cases against table columns. In\n",
    "SQL Alchemy, a column is most often represented by an object called `Column` and in all cases\n",
    "a `Column` is associated with a `Table`.  A collection of `Table` objects and their associated\n",
    "child objects is referred to as **database metadata**.\n",
    "\n",
    "While I will be showing how we can lay out the tables in this section, SQLAlchemy can also import\n",
    "whole sets of table objects automatically from an existing database (This process is called **table reflection**).\n",
    "\n",
    "We define all of our tables within a catalog called `MetaData`, using the `Table` construct. For this\n",
    "example we will be creating a user table as well as a place to store their email addresses."
   ],
   "metadata": {
    "collapsed": false,
    "pycharm": {
     "name": "#%% md\n"
    }
   }
  },
  {
   "cell_type": "code",
   "execution_count": 69,
   "outputs": [],
   "source": [
    "from sqlalchemy import Table, Column, Integer, String, MetaData, ForeignKey\n",
    "\n",
    "metadata= MetaData()\n",
    "users = Table(\n",
    "    \"users\",\n",
    "    metadata,\n",
    "    Column(\n",
    "        \"id\",\n",
    "        Integer,\n",
    "        primary_key=True\n",
    "           ),\n",
    "    Column(\n",
    "        \"name\",\n",
    "        String\n",
    "    ),\n",
    "    Column(\n",
    "        \"fullname\",\n",
    "        String\n",
    "    )\n",
    "              )\n",
    "addresses = Table(\n",
    "    \"Addresses\",\n",
    "    metadata,\n",
    "    Column(\n",
    "        \"id\",\n",
    "        Integer,\n",
    "        primary_key=True\n",
    "    ),\n",
    "    Column(\n",
    "        \"user_id\",\n",
    "        None,\n",
    "        ForeignKey(\"users.id\")\n",
    "    ),\n",
    "    Column(\n",
    "        \"email_addresses\",\n",
    "        String,\n",
    "        nullable=False\n",
    "    )\n",
    ")"
   ],
   "metadata": {
    "collapsed": false,
    "pycharm": {
     "name": "#%%\n"
    }
   }
  },
  {
   "cell_type": "markdown",
   "source": [
    "The next step is to tell the `MetaData` that we would like to create our selection of tables\n",
    "for real inside the SQLLite database. We will use the `create_all()` passing through the `engine`\n",
    "instance which points to the database. This will also check for the presence of all of the tables\n",
    "first before creating, so it is safe to be called multiple times."
   ],
   "metadata": {
    "collapsed": false,
    "pycharm": {
     "name": "#%% md\n"
    }
   }
  },
  {
   "cell_type": "code",
   "execution_count": 70,
   "outputs": [
    {
     "name": "stdout",
     "output_type": "stream",
     "text": [
      "2021-06-01 21:35:21,082 INFO sqlalchemy.engine.Engine BEGIN (implicit)\n",
      "2021-06-01 21:35:21,083 INFO sqlalchemy.engine.Engine PRAGMA main.table_info(\"users\")\n",
      "2021-06-01 21:35:21,083 INFO sqlalchemy.engine.Engine [raw sql] ()\n",
      "2021-06-01 21:35:21,085 INFO sqlalchemy.engine.Engine PRAGMA main.table_info(\"Addresses\")\n",
      "2021-06-01 21:35:21,085 INFO sqlalchemy.engine.Engine [raw sql] ()\n",
      "2021-06-01 21:35:21,087 INFO sqlalchemy.engine.Engine COMMIT\n"
     ]
    }
   ],
   "source": [
    "metadata.create_all(engine)"
   ],
   "metadata": {
    "collapsed": false,
    "pycharm": {
     "name": "#%%\n"
    }
   }
  },
  {
   "cell_type": "markdown",
   "source": [
    "With SQLlite and PostgreSql a length is not required for the creation of Strings but are required\n",
    "for the other database formats. We therefore need to adjust the specification of the Strings in\n",
    "our `Columns` to include this detail by using `String(50)` for instance to create a **varchar**\n",
    "of size 50."
   ],
   "metadata": {
    "collapsed": false,
    "pycharm": {
     "name": "#%% md\n"
    }
   }
  },
  {
   "cell_type": "markdown",
   "source": [
    "### Insert Expressions"
   ],
   "metadata": {
    "collapsed": false,
    "pycharm": {
     "name": "#%% md\n"
    }
   }
  },
  {
   "cell_type": "markdown",
   "source": [
    "The First SQL expression we will create is the insert construct, which represents an insert statement.\n",
    "\n",
    "we can do this using the tables we have created in the previous section."
   ],
   "metadata": {
    "collapsed": false,
    "pycharm": {
     "name": "#%% md\n"
    }
   }
  },
  {
   "cell_type": "code",
   "execution_count": 71,
   "outputs": [],
   "source": [
    "ins = users.insert()"
   ],
   "metadata": {
    "collapsed": false,
    "pycharm": {
     "name": "#%%\n"
    }
   }
  },
  {
   "cell_type": "markdown",
   "source": [
    "To be able to see the SQL that this expression creates we can use the following code:"
   ],
   "metadata": {
    "collapsed": false,
    "pycharm": {
     "name": "#%% md\n"
    }
   }
  },
  {
   "cell_type": "code",
   "source": [
    "str(ins)"
   ],
   "metadata": {
    "collapsed": false,
    "pycharm": {
     "name": "#%%\n"
    }
   },
   "execution_count": 72,
   "outputs": [
    {
     "data": {
      "text/plain": "'INSERT INTO users (id, name, fullname) VALUES (:id, :name, :fullname)'"
     },
     "execution_count": 72,
     "metadata": {},
     "output_type": "execute_result"
    }
   ]
  },
  {
   "cell_type": "markdown",
   "source": [
    "While we can see a nicely generated SQL query has been inserted for the insert, there is one issue with the\n",
    "current query - the generated statement is also trying to insert into the id. We can sort this out by\n",
    "specifying the values that need to be inserted. The best way to do this can be seen below:"
   ],
   "metadata": {
    "collapsed": false,
    "pycharm": {
     "name": "#%% md\n"
    }
   }
  },
  {
   "cell_type": "code",
   "execution_count": 73,
   "outputs": [
    {
     "data": {
      "text/plain": "'INSERT INTO users (name, fullname) VALUES (:name, :fullname)'"
     },
     "execution_count": 73,
     "metadata": {},
     "output_type": "execute_result"
    }
   ],
   "source": [
    "ins = users.insert().values(name=\"Adam\", fullname=\"Adam Borlase\")\n",
    "str(ins)\n"
   ],
   "metadata": {
    "collapsed": false,
    "pycharm": {
     "name": "#%%\n"
    }
   }
  },
  {
   "cell_type": "markdown",
   "source": [
    "Now we can see that the columns we are inserting into exclude the id Column.\n",
    "\n",
    "While we specified the data that needed to be inserted into the Columns it was not rendered into the populated\n",
    "SQL string. Instead we got named binded parameters. As it turns out the data is stored instide our `Insert` construct\n",
    "and will only come out when it is executed.\n",
    "\n",
    "Since the data consists of literal values, SQLAlchemy automatically generates bind parameters for them and we can\n",
    "peek at the data for now by looking at the compiled form of the statement."
   ],
   "metadata": {
    "collapsed": false,
    "pycharm": {
     "name": "#%% md\n"
    }
   }
  },
  {
   "cell_type": "code",
   "execution_count": 74,
   "outputs": [
    {
     "data": {
      "text/plain": "{'name': 'Adam', 'fullname': 'Adam Borlase'}"
     },
     "execution_count": 74,
     "metadata": {},
     "output_type": "execute_result"
    }
   ],
   "source": [
    "ins.compile().params\n"
   ],
   "metadata": {
    "collapsed": false,
    "pycharm": {
     "name": "#%%\n"
    }
   }
  },
  {
   "cell_type": "markdown",
   "source": [
    "### Executing the Query"
   ],
   "metadata": {
    "collapsed": false,
    "pycharm": {
     "name": "#%% md\n"
    }
   }
  },
  {
   "cell_type": "markdown",
   "source": [
    "the interesting part of the `Insert` query is the execution of the statement. This is performed using a\n",
    "database connection which is represented by the `Connection` object. To get the connection object we will use the\n",
    "`Engine`."
   ],
   "metadata": {
    "collapsed": false,
    "pycharm": {
     "name": "#%% md\n"
    }
   }
  },
  {
   "cell_type": "code",
   "execution_count": 75,
   "outputs": [
    {
     "data": {
      "text/plain": "<sqlalchemy.engine.base.Connection at 0x7ff622040910>"
     },
     "execution_count": 75,
     "metadata": {},
     "output_type": "execute_result"
    }
   ],
   "source": [
    "conn = engine.connect()\n",
    "conn"
   ],
   "metadata": {
    "collapsed": false,
    "pycharm": {
     "name": "#%%\n"
    }
   }
  },
  {
   "cell_type": "markdown",
   "source": [
    "The `Connection` object represents an actively checked out DBAPI connection resource. We will now feed it\n",
    "our insert object and see what happens:"
   ],
   "metadata": {
    "collapsed": false,
    "pycharm": {
     "name": "#%% md\n"
    }
   }
  },
  {
   "cell_type": "code",
   "execution_count": 76,
   "outputs": [
    {
     "name": "stdout",
     "output_type": "stream",
     "text": [
      "2021-06-01 21:35:21,124 INFO sqlalchemy.engine.Engine INSERT INTO users (name, fullname) VALUES (?, ?)\n",
      "2021-06-01 21:35:21,125 INFO sqlalchemy.engine.Engine [generated in 0.00067s] ('Adam', 'Adam Borlase')\n",
      "2021-06-01 21:35:21,126 INFO sqlalchemy.engine.Engine COMMIT\n"
     ]
    }
   ],
   "source": [
    "result = conn.execute(ins)"
   ],
   "metadata": {
    "collapsed": false,
    "pycharm": {
     "name": "#%%\n"
    }
   }
  },
  {
   "cell_type": "markdown",
   "source": [
    "Now the insertion has been issued to the database. We specified a `result` variable when we executed the query,\n",
    "this result is known as a `CursorResult` object and is analogous to the DBAPI cursor object. In the case of an\n",
    "insert we get important information such as the primary key which were generated from our statement using\n",
    "`CursorResult.inserted_primary_key\n",
    "\n",
    "We can see the results below:"
   ],
   "metadata": {
    "collapsed": false,
    "pycharm": {
     "name": "#%% md\n"
    }
   }
  },
  {
   "cell_type": "code",
   "execution_count": 77,
   "outputs": [
    {
     "data": {
      "text/plain": "(9,)"
     },
     "execution_count": 77,
     "metadata": {},
     "output_type": "execute_result"
    }
   ],
   "source": [
    "result.inserted_primary_key"
   ],
   "metadata": {
    "collapsed": false,
    "pycharm": {
     "name": "#%%\n"
    }
   }
  },
  {
   "cell_type": "markdown",
   "source": [
    "The value of 1 is automatically generated as we did not specify the value to be inserted into the primary key of the id\n",
    "column in our insert statement."
   ],
   "metadata": {
    "collapsed": false,
    "pycharm": {
     "name": "#%% md\n"
    }
   }
  },
  {
   "cell_type": "markdown",
   "source": [
    "### Executing Multiple Statements"
   ],
   "metadata": {
    "collapsed": false,
    "pycharm": {
     "name": "#%% md\n"
    }
   }
  },
  {
   "cell_type": "markdown",
   "source": [
    "The original `Insert` example was intentionally drawn out to show some various behaviours of expression language\n",
    "constructs. In the usual case an `Insert` statement is usually compiled against the parameters sent to the `execute()`\n",
    "method on `Connection`, so there is no need to use the `values` keyword with the `insert`. We will now create an `insert`\n",
    "statement and use it in the normal way."
   ],
   "metadata": {
    "collapsed": false,
    "pycharm": {
     "name": "#%% md\n"
    }
   }
  },
  {
   "cell_type": "code",
   "execution_count": 78,
   "outputs": [
    {
     "name": "stdout",
     "output_type": "stream",
     "text": [
      "2021-06-01 21:35:21,136 INFO sqlalchemy.engine.Engine INSERT INTO users (name, fullname) VALUES (?, ?)\n",
      "2021-06-01 21:35:21,137 INFO sqlalchemy.engine.Engine [generated in 0.00070s] ('Dominique', 'Dominique Freeborough')\n",
      "2021-06-01 21:35:21,138 INFO sqlalchemy.engine.Engine COMMIT\n"
     ]
    }
   ],
   "source": [
    "ins =  users.insert()\n",
    "result = conn.execute(\n",
    "    ins,\n",
    "    {\"name\":\"Dominique\",\n",
    "     \"fullname\":\"Dominique Freeborough\"}\n",
    ")"
   ],
   "metadata": {
    "collapsed": false,
    "pycharm": {
     "name": "#%%\n"
    }
   }
  },
  {
   "cell_type": "markdown",
   "source": [
    "Again we can return a `CursorResult` object in order to access some of the details required for further processes later."
   ],
   "metadata": {
    "collapsed": false,
    "pycharm": {
     "name": "#%% md\n"
    }
   }
  },
  {
   "cell_type": "code",
   "execution_count": 79,
   "outputs": [
    {
     "data": {
      "text/plain": "(10,)"
     },
     "execution_count": 79,
     "metadata": {},
     "output_type": "execute_result"
    }
   ],
   "source": [
    "result.inserted_primary_key"
   ],
   "metadata": {
    "collapsed": false,
    "pycharm": {
     "name": "#%%\n"
    }
   }
  },
  {
   "cell_type": "markdown",
   "source": [
    "To issue many inserts using the DBAPI we can use the `executemany()` method, which allows us to send a list of dictionaries each containing a\n",
    "distinct set of parameters to be inserted into, We can now do this with the email addresses:"
   ],
   "metadata": {
    "collapsed": false,
    "pycharm": {
     "name": "#%% md\n"
    }
   }
  },
  {
   "cell_type": "code",
   "execution_count": 80,
   "outputs": [
    {
     "name": "stdout",
     "output_type": "stream",
     "text": [
      "2021-06-01 21:35:21,147 INFO sqlalchemy.engine.Engine INSERT INTO \"Addresses\" (user_id, email_addresses) VALUES (?, ?)\n",
      "2021-06-01 21:35:21,148 INFO sqlalchemy.engine.Engine [generated in 0.00075s] ((1, 'scod101@gmail.com'), (1, 'a.c.borlase@gmail.com'), (2, 'Name.Surname@gmail.com'))\n",
      "2021-06-01 21:35:21,149 INFO sqlalchemy.engine.Engine COMMIT\n"
     ]
    },
    {
     "data": {
      "text/plain": "<sqlalchemy.engine.cursor.LegacyCursorResult at 0x7ff63f62ec90>"
     },
     "execution_count": 80,
     "metadata": {},
     "output_type": "execute_result"
    }
   ],
   "source": [
    "conn.execute(\n",
    "    addresses.insert(),\n",
    "    {\"user_id\": 1, \"email_addresses\": \"scod101@gmail.com\"},\n",
    "    {\"user_id\": 1, \"email_addresses\": \"a.c.borlase@gmail.com\"},\n",
    "    {\"user_id\": 2, \"email_addresses\": \"Name.Surname@gmail.com\"}\n",
    ")"
   ],
   "metadata": {
    "collapsed": false,
    "pycharm": {
     "name": "#%%\n"
    }
   }
  },
  {
   "cell_type": "markdown",
   "source": [
    "When we do as execution like above the key element is to ensure the dictionaries have the same number\n",
    "of keys in the execution. This is because the insertion is compiled against the first dictionary in the `Insert`.\n",
    "\n",
    "The `Executemany()` construct is avaliable for each of the `insert()`, `update()` and `delete()` constructs."
   ],
   "metadata": {
    "collapsed": false,
    "pycharm": {
     "name": "#%% md\n"
    }
   }
  },
  {
   "cell_type": "markdown",
   "source": [
    "### Select Query"
   ],
   "metadata": {
    "collapsed": false,
    "pycharm": {
     "name": "#%% md\n"
    }
   }
  },
  {
   "cell_type": "markdown",
   "source": [
    "We began with inserts just so the test database had some data in it. The more interesting part of the data is the selection of it.\n",
    "The main constuct used when doing a select is the `select()` function."
   ],
   "metadata": {
    "collapsed": false,
    "pycharm": {
     "name": "#%% md\n"
    }
   }
  },
  {
   "cell_type": "code",
   "execution_count": 81,
   "outputs": [
    {
     "name": "stdout",
     "output_type": "stream",
     "text": [
      "2021-06-01 21:35:21,155 INFO sqlalchemy.engine.Engine SELECT users.id, users.name, users.fullname \n",
      "FROM users\n",
      "2021-06-01 21:35:21,156 INFO sqlalchemy.engine.Engine [generated in 0.00062s] ()\n"
     ]
    }
   ],
   "source": [
    "from sqlalchemy.sql import select\n",
    "s = select(users)\n",
    "result = conn.execute(s)"
   ],
   "metadata": {
    "collapsed": false,
    "pycharm": {
     "name": "#%%\n"
    }
   }
  },
  {
   "cell_type": "markdown",
   "source": [
    "In the code above we execute a basic select statement call placing the users table within the columns clause of the select\n",
    "method and then executing. SQLAlchemy generates a nice SQL query for us with selecting all of the columns as well as a from\n",
    "statement.\n",
    "\n",
    "Again the result is a `CursorResult` object which acts much like a DBAPI cursor including methods such as `fetchone()` and\n",
    "`fetchall()`"
   ],
   "metadata": {
    "collapsed": false,
    "pycharm": {
     "name": "#%% md\n"
    }
   }
  },
  {
   "cell_type": "code",
   "execution_count": 82,
   "outputs": [
    {
     "name": "stdout",
     "output_type": "stream",
     "text": [
      "(1, 'Adam', 'Adam Borlase')\n",
      "(2, 'Dominique', 'Dominique Freeborough')\n",
      "(3, 'Adam', 'Adam Borlase')\n",
      "(4, 'Dominique', 'Dominique Freeborough')\n",
      "(5, 'Adam', 'Adam Borlase')\n",
      "(6, 'Dominique', 'Dominique Freeborough')\n",
      "(7, 'Adam', 'Adam Borlase')\n",
      "(8, 'Dominique', 'Dominique Freeborough')\n",
      "(9, 'Adam', 'Adam Borlase')\n",
      "(10, 'Dominique', 'Dominique Freeborough')\n"
     ]
    }
   ],
   "source": [
    "for row in result:\n",
    "    print(row)"
   ],
   "metadata": {
    "collapsed": false,
    "pycharm": {
     "name": "#%%\n"
    }
   }
  },
  {
   "cell_type": "markdown",
   "source": [
    "We can see from the above that each of the rows is returned as a simple tuple-like result and the best way to\n",
    "access the individual values is by using a tuple assignment."
   ],
   "metadata": {
    "collapsed": false,
    "pycharm": {
     "name": "#%% md\n"
    }
   }
  },
  {
   "cell_type": "code",
   "execution_count": 83,
   "outputs": [
    {
     "name": "stdout",
     "output_type": "stream",
     "text": [
      "2021-06-01 21:35:21,164 INFO sqlalchemy.engine.Engine SELECT users.id, users.name, users.fullname \n",
      "FROM users\n",
      "2021-06-01 21:35:21,165 INFO sqlalchemy.engine.Engine [cached since 0.009781s ago] ()\n",
      "Name: Adam, Full Name: Adam Borlase\n",
      "Name: Dominique, Full Name: Dominique Freeborough\n",
      "Name: Adam, Full Name: Adam Borlase\n",
      "Name: Dominique, Full Name: Dominique Freeborough\n",
      "Name: Adam, Full Name: Adam Borlase\n",
      "Name: Dominique, Full Name: Dominique Freeborough\n",
      "Name: Adam, Full Name: Adam Borlase\n",
      "Name: Dominique, Full Name: Dominique Freeborough\n",
      "Name: Adam, Full Name: Adam Borlase\n",
      "Name: Dominique, Full Name: Dominique Freeborough\n"
     ]
    }
   ],
   "source": [
    "result = conn.execute(s)\n",
    "for id, name, fullname in result:\n",
    "    print(f\"Name: {name}, Full Name: {fullname}\")"
   ],
   "metadata": {
    "collapsed": false,
    "pycharm": {
     "name": "#%%\n"
    }
   }
  },
  {
   "cell_type": "markdown",
   "source": [
    "To access the columns via a name strings, we can either `Row._mapping` view may be used that provides dictionary\n",
    "like access."
   ],
   "metadata": {
    "collapsed": false,
    "pycharm": {
     "name": "#%% md\n"
    }
   }
  },
  {
   "cell_type": "code",
   "execution_count": 84,
   "outputs": [
    {
     "name": "stdout",
     "output_type": "stream",
     "text": [
      "2021-06-01 21:35:21,170 INFO sqlalchemy.engine.Engine SELECT users.id, users.name, users.fullname \n",
      "FROM users\n",
      "2021-06-01 21:35:21,171 INFO sqlalchemy.engine.Engine [cached since 0.01564s ago] ()\n",
      "Name:  Adam  Full Name:  Adam Borlase\n"
     ]
    }
   ],
   "source": [
    "result = conn.execute(s)\n",
    "row = result.fetchone()\n",
    "print(\"Name: \", row._mapping['name'], \" Full Name: \", row._mapping[\"fullname\"])"
   ],
   "metadata": {
    "collapsed": false,
    "pycharm": {
     "name": "#%%\n"
    }
   }
  },
  {
   "cell_type": "markdown",
   "source": [
    "As the `Row` is a tuple object we can also use integer slices to access the information:"
   ],
   "metadata": {
    "collapsed": false,
    "pycharm": {
     "name": "#%% md\n"
    }
   }
  },
  {
   "cell_type": "code",
   "execution_count": 85,
   "outputs": [
    {
     "name": "stdout",
     "output_type": "stream",
     "text": [
      "Name:  Adam  Full name:  Adam Borlase\n"
     ]
    }
   ],
   "source": [
    "print(\"Name: \", row[1], \" Full name: \", row[2])"
   ],
   "metadata": {
    "collapsed": false,
    "pycharm": {
     "name": "#%%\n"
    }
   }
  },
  {
   "cell_type": "markdown",
   "source": [
    "A more specialised method to access the individual columns is to use the individual mapping key that we used when creating the table.\n",
    "\n",
    "An example can be seen below:\n"
   ],
   "metadata": {
    "collapsed": false,
    "pycharm": {
     "name": "#%% md\n"
    }
   }
  },
  {
   "cell_type": "code",
   "execution_count": 86,
   "outputs": [
    {
     "name": "stdout",
     "output_type": "stream",
     "text": [
      "2021-06-01 21:35:21,179 INFO sqlalchemy.engine.Engine SELECT users.id, users.name, users.fullname \n",
      "FROM users\n",
      "2021-06-01 21:35:21,179 INFO sqlalchemy.engine.Engine [cached since 0.02423s ago] ()\n",
      "Name:  Adam  Full Name:  Adam Borlase\n",
      "Name:  Dominique  Full Name:  Dominique Freeborough\n",
      "Name:  Adam  Full Name:  Adam Borlase\n",
      "Name:  Dominique  Full Name:  Dominique Freeborough\n",
      "Name:  Adam  Full Name:  Adam Borlase\n",
      "Name:  Dominique  Full Name:  Dominique Freeborough\n",
      "Name:  Adam  Full Name:  Adam Borlase\n",
      "Name:  Dominique  Full Name:  Dominique Freeborough\n",
      "Name:  Adam  Full Name:  Adam Borlase\n",
      "Name:  Dominique  Full Name:  Dominique Freeborough\n"
     ]
    }
   ],
   "source": [
    "for row in conn.execute(s):\n",
    "    print(\"Name: \", row._mapping[users.c.name], \" Full Name: \", row._mapping[users.c.fullname])\n"
   ],
   "metadata": {
    "collapsed": false,
    "pycharm": {
     "name": "#%%\n"
    }
   }
  },
  {
   "cell_type": "markdown",
   "source": [
    "The `CursorResult` object features an auto-close behaviour that closes the underlying DBAPI `cursor` object when all of the pending result\n",
    "rows have been fetched. if we ever need to close the object prior to fetching all of the result objects we can use `CursorResult.close()`"
   ],
   "metadata": {
    "collapsed": false,
    "pycharm": {
     "name": "#%% md\n"
    }
   }
  },
  {
   "cell_type": "code",
   "source": [
    "result.close()"
   ],
   "metadata": {
    "collapsed": false,
    "pycharm": {
     "name": "#%%\n"
    }
   },
   "execution_count": 87,
   "outputs": []
  },
  {
   "cell_type": "markdown",
   "source": [
    "### Selecting Specific Columns"
   ],
   "metadata": {
    "collapsed": false,
    "pycharm": {
     "name": "#%% md\n"
    }
   }
  },
  {
   "cell_type": "markdown",
   "source": [
    "If we would like to have more carefully control of the columns that are included in the select query that are generated\n",
    "from SQLAlchemy we can reference the individual `Column` object from the `Table`. These are avaliable as attributes off\n",
    "the `c` attribute off of the `Table` object."
   ],
   "metadata": {
    "collapsed": false,
    "pycharm": {
     "name": "#%% md\n"
    }
   }
  },
  {
   "cell_type": "code",
   "execution_count": 88,
   "outputs": [
    {
     "name": "stdout",
     "output_type": "stream",
     "text": [
      "2021-06-01 21:35:21,189 INFO sqlalchemy.engine.Engine SELECT users.name, users.fullname \n",
      "FROM users\n",
      "2021-06-01 21:35:21,190 INFO sqlalchemy.engine.Engine [generated in 0.00063s] ()\n",
      "('Adam', 'Adam Borlase')\n",
      "('Dominique', 'Dominique Freeborough')\n",
      "('Adam', 'Adam Borlase')\n",
      "('Dominique', 'Dominique Freeborough')\n",
      "('Adam', 'Adam Borlase')\n",
      "('Dominique', 'Dominique Freeborough')\n",
      "('Adam', 'Adam Borlase')\n",
      "('Dominique', 'Dominique Freeborough')\n",
      "('Adam', 'Adam Borlase')\n",
      "('Dominique', 'Dominique Freeborough')\n"
     ]
    }
   ],
   "source": [
    "s = select(users.c.name, users.c.fullname)\n",
    "results = conn.execute(s)\n",
    "for row in results:\n",
    "    print(row)"
   ],
   "metadata": {
    "collapsed": false,
    "pycharm": {
     "name": "#%%\n"
    }
   }
  },
  {
   "cell_type": "markdown",
   "source": [
    "As we can see from the generated SQL statement it knows that we are only interested in the information from the\n",
    "users table and hence only requests this table. Let's try to select both of our tables and see what happens:"
   ],
   "metadata": {
    "collapsed": false,
    "pycharm": {
     "name": "#%% md\n"
    }
   }
  },
  {
   "cell_type": "code",
   "execution_count": 89,
   "outputs": [
    {
     "name": "stdout",
     "output_type": "stream",
     "text": [
      "2021-06-01 21:35:21,195 INFO sqlalchemy.engine.Engine SELECT users.id, users.name, users.fullname, \"Addresses\".id AS id_1, \"Addresses\".user_id, \"Addresses\".email_addresses \n",
      "FROM users, \"Addresses\"\n",
      "2021-06-01 21:35:21,196 INFO sqlalchemy.engine.Engine [generated in 0.00056s] ()\n",
      "(1, 'Adam', 'Adam Borlase', 1, 1, 'scod101@gmail.com')\n",
      "(1, 'Adam', 'Adam Borlase', 2, 1, 'a.c.borlase@gmail.com')\n",
      "(1, 'Adam', 'Adam Borlase', 3, 2, 'Name.Surname@gmail.com')\n",
      "(1, 'Adam', 'Adam Borlase', 4, 1, 'scod101@gmail.com')\n",
      "(1, 'Adam', 'Adam Borlase', 5, 1, 'a.c.borlase@gmail.com')\n",
      "(1, 'Adam', 'Adam Borlase', 6, 2, 'Name.Surname@gmail.com')\n",
      "(1, 'Adam', 'Adam Borlase', 7, 1, 'scod101@gmail.com')\n",
      "(1, 'Adam', 'Adam Borlase', 8, 1, 'a.c.borlase@gmail.com')\n",
      "(1, 'Adam', 'Adam Borlase', 9, 2, 'Name.Surname@gmail.com')\n",
      "(1, 'Adam', 'Adam Borlase', 10, 1, 'scod101@gmail.com')\n",
      "(1, 'Adam', 'Adam Borlase', 11, 1, 'a.c.borlase@gmail.com')\n",
      "(1, 'Adam', 'Adam Borlase', 12, 2, 'Name.Surname@gmail.com')\n",
      "(1, 'Adam', 'Adam Borlase', 13, 1, 'scod101@gmail.com')\n",
      "(1, 'Adam', 'Adam Borlase', 14, 1, 'a.c.borlase@gmail.com')\n",
      "(1, 'Adam', 'Adam Borlase', 15, 2, 'Name.Surname@gmail.com')\n",
      "(2, 'Dominique', 'Dominique Freeborough', 1, 1, 'scod101@gmail.com')\n",
      "(2, 'Dominique', 'Dominique Freeborough', 2, 1, 'a.c.borlase@gmail.com')\n",
      "(2, 'Dominique', 'Dominique Freeborough', 3, 2, 'Name.Surname@gmail.com')\n",
      "(2, 'Dominique', 'Dominique Freeborough', 4, 1, 'scod101@gmail.com')\n",
      "(2, 'Dominique', 'Dominique Freeborough', 5, 1, 'a.c.borlase@gmail.com')\n",
      "(2, 'Dominique', 'Dominique Freeborough', 6, 2, 'Name.Surname@gmail.com')\n",
      "(2, 'Dominique', 'Dominique Freeborough', 7, 1, 'scod101@gmail.com')\n",
      "(2, 'Dominique', 'Dominique Freeborough', 8, 1, 'a.c.borlase@gmail.com')\n",
      "(2, 'Dominique', 'Dominique Freeborough', 9, 2, 'Name.Surname@gmail.com')\n",
      "(2, 'Dominique', 'Dominique Freeborough', 10, 1, 'scod101@gmail.com')\n",
      "(2, 'Dominique', 'Dominique Freeborough', 11, 1, 'a.c.borlase@gmail.com')\n",
      "(2, 'Dominique', 'Dominique Freeborough', 12, 2, 'Name.Surname@gmail.com')\n",
      "(2, 'Dominique', 'Dominique Freeborough', 13, 1, 'scod101@gmail.com')\n",
      "(2, 'Dominique', 'Dominique Freeborough', 14, 1, 'a.c.borlase@gmail.com')\n",
      "(2, 'Dominique', 'Dominique Freeborough', 15, 2, 'Name.Surname@gmail.com')\n",
      "(3, 'Adam', 'Adam Borlase', 1, 1, 'scod101@gmail.com')\n",
      "(3, 'Adam', 'Adam Borlase', 2, 1, 'a.c.borlase@gmail.com')\n",
      "(3, 'Adam', 'Adam Borlase', 3, 2, 'Name.Surname@gmail.com')\n",
      "(3, 'Adam', 'Adam Borlase', 4, 1, 'scod101@gmail.com')\n",
      "(3, 'Adam', 'Adam Borlase', 5, 1, 'a.c.borlase@gmail.com')\n",
      "(3, 'Adam', 'Adam Borlase', 6, 2, 'Name.Surname@gmail.com')\n",
      "(3, 'Adam', 'Adam Borlase', 7, 1, 'scod101@gmail.com')\n",
      "(3, 'Adam', 'Adam Borlase', 8, 1, 'a.c.borlase@gmail.com')\n",
      "(3, 'Adam', 'Adam Borlase', 9, 2, 'Name.Surname@gmail.com')\n",
      "(3, 'Adam', 'Adam Borlase', 10, 1, 'scod101@gmail.com')\n",
      "(3, 'Adam', 'Adam Borlase', 11, 1, 'a.c.borlase@gmail.com')\n",
      "(3, 'Adam', 'Adam Borlase', 12, 2, 'Name.Surname@gmail.com')\n",
      "(3, 'Adam', 'Adam Borlase', 13, 1, 'scod101@gmail.com')\n",
      "(3, 'Adam', 'Adam Borlase', 14, 1, 'a.c.borlase@gmail.com')\n",
      "(3, 'Adam', 'Adam Borlase', 15, 2, 'Name.Surname@gmail.com')\n",
      "(4, 'Dominique', 'Dominique Freeborough', 1, 1, 'scod101@gmail.com')\n",
      "(4, 'Dominique', 'Dominique Freeborough', 2, 1, 'a.c.borlase@gmail.com')\n",
      "(4, 'Dominique', 'Dominique Freeborough', 3, 2, 'Name.Surname@gmail.com')\n",
      "(4, 'Dominique', 'Dominique Freeborough', 4, 1, 'scod101@gmail.com')\n",
      "(4, 'Dominique', 'Dominique Freeborough', 5, 1, 'a.c.borlase@gmail.com')\n",
      "(4, 'Dominique', 'Dominique Freeborough', 6, 2, 'Name.Surname@gmail.com')\n",
      "(4, 'Dominique', 'Dominique Freeborough', 7, 1, 'scod101@gmail.com')\n",
      "(4, 'Dominique', 'Dominique Freeborough', 8, 1, 'a.c.borlase@gmail.com')\n",
      "(4, 'Dominique', 'Dominique Freeborough', 9, 2, 'Name.Surname@gmail.com')\n",
      "(4, 'Dominique', 'Dominique Freeborough', 10, 1, 'scod101@gmail.com')\n",
      "(4, 'Dominique', 'Dominique Freeborough', 11, 1, 'a.c.borlase@gmail.com')\n",
      "(4, 'Dominique', 'Dominique Freeborough', 12, 2, 'Name.Surname@gmail.com')\n",
      "(4, 'Dominique', 'Dominique Freeborough', 13, 1, 'scod101@gmail.com')\n",
      "(4, 'Dominique', 'Dominique Freeborough', 14, 1, 'a.c.borlase@gmail.com')\n",
      "(4, 'Dominique', 'Dominique Freeborough', 15, 2, 'Name.Surname@gmail.com')\n",
      "(5, 'Adam', 'Adam Borlase', 1, 1, 'scod101@gmail.com')\n",
      "(5, 'Adam', 'Adam Borlase', 2, 1, 'a.c.borlase@gmail.com')\n",
      "(5, 'Adam', 'Adam Borlase', 3, 2, 'Name.Surname@gmail.com')\n",
      "(5, 'Adam', 'Adam Borlase', 4, 1, 'scod101@gmail.com')\n",
      "(5, 'Adam', 'Adam Borlase', 5, 1, 'a.c.borlase@gmail.com')\n",
      "(5, 'Adam', 'Adam Borlase', 6, 2, 'Name.Surname@gmail.com')\n",
      "(5, 'Adam', 'Adam Borlase', 7, 1, 'scod101@gmail.com')\n",
      "(5, 'Adam', 'Adam Borlase', 8, 1, 'a.c.borlase@gmail.com')\n",
      "(5, 'Adam', 'Adam Borlase', 9, 2, 'Name.Surname@gmail.com')\n",
      "(5, 'Adam', 'Adam Borlase', 10, 1, 'scod101@gmail.com')\n",
      "(5, 'Adam', 'Adam Borlase', 11, 1, 'a.c.borlase@gmail.com')\n",
      "(5, 'Adam', 'Adam Borlase', 12, 2, 'Name.Surname@gmail.com')\n",
      "(5, 'Adam', 'Adam Borlase', 13, 1, 'scod101@gmail.com')\n",
      "(5, 'Adam', 'Adam Borlase', 14, 1, 'a.c.borlase@gmail.com')\n",
      "(5, 'Adam', 'Adam Borlase', 15, 2, 'Name.Surname@gmail.com')\n",
      "(6, 'Dominique', 'Dominique Freeborough', 1, 1, 'scod101@gmail.com')\n",
      "(6, 'Dominique', 'Dominique Freeborough', 2, 1, 'a.c.borlase@gmail.com')\n",
      "(6, 'Dominique', 'Dominique Freeborough', 3, 2, 'Name.Surname@gmail.com')\n",
      "(6, 'Dominique', 'Dominique Freeborough', 4, 1, 'scod101@gmail.com')\n",
      "(6, 'Dominique', 'Dominique Freeborough', 5, 1, 'a.c.borlase@gmail.com')\n",
      "(6, 'Dominique', 'Dominique Freeborough', 6, 2, 'Name.Surname@gmail.com')\n",
      "(6, 'Dominique', 'Dominique Freeborough', 7, 1, 'scod101@gmail.com')\n",
      "(6, 'Dominique', 'Dominique Freeborough', 8, 1, 'a.c.borlase@gmail.com')\n",
      "(6, 'Dominique', 'Dominique Freeborough', 9, 2, 'Name.Surname@gmail.com')\n",
      "(6, 'Dominique', 'Dominique Freeborough', 10, 1, 'scod101@gmail.com')\n",
      "(6, 'Dominique', 'Dominique Freeborough', 11, 1, 'a.c.borlase@gmail.com')\n",
      "(6, 'Dominique', 'Dominique Freeborough', 12, 2, 'Name.Surname@gmail.com')\n",
      "(6, 'Dominique', 'Dominique Freeborough', 13, 1, 'scod101@gmail.com')\n",
      "(6, 'Dominique', 'Dominique Freeborough', 14, 1, 'a.c.borlase@gmail.com')\n",
      "(6, 'Dominique', 'Dominique Freeborough', 15, 2, 'Name.Surname@gmail.com')\n",
      "(7, 'Adam', 'Adam Borlase', 1, 1, 'scod101@gmail.com')\n",
      "(7, 'Adam', 'Adam Borlase', 2, 1, 'a.c.borlase@gmail.com')\n",
      "(7, 'Adam', 'Adam Borlase', 3, 2, 'Name.Surname@gmail.com')\n",
      "(7, 'Adam', 'Adam Borlase', 4, 1, 'scod101@gmail.com')\n",
      "(7, 'Adam', 'Adam Borlase', 5, 1, 'a.c.borlase@gmail.com')\n",
      "(7, 'Adam', 'Adam Borlase', 6, 2, 'Name.Surname@gmail.com')\n",
      "(7, 'Adam', 'Adam Borlase', 7, 1, 'scod101@gmail.com')\n",
      "(7, 'Adam', 'Adam Borlase', 8, 1, 'a.c.borlase@gmail.com')\n",
      "(7, 'Adam', 'Adam Borlase', 9, 2, 'Name.Surname@gmail.com')\n",
      "(7, 'Adam', 'Adam Borlase', 10, 1, 'scod101@gmail.com')\n",
      "(7, 'Adam', 'Adam Borlase', 11, 1, 'a.c.borlase@gmail.com')\n",
      "(7, 'Adam', 'Adam Borlase', 12, 2, 'Name.Surname@gmail.com')\n",
      "(7, 'Adam', 'Adam Borlase', 13, 1, 'scod101@gmail.com')\n",
      "(7, 'Adam', 'Adam Borlase', 14, 1, 'a.c.borlase@gmail.com')\n",
      "(7, 'Adam', 'Adam Borlase', 15, 2, 'Name.Surname@gmail.com')\n",
      "(8, 'Dominique', 'Dominique Freeborough', 1, 1, 'scod101@gmail.com')\n",
      "(8, 'Dominique', 'Dominique Freeborough', 2, 1, 'a.c.borlase@gmail.com')\n",
      "(8, 'Dominique', 'Dominique Freeborough', 3, 2, 'Name.Surname@gmail.com')\n",
      "(8, 'Dominique', 'Dominique Freeborough', 4, 1, 'scod101@gmail.com')\n",
      "(8, 'Dominique', 'Dominique Freeborough', 5, 1, 'a.c.borlase@gmail.com')\n",
      "(8, 'Dominique', 'Dominique Freeborough', 6, 2, 'Name.Surname@gmail.com')\n",
      "(8, 'Dominique', 'Dominique Freeborough', 7, 1, 'scod101@gmail.com')\n",
      "(8, 'Dominique', 'Dominique Freeborough', 8, 1, 'a.c.borlase@gmail.com')\n",
      "(8, 'Dominique', 'Dominique Freeborough', 9, 2, 'Name.Surname@gmail.com')\n",
      "(8, 'Dominique', 'Dominique Freeborough', 10, 1, 'scod101@gmail.com')\n",
      "(8, 'Dominique', 'Dominique Freeborough', 11, 1, 'a.c.borlase@gmail.com')\n",
      "(8, 'Dominique', 'Dominique Freeborough', 12, 2, 'Name.Surname@gmail.com')\n",
      "(8, 'Dominique', 'Dominique Freeborough', 13, 1, 'scod101@gmail.com')\n",
      "(8, 'Dominique', 'Dominique Freeborough', 14, 1, 'a.c.borlase@gmail.com')\n",
      "(8, 'Dominique', 'Dominique Freeborough', 15, 2, 'Name.Surname@gmail.com')\n",
      "(9, 'Adam', 'Adam Borlase', 1, 1, 'scod101@gmail.com')\n",
      "(9, 'Adam', 'Adam Borlase', 2, 1, 'a.c.borlase@gmail.com')\n",
      "(9, 'Adam', 'Adam Borlase', 3, 2, 'Name.Surname@gmail.com')\n",
      "(9, 'Adam', 'Adam Borlase', 4, 1, 'scod101@gmail.com')\n",
      "(9, 'Adam', 'Adam Borlase', 5, 1, 'a.c.borlase@gmail.com')\n",
      "(9, 'Adam', 'Adam Borlase', 6, 2, 'Name.Surname@gmail.com')\n",
      "(9, 'Adam', 'Adam Borlase', 7, 1, 'scod101@gmail.com')\n",
      "(9, 'Adam', 'Adam Borlase', 8, 1, 'a.c.borlase@gmail.com')\n",
      "(9, 'Adam', 'Adam Borlase', 9, 2, 'Name.Surname@gmail.com')\n",
      "(9, 'Adam', 'Adam Borlase', 10, 1, 'scod101@gmail.com')\n",
      "(9, 'Adam', 'Adam Borlase', 11, 1, 'a.c.borlase@gmail.com')\n",
      "(9, 'Adam', 'Adam Borlase', 12, 2, 'Name.Surname@gmail.com')\n",
      "(9, 'Adam', 'Adam Borlase', 13, 1, 'scod101@gmail.com')\n",
      "(9, 'Adam', 'Adam Borlase', 14, 1, 'a.c.borlase@gmail.com')\n",
      "(9, 'Adam', 'Adam Borlase', 15, 2, 'Name.Surname@gmail.com')\n",
      "(10, 'Dominique', 'Dominique Freeborough', 1, 1, 'scod101@gmail.com')\n",
      "(10, 'Dominique', 'Dominique Freeborough', 2, 1, 'a.c.borlase@gmail.com')\n",
      "(10, 'Dominique', 'Dominique Freeborough', 3, 2, 'Name.Surname@gmail.com')\n",
      "(10, 'Dominique', 'Dominique Freeborough', 4, 1, 'scod101@gmail.com')\n",
      "(10, 'Dominique', 'Dominique Freeborough', 5, 1, 'a.c.borlase@gmail.com')\n",
      "(10, 'Dominique', 'Dominique Freeborough', 6, 2, 'Name.Surname@gmail.com')\n",
      "(10, 'Dominique', 'Dominique Freeborough', 7, 1, 'scod101@gmail.com')\n",
      "(10, 'Dominique', 'Dominique Freeborough', 8, 1, 'a.c.borlase@gmail.com')\n",
      "(10, 'Dominique', 'Dominique Freeborough', 9, 2, 'Name.Surname@gmail.com')\n",
      "(10, 'Dominique', 'Dominique Freeborough', 10, 1, 'scod101@gmail.com')\n",
      "(10, 'Dominique', 'Dominique Freeborough', 11, 1, 'a.c.borlase@gmail.com')\n",
      "(10, 'Dominique', 'Dominique Freeborough', 12, 2, 'Name.Surname@gmail.com')\n",
      "(10, 'Dominique', 'Dominique Freeborough', 13, 1, 'scod101@gmail.com')\n",
      "(10, 'Dominique', 'Dominique Freeborough', 14, 1, 'a.c.borlase@gmail.com')\n",
      "(10, 'Dominique', 'Dominique Freeborough', 15, 2, 'Name.Surname@gmail.com')\n"
     ]
    },
    {
     "name": "stderr",
     "output_type": "stream",
     "text": [
      "/Users/adamborlase/opt/anaconda3/envs/surveyor/lib/python3.7/site-packages/ipykernel_launcher.py:2: SAWarning: SELECT statement has a cartesian product between FROM element(s) \"users\" and FROM element \"Addresses\".  Apply join condition(s) between each element to resolve.\n",
      "  \n"
     ]
    }
   ],
   "source": [
    "s = select(users,addresses)\n",
    "results = conn.execute(s)\n",
    "for row in results:\n",
    "    print(row)"
   ],
   "metadata": {
    "collapsed": false,
    "pycharm": {
     "name": "#%%\n"
    }
   }
  },
  {
   "cell_type": "markdown",
   "source": [
    "While it has put both of the tables in the select query it has made a mess of the results as there is no\n",
    "join on the tables so the concatertation has happened with putting all of the data next to each other.\n",
    "\n",
    "In order to sort this out we should use a join (Which will be explaned later) for the mean time lets explore how to\n",
    "use a where statement. This can be done using `select().where()`"
   ],
   "metadata": {
    "collapsed": false,
    "pycharm": {
     "name": "#%% md\n"
    }
   }
  },
  {
   "cell_type": "code",
   "execution_count": 90,
   "outputs": [
    {
     "name": "stdout",
     "output_type": "stream",
     "text": [
      "2021-06-01 21:35:21,210 INFO sqlalchemy.engine.Engine SELECT users.id, users.name, users.fullname, \"Addresses\".id AS id_1, \"Addresses\".user_id, \"Addresses\".email_addresses \n",
      "FROM users, \"Addresses\" \n",
      "WHERE users.id = \"Addresses\".user_id\n",
      "2021-06-01 21:35:21,210 INFO sqlalchemy.engine.Engine [generated in 0.00065s] ()\n",
      "(1, 'Adam', 'Adam Borlase', 1, 1, 'scod101@gmail.com')\n",
      "(1, 'Adam', 'Adam Borlase', 2, 1, 'a.c.borlase@gmail.com')\n",
      "(2, 'Dominique', 'Dominique Freeborough', 3, 2, 'Name.Surname@gmail.com')\n",
      "(1, 'Adam', 'Adam Borlase', 4, 1, 'scod101@gmail.com')\n",
      "(1, 'Adam', 'Adam Borlase', 5, 1, 'a.c.borlase@gmail.com')\n",
      "(2, 'Dominique', 'Dominique Freeborough', 6, 2, 'Name.Surname@gmail.com')\n",
      "(1, 'Adam', 'Adam Borlase', 7, 1, 'scod101@gmail.com')\n",
      "(1, 'Adam', 'Adam Borlase', 8, 1, 'a.c.borlase@gmail.com')\n",
      "(2, 'Dominique', 'Dominique Freeborough', 9, 2, 'Name.Surname@gmail.com')\n",
      "(1, 'Adam', 'Adam Borlase', 10, 1, 'scod101@gmail.com')\n",
      "(1, 'Adam', 'Adam Borlase', 11, 1, 'a.c.borlase@gmail.com')\n",
      "(2, 'Dominique', 'Dominique Freeborough', 12, 2, 'Name.Surname@gmail.com')\n",
      "(1, 'Adam', 'Adam Borlase', 13, 1, 'scod101@gmail.com')\n",
      "(1, 'Adam', 'Adam Borlase', 14, 1, 'a.c.borlase@gmail.com')\n",
      "(2, 'Dominique', 'Dominique Freeborough', 15, 2, 'Name.Surname@gmail.com')\n"
     ]
    }
   ],
   "source": [
    "s = select(users, addresses).where(users.c.id == addresses.c.user_id)\n",
    "results = conn.execute(s)\n",
    "for row in results:\n",
    "    print(row)"
   ],
   "metadata": {
    "collapsed": false,
    "pycharm": {
     "name": "#%%\n"
    }
   }
  },
  {
   "cell_type": "markdown",
   "source": [
    "This is looking a lot better for the original results that we had.\n",
    "\n",
    "If we look at the created SQL query we now have a where statement at the end of the select which evaluates\n",
    "if the id of user is equal to user_id in the addresses table. If we look at the expression we can see that\n",
    "it is using a python equality operator between the two columns. If we check what SQLAlchemy is doing with\n",
    "the equality we will see it is not creating a true or false but rather an object:"
   ],
   "metadata": {
    "collapsed": false,
    "pycharm": {
     "name": "#%% md\n"
    }
   }
  },
  {
   "cell_type": "code",
   "execution_count": 91,
   "outputs": [
    {
     "data": {
      "text/plain": "<sqlalchemy.sql.elements.BinaryExpression object at 0x7ff622040d10>"
     },
     "execution_count": 91,
     "metadata": {},
     "output_type": "execute_result"
    }
   ],
   "source": [
    "users.c.id == addresses.c.user_id"
   ],
   "metadata": {
    "collapsed": false,
    "pycharm": {
     "name": "#%%\n"
    }
   }
  },
  {
   "cell_type": "code",
   "execution_count": 92,
   "outputs": [
    {
     "data": {
      "text/plain": "'users.id = \"Addresses\".user_id'"
     },
     "execution_count": 92,
     "metadata": {},
     "output_type": "execute_result"
    }
   ],
   "source": [
    "str(users.c.id == addresses.c.user_id)"
   ],
   "metadata": {
    "collapsed": false,
    "pycharm": {
     "name": "#%%\n"
    }
   }
  },
  {
   "cell_type": "markdown",
   "source": [
    "From this we can see that everything we work with creates the same type of object based on the base class of the\n",
    "`ColumnElement`."
   ],
   "metadata": {
    "collapsed": false,
    "pycharm": {
     "name": "#%% md\n"
    }
   }
  },
  {
   "cell_type": "markdown",
   "source": [
    "### Operators"
   ],
   "metadata": {
    "collapsed": false,
    "pycharm": {
     "name": "#%% md\n"
    }
   }
  },
  {
   "cell_type": "markdown",
   "source": [
    "Since we have already seen how the equality in SQLAlchemy works we can now go through it's capabilities.\n",
    "\n",
    "Previously we created an equality based on the columns now lets see what happens if we have a literal value:"
   ],
   "metadata": {
    "collapsed": false,
    "pycharm": {
     "name": "#%% md\n"
    }
   }
  },
  {
   "cell_type": "code",
   "execution_count": 93,
   "outputs": [
    {
     "name": "stdout",
     "output_type": "stream",
     "text": [
      "users.id = :id_1\n"
     ]
    }
   ],
   "source": [
    "print(users.c.id == 1)"
   ],
   "metadata": {
    "collapsed": false,
    "pycharm": {
     "name": "#%%\n"
    }
   }
  },
  {
   "cell_type": "markdown",
   "source": [
    "The result is know as a bind parameter. we can use a similar trick to the insert section to see the results:"
   ],
   "metadata": {
    "collapsed": false,
    "pycharm": {
     "name": "#%% md\n"
    }
   }
  },
  {
   "cell_type": "code",
   "execution_count": 94,
   "outputs": [
    {
     "data": {
      "text/plain": "{'id_1': 1}"
     },
     "execution_count": 94,
     "metadata": {},
     "output_type": "execute_result"
    }
   ],
   "source": [
    "(users.c.id == 1).compile().params"
   ],
   "metadata": {
    "collapsed": false,
    "pycharm": {
     "name": "#%%\n"
    }
   }
  },
  {
   "cell_type": "markdown",
   "source": [
    "With SQLAlchemy we can use a lot more of the python operators in the creation of the statements and not just the equals operator.\n",
    "\n",
    "for instance we also have the not equal to and greater than:"
   ],
   "metadata": {
    "collapsed": false,
    "pycharm": {
     "name": "#%% md\n"
    }
   }
  },
  {
   "cell_type": "code",
   "execution_count": 95,
   "outputs": [
    {
     "name": "stdout",
     "output_type": "stream",
     "text": [
      "users.id != :id_1\n",
      "users.name IS NULL\n",
      "users.name < :name_1\n"
     ]
    }
   ],
   "source": [
    "print(users.c.id !=7)\n",
    "print(users.c.name == None)\n",
    "print(\"fred\" > users.c.name)"
   ],
   "metadata": {
    "collapsed": false,
    "pycharm": {
     "name": "#%%\n"
    }
   }
  },
  {
   "cell_type": "markdown",
   "source": [
    "Just note that the None value is converted to is null when using it in the SQLAlchemy.\n",
    "\n",
    "If we use an addition operator we will get an addition expression:"
   ],
   "metadata": {
    "collapsed": false,
    "pycharm": {
     "name": "#%% md\n"
    }
   }
  },
  {
   "cell_type": "code",
   "execution_count": 96,
   "outputs": [
    {
     "name": "stdout",
     "output_type": "stream",
     "text": [
      "users.id + users.id\n"
     ]
    }
   ],
   "source": [
    "print(users.c.id + users.c.id)"
   ],
   "metadata": {
    "collapsed": false,
    "pycharm": {
     "name": "#%%\n"
    }
   }
  },
  {
   "cell_type": "markdown",
   "source": [
    "The next key element to note is the type of column also matters, for instance if we use an addition on two string columns we will get\n",
    "a different result than when we did the same thing to the Integer column."
   ],
   "metadata": {
    "collapsed": false,
    "pycharm": {
     "name": "#%% md\n"
    }
   }
  },
  {
   "cell_type": "code",
   "execution_count": 97,
   "outputs": [
    {
     "name": "stdout",
     "output_type": "stream",
     "text": [
      "users.name || users.fullname\n"
     ]
    }
   ],
   "source": [
    "print(users.c.name + users.c.fullname)"
   ],
   "metadata": {
    "collapsed": false,
    "pycharm": {
     "name": "#%%\n"
    }
   }
  },
  {
   "cell_type": "markdown",
   "source": [
    "The `||` in the created expression stands for the concaternation operator used on most databases."
   ],
   "metadata": {
    "collapsed": false,
    "pycharm": {
     "name": "#%% md\n"
    }
   }
  },
  {
   "cell_type": "markdown",
   "source": [
    "The produced expression is applicable to a mysql database versus the original result which was based on our SQLlite database.\n",
    "\n",
    "if we ever need to use an operator that looks for a String match we can use the like operator:"
   ],
   "metadata": {
    "collapsed": false,
    "pycharm": {
     "name": "#%% md\n"
    }
   }
  },
  {
   "cell_type": "code",
   "execution_count": 98,
   "outputs": [
    {
     "name": "stdout",
     "output_type": "stream",
     "text": [
      "users.name LIKE :name_1\n"
     ]
    }
   ],
   "source": [
    "print(users.c.name.like(\"%ed\"))"
   ],
   "metadata": {
    "collapsed": false,
    "pycharm": {
     "name": "#%%\n"
    }
   }
  },
  {
   "cell_type": "markdown",
   "source": [
    "While there are many other operators we can use, we can now see this in action."
   ],
   "metadata": {
    "collapsed": false,
    "pycharm": {
     "name": "#%% md\n"
    }
   }
  },
  {
   "cell_type": "code",
   "execution_count": 99,
   "outputs": [
    {
     "name": "stdout",
     "output_type": "stream",
     "text": [
      "2021-06-01 21:35:21,259 INFO sqlalchemy.engine.Engine SELECT users.id, users.name, users.fullname \n",
      "FROM users \n",
      "WHERE users.id = ?\n",
      "2021-06-01 21:35:21,259 INFO sqlalchemy.engine.Engine [generated in 0.00060s] (1,)\n",
      "(1, 'Adam', 'Adam Borlase')\n"
     ]
    }
   ],
   "source": [
    "s = select(users).where(users.c.id==1)\n",
    "results = conn.execute(s)\n",
    "for row in results:\n",
    "    print(row)"
   ],
   "metadata": {
    "collapsed": false,
    "pycharm": {
     "name": "#%%\n"
    }
   }
  },
  {
   "cell_type": "markdown",
   "source": [
    "### Using Conjunctions"
   ],
   "metadata": {
    "collapsed": false,
    "pycharm": {
     "name": "#%% md\n"
    }
   }
  },
  {
   "cell_type": "markdown",
   "source": [
    "Conjunctions are mostly known to be commonly used words such as `AND` and `OR` that put multiple things together a little\n",
    "more. We can now start seeing the usage of these conjunctions:"
   ],
   "metadata": {
    "collapsed": false,
    "pycharm": {
     "name": "#%% md\n"
    }
   }
  },
  {
   "cell_type": "code",
   "execution_count": 100,
   "outputs": [
    {
     "name": "stdout",
     "output_type": "stream",
     "text": [
      "users.name LIKE :name_1 AND users.id = \"Addresses\".user_id AND (\"Addresses\".email_addresses = :email_addresses_1 OR \"Addresses\".email_addresses = :email_addresses_2) AND users.id <= :id_1\n"
     ]
    }
   ],
   "source": [
    "from sqlalchemy import and_, or_, not_\n",
    "print(and_(\n",
    "    users.c.name.like(\"%j\"),\n",
    "    users.c.id == addresses.c.user_id,\n",
    "    or_(\n",
    "        addresses.c.email_addresses == \"wendy@aol.com\",\n",
    "        addresses.c.email_addresses == \"jacky@yahoo.com\"\n",
    "    ),\n",
    "    not_(users.c.id>5)\n",
    "    )\n",
    ")"
   ],
   "metadata": {
    "collapsed": false,
    "pycharm": {
     "name": "#%%\n"
    }
   }
  },
  {
   "cell_type": "markdown",
   "source": [
    "### Using Joins"
   ],
   "metadata": {
    "collapsed": false,
    "pycharm": {
     "name": "#%% md\n"
    }
   }
  },
  {
   "cell_type": "markdown",
   "source": [
    "The next big cornerstone to a select Query is a join statement. We have already done this with a where statement,\n",
    "but sometimes it may be more useful to include a join attribute in the SQLAlchemy coding to assist us. This can be done\n",
    "`FromClause.join()` or `FromClause.outerjoin()`.\n",
    "\n",
    "A simple example is the following:"
   ],
   "metadata": {
    "collapsed": false,
    "pycharm": {
     "name": "#%% md\n"
    }
   }
  },
  {
   "cell_type": "code",
   "execution_count": 101,
   "outputs": [
    {
     "data": {
      "text/plain": "'users JOIN \"Addresses\" ON users.id = \"Addresses\".user_id'"
     },
     "execution_count": 101,
     "metadata": {},
     "output_type": "execute_result"
    }
   ],
   "source": [
    "str(users.join(addresses))"
   ],
   "metadata": {
    "collapsed": false,
    "pycharm": {
     "name": "#%%\n"
    }
   }
  },
  {
   "cell_type": "markdown",
   "source": [
    "Since we specified a foreign key in the table creation we can see that SQLAlchemy has already filled in the joining columns\n",
    "for us in the join statement.\n",
    "\n",
    "If we ever need to specify the columns in the join we can modify the syntax a bit like the following:"
   ],
   "metadata": {
    "collapsed": false,
    "pycharm": {
     "name": "#%% md\n"
    }
   }
  },
  {
   "cell_type": "code",
   "execution_count": 102,
   "outputs": [
    {
     "data": {
      "text/plain": "'users JOIN \"Addresses\" ON \"Addresses\".email_addresses LIKE users.name || :name_1'"
     },
     "execution_count": 102,
     "metadata": {},
     "output_type": "execute_result"
    }
   ],
   "source": [
    "str(users.join(\n",
    "    addresses,\n",
    "    addresses.c.email_addresses.like(users.c.name + '%')\n",
    "))"
   ],
   "metadata": {
    "collapsed": false,
    "pycharm": {
     "name": "#%%\n"
    }
   }
  },
  {
   "cell_type": "markdown",
   "source": [
    "Here we can see that the where statement has been created with the specified expression we have inserted.\n",
    "\n",
    "We can now include this with a select query to merge multiple tables."
   ],
   "metadata": {
    "collapsed": false,
    "pycharm": {
     "name": "#%% md\n"
    }
   }
  },
  {
   "cell_type": "code",
   "execution_count": 103,
   "outputs": [
    {
     "name": "stdout",
     "output_type": "stream",
     "text": [
      "2021-06-01 21:35:21,282 INFO sqlalchemy.engine.Engine SELECT users.id, users.name, users.fullname, \"Addresses\".email_addresses \n",
      "FROM users JOIN \"Addresses\" ON users.id = \"Addresses\".user_id\n",
      "2021-06-01 21:35:21,282 INFO sqlalchemy.engine.Engine [generated in 0.00079s] ()\n"
     ]
    },
    {
     "data": {
      "text/plain": "[(1, 'Adam', 'Adam Borlase', 'scod101@gmail.com'),\n (1, 'Adam', 'Adam Borlase', 'a.c.borlase@gmail.com'),\n (2, 'Dominique', 'Dominique Freeborough', 'Name.Surname@gmail.com'),\n (1, 'Adam', 'Adam Borlase', 'scod101@gmail.com'),\n (1, 'Adam', 'Adam Borlase', 'a.c.borlase@gmail.com'),\n (2, 'Dominique', 'Dominique Freeborough', 'Name.Surname@gmail.com'),\n (1, 'Adam', 'Adam Borlase', 'scod101@gmail.com'),\n (1, 'Adam', 'Adam Borlase', 'a.c.borlase@gmail.com'),\n (2, 'Dominique', 'Dominique Freeborough', 'Name.Surname@gmail.com'),\n (1, 'Adam', 'Adam Borlase', 'scod101@gmail.com'),\n (1, 'Adam', 'Adam Borlase', 'a.c.borlase@gmail.com'),\n (2, 'Dominique', 'Dominique Freeborough', 'Name.Surname@gmail.com'),\n (1, 'Adam', 'Adam Borlase', 'scod101@gmail.com'),\n (1, 'Adam', 'Adam Borlase', 'a.c.borlase@gmail.com'),\n (2, 'Dominique', 'Dominique Freeborough', 'Name.Surname@gmail.com')]"
     },
     "execution_count": 103,
     "metadata": {},
     "output_type": "execute_result"
    }
   ],
   "source": [
    "s = select(users,\n",
    "           addresses.c.email_addresses).select_from(users.join(addresses))\n",
    "conn.execute(s).fetchall()"
   ],
   "metadata": {
    "collapsed": false,
    "pycharm": {
     "name": "#%%\n"
    }
   }
  },
  {
   "cell_type": "markdown",
   "source": [
    "The other join method that is avaliable to us is also `FromClause.outerjoin()` which creates a left outer join construct.\n"
   ],
   "metadata": {
    "collapsed": false,
    "pycharm": {
     "name": "#%% md\n"
    }
   }
  }
 ],
 "metadata": {
  "kernelspec": {
   "display_name": "Python 3",
   "language": "python",
   "name": "python3"
  },
  "language_info": {
   "codemirror_mode": {
    "name": "ipython",
    "version": 2
   },
   "file_extension": ".py",
   "mimetype": "text/x-python",
   "name": "python",
   "nbconvert_exporter": "python",
   "pygments_lexer": "ipython2",
   "version": "2.7.6"
  }
 },
 "nbformat": 4,
 "nbformat_minor": 0
}