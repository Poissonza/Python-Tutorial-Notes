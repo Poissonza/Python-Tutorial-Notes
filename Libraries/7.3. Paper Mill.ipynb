{
 "cells": [
  {
   "cell_type": "markdown",
   "metadata": {
    "pycharm": {
     "name": "#%% md\n"
    }
   },
   "source": [
    "# Paper Mill"
   ]
  },
  {
   "cell_type": "markdown",
   "metadata": {
    "pycharm": {
     "name": "#%% md\n"
    }
   },
   "source": [
    "## Table Of Contents\n",
    "\n",
    "1. [Introduction](#Introduction)\n",
    "2. [Installation](#Installation)\n",
    "3. [Usage](#Usage)\n",
    "  1. [Parametizing the Notebook](#Parametizing-the-Notebook)\n",
    "  2. [Inspect](#Inspect)\n",
    "  3. [Execute](#Execute)\n",
    "4. [Source](#Source)"
   ]
  },
  {
   "cell_type": "markdown",
   "metadata": {
    "pycharm": {
     "name": "#%% md\n"
    }
   },
   "source": [
    "## Introduction\n",
    "\n",
    "\n",
    "Papermill is a tool for parameterizing and executing Jupyter Notebooks. This is useful when you want to:\n",
    "\n",
    "* Run the same notebook at various points with different input parameters.\n",
    "\n",
    "* Run a notebook and depending on it's results pick which notebook to run next"
   ]
  },
  {
   "cell_type": "markdown",
   "metadata": {
    "pycharm": {
     "name": "#%% md\n"
    }
   },
   "source": [
    "## Installation\n",
    "\n",
    "Papermill can be installed through pip using the following command line code:\n",
    "\n",
    "```\n",
    "pip install papermill\n",
    "```"
   ]
  },
  {
   "cell_type": "markdown",
   "metadata": {
    "pycharm": {
     "name": "#%% md\n"
    }
   },
   "source": [
    "## Usage\n",
    "\n",
    "The general work flow for using Papermill is the follwing:\n",
    "\n",
    "* Parametizing a notebook\n",
    "* Executing it\n",
    "* Storing the results\n",
    "\n",
    "While this can be done on a single notebook it can also be done on a collection of notebooks."
   ]
  },
  {
   "cell_type": "markdown",
   "metadata": {
    "pycharm": {
     "name": "#%% md\n"
    }
   },
   "source": [
    "### Parametizing the Notebook\n",
    "\n",
    "This is the first step to the process of using Papermill. In order to do this the cells in the notebooks will need to be tagged with ```parameters```.\n",
    "\n",
    "The tagged cell is assumed to specify the default values which can be overwritten by values specified at execution time. Papermill will insert a new cell tagged with ```injected-parameters ``` after the ```parameters``` cell with only the overwritten parameters. Subsequent cells are treated as normal cells even if they are tagged with ```parameters```."
   ]
  },
  {
   "cell_type": "markdown",
   "metadata": {
    "pycharm": {
     "name": "#%% md\n"
    }
   },
   "source": [
    "### Inspect\n",
    "\n",
    "The two ways to inspect a notebook to discover it's parameters is:\n",
    "\n",
    "* Through the Python API\n",
    "* Through the command line interface\n",
    "\n",
    "**Method 1: Through the Python API**\n",
    "\n",
    "The inspect_notebook function can be called to inspect a notebook:\n",
    "\n",
    "```\n",
    "import papermill as pm\n",
    "\n",
    "pm.inspect_notebook('notebook.ipynb')\n",
    "```\n",
    "\n",
    "An important note is if the path is parametirized you can pass the parameters in a dictionary as second parameter:\n",
    "\n",
    "```\n",
    "pm.inspect_notebook('Notebooks/{file}.ipynb', paramters= {'file': 'notebook'})\n",
    "```\n",
    "\n",
    "**Method 2: Inspect through the CLI:**\n",
    "\n",
    "in order to use the CLI to inspect the notebook the following command can be used:\n",
    "\n",
    "```\n",
    "papermill --help-notebook notebook.ipynb\n",
    "```"
   ]
  },
  {
   "cell_type": "markdown",
   "metadata": {
    "pycharm": {
     "name": "#%% md\n"
    }
   },
   "source": [
    "### Execute\n",
    "\n",
    "There is also two ways to execute the Papermill notebooks:\n",
    "\n",
    "* Through the Python API\n",
    "* Through the CLI\n",
    "\n",
    "**Method 1: Through the Python API:**\n",
    "\n",
    "The *execute_notebook* function can be called to execute an input notebook when passed a dictionary of parameters:\n",
    "```\n",
    "import papermill as pm\n",
    "\n",
    "pm.execute_notebook(\n",
    "'path/to/input.ipynb',\n",
    "'path/to/output.ipynb',\n",
    "parameters=dict(alpha=1,beta=0.5)\n",
    ")\n",
    "```\n",
    "\n",
    "**Method 2: Through the CLI:**\n",
    "\n",
    "This can be done on either a remote server or even a local machine using the following CLI command:\n",
    "\n",
    "```\n",
    "papermill local/input.ipynb local/output.ipynb -p alpha 1 -p beta 0.5\n",
    "```\n",
    "\n",
    "This species the parameters in a smart way as we are using the ```-p``` but if we want to pass the parameter as a raw string you can use ```-r```.\n",
    "\n",
    "Another option is to pass a parameters file using either ```-f``` or ```--parameters_file```. This parameters file is a YAML file with the details.\n",
    "\n",
    "In a similar way the ```-y``` or ```--paramaters_yaml``` which allows for a Yaml string Containing the parameter values an example of this is the following:\n",
    "\n",
    "```\n",
    "papermill local/input.ipynb local/output.ipynb -y \"\n",
    "x:\n",
    "  - 0.0\n",
    "  - 1.0\n",
    "  - 2.0\n",
    "linear_function:\n",
    "  slope: 3.0\n",
    "  intercept: 1.0\"\n",
    "```"
   ]
  },
  {
   "cell_type": "markdown",
   "metadata": {
    "pycharm": {
     "name": "#%% md\n"
    }
   },
   "source": [
    "## Source\n",
    "\n",
    "https://papermill.readthedocs.io/en/latest/index.html"
   ]
  }
 ],
 "metadata": {
  "kernelspec": {
   "display_name": "Python 3",
   "language": "python",
   "name": "python3"
  },
  "language_info": {
   "codemirror_mode": {
    "name": "ipython",
    "version": 3
   },
   "file_extension": ".py",
   "mimetype": "text/x-python",
   "name": "python",
   "nbconvert_exporter": "python",
   "pygments_lexer": "ipython3",
   "version": "3.8.3"
  }
 },
 "nbformat": 4,
 "nbformat_minor": 4
}