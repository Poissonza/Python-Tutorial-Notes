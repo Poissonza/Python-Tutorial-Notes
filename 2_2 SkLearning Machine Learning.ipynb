{
 "cells": [
  {
   "cell_type": "markdown",
   "source": [
    "## Support Vector Machines\n",
    "\n",
    "We are now going to do a general support vector machine before we start to look at the various kernels that are avaliable for the classification:"
   ],
   "metadata": {
    "collapsed": false
   }
  },
  {
   "cell_type": "code",
   "execution_count": 1,
   "outputs": [
    {
     "data": {
      "text/plain": "<sklearn.metrics._plot.confusion_matrix.ConfusionMatrixDisplay at 0x1c6f0f10>"
     },
     "metadata": {},
     "output_type": "execute_result",
     "execution_count": 1
    },
    {
     "data": {
      "text/plain": "<Figure size 432x288 with 2 Axes>",
      "image/png": "[encoded data removed]"
     },
     "metadata": {
      "needs_background": "light"
     },
     "output_type": "display_data"
    }
   ],
   "source": [
    "import pandas as pd\n",
    "from sklearn.preprocessing import StandardScaler\n",
    "from sklearn.model_selection import train_test_split\n",
    "from sklearn.metrics import plot_confusion_matrix\n",
    "sc_x = StandardScaler()\n",
    "\n",
    "dataset = pd.read_csv('data\\Social_Network_Ads.csv')\n",
    "y = dataset.iloc[:,-1]\n",
    "x = dataset.iloc[:,2:4]\n",
    "x = sc_x.fit_transform(x)\n",
    "\n",
    "x_train,x_test,y_train,y_test = train_test_split(x,y,random_state=0,test_size=0.25)\n",
    "from sklearn.svm import SVC\n",
    "\n",
    "sv_class = SVC(random_state=0,kernel='linear')\n",
    "sv_class.fit(x_train,y_train)\n",
    "plot_confusion_matrix(sv_class,x_test,y_test,cmap='Blues')"
   ],
   "metadata": {
    "collapsed": false,
    "pycharm": {
     "name": "#%%\n",
     "is_executing": false
    }
   }
  },
  {
   "cell_type": "markdown",
   "source": [
    "## Kernel SVM\n",
    "\n",
    "Now as we may know it is not always applicable to fit the same relationship to different data set as some of them have very different relationships.\n",
    "\n",
    "This is where Kernel SVM fits in it will fit a SVM model with different relationships to the data. Let's have a look at functions in SVM that we can fit:\n",
    "\n",
    "* RBF (Gaussian Kernel\n",
    " * the default non parametric function that fits a multi dimensional space to the data which helps if one group is encased by the other group.\n",
    "* Sigmoid Kernel\n",
    " * You are fitting an S curve to the data.\n",
    "* Polynomial Kernels\n",
    " * We fit a polynomial to the data (Like in Polynomial regression).\n",
    " \n",
    "Let's now fit one of the Other Kernel's to our data:\n",
    " "
   ],
   "metadata": {
    "collapsed": false,
    "pycharm": {
     "name": "#%% md\n"
    }
   }
  },
  {
   "cell_type": "code",
   "execution_count": 2,
   "outputs": [
    {
     "data": {
      "text/plain": "<sklearn.metrics._plot.confusion_matrix.ConfusionMatrixDisplay at 0x1dff8400>"
     },
     "metadata": {},
     "output_type": "execute_result",
     "execution_count": 2
    },
    {
     "data": {
      "text/plain": "<Figure size 432x288 with 2 Axes>",
      "image/png": "[encoded data removed]"
     },
     "metadata": {
      "needs_background": "light"
     },
     "output_type": "display_data"
    }
   ],
   "source": [
    " \n",
    "sv_class2 = SVC(random_state=0,kernel='rbf')\n",
    " \n",
    "sv_class2.fit(x_train,y_train)\n",
    "plot_confusion_matrix(sv_class2,x_test,y_test,cmap='Greens')"
   ],
   "metadata": {
    "collapsed": false,
    "pycharm": {
     "name": "#%%\n",
     "is_executing": false
    }
   }
  },
  {
   "cell_type": "markdown",
   "source": [
    "from the results we can see that although we have a drop in the correct classification for not buying the vehicle the number of correct classifications for will buy has increased.\n",
    "\n",
    "## Naive Bayes\n",
    "\n",
    "The next analysis technique we will look at is how to do Naive Bayes in Python. This method will use the same data sets as previously."
   ],
   "metadata": {
    "collapsed": false,
    "pycharm": {
     "name": "#%% md\n"
    }
   }
  },
  {
   "cell_type": "code",
   "execution_count": 7,
   "outputs": [
    {
     "data": {
      "text/plain": "<sklearn.metrics._plot.confusion_matrix.ConfusionMatrixDisplay at 0x1f103040>"
     },
     "metadata": {},
     "output_type": "execute_result",
     "execution_count": 7
    },
    {
     "data": {
      "text/plain": "<Figure size 432x288 with 2 Axes>",
      "image/png": "[encoded data removed]"
     },
     "metadata": {
      "needs_background": "light"
     },
     "output_type": "display_data"
    }
   ],
   "source": [
    "from sklearn.naive_bayes import GaussianNB\n",
    "\n",
    "classiferNB=GaussianNB()\n",
    "\n",
    "classiferNB.fit(x_train,y_train)\n",
    "plot_confusion_matrix(classiferNB,x_test,y_test,cmap='Oranges')"
   ],
   "metadata": {
    "collapsed": false,
    "pycharm": {
     "name": "#%%\n",
     "is_executing": false
    }
   }
  },
  {
   "cell_type": "markdown",
   "source": [
    "## Evaluation of Classification Models\n",
    "\n",
    "When we started looking at classification models we generally accept that if we are working with probabilities then a 0.5 and below probability will be classified as a no / 0 and above 0.5 will be a yes or 1.\n"
   ],
   "metadata": {
    "collapsed": false,
    "pycharm": {
     "name": "#%% md\n"
    }
   }
  }
 ],
 "metadata": {
  "kernelspec": {
   "display_name": "Python 3",
   "language": "python",
   "name": "python3"
  },
  "language_info": {
   "codemirror_mode": {
    "name": "ipython",
    "version": 2
   },
   "file_extension": ".py",
   "mimetype": "text/x-python",
   "name": "python",
   "nbconvert_exporter": "python",
   "pygments_lexer": "ipython2",
   "version": "2.7.6"
  },
  "pycharm": {
   "stem_cell": {
    "cell_type": "raw",
    "source": [],
    "metadata": {
     "collapsed": false
    }
   }
  }
 },
 "nbformat": 4,
 "nbformat_minor": 0
}