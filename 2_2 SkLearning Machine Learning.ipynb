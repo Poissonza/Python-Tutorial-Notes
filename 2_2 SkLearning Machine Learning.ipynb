{
 "cells": [
  {
   "cell_type": "code",
   "execution_count": 11,
   "outputs": [
    {
     "data": {
      "text/plain": "<sklearn.metrics._plot.confusion_matrix.ConfusionMatrixDisplay at 0x1d4045f8>"
     },
     "metadata": {},
     "output_type": "execute_result",
     "execution_count": 11
    },
    {
     "data": {
      "text/plain": "<Figure size 432x288 with 2 Axes>",
      "image/png": "[encoded data removed]"
     },
     "metadata": {
      "needs_background": "light"
     },
     "output_type": "display_data"
    }
   ],
   "source": [
    "import pandas as pd\n",
    "from sklearn.preprocessing import StandardScaler\n",
    "from sklearn.model_selection import train_test_split\n",
    "from sklearn.metrics import plot_confusion_matrix\n",
    "sc_x = StandardScaler()\n",
    "\n",
    "dataset = pd.read_csv('data\\Social_Network_Ads.csv')\n",
    "y = dataset.iloc[:,-1]\n",
    "x = dataset.iloc[:,2:4]\n",
    "x = sc_x.fit_transform(x)\n",
    "\n",
    "x_train,x_test,y_train,y_test = train_test_split(x,y,random_state=0,test_size=0.25)\n",
    "from sklearn.svm import SVC\n",
    "\n",
    "sv_class = SVC(random_state=0,kernel='linear')\n",
    "sv_class.fit(x_train,y_train)\n",
    "plot_confusion_matrix(sv_class,x_test,y_test,cmap='Blues')"
   ],
   "metadata": {
    "collapsed": false,
    "pycharm": {
     "name": "#%%\n",
     "is_executing": false
    }
   }
  }
 ],
 "metadata": {
  "kernelspec": {
   "display_name": "Python 3",
   "language": "python",
   "name": "python3"
  },
  "language_info": {
   "codemirror_mode": {
    "name": "ipython",
    "version": 2
   },
   "file_extension": ".py",
   "mimetype": "text/x-python",
   "name": "python",
   "nbconvert_exporter": "python",
   "pygments_lexer": "ipython2",
   "version": "2.7.6"
  },
  "pycharm": {
   "stem_cell": {
    "cell_type": "raw",
    "source": [
     "##%% md\n",
     "\n",
     "## Support Vector Machines\n",
     "\n",
     "We are now going to do a general support vector machine before we start to look at the various kernels that are avaliable for the classification:\n"
    ],
    "metadata": {
     "collapsed": false
    }
   }
  }
 },
 "nbformat": 4,
 "nbformat_minor": 0
}