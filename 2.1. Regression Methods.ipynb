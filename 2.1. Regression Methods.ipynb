{
 "cells": [
  {
   "cell_type": "markdown",
   "metadata": {
    "collapsed": true,
    "pycharm": {
     "name": "#%% md\n"
    }
   },
   "source": [
    "# Machine Learning with SKLearn and Python"
   ]
  },
  {
   "cell_type": "markdown",
   "metadata": {},
   "source": [
    "Once we have gotten ourselves acquainted with python and use of Pandas to work with data we are ready to work with a few of the libraries in Python to make predictions.\n",
    "\n",
    "In Machine learning we will be looking at Supervised and Unsupervised models as well as Regressors and Classifyers.\n",
    "\n",
    "For Regressors there are the following methods available:\n",
    "\n",
    "* Simple Linear Regression\n",
    "* Multiple Linear Regression\n",
    "* Polynomial Regression\n",
    "* Support Vector Regression\n",
    "* Regression Trees\n",
    "* Random Forest\n",
    "\n",
    "For the Classifiers we will look at:\n",
    "\n",
    "* Logistic Regression\n",
    "* KNN\n",
    "* Classification Trees\n",
    "* Random Forest\n",
    "* SVM\n",
    "* Kernel SVM\n",
    "* Naive Bayes\n",
    "\n",
    "For all of the methods that we will be looking at we will need to load in a relevant data set and also import the correct classifier to make the prediction and fit the data."
   ]
  },
  {
   "cell_type": "markdown",
   "metadata": {},
   "source": [
    "## Regression vs Classification\n",
    "\n",
    "The best way to think about the differences is the final outcome. With a Regression we have a numerical value that we are trying to predict so the values could be anything between a maximum and a minimum value (For instance price or Mark Achieved), with Classification we are predicting a categorical\n",
    "variable (So a variable in which you have to fit one of multiple pre-described classes (Gender or age group for instance)."
   ]
  },
  {
   "cell_type": "markdown",
   "metadata": {},
   "source": [
    "# Regressors:\n",
    "\n",
    "## Linear Regression Theory\n",
    "\n",
    "Linear regression attempts to create weighted estimates for the coefficients of the input features plus the constant terms (or intercept). One of the\n",
    "main objectives is to create the estimates in such a way that we minimize the error term. For instance we could use the Mean Squared Error (MSE) as a metric\n",
    "to how well the model is fitting, with the objective to minimize this metric.\n",
    "\n",
    "Within **SKlearn** the **LinearRegression** method is based on the least squares method which can also be called directly from **SKLearn**.\n",
    "\n",
    "The computation time of the **LinearRegression** gets very slow as the number of features increases based on the standard transformations that take place\n",
    "in the background however once the model has been fitted the predictions are generally very fast.\n",
    "\n",
    "## Simple linear Regression"
   ]
  },
  {
   "cell_type": "markdown",
   "metadata": {},
   "source": [
    "Simple linear regression is the most simple form of a regression model, this model we are predicting our dependent variable $Y$ with only a single independent variable $X$.\n",
    "\n",
    "If we were to look at the overall function we are fitting we have the following $y=b_0 + b_1x_1$. \n",
    "\n",
    "In this example we have data on the salary of an employee and their years of experience. We will be using this information to see if we can predict the Salary they should Achieve.\n",
    "\n",
    "\n",
    "The first part is the import of the data to use it:"
   ]
  },
  {
   "cell_type": "code",
   "execution_count": 1,
   "metadata": {
    "pycharm": {
     "name": "#%%\n"
    }
   },
   "outputs": [],
   "source": [
    "import pandas as pd\n",
    "\n",
    "dataset = pd.read_csv('data\\\\Salary_Data.csv')\n",
    "x = dataset.iloc[:,0].values\n",
    "y = dataset.iloc[:,1].values"
   ]
  },
  {
   "cell_type": "markdown",
   "metadata": {
    "pycharm": {
     "name": "#%% md\n"
    }
   },
   "source": [
    "As we only have $n=30$ we will not split the sample into a train and test set.  \n",
    "\n",
    "now that we have the dataset imported we can import the Regressor and make our first prediction model:"
   ]
  },
  {
   "cell_type": "code",
   "execution_count": 2,
   "metadata": {
    "pycharm": {
     "name": "#%%\n"
    }
   },
   "outputs": [
    {
     "data": {
      "text/plain": "LinearRegression(copy_X=True, fit_intercept=True, n_jobs=None, normalize=False)"
     },
     "execution_count": 2,
     "metadata": {},
     "output_type": "execute_result"
    }
   ],
   "source": [
    "from sklearn.linear_model import LinearRegression\n",
    "# noinspection SpellCheckingInspection\n",
    "slregressor = LinearRegression()\n",
    "slregressor.fit(x.reshape(-1,1),y)"
   ]
  },
  {
   "cell_type": "markdown",
   "metadata": {
    "pycharm": {
     "name": "#%% md\n"
    }
   },
   "source": [
    "We have now fitted the model.\n",
    "\n",
    "All of the information relating to the fitted model is contained in the instance we have created of the LinearRegression object.\n",
    "\n",
    "Let's have a look at some of the variables we can obtain from this fitted model:"
   ]
  },
  {
   "cell_type": "code",
   "execution_count": 3,
   "metadata": {
    "pycharm": {
     "name": "#%%\n"
    }
   },
   "outputs": [
    {
     "name": "stdout",
     "output_type": "stream",
     "text": [
      "Intercept: 25792.20019866871\n",
      "Coefficient: [9449.96232146]\n"
     ]
    }
   ],
   "source": [
    "print(\"Intercept: \" + str(slregressor.intercept_))\n",
    "print(\"Coefficient: \" + str(slregressor.coef_))"
   ]
  },
  {
   "cell_type": "markdown",
   "metadata": {
    "pycharm": {
     "name": "#%% md\n"
    }
   },
   "source": [
    "This is certainly not the output that most people are used to as we are not getting a single output will all of the details we need but rather we need to call up the individual items we require. This may not be what we are expecting but we will be looking at a different library later that will provide similar output to what we are used to.\n",
    "\n",
    "Now that we have fitted the model let's start by running some predictions using the model:"
   ]
  },
  {
   "cell_type": "code",
   "execution_count": 4,
   "metadata": {
    "pycharm": {
     "name": "#%%\n"
    }
   },
   "outputs": [
    {
     "data": {
      "text/plain": "array([87216.95528813])"
     },
     "execution_count": 4,
     "metadata": {},
     "output_type": "execute_result"
    }
   ],
   "source": [
    "slregressor.predict([[6.5]])"
   ]
  },
  {
   "cell_type": "markdown",
   "metadata": {
    "pycharm": {
     "name": "#%% md\n"
    }
   },
   "source": [
    "We can now say that a person with 6.5 years worth of experience should be earning a salary of 87 217. But we may not always want to predict a single item, so let's plot the line we have fitted to the data:"
   ]
  },
  {
   "cell_type": "code",
   "execution_count": 5,
   "metadata": {
    "pycharm": {
     "name": "#%%\n"
    }
   },
   "outputs": [
    {
     "data": {
      "text/plain": "Text(0.5, 1.0, 'Expected Salary based on years of experience')"
     },
     "execution_count": 5,
     "metadata": {},
     "output_type": "execute_result"
    },
    {
     "data": {
      "text/plain": "<Figure size 432x288 with 1 Axes>",
      "image/png": "[encoded data removed]"
     },
     "metadata": {
      "needs_background": "light"
     },
     "output_type": "display_data"
    }
   ],
   "source": [
    "import matplotlib.pyplot as plt\n",
    "\n",
    "plt.scatter(x,y,color='black')\n",
    "plt.plot(x,slregressor.predict(x.reshape(-1,1)))\n",
    "plt.xlabel(\"Years of Experience\")\n",
    "plt.ylabel(\"Salary\")\n",
    "plt.title(\"Expected Salary based on years of experience\")"
   ]
  },
  {
   "cell_type": "markdown",
   "metadata": {
    "pycharm": {
     "name": "#%% md\n"
    }
   },
   "source": [
    "This was simple enough and we can see the overall graph that was fitted. But we won't always have just one independent variable and will need to look at an example with more independents.\n",
    "\n",
    "## Multiple Linear Regression\n",
    "\n",
    "This method is very similar to the simple Linear Regression where we are fitting a straight line to the data however the big difference is the number of independent variables that we have in the model to predict the data, so the function now looks like this:\n",
    "\n",
    " - $Y=b_0 + b_1 x_1 + b_2 x_2 + ... + b_n x_n$\n",
    " \n",
    " In our example for Multiple linear regression we will be predicting the profit of a company based on R & D Spend, Administration, Marketing Spend and the state.\n",
    " \n",
    " We will need to do a bit of data clean up as we can't insert text into the model for prediction (So will need to create dummy variables.\n",
    " "
   ]
  },
  {
   "cell_type": "code",
   "execution_count": 6,
   "metadata": {
    "pycharm": {
     "name": "#%%capture\n"
    }
   },
   "outputs": [],
   "source": [
    "dataset=pd.read_csv('data\\\\50_Startups.csv')\n",
    "\n",
    "y = dataset.iloc[:,4]\n",
    "x = dataset.iloc[:,:3]\n",
    "x_dummy = pd.get_dummies(dataset.iloc[:,3])\n",
    "x = x.join(x_dummy.iloc[:,:-1],how='right')"
   ]
  },
  {
   "cell_type": "markdown",
   "metadata": {
    "pycharm": {
     "name": "#%% md\n"
    }
   },
   "source": [
    "Now we have a new function that we can use, **get_dummies** from **pandas**, this will take any text columns and create the dummy variables from the text. We must also just remember to remove one of the dummies as we run the model with $n-1$ dummies if they are exclusive.\n",
    "\n",
    "Let's now fit the model, we will be using the same created instance as the simple linear regression:"
   ]
  },
  {
   "cell_type": "code",
   "execution_count": 7,
   "metadata": {
    "pycharm": {
     "name": "#%%\n"
    }
   },
   "outputs": [
    {
     "name": "stdout",
     "output_type": "stream",
     "text": [
      "Intercept: 50083.45681250342\n",
      "Coefficients: [ 8.06023114e-01 -2.70043196e-02  2.69798610e-02  4.18870191e+01\n",
      "  2.40675812e+02]\n"
     ]
    }
   ],
   "source": [
    "slregressor.fit(x,y)\n",
    "\n",
    "print('Intercept: ' +str(slregressor.intercept_))\n",
    "print('Coefficients: '+str(slregressor.coef_))"
   ]
  },
  {
   "cell_type": "markdown",
   "metadata": {
    "pycharm": {
     "name": "#%% md\n"
    }
   },
   "source": [
    "The only problem with this is we can't use a forward or backward method to see which variables to include or exclude as we don't have the p-values.\n",
    "\n",
    "So we will now have a look at a different library (Which was mentioned earlier that will show us a lot more information).\n",
    "\n",
    "This model also does not automatically include an intercept so we need to add one in manually."
   ]
  },
  {
   "cell_type": "code",
   "execution_count": 8,
   "metadata": {
    "pycharm": {
     "name": "#%%\n"
    }
   },
   "outputs": [
    {
     "data": {
      "text/plain": "<class 'statsmodels.iolib.summary.Summary'>\n\"\"\"\n                            OLS Regression Results                            \n==============================================================================\nDep. Variable:                 Profit   R-squared:                       0.951\nModel:                            OLS   Adj. R-squared:                  0.945\nMethod:                 Least Squares   F-statistic:                     169.9\nDate:                Sat, 08 Aug 2020   Prob (F-statistic):           1.34e-27\nTime:                        21:47:00   Log-Likelihood:                -525.38\nNo. Observations:                  50   AIC:                             1063.\nDf Residuals:                      44   BIC:                             1074.\nDf Model:                           5                                         \nCovariance Type:            nonrobust                                         \n===================================================================================\n                      coef    std err          t      P>|t|      [0.025      0.975]\n-----------------------------------------------------------------------------------\nconst            5.008e+04   6952.587      7.204      0.000    3.61e+04    6.41e+04\nR&D Spend           0.8060      0.046     17.369      0.000       0.712       0.900\nAdministration     -0.0270      0.052     -0.517      0.608      -0.132       0.078\nMarketing Spend     0.0270      0.017      1.574      0.123      -0.008       0.062\nCalifornia         41.8870   3256.039      0.013      0.990   -6520.229    6604.003\nFlorida           240.6758   3338.857      0.072      0.943   -6488.349    6969.701\n==============================================================================\nOmnibus:                       14.782   Durbin-Watson:                   1.283\nProb(Omnibus):                  0.001   Jarque-Bera (JB):               21.266\nSkew:                          -0.948   Prob(JB):                     2.41e-05\nKurtosis:                       5.572   Cond. No.                     1.47e+06\n==============================================================================\n\nWarnings:\n[1] Standard Errors assume that the covariance matrix of the errors is correctly specified.\n[2] The condition number is large, 1.47e+06. This might indicate that there are\nstrong multicollinearity or other numerical problems.\n\"\"\"",
      "text/html": "<table class=\"simpletable\">\n<caption>OLS Regression Results</caption>\n<tr>\n  <th>Dep. Variable:</th>         <td>Profit</td>      <th>  R-squared:         </th> <td>   0.951</td>\n</tr>\n<tr>\n  <th>Model:</th>                   <td>OLS</td>       <th>  Adj. R-squared:    </th> <td>   0.945</td>\n</tr>\n<tr>\n  <th>Method:</th>             <td>Least Squares</td>  <th>  F-statistic:       </th> <td>   169.9</td>\n</tr>\n<tr>\n  <th>Date:</th>             <td>Sat, 08 Aug 2020</td> <th>  Prob (F-statistic):</th> <td>1.34e-27</td>\n</tr>\n<tr>\n  <th>Time:</th>                 <td>21:47:00</td>     <th>  Log-Likelihood:    </th> <td> -525.38</td>\n</tr>\n<tr>\n  <th>No. Observations:</th>      <td>    50</td>      <th>  AIC:               </th> <td>   1063.</td>\n</tr>\n<tr>\n  <th>Df Residuals:</th>          <td>    44</td>      <th>  BIC:               </th> <td>   1074.</td>\n</tr>\n<tr>\n  <th>Df Model:</th>              <td>     5</td>      <th>                     </th>     <td> </td>   \n</tr>\n<tr>\n  <th>Covariance Type:</th>      <td>nonrobust</td>    <th>                     </th>     <td> </td>   \n</tr>\n</table>\n<table class=\"simpletable\">\n<tr>\n         <td></td>            <th>coef</th>     <th>std err</th>      <th>t</th>      <th>P>|t|</th>  <th>[0.025</th>    <th>0.975]</th>  \n</tr>\n<tr>\n  <th>const</th>           <td> 5.008e+04</td> <td> 6952.587</td> <td>    7.204</td> <td> 0.000</td> <td> 3.61e+04</td> <td> 6.41e+04</td>\n</tr>\n<tr>\n  <th>R&D Spend</th>       <td>    0.8060</td> <td>    0.046</td> <td>   17.369</td> <td> 0.000</td> <td>    0.712</td> <td>    0.900</td>\n</tr>\n<tr>\n  <th>Administration</th>  <td>   -0.0270</td> <td>    0.052</td> <td>   -0.517</td> <td> 0.608</td> <td>   -0.132</td> <td>    0.078</td>\n</tr>\n<tr>\n  <th>Marketing Spend</th> <td>    0.0270</td> <td>    0.017</td> <td>    1.574</td> <td> 0.123</td> <td>   -0.008</td> <td>    0.062</td>\n</tr>\n<tr>\n  <th>California</th>      <td>   41.8870</td> <td> 3256.039</td> <td>    0.013</td> <td> 0.990</td> <td>-6520.229</td> <td> 6604.003</td>\n</tr>\n<tr>\n  <th>Florida</th>         <td>  240.6758</td> <td> 3338.857</td> <td>    0.072</td> <td> 0.943</td> <td>-6488.349</td> <td> 6969.701</td>\n</tr>\n</table>\n<table class=\"simpletable\">\n<tr>\n  <th>Omnibus:</th>       <td>14.782</td> <th>  Durbin-Watson:     </th> <td>   1.283</td>\n</tr>\n<tr>\n  <th>Prob(Omnibus):</th> <td> 0.001</td> <th>  Jarque-Bera (JB):  </th> <td>  21.266</td>\n</tr>\n<tr>\n  <th>Skew:</th>          <td>-0.948</td> <th>  Prob(JB):          </th> <td>2.41e-05</td>\n</tr>\n<tr>\n  <th>Kurtosis:</th>      <td> 5.572</td> <th>  Cond. No.          </th> <td>1.47e+06</td>\n</tr>\n</table><br/><br/>Warnings:<br/>[1] Standard Errors assume that the covariance matrix of the errors is correctly specified.<br/>[2] The condition number is large, 1.47e+06. This might indicate that there are<br/>strong multicollinearity or other numerical problems."
     },
     "execution_count": 8,
     "metadata": {},
     "output_type": "execute_result"
    }
   ],
   "source": [
    "import statsmodels.api as sm\n",
    "\n",
    "x=sm.add_constant(x)  \n",
    "reg2 = sm.OLS(endog=y,exog=x)\n",
    "\n",
    "reg2.fit().summary()\n",
    "\n"
   ]
  },
  {
   "cell_type": "markdown",
   "metadata": {
    "pycharm": {
     "name": "#%% md\n"
    }
   },
   "source": [
    "Now this look more like the variables we are used to to with all of the measures and the P-values for the coefficients to make decisions around which of the variables should be included and removed.\n",
    "\n",
    "We also see that there are some warning that have been brought to our attention including a Multicollinearity warning, Let's see how we can run a Vif score to check for Multicollinearity:"
   ]
  },
  {
   "cell_type": "code",
   "execution_count": 9,
   "metadata": {
    "pycharm": {
     "name": "#%% \n"
    }
   },
   "outputs": [
    {
     "data": {
      "text/plain": "          Features        VIF\n0            const  27.126379\n1        R&D Spend   2.495511\n2   Administration   1.177766\n3  Marketing Spend   2.416797\n4       California   1.335061\n5          Florida   1.361299",
      "text/html": "<div>\n<style scoped>\n    .dataframe tbody tr th:only-of-type {\n        vertical-align: middle;\n    }\n\n    .dataframe tbody tr th {\n        vertical-align: top;\n    }\n\n    .dataframe thead th {\n        text-align: right;\n    }\n</style>\n<table border=\"1\" class=\"dataframe\">\n  <thead>\n    <tr style=\"text-align: right;\">\n      <th></th>\n      <th>Features</th>\n      <th>VIF</th>\n    </tr>\n  </thead>\n  <tbody>\n    <tr>\n      <th>0</th>\n      <td>const</td>\n      <td>27.126379</td>\n    </tr>\n    <tr>\n      <th>1</th>\n      <td>R&amp;D Spend</td>\n      <td>2.495511</td>\n    </tr>\n    <tr>\n      <th>2</th>\n      <td>Administration</td>\n      <td>1.177766</td>\n    </tr>\n    <tr>\n      <th>3</th>\n      <td>Marketing Spend</td>\n      <td>2.416797</td>\n    </tr>\n    <tr>\n      <th>4</th>\n      <td>California</td>\n      <td>1.335061</td>\n    </tr>\n    <tr>\n      <th>5</th>\n      <td>Florida</td>\n      <td>1.361299</td>\n    </tr>\n  </tbody>\n</table>\n</div>"
     },
     "execution_count": 9,
     "metadata": {},
     "output_type": "execute_result"
    }
   ],
   "source": [
    "from statsmodels.stats.outliers_influence import variance_inflation_factor\n",
    "VIF = pd.DataFrame()\n",
    "VIF['Features']=x.columns\n",
    "VIF['VIF']  = [variance_inflation_factor(exog=x.values,exog_idx=i) for i in range(x.shape[1])]\n",
    "VIF\n"
   ]
  },
  {
   "cell_type": "markdown",
   "metadata": {
    "pycharm": {
     "name": "#%% md\n"
    }
   },
   "source": [
    "\n",
    "From this point we can keep rerunning the models until we have removed all of the variables that are not significant in the overall model and if there is multicollinearity in the model we can control for it.\n",
    "\n",
    "## Gradient Descent\n",
    "\n",
    "If we are needing to fit a Linear Regression model but have a large number of features or instances to fit in the memory we can use *Gradient Descent* rather than a standard Linear Regression model.\n",
    "\n",
    "*Gradient Descent* is a generic optimization algorithm capable of finding optimal solutions to a wide variety of problems with the general idea to tweak parameters\n",
    "iteratively in order to minimize the cost function.\n",
    "\n",
    "The general idea behind the algorithm is to tweak the Hyper Parameters iteratively until the cost function has reached a minimum. In order to do this\n",
    "*GD* measures the gradient of the local error term and estimates towards the lower point. The starting point is random values which are then changed\n",
    "to reach the minimum.\n",
    "\n",
    "One of the Key variables in *GD* is the size of the steps (Determined by the learning rate Hyperparameter). If this value is\n",
    "too small then the algorithm will have to go through a large number of iterations before Convergene is reached, if the value\n",
    "is too high then the algorithm may jump of the low point and even higher then currently and cause Divergence.\n",
    "\n",
    "Not all of our cost functions will have a single Global minimum but could also have some local minimums, while this does not seem to be a major problem\n",
    "we need to consider the case where we start our random value on one of the sides of a local minimum, so it will reach the local\n",
    "minimum, it may consider this as converged where there is actually values that would produce a smaller value for the cost function.\n",
    "\n",
    "With Linear models the MSE cost function is a convex function with no abrupt changes to the slope, meaning that there will\n",
    "only be one minimum so this algorithm is ideal for this model.\n",
    "\n",
    "As the learning rate is a key Hyperparameter to this algorithm, we can find the optimal point by using a Grid Search.\n",
    "\n",
    "### Batch Gradient Descent\n",
    "\n",
    "To implement Gradient Descent the gradient of the cost function needs to be calculated with regard\n",
    "to each model parameter (Partial Derivative). Once these gradients have been calculated the algorithm uses\n",
    "the learning rate and the gradient to determine the next step in the process.\n",
    "\n",
    "With *Batch Gradient Descent* you use the full data to compute the Gradients at every step which could cause\n",
    "a longer estimation time with larger training sets.\n",
    "\n",
    "### Stochastic Gradient Descent\n",
    "\n",
    "At the opposite end of Gradient Descent algorithm is Stochastic Gradient Descent. This method picks a random instance\n",
    "in the training set at every step and computes gradients based on the single instances. As we only\n",
    "work with single instances the training time is reduces as we are only dealing with only one instance.\n",
    "\n",
    "The other advantage of working with one instance at a time is offers a lot more capabilities in terms of working\n",
    "with larger data sets as this is a lower memory requirement.\n",
    "\n",
    "Due to the Stochastic (Random) nature of this algorithm the cost function will fluctuate more rather than decreasing over iterations.\n",
    "OVer time it will end up really close to the minimum and even if it finds the Global minimum for the cost function\n",
    "it could still increase due to the Random nature. This means that the final values we obtain will be good,\n",
    "just not necessarily the optimal values.\n",
    "\n",
    "When the cost function is very irregular,this can help the algorithm jump out of a local minimum\n",
    "and a better chance to find the global minimum than *Batch Gradient Descent*.\n",
    "\n",
    "One solution to the big jumps is to gradually reduce the learning rate when running. The function that uses\n",
    "the learning rate at every iteration is called the *learning schedule*.\n",
    "\n",
    "By Convention of the Algorithm it is iterated by rounds of m iterations, with each round called and\n",
    "*Epoch*.\n",
    "\n",
    "When using *Stochastic Gradient Descent* the requirement is the training instances must be independently and\n",
    "identically distributed, one way to do this is to shuffle the instances during training.\n",
    "\n",
    "Implementation using **SKLearn**:"
   ]
  },
  {
   "cell_type": "code",
   "execution_count": 10,
   "outputs": [
    {
     "data": {
      "text/plain": "<Figure size 432x288 with 1 Axes>",
      "image/png": "[encoded data removed]"
     },
     "metadata": {
      "needs_background": "light"
     },
     "output_type": "display_data"
    }
   ],
   "source": [
    "import numpy as np\n",
    "import matplotlib.pyplot as plt\n",
    "x_rand = np.random.rand(100,1)*3\n",
    "y_rand = 5 +1.5* x_rand + np.random.rand(100,1)\n",
    "plt.scatter(x_rand,y_rand)\n",
    "plt.xlabel('x')\n",
    "plt.ylabel('y')\n",
    "plt.show()"
   ],
   "metadata": {
    "collapsed": false,
    "pycharm": {
     "name": "#%%\n"
    }
   }
  },
  {
   "cell_type": "code",
   "execution_count": 11,
   "outputs": [
    {
     "name": "stderr",
     "output_type": "stream",
     "text": [
      "c:\\users\\poisson\\appdata\\local\\programs\\python\\python38-32\\lib\\site-packages\\sklearn\\utils\\validation.py:760: DataConversionWarning: A column-vector y was passed when a 1d array was expected. Please change the shape of y to (n_samples, ), for example using ravel().\n",
      "  y = column_or_1d(y, warn=True)\n"
     ]
    },
    {
     "data": {
      "text/plain": "(array([5.46009693]), array([1.48908572]))"
     },
     "execution_count": 11,
     "metadata": {},
     "output_type": "execute_result"
    }
   ],
   "source": [
    "from sklearn.linear_model import SGDRegressor\n",
    "\n",
    "x.drop(['const'],axis=1,inplace =True)\n",
    "sgd_reg = SGDRegressor(penalty='none',max_iter=1000,tol=1e-3,eta0=0.1)\n",
    "sgd_reg.fit(x_rand,y_rand)\n",
    "\n",
    "sgd_reg.intercept_,sgd_reg.coef_"
   ],
   "metadata": {
    "collapsed": false,
    "pycharm": {
     "name": "#%%\n"
    }
   }
  },
  {
   "cell_type": "code",
   "execution_count": 12,
   "outputs": [
    {
     "data": {
      "text/plain": "(array([5.47179496]), array([[1.50581509]]))"
     },
     "execution_count": 12,
     "metadata": {},
     "output_type": "execute_result"
    }
   ],
   "source": [
    "from sklearn.linear_model import LinearRegression\n",
    "\n",
    "ols = LinearRegression()\n",
    "ols.fit(x_rand,y_rand)\n",
    "ols.intercept_,ols.coef_"
   ],
   "metadata": {
    "collapsed": false,
    "pycharm": {
     "name": "#%%\n"
    }
   }
  },
  {
   "cell_type": "markdown",
   "source": [
    "As we can see from the results above the results are very similar between the *OLS* and *SGD* solutions.\n",
    "\n",
    "### Mini Batch Gradient Descent\n",
    "\n",
    "This is the final Gradient Descent and easy to understand with the understanding of Stocastic and Batch methods. at every\n",
    "step the algorithm computes the gradients on a random set of the instances rather than the full set or a single instance.\n",
    "\n",
    "The main advantage of Mini Batch versus Stochastic is the performance boost from the hardware operations especially when training using GPU's.\n",
    "\n",
    "There are a few Hyperparameters in the **SKLearn** implemention of the algortihm:\n",
    " * tol - this is the cut off point for the Cost function to flag completion.\n",
    " * eta - this is the learning rate\n",
    " * penalty - this is the level of regularization, at this point it has none.\n",
    " * max_iter - the maximum number of Epochs\n",
    "\n",
    "## Polynomial regression\n",
    "\n",
    "This is a non linear model but the regression formula is still additive so we can use OLS on this model. \n",
    "\n",
    "For this technique and the future techniques we will be using the same data which is the prediction of salary based on a person's level in the business. \n",
    "\n",
    "Let's consider the data and see the type of function that can be fitted:"
   ],
   "metadata": {
    "collapsed": false,
    "pycharm": {
     "name": "#%% md\n"
    }
   }
  },
  {
   "cell_type": "code",
   "execution_count": 13,
   "metadata": {
    "pycharm": {
     "name": "#%%\n"
    }
   },
   "outputs": [
    {
     "data": {
      "text/plain": "<Figure size 432x288 with 1 Axes>",
      "image/png": "[encoded data removed]"
     },
     "metadata": {
      "needs_background": "light"
     },
     "output_type": "display_data"
    }
   ],
   "source": [
    "dataset = pd.read_csv('data\\Position_Salaries.csv')\n",
    "plt.scatter(dataset.loc[:,'Level'],dataset.loc[:,'Salary'])\n",
    "plt.xlabel(\"Level\")\n",
    "plt.ylabel(\"Salary\")\n",
    "plt.title(\"Salary against the position level\")\n",
    "plt.show()"
   ]
  },
  {
   "cell_type": "markdown",
   "metadata": {
    "pycharm": {
     "name": "#%% md\n"
    }
   },
   "source": [
    "As we can see the data does not have a linear relationship so we need to use a different prediction method for it.\n",
    "\n",
    "For Polynomial Regression we are fitting polynomials to the data based on a certain degree. So degree 2 we are fitting the following:\n",
    "\n",
    "$Y = b_0 + b_1 x_1 + b_2 x_1^2$\n",
    "\n",
    "This is done via a transformation to our original independent variable:"
   ]
  },
  {
   "cell_type": "code",
   "execution_count": 14,
   "metadata": {
    "pycharm": {
     "name": "#%%\n"
    }
   },
   "outputs": [
    {
     "data": {
      "text/plain": "<Figure size 432x288 with 1 Axes>",
      "image/png": "[encoded data removed]"
     },
     "metadata": {
      "needs_background": "light"
     },
     "output_type": "display_data"
    }
   ],
   "source": [
    "y = dataset.loc[:,'Salary'].values\n",
    "x = dataset.loc[:,'Level'].values\n",
    "from sklearn.preprocessing import PolynomialFeatures\n",
    "poly_reg = PolynomialFeatures(degree=3)\n",
    "\n",
    "x_poly = poly_reg.fit_transform(x.reshape(-1,1))\n",
    "pd.DataFrame(x_poly)\n",
    "\n",
    "slregressor.fit(x_poly,y)\n",
    "\n",
    "plt.plot(x,slregressor.predict(x_poly))\n",
    "plt.xlabel(\"Level\")\n",
    "plt.ylabel(\"Salary\")\n",
    "plt.title(\"Salary against the position level\")\n",
    "plt.scatter(x,y,c='black')\n",
    "plt.show()"
   ]
  },
  {
   "cell_type": "markdown",
   "metadata": {
    "pycharm": {
     "name": "#%% md\n"
    }
   },
   "source": [
    "As we can see the shape of the fitted line is now closer to the overall fit of the data, we can possibly get this line closer to the data by increasing the degree (But we are just showing the overall shape of the model for this example).\n",
    "\n",
    "Since we are fitting a model with a degree of 3 the formula looks like the following:\n",
    "\n",
    "$Y = b_0 + b_1 x_1 + b_2 x_1^2 + b_3 x_1^3$ \n",
    "\n",
    "Now let's say we want to do a single prediction for this model - we will need to transform the variable in the input:"
   ]
  },
  {
   "cell_type": "code",
   "execution_count": 15,
   "metadata": {
    "pycharm": {
     "name": "#%%\n"
    }
   },
   "outputs": [
    {
     "name": "stdout",
     "output_type": "stream",
     "text": [
      "Salary for level 6 of the job:104820.51\n"
     ]
    }
   ],
   "source": [
    "prediction = slregressor.predict(poly_reg.fit_transform([[6]]))\n",
    "print(\"Salary for level 6 of the job:\" + str(round(prediction[0],2)))\n"
   ]
  },
  {
   "cell_type": "markdown",
   "metadata": {
    "pycharm": {
     "name": "#%% md\n"
    }
   },
   "source": [
    "It is key to remember when working with the **PolynomialFeatures** transformation that it will do all of the interaction effects and not just a single effect at a time. For instance:\n",
    "\n",
    "if the model is $a + b$ the **PolynomialFeatures** will not only create $a^2$, $a^3$,$b^2$ and $b^3$ but also\n",
    "$ab$,$a^2b$ and $ab^2$\n",
    "\n",
    "## Regularized Linear Models\n",
    "\n",
    "As mentioned in the Machine Learning Theory a good way to reduce overfitting is by regularisizng the model (include constraints).\n",
    "The fewer the degrees of freedom it has, the harder it will be for it to overfit the data.\n",
    "\n",
    "A simple way to think about this method is looking at a polynomial model. If we include enough polynomial terms the model will be able to overfit the data, however we\n",
    "can regularize the model by decreasing the number of polynomial terms that the model is predicting.\n",
    "\n",
    "For a linear model, regularization is typically done through constraining the weights of the model. There are a few models that implements these constraints.\n",
    "\n",
    "### Ridge Regression\n",
    "\n",
    "This is a regularized version of Linear Regression, Which adds a penalty to the cost function of the Sum of the squared model Coefficients, this forces\n",
    "the model to fit the data and keep the weights as low as possible as any increases to the coefficients will increase the cost function.\n",
    "\n",
    "it is important to remember that the Regularization term is only applied to the training data and not the test data\n",
    "\n",
    "The hyperparameter $\\alpha$ controls how much the model is going to be regularized, if this value is 0 then the Ridge Regression is just a Linear regression, while a very large\n",
    "value will cause the coefficients to be close to 0.\n",
    "\n",
    "Before running a ridge regression we need to ensure that the data is Standardized using the **StandardScaler**\n",
    "\n",
    "This can be done through **SKLearn** using the following code:"
   ]
  },
  {
   "cell_type": "code",
   "execution_count": 16,
   "outputs": [
    {
     "data": {
      "text/plain": "(array([5.49781211]), array([[1.48975572]]))"
     },
     "execution_count": 16,
     "metadata": {},
     "output_type": "execute_result"
    }
   ],
   "source": [
    "from sklearn.linear_model import Ridge\n",
    "from sklearn.preprocessing import StandardScaler\n",
    "\n",
    "ridge_reg = Ridge(alpha=1,solver=\"cholesky\")\n",
    "ridge_reg.fit(x_rand.reshape(-1,1),y_rand.reshape(-1,1))\n",
    "\n",
    "ridge_reg.intercept_,ridge_reg.coef_"
   ],
   "metadata": {
    "collapsed": false,
    "pycharm": {
     "name": "#%%\n"
    }
   }
  },
  {
   "cell_type": "markdown",
   "source": [
    "This can also be done using the Stocastic Gradient Descent model, this is by chaning the penalty Hyperparameter to set it to l2. The reason we\n",
    "do this is the penalty of the coeificients is equal to $\\frac{1}{2}$. This can be done in *SKlearn* as below:"
   ],
   "metadata": {
    "collapsed": false,
    "pycharm": {
     "name": "#%% md\n"
    }
   }
  },
  {
   "cell_type": "code",
   "execution_count": 29,
   "outputs": [
    {
     "name": "stderr",
     "output_type": "stream",
     "text": [
      "c:\\users\\poisson\\appdata\\local\\programs\\python\\python38-32\\lib\\site-packages\\sklearn\\utils\\validation.py:760: DataConversionWarning: A column-vector y was passed when a 1d array was expected. Please change the shape of y to (n_samples, ), for example using ravel().\n",
      "  y = column_or_1d(y, warn=True)\n"
     ]
    },
    {
     "data": {
      "text/plain": "(array([5.11964837]), array([1.67777262]))"
     },
     "execution_count": 29,
     "metadata": {},
     "output_type": "execute_result"
    }
   ],
   "source": [
    "sgd_reg = SGDRegressor(penalty=\"l2\")\n",
    "sgd_reg.fit(x_rand,y_rand)\n",
    "sgd_reg.intercept_,sgd_reg.coef_"
   ],
   "metadata": {
    "collapsed": false,
    "pycharm": {
     "name": "#%%\n"
    }
   }
  },
  {
   "cell_type": "markdown",
   "source": [
    "### Lasso Regression\n",
    "\n",
    "Also know as Least Absolute Shinkage and Selection Operator Regression is another regularization version of Linear Regression.\n",
    "\n",
    "Just like **Ridge Regression** it adds a regularization term to the cost function but the main difference between the two is Lasso Regression\n",
    "adds a $l_1$ norm of the weight or the summation of $\\frac{1}{1}$.\n",
    "\n",
    "One of the key characteristics of Lasso Regression is it tends to eliminate the weights of the least important features (by setting them to zero).\n",
    "This means that Lasso Regression does automatic feature selection and outputs a sparse model.\n",
    "\n",
    "Finally this again can be run in **SKlearn** for both Linear and SGD Regression:"
   ],
   "metadata": {
    "collapsed": false,
    "pycharm": {
     "name": "#%% md\n"
    }
   }
  },
  {
   "cell_type": "code",
   "execution_count": null,
   "outputs": [],
   "source": [
    "from sklearn.linear_model import Lasso\n",
    "lasso_reg = Lasso(alpha=0.1)\n",
    "lasso_reg.fit(x_rand,y_rand)\n",
    "lasso_reg.intercept_,lasso_reg.coef_"
   ],
   "metadata": {
    "collapsed": false,
    "pycharm": {
     "name": "#%%\n"
    }
   }
  },
  {
   "cell_type": "code",
   "execution_count": null,
   "outputs": [],
   "source": [
    "sgd_reg = SGDRegressor(penalty=\"l1\")\n",
    "sgd_reg.fit(x_rand,y_rand)\n",
    "sgd_reg.intercept_,sgd_reg.coef_"
   ],
   "metadata": {
    "collapsed": false,
    "pycharm": {
     "name": "#%%\n"
    }
   }
  },
  {
   "cell_type": "markdown",
   "source": [
    "The Alpha term is the weighting applied to the penalty.\n",
    "\n",
    "### Elastic Net\n",
    "\n",
    "Elastic Net is the middle ground between Ridge and Lasso Regression. The regularization\n",
    "term is a simple mix of both Ridge and Lasso's regularization terms and we have control\n",
    "of the mix ratio using an r value. When r = 0 it is equivalent to a Ridge Regression while\n",
    "an r value of 1 will be equivalent to a Lasso regression.\n",
    "\n",
    "This again can be called in ***SKlearn**:"
   ],
   "metadata": {
    "collapsed": false,
    "pycharm": {
     "name": "#%% md\n"
    }
   }
  },
  {
   "cell_type": "code",
   "execution_count": null,
   "outputs": [],
   "source": [
    "from sklearn.linear_model import ElasticNet\n",
    "\n",
    "el_reg = ElasticNet(l1_ratio=0.5,alpha=0.1)\n",
    "el_reg.fit(x_rand,y_rand)\n",
    "\n",
    "el_reg.intercept_,el_reg.coef_\n"
   ],
   "metadata": {
    "collapsed": false,
    "pycharm": {
     "name": "#%%\n"
    }
   }
  },
  {
   "cell_type": "markdown",
   "source": [
    "With the code above we use the l1 ratio to determine the ration between the two regularization\n",
    "terms.\n",
    "\n",
    "### Usage\n",
    "\n",
    "The key question is when should plain Linear regression and regularized regression be used and\n",
    "the answer is slightly simple then we think, it is always preferable to have a slight regularizations\n",
    "and evaluate which regularization will fit best or if you would like a mix of the regularization terms\n",
    "\n",
    "### Early Stopping\n",
    "\n",
    "A very different approach to regularize iterative learning algorithms such as **Gradient Descent** is to stop\n",
    "training as soon as the validation error reaches a minimum.\n",
    "\n",
    "## SVR\n",
    "\n",
    "The next method we will be looking at is Support Vector Regression, this method will try to fit the best line to the data and predict the values.\n",
    "\n",
    "\n",
    "We will be using the same data set as Polynomial Regression.\n",
    "\n",
    "Since SVR looks at the distance some standardization / Feature scaling is required on the data."
   ],
   "metadata": {
    "collapsed": false,
    "pycharm": {
     "name": "#%% md\n"
    }
   }
  },
  {
   "cell_type": "code",
   "execution_count": 17,
   "metadata": {
    "pycharm": {
     "name": "#%%capture \n"
    }
   },
   "outputs": [],
   "source": [
    "from sklearn.preprocessing import StandardScaler\n",
    "sc_x = StandardScaler()\n",
    "sc_y = StandardScaler()\n",
    "\n",
    "x_trans = sc_x.fit_transform(x.reshape(-1,1))\n",
    "y_trans = sc_y.fit_transform(y.reshape(-1,1))\n"
   ]
  },
  {
   "cell_type": "markdown",
   "metadata": {
    "pycharm": {
     "name": "#%% md\n"
    }
   },
   "source": [
    "now let's run the model:"
   ]
  },
  {
   "cell_type": "code",
   "execution_count": 18,
   "metadata": {
    "pycharm": {
     "name": "#%%\n"
    }
   },
   "outputs": [
    {
     "name": "stderr",
     "output_type": "stream",
     "text": [
      "c:\\users\\poisson\\appdata\\local\\programs\\python\\python38-32\\lib\\site-packages\\sklearn\\utils\\validation.py:760: DataConversionWarning: A column-vector y was passed when a 1d array was expected. Please change the shape of y to (n_samples, ), for example using ravel().\n",
      "  y = column_or_1d(y, warn=True)\n"
     ]
    },
    {
     "data": {
      "text/plain": "Text(0.5, 1.0, 'Salary against Position in Business')"
     },
     "execution_count": 18,
     "metadata": {},
     "output_type": "execute_result"
    },
    {
     "data": {
      "text/plain": "<Figure size 432x288 with 1 Axes>",
      "image/png": "[encoded data removed]"
     },
     "metadata": {
      "needs_background": "light"
     },
     "output_type": "display_data"
    }
   ],
   "source": [
    "from sklearn.svm import SVR\n",
    "\n",
    "svr_regressor = SVR(kernel='rbf')\n",
    "\n",
    "svr_regressor.fit(x_trans,y_trans)\n",
    "\n",
    "prediction = svr_regressor.predict(x_trans)\n",
    "prediction = sc_y.inverse_transform(prediction)\n",
    "plt.scatter(x,y,c='black')\n",
    "plt.plot(x,prediction,c='b')\n",
    "plt.xlabel('Position in the business')\n",
    "plt.ylabel('Salary')\n",
    "plt.title('Salary against Position in Business')"
   ]
  },
  {
   "cell_type": "markdown",
   "metadata": {
    "pycharm": {
     "name": "#%% md\n"
    }
   },
   "source": [
    "We have now fitted the model and re-transformed the output for the Y value to plot the predicted values. We can see that the final point does not seem to have been picked up in the prediction.\n",
    "\n",
    "## Regression Tree\n",
    "\n",
    "This forms part of CART - Classification and Regression Trees. it is a method that will fit a tree based model to the data to predict the values as best as possible.\n",
    "\n",
    "Using the same Salary and level data as before let's fit the regression model:"
   ]
  },
  {
   "cell_type": "code",
   "execution_count": 19,
   "metadata": {
    "pycharm": {
     "name": "#%%\n"
    }
   },
   "outputs": [
    {
     "data": {
      "text/plain": "<Figure size 432x288 with 1 Axes>",
      "image/png": "[encoded data removed]"
     },
     "metadata": {
      "needs_background": "light"
     },
     "output_type": "display_data"
    }
   ],
   "source": [
    "from sklearn.tree import DecisionTreeRegressor\n",
    "tree_reg = DecisionTreeRegressor()\n",
    "tree_reg.fit(x.reshape(-1,1),y.reshape(-1,1))\n",
    "prediction = tree_reg.predict(x.reshape(-1,1))\n",
    "\n",
    "plt.scatter(x,y,c='black')\n",
    "plt.plot (x,prediction)\n",
    "plt.xlabel('Position in the business')\n",
    "plt.ylabel('Salary')\n",
    "plt.title('Salary against Position in Business')\n",
    "plt.show()"
   ]
  },
  {
   "cell_type": "markdown",
   "metadata": {
    "pycharm": {
     "name": "#%% md\n"
    }
   },
   "source": [
    "The model is fitting well but this is probably not a good thing as it is too close to the original data we may need to check this by plotting against all the points."
   ]
  },
  {
   "cell_type": "code",
   "execution_count": 20,
   "metadata": {
    "pycharm": {
     "name": "#%%\n"
    }
   },
   "outputs": [
    {
     "data": {
      "text/plain": "<Figure size 432x288 with 1 Axes>",
      "image/png": "[encoded data removed]"
     },
     "metadata": {
      "needs_background": "light"
     },
     "output_type": "display_data"
    }
   ],
   "source": [
    "import numpy as np\n",
    "x_range = np.arange(min(x),max(x),0.1)\n",
    "\n",
    "plt.scatter(x,y,c='black',label ='Original')\n",
    "plt.plot (x_range,tree_reg.predict(x_range.reshape(-1,1)),label='Fitted with details')\n",
    "plt.plot(x,prediction,c='red',label='fitted')\n",
    "plt.xlabel('Position in the business')\n",
    "plt.ylabel('Salary')\n",
    "plt.title('Salary against Position in Business')\n",
    "plt.legend()\n",
    "plt.show()"
   ]
  },
  {
   "cell_type": "markdown",
   "metadata": {
    "pycharm": {
     "name": "#%% md\n"
    }
   },
   "source": [
    "As we can see the data is fitting exactly to the points so we should use caution with this model (But we also only have ten data points and one per level (it may be better to have more data points per level to improve this situation).\n",
    "\n",
    "In the mean time lets look at a way to visualize the tree model:"
   ]
  },
  {
   "cell_type": "code",
   "execution_count": 21,
   "metadata": {
    "pycharm": {
     "name": "#%%\n"
    }
   },
   "outputs": [
    {
     "data": {
      "text/plain": "<Figure size 1080x1080 with 1 Axes>",
      "image/png": "[encoded data removed]"
     },
     "metadata": {
      "needs_background": "light"
     },
     "output_type": "display_data"
    }
   ],
   "source": [
    "from sklearn.tree import plot_tree\n",
    "plt.figure(figsize=(15,15))\n",
    "plot_tree(tree_reg,feature_names=['Job Level'])\n",
    "plt.show()"
   ]
  },
  {
   "cell_type": "markdown",
   "metadata": {
    "pycharm": {
     "name": "#%% md\n"
    }
   },
   "source": [
    "## Random Forest\n",
    "\n",
    "The final Regression method we will look at is the Random Forest Method, this is an ensemble method that relies on Multiple decision trees to determine a final predictive model.\n",
    "\n",
    "\n",
    "Again we will use the same dataset as before when fitting this model."
   ]
  },
  {
   "cell_type": "code",
   "execution_count": 22,
   "metadata": {
    "pycharm": {
     "name": "#%%\n"
    }
   },
   "outputs": [
    {
     "data": {
      "text/plain": "<Figure size 432x288 with 1 Axes>",
      "image/png": "[encoded data removed]"
     },
     "metadata": {
      "needs_background": "light"
     },
     "output_type": "display_data"
    }
   ],
   "source": [
    "from sklearn.ensemble import RandomForestRegressor\n",
    "\n",
    "rf_reg = RandomForestRegressor()\n",
    "rf_reg.fit(x.reshape(-1,1),y)\n",
    "prediction = rf_reg.predict(x.reshape(-1,1))\n",
    "plt.scatter(x,y,c='black',label ='Original')\n",
    "plt.plot (x_range,rf_reg.predict(x_range.reshape(-1,1)),label='Fitted with details')\n",
    "plt.plot(x,prediction,c='red',label='fitted')\n",
    "plt.xlabel('Position in the business')\n",
    "plt.ylabel('Salary')\n",
    "plt.title('Salary against Position in Business')\n",
    "plt.legend()\n",
    "plt.show()"
   ]
  },
  {
   "cell_type": "markdown",
   "source": [
    "# Evaluation Metrics\n",
    "\n",
    "## $R^2$\n",
    "\n",
    "This score measures how well the independent Variables explain the dependent variable.\n",
    "\n",
    "it can be calculated using the following code:"
   ],
   "metadata": {
    "collapsed": false,
    "pycharm": {
     "name": "#%% md\n"
    }
   }
  },
  {
   "cell_type": "code",
   "execution_count": 23,
   "outputs": [
    {
     "data": {
      "text/plain": "0.9447214744195704"
     },
     "execution_count": 23,
     "metadata": {},
     "output_type": "execute_result"
    }
   ],
   "source": [
    "from sklearn.metrics import r2_score\n",
    "\n",
    "r2_score(y,prediction)"
   ],
   "metadata": {
    "collapsed": false,
    "pycharm": {
     "name": "#%%\n"
    }
   }
  },
  {
   "cell_type": "markdown",
   "source": [
    "Since the value is between 0 and 1 we can see this model shows a good fit but we should always use caution for models that over-fit.\n",
    "\n",
    "## Mean Square Error (MSE)\n",
    "\n",
    "This is a cost function metric that measures the average of the squares of the errors, this is a risk function corresponding to the expected value of the squared error loss.\n",
    "\n",
    "the following code can be used to calculate the metric:"
   ],
   "metadata": {
    "collapsed": false,
    "pycharm": {
     "name": "#%% md\n"
    }
   }
  },
  {
   "cell_type": "code",
   "execution_count": 24,
   "outputs": [
    {
     "data": {
      "text/plain": "4458890250.0"
     },
     "execution_count": 24,
     "metadata": {},
     "output_type": "execute_result"
    }
   ],
   "source": [
    "from sklearn.metrics import mean_squared_error\n",
    "\n",
    "mean_squared_error(y,prediction)"
   ],
   "metadata": {
    "collapsed": false,
    "pycharm": {
     "name": "#%%\n"
    }
   }
  },
  {
   "cell_type": "markdown",
   "source": [
    "This is a very big value but it is the average of the squared errors, this of course comes with the issue of overstating the outliers due to the squaring of their values.\n",
    "\n",
    "Instead there are a few other metrics that are used instead:\n",
    "\n",
    "## Mean Absolute error (MAE)\n",
    "\n",
    "Like the MSE this is the average of the errors except instead of squaring the errors to remove the negative terms we use the absolute value.\n",
    "\n",
    "This will take into account the outliers but will not put a higher weight on them:\n",
    "\n",
    "\n",
    "this can be calculated using the following:"
   ],
   "metadata": {
    "collapsed": false,
    "pycharm": {
     "name": "#%% md\n"
    }
   }
  },
  {
   "cell_type": "code",
   "execution_count": 25,
   "outputs": [
    {
     "data": {
      "text/plain": "4458890250.0"
     },
     "execution_count": 25,
     "metadata": {},
     "output_type": "execute_result"
    }
   ],
   "source": [
    "mean_squared_error(y,prediction)\n"
   ],
   "metadata": {
    "collapsed": false,
    "pycharm": {
     "name": "#%%\n"
    }
   }
  },
  {
   "cell_type": "markdown",
   "source": [
    "## Root Mean Squared Error (RMSE)\n",
    "\n",
    "This is a measure to determine the error rate for the prediction which places higher weight for larger errors.\n",
    "\n",
    "The implementation in sk-Learn we can calculate the Mean squared error and take the square root:"
   ],
   "metadata": {
    "collapsed": false,
    "pycharm": {
     "name": "#%% md\n"
    }
   }
  },
  {
   "cell_type": "code",
   "execution_count": 26,
   "outputs": [
    {
     "data": {
      "text/plain": "66774.92231369499"
     },
     "execution_count": 26,
     "metadata": {},
     "output_type": "execute_result"
    }
   ],
   "source": [
    "import math\n",
    "rmse = math.sqrt(mean_squared_error(y,prediction))\n",
    "\n",
    "rmse"
   ],
   "metadata": {
    "collapsed": false,
    "pycharm": {
     "name": "#%%\n"
    }
   }
  }
 ],
 "metadata": {
  "kernelspec": {
   "display_name": "Python 3",
   "language": "python",
   "name": "python3"
  },
  "language_info": {
   "codemirror_mode": {
    "name": "ipython",
    "version": 3
   },
   "file_extension": ".py",
   "mimetype": "text/x-python",
   "name": "python",
   "nbconvert_exporter": "python",
   "pygments_lexer": "ipython3",
   "version": "3.8.1"
  }
 },
 "nbformat": 4,
 "nbformat_minor": 1
}