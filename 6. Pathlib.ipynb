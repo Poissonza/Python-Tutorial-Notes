{
 "cells": [
  {
   "cell_type": "markdown",
   "source": [
    "# Pathlib\n",
    "\n",
    "## Index:\n",
    "\n",
    " 1. [Introduction](#Introduction)\n",
    " 2. [The Original Issue](#_The_Original_Issue)\n",
    " 3. [Creating Paths](#Creating_Paths)\n",
    " 4. [Reading and Writting Files](Reading_and_Writting_Files)\n",
    " 5. [Picking out Components of a Path](Picking_out_Components_of_a_Path)\n",
    " 6. [Moving and Deleting Files](Moving_and_Deleting_Files)"
   ],
   "metadata": {
    "collapsed": false,
    "pycharm": {
     "name": "#%% md\n"
    }
   }
  },
  {
   "cell_type": "markdown",
   "source": [
    "## Introduction"
   ],
   "metadata": {
    "collapsed": false,
    "pycharm": {
     "name": "#%% md\n"
    }
   }
  },
  {
   "cell_type": "markdown",
   "source": [
    "One of the main complexities with working with different operating systems is the diffences in the way they represent file structures.\n",
    "\n",
    "This is rectified by using different Libraries that handle the way that Python Addresses folders.\n",
    "\n",
    "One of these Libraries is Pathlib.\n"
   ],
   "metadata": {
    "collapsed": false,
    "pycharm": {
     "name": "#%% md\n"
    }
   }
  },
  {
   "cell_type": "markdown",
   "source": [
    "## The Original Issue"
   ],
   "metadata": {
    "collapsed": false,
    "pycharm": {
     "name": "#%% md\n"
    }
   }
  },
  {
   "cell_type": "markdown",
   "metadata": {
    "collapsed": true,
    "pycharm": {
     "name": "#%% md\n"
    }
   },
   "source": [
    "Traditionally Python used Strings to represent the file paths with support from the standard os.path library which has\n",
    "been adequate but a bit cumbersome due to paths not actually being Strings but rather more complex items and multiple\n",
    "libraries where released to handle all interactions with folders.\n",
    "\n",
    "With Paths represented by Strings it is possible but also a bad idea to apply string methods to the path variables (like String\n",
    "Splits) but should rather use some of the os methods to do certain functions like **os.path.join**.\n",
    "\n",
    "The pathlib library was released to handle these challenges. It's main purpose was to gather all of the avaliable methods and\n",
    "properties into one place"
   ]
  },
  {
   "cell_type": "markdown",
   "source": [
    "## Creating Paths"
   ],
   "metadata": {
    "collapsed": false,
    "pycharm": {
     "name": "#%% md\n"
    }
   }
  },
  {
   "cell_type": "markdown",
   "source": [
    "There a few ways to create a path using pathlib.\n",
    "\n",
    "Firstly there are a few Class methods such as  *.cwd()* (Current Working Directory) and *home()* (User's Home Directory)."
   ],
   "metadata": {
    "collapsed": false,
    "pycharm": {
     "name": "#%% md\n"
    }
   }
  },
  {
   "cell_type": "code",
   "execution_count": 22,
   "outputs": [
    {
     "data": {
      "text/plain": "PosixPath('/Users/adamborlase/Documents/Personal Repos/Python-Tutorial-Notes')"
     },
     "execution_count": 22,
     "metadata": {},
     "output_type": "execute_result"
    }
   ],
   "source": [
    "import pathlib\n",
    "\n",
    "pathlib.Path.cwd()"
   ],
   "metadata": {
    "collapsed": false,
    "pycharm": {
     "name": "#%%\n"
    }
   }
  },
  {
   "cell_type": "code",
   "execution_count": 23,
   "outputs": [
    {
     "data": {
      "text/plain": "PosixPath('/Users/adamborlase')"
     },
     "execution_count": 23,
     "metadata": {},
     "output_type": "execute_result"
    }
   ],
   "source": [
    "pathlib.Path.home()"
   ],
   "metadata": {
    "collapsed": false,
    "pycharm": {
     "name": "#%%\n"
    }
   }
  },
  {
   "cell_type": "markdown",
   "source": [
    "A Path can be explicitly created out of it's string Representation:"
   ],
   "metadata": {
    "collapsed": false,
    "pycharm": {
     "name": "#%% md\n"
    }
   }
  },
  {
   "cell_type": "code",
   "execution_count": 24,
   "outputs": [
    {
     "data": {
      "text/plain": "PosixPath('/Users/adamborlase/Documents/Personal Repos/Python-Tutorial-Notes')"
     },
     "execution_count": 24,
     "metadata": {},
     "output_type": "execute_result"
    }
   ],
   "source": [
    "pathlib.Path(r'/Users/adamborlase/Documents/Personal Repos/Python-Tutorial-Notes')"
   ],
   "metadata": {
    "collapsed": false,
    "pycharm": {
     "name": "#%%\n"
    }
   }
  },
  {
   "cell_type": "markdown",
   "source": [
    "Since Windows uses a backslash for their paths and a backslash is used for escape characters it can be useful to\n",
    "rather use **raw string literals** to represent windows paths. You can create raw string literals with placing a *r*\n",
    "at the start of the string.\n",
    "\n",
    "A third way to construct a path is to join the parts of the path together using the special */* operator. This operator is used\n",
    "independently of the actual path seperator on the platform."
   ],
   "metadata": {
    "collapsed": false,
    "pycharm": {
     "name": "#%% md\n"
    }
   }
  },
  {
   "cell_type": "code",
   "execution_count": 25,
   "outputs": [
    {
     "data": {
      "text/plain": "PosixPath('/Users/adamborlase/Documents/Personal Repos/Python-Tutorial-Notes')"
     },
     "execution_count": 25,
     "metadata": {},
     "output_type": "execute_result"
    }
   ],
   "source": [
    "pathlib.Path.home() / 'Documents' / 'Personal Repos' / 'Python-Tutorial-Notes'"
   ],
   "metadata": {
    "collapsed": false,
    "pycharm": {
     "name": "#%%\n"
    }
   }
  },
  {
   "cell_type": "markdown",
   "source": [
    "Notice that the examples show that the paths are PosixPath. This is due to the paths being addressed on a mac but will change\n",
    "depending on the operating system the script is run on.\n",
    "\n",
    "The */* operator can join several paths or mix paths and strings as long as there is at least one path object. If you do not like the path\n",
    "notation, the same thing can be done with the **.joinpath()**"
   ],
   "metadata": {
    "collapsed": false,
    "pycharm": {
     "name": "#%% md\n"
    }
   }
  },
  {
   "cell_type": "code",
   "execution_count": 26,
   "outputs": [
    {
     "data": {
      "text/plain": "PosixPath('/Users/adamborlase/Documents/Personal Repos/Python-Tutorial-Notes')"
     },
     "execution_count": 26,
     "metadata": {},
     "output_type": "execute_result"
    }
   ],
   "source": [
    "pathlib.Path.home().joinpath('Documents','Personal Repos','Python-Tutorial-Notes')"
   ],
   "metadata": {
    "collapsed": false,
    "pycharm": {
     "name": "#%%\n"
    }
   }
  },
  {
   "cell_type": "markdown",
   "source": [
    "## Reading and Writting Files\n",
    "\n",
    "Traditionally the method to read and write files has been to use the built in **open()**\n",
    "function. The Pathlib equivalent to this is the **.open()** method.\n",
    "\n",
    "for instance:"
   ],
   "metadata": {
    "collapsed": false,
    "pycharm": {
     "name": "#%% md\n"
    }
   }
  },
  {
   "cell_type": "code",
   "execution_count": 27,
   "outputs": [
    {
     "data": {
      "text/plain": "<_io.TextIOWrapper name='/Users/adamborlase/Documents/Personal Repos/Python-Tutorial-Notes/Ratings.csv' mode='r' encoding='UTF-8'>"
     },
     "execution_count": 27,
     "metadata": {},
     "output_type": "execute_result"
    }
   ],
   "source": [
    "path = pathlib.Path.cwd() / 'Ratings.csv'\n",
    "path.open(mode='r')"
   ],
   "metadata": {
    "collapsed": false,
    "pycharm": {
     "name": "#%%\n"
    }
   }
  },
  {
   "cell_type": "markdown",
   "source": [
    "**Path.open** is calling the built in **open()** behind the scenes here and there is many other options\n",
    "avaliable for this method:\n",
    "\n",
    "\n",
    "| Method | Description |\n",
    "| --- | --- |\n",
    "| **.read_text()** | Reads the contents as a string |\n",
    "| **.read_bytes()** | Read the contents as a bytestring |\n",
    "| **.write_text()** | Open the path and write a string to it |\n",
    "| **.write_bytes()** | Open the path in bytes mode and write to it |\n",
    "\n",
    "All of these methods handle the opening and closing of the files making them trivial to use.\n",
    "\n",
    "Paths can also be specified as simple file names in which case they are interpreted relative to the current working directory:"
   ],
   "metadata": {
    "collapsed": false,
    "pycharm": {
     "name": "#%% md\n"
    }
   }
  },
  {
   "cell_type": "code",
   "execution_count": 28,
   "outputs": [
    {
     "data": {
      "text/plain": "<_io.TextIOWrapper name='Ratings.csv' mode='r' encoding='UTF-8'>"
     },
     "execution_count": 28,
     "metadata": {},
     "output_type": "execute_result"
    }
   ],
   "source": [
    "pathlib.Path('Ratings.csv').open()"
   ],
   "metadata": {
    "collapsed": false,
    "pycharm": {
     "name": "#%%\n"
    }
   }
  },
  {
   "cell_type": "markdown",
   "source": [
    "The resolve method will find the full path so we can confirm the working directory:"
   ],
   "metadata": {
    "collapsed": false,
    "pycharm": {
     "name": "#%% md\n"
    }
   }
  },
  {
   "cell_type": "code",
   "execution_count": 29,
   "outputs": [
    {
     "data": {
      "text/plain": "PosixPath('/Users/adamborlase/Documents/Personal Repos/Python-Tutorial-Notes/Ratings.csv')"
     },
     "execution_count": 29,
     "metadata": {},
     "output_type": "execute_result"
    }
   ],
   "source": [
    "path.resolve()"
   ],
   "metadata": {
    "collapsed": false,
    "pycharm": {
     "name": "#%%\n"
    }
   }
  },
  {
   "cell_type": "markdown",
   "source": [
    "## Picking out Components of a Path\n",
    "\n",
    "The different parts of a path are conveniently avaliable as properties with the basics including:\n",
    "\n",
    "| Property | Description |\n",
    "| --- | --- |\n",
    "| **.name** | The File Name Without any directory |\n",
    "| **.parent** | The Directory containing the file or the parent directory if path is a directory |\n",
    "| **.stem** | The file name without the suffix |\n",
    "| **.suffix** | The file extension |\n",
    "| **.anchor** | The part of the path before the directories |\n",
    "\n",
    "Let's see some of these in action:"
   ],
   "metadata": {
    "collapsed": false,
    "pycharm": {
     "name": "#%% md\n"
    }
   }
  },
  {
   "cell_type": "code",
   "execution_count": 30,
   "outputs": [
    {
     "name": "stdout",
     "output_type": "stream",
     "text": [
      "Ratings.csv\n",
      "/Users/adamborlase/Documents/Personal Repos/Python-Tutorial-Notes\n",
      "Ratings\n",
      ".csv\n",
      "/\n"
     ]
    }
   ],
   "source": [
    "print(path.name)\n",
    "print(path.parent)\n",
    "print(path.stem)\n",
    "print(path.suffix)\n",
    "print(path.anchor)"
   ],
   "metadata": {
    "collapsed": false,
    "pycharm": {
     "name": "#%%\n"
    }
   }
  },
  {
   "cell_type": "markdown",
   "source": [
    "One Important thing to note is that parent returns a path object while the rest will return strings."
   ],
   "metadata": {
    "collapsed": false,
    "pycharm": {
     "name": "#%% md\n"
    }
   }
  },
  {
   "cell_type": "markdown",
   "source": [
    "## Moving and Deleting Files\n",
    "\n",
    "Throught the pathlib library you can access file system operations like moving, updating and even deleting files, one of the\n",
    "key items to be aware of is that the system will do the delete without asking permission.\n",
    "\n",
    "To move a file the **.replace()** method is used and will overwrite any files if the location already exists, the only issue\n",
    "with pathlib is it does not support safe moving of files so will not ask for any confirmation of overwritting files. This can easily\n",
    "be recitifed by checking if the file exists prior to any changes:"
   ],
   "metadata": {
    "collapsed": false,
    "pycharm": {
     "name": "#%% md\n"
    }
   }
  },
  {
   "cell_type": "code",
   "execution_count": 31,
   "outputs": [
    {
     "data": {
      "text/plain": "True"
     },
     "execution_count": 31,
     "metadata": {},
     "output_type": "execute_result"
    }
   ],
   "source": [
    "path.exists()"
   ],
   "metadata": {
    "collapsed": false,
    "pycharm": {
     "name": "#%%\n"
    }
   }
  },
  {
   "cell_type": "markdown",
   "source": [
    "This method opens the the possible condition of two different items tryig to access the same file and overwritting the file\n",
    "but we have a solution for this is to do exclusive creation and lock the file when saving the file:\n",
    "\n",
    "Directories and files can be deleted using the **.rmdir()** and **.unlink()** respectively.\n",
    "\n",
    "\n"
   ],
   "metadata": {
    "collapsed": false,
    "pycharm": {
     "name": "#%% md\n"
    }
   }
  }
 ],
 "metadata": {
  "kernelspec": {
   "display_name": "Python 3",
   "language": "python",
   "name": "python3"
  },
  "language_info": {
   "codemirror_mode": {
    "name": "ipython",
    "version": 2
   },
   "file_extension": ".py",
   "mimetype": "text/x-python",
   "name": "python",
   "nbconvert_exporter": "python",
   "pygments_lexer": "ipython2",
   "version": "2.7.6"
  }
 },
 "nbformat": 4,
 "nbformat_minor": 0
}