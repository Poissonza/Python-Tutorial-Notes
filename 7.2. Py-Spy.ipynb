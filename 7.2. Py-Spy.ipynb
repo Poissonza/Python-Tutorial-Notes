{
 "cells": [
  {
   "cell_type": "markdown",
   "metadata": {},
   "source": [
    "# Py-spy"
   ]
  },
  {
   "cell_type": "markdown",
   "metadata": {},
   "source": [
    "## Table of Contents\n",
    "\n",
    "1. [Introduction](#Introduction)\n",
    "2. [Usage](#Usage)\n",
    "3. [Source](#Source)"
   ]
  },
  {
   "cell_type": "markdown",
   "metadata": {},
   "source": [
    "## Introduction\n"
   ]
  },
  {
   "cell_type": "markdown",
   "metadata": {},
   "source": [
    "Py-Spy is a sampling profiler for python programs with the ease of visulization to see what a Python program is doing without restarting or modifying the code.\n",
    "\n",
    "Py-Spy is also a low resoure requirement program so it won't slow down any of the process. To install you can use pip with the following command:\n",
    "\n",
    "```\n",
    "pip install py-spy\n",
    "```"
   ]
  },
  {
   "cell_type": "markdown",
   "metadata": {},
   "source": [
    "## Usage"
   ]
  },
  {
   "cell_type": "markdown",
   "metadata": {},
   "source": [
    "Py-spy works from the command line and can take either the PID of the program that you want to sample from or the command line of the program you want to run.\n",
    "\n",
    "The two types of runs can be summarised below:\n",
    "\n",
    "```\n",
    "py-spy --pid 12345\n",
    "```\n",
    "\n",
    "or \n",
    "\n",
    "```\n",
    "py-spy -- python myprogram.py\n",
    "```\n",
    "\n",
    "While this will give us a default view of the program usage you can also create a flame graph using the following call:\n",
    "\n",
    "```\n",
    "py-spy --flame profile.svg --pid 12345\n",
    "```\n",
    "\n",
    "or\n",
    "\n",
    "```\n",
    "py-spy --flame profile.svg -- python myprogram.py\n",
    "```"
   ]
  },
  {
   "cell_type": "markdown",
   "metadata": {},
   "source": [
    "## Source"
   ]
  },
  {
   "cell_type": "markdown",
   "metadata": {},
   "source": [
    "https://pypi.org/project/py-spy/0.1.0/"
   ]
  }
 ],
 "metadata": {
  "kernelspec": {
   "display_name": "Python 3",
   "language": "python",
   "name": "python3"
  },
  "language_info": {
   "codemirror_mode": {
    "name": "ipython",
    "version": 3
   },
   "file_extension": ".py",
   "mimetype": "text/x-python",
   "name": "python",
   "nbconvert_exporter": "python",
   "pygments_lexer": "ipython3",
   "version": "3.8.3"
  }
 },
 "nbformat": 4,
 "nbformat_minor": 4
}
