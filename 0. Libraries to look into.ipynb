{
 "cells": [
  {
   "cell_type": "markdown",
   "metadata": {
    "collapsed": true,
    "pycharm": {
     "name": "#%% md\n"
    }
   },
   "source": [
    "# Tools to look into\n",
    "\n",
    "There are a few Useful tools that should be investigated based on various articles.\n",
    "\n",
    "## Table of Contents\n",
    "\n",
    "1. [Datatable](#Datatable)\n",
    "2. [Lazypredict](#Lazypredict)\n",
    "3. [Optuna](#Optuna)\n",
    "4. [SHAP](#SHAP)\n",
    "5. [References](#References)\n",
    "\n",
    "## Datatable\n",
    "\n",
    "This is a tool that allows for out-of-memory, multi-threaded data preprocessing tools to escape the performance limitation of Pandas.\n",
    "\n",
    "This library can support up to 100 GB of big data.\n",
    "\n",
    "\n",
    "## Lazypredict\n",
    "\n",
    "This is a package that uses all of the Sklearn Models plus XGBoost and LightGBM in a single line of code. It will evaluate 30 base models and generate a report with their\n",
    "rankings on several popular metrics.\n",
    "\n",
    "## Optuna\n",
    "\n",
    "Optuna is a autmotic hyperparameter tuning framework designed to work on virtually any model and neural network available in the ML and Deep Learning packages.\n",
    "\n",
    "\n",
    "## SHAP\n",
    "\n",
    "Explainable AI is one of the strongest trends in ML and AI sphere and it is due to companies wanting to move away from the Black Box apporach of the past that a solution that\n",
    "Explains how models work using concepts from Game Theory (Using Shapley Values).\n",
    "\n",
    "\n",
    "## References\n",
    "\n",
    "https://towardsdatascience.com/7-cool-python-packages-kagglers-are-using-without-telling-you-e83298781cf4"
   ]
  }
 ],
 "metadata": {
  "kernelspec": {
   "display_name": "Python 3",
   "language": "python",
   "name": "python3"
  },
  "language_info": {
   "codemirror_mode": {
    "name": "ipython",
    "version": 2
   },
   "file_extension": ".py",
   "mimetype": "text/x-python",
   "name": "python",
   "nbconvert_exporter": "python",
   "pygments_lexer": "ipython2",
   "version": "2.7.6"
  }
 },
 "nbformat": 4,
 "nbformat_minor": 0
}