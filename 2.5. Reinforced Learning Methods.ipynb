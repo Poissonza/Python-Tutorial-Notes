{
 "cells": [
  {
   "cell_type": "markdown",
   "metadata": {
    "collapsed": true,
    "pycharm": {
     "name": "#%% md\n"
    }
   },
   "source": [
    "# Reinforced Learning\n",
    "\n",
    "\n",
    "\n",
    "# Upper Confidence Bound\n",
    "\n",
    "## The multi-Armed Bandit Problem\n",
    "\n",
    "This is not the only problem that can be used to learn reniforcement learning, another one would be the training of a robot dog and getting it to learn how to move.\n",
    "\n",
    "In reinforcement learning we reward the positive outcome by giving the algorithm a 1 for each time it does the desired outcome. Most of this is more of a topic on Artificial Intelligence than Machine learning.\n",
    "\n",
    "For the Multi-Armed Bandit Problem:\n",
    "\n",
    "* This is a slot machine in a casino\n",
    "* The problem is what does a respondent do we they come to a full set of these machines and not just one.\n",
    "* Each machine has a distribution out of which it picks results\n",
    "* The individual does not know the distribution in advance and it can also be different for each machine\n",
    "* The goal is to find the best distributions for us so we can make the most money.\n",
    "\n",
    "There are two key things that need to be done here:\n",
    "\n",
    "* Explore - this is to discover the ideal machine\n",
    "* Exploit - taking our findings and use it to our benefit.\n",
    "\n",
    "There is also a concept of Regret which can be looked at - this is when we are doing a sub-optimal decision and not going with the outcome that would be best for us.\n",
    "\n",
    "If little exploration is done then we may use a sub optimal machine as we don't have a full view on what is the most optimal machine.\n",
    "\n",
    "The most common application of this - is advertising.\n",
    "\n",
    "## Upper Confidence Bound\n",
    "\n",
    "We will be looking at the following for our problem:\n",
    "\n",
    "* We have d arms. For example the arms are ads that we display to users each time they connect to a web page\n",
    "* Each time a user connects to this web page that makes a round\n",
    "* At each round n, we choose one ad to display to the user\n",
    "* at each round n, ad i gives a reward if the user clicked on the ad or a 0 if they did not\n",
    "* our goal is to maximise the total reward we get over many rounds\n",
    "\n",
    "The intuition:\n",
    "\n",
    "* We don't know the expected value for each of the items.\n",
    "* We assume that we have a starting value which is equal for each item.\n",
    "* The Algorithm will create a confidence band for each of these starting values and we go on the assumption that the confidence band will include the actual expected value\n",
    "* The Confidence band will be very large to start off with.\n",
    "\n",
    "The first step is the following:\n",
    "\n",
    "* We actual run the scenario either if someone clicked on the ad or not\n",
    "    * if they did not click on the ad then the starting value will reduce and we will move it so it starts to converge with the actual expected value\n",
    "    * now that we have further information, the confidence interval becomes smaller\n",
    "    * We keep doing this step for the item that has the highest confidence bound if there is a tie we do a random value.\n",
    "\n",
    "Since we have a higher number of values in the data the confidence bound decreases as we have higher confidence\n",
    "\n",
    "## The Calculation:\n",
    "\n",
    "### Importing the libraries:"
   ]
  },
  {
   "cell_type": "code",
   "execution_count": 1,
   "outputs": [],
   "source": [
    "import pandas as pd\n",
    "import matplotlib.pyplot as plt\n",
    "import numpy as np"
   ],
   "metadata": {
    "collapsed": false,
    "pycharm": {
     "name": "#%%\n"
    }
   }
  },
  {
   "cell_type": "markdown",
   "source": [
    "### import the dataset:"
   ],
   "metadata": {
    "collapsed": false
   }
  },
  {
   "cell_type": "code",
   "execution_count": 2,
   "outputs": [
    {
     "data": {
      "text/plain": "      Ad 1  Ad 2  Ad 3  Ad 4  Ad 5  Ad 6  Ad 7  Ad 8  Ad 9  Ad 10\n0        1     0     0     0     1     0     0     0     1      0\n1        0     0     0     0     0     0     0     0     1      0\n2        0     0     0     0     0     0     0     0     0      0\n3        0     1     0     0     0     0     0     1     0      0\n4        0     0     0     0     0     0     0     0     0      0\n...    ...   ...   ...   ...   ...   ...   ...   ...   ...    ...\n9995     0     0     1     0     0     0     0     1     0      0\n9996     0     0     0     0     0     0     0     0     0      0\n9997     0     0     0     0     0     0     0     0     0      0\n9998     1     0     0     0     0     0     0     1     0      0\n9999     0     1     0     0     0     0     0     0     0      0\n\n[10000 rows x 10 columns]",
      "text/html": "<div>\n<style scoped>\n    .dataframe tbody tr th:only-of-type {\n        vertical-align: middle;\n    }\n\n    .dataframe tbody tr th {\n        vertical-align: top;\n    }\n\n    .dataframe thead th {\n        text-align: right;\n    }\n</style>\n<table border=\"1\" class=\"dataframe\">\n  <thead>\n    <tr style=\"text-align: right;\">\n      <th></th>\n      <th>Ad 1</th>\n      <th>Ad 2</th>\n      <th>Ad 3</th>\n      <th>Ad 4</th>\n      <th>Ad 5</th>\n      <th>Ad 6</th>\n      <th>Ad 7</th>\n      <th>Ad 8</th>\n      <th>Ad 9</th>\n      <th>Ad 10</th>\n    </tr>\n  </thead>\n  <tbody>\n    <tr>\n      <th>0</th>\n      <td>1</td>\n      <td>0</td>\n      <td>0</td>\n      <td>0</td>\n      <td>1</td>\n      <td>0</td>\n      <td>0</td>\n      <td>0</td>\n      <td>1</td>\n      <td>0</td>\n    </tr>\n    <tr>\n      <th>1</th>\n      <td>0</td>\n      <td>0</td>\n      <td>0</td>\n      <td>0</td>\n      <td>0</td>\n      <td>0</td>\n      <td>0</td>\n      <td>0</td>\n      <td>1</td>\n      <td>0</td>\n    </tr>\n    <tr>\n      <th>2</th>\n      <td>0</td>\n      <td>0</td>\n      <td>0</td>\n      <td>0</td>\n      <td>0</td>\n      <td>0</td>\n      <td>0</td>\n      <td>0</td>\n      <td>0</td>\n      <td>0</td>\n    </tr>\n    <tr>\n      <th>3</th>\n      <td>0</td>\n      <td>1</td>\n      <td>0</td>\n      <td>0</td>\n      <td>0</td>\n      <td>0</td>\n      <td>0</td>\n      <td>1</td>\n      <td>0</td>\n      <td>0</td>\n    </tr>\n    <tr>\n      <th>4</th>\n      <td>0</td>\n      <td>0</td>\n      <td>0</td>\n      <td>0</td>\n      <td>0</td>\n      <td>0</td>\n      <td>0</td>\n      <td>0</td>\n      <td>0</td>\n      <td>0</td>\n    </tr>\n    <tr>\n      <th>...</th>\n      <td>...</td>\n      <td>...</td>\n      <td>...</td>\n      <td>...</td>\n      <td>...</td>\n      <td>...</td>\n      <td>...</td>\n      <td>...</td>\n      <td>...</td>\n      <td>...</td>\n    </tr>\n    <tr>\n      <th>9995</th>\n      <td>0</td>\n      <td>0</td>\n      <td>1</td>\n      <td>0</td>\n      <td>0</td>\n      <td>0</td>\n      <td>0</td>\n      <td>1</td>\n      <td>0</td>\n      <td>0</td>\n    </tr>\n    <tr>\n      <th>9996</th>\n      <td>0</td>\n      <td>0</td>\n      <td>0</td>\n      <td>0</td>\n      <td>0</td>\n      <td>0</td>\n      <td>0</td>\n      <td>0</td>\n      <td>0</td>\n      <td>0</td>\n    </tr>\n    <tr>\n      <th>9997</th>\n      <td>0</td>\n      <td>0</td>\n      <td>0</td>\n      <td>0</td>\n      <td>0</td>\n      <td>0</td>\n      <td>0</td>\n      <td>0</td>\n      <td>0</td>\n      <td>0</td>\n    </tr>\n    <tr>\n      <th>9998</th>\n      <td>1</td>\n      <td>0</td>\n      <td>0</td>\n      <td>0</td>\n      <td>0</td>\n      <td>0</td>\n      <td>0</td>\n      <td>1</td>\n      <td>0</td>\n      <td>0</td>\n    </tr>\n    <tr>\n      <th>9999</th>\n      <td>0</td>\n      <td>1</td>\n      <td>0</td>\n      <td>0</td>\n      <td>0</td>\n      <td>0</td>\n      <td>0</td>\n      <td>0</td>\n      <td>0</td>\n      <td>0</td>\n    </tr>\n  </tbody>\n</table>\n<p>10000 rows × 10 columns</p>\n</div>"
     },
     "execution_count": 2,
     "metadata": {},
     "output_type": "execute_result"
    }
   ],
   "source": [
    "dataset = pd.read_csv('data\\\\Ads_CTR_Optimisation.csv')\n",
    "\n",
    "dataset"
   ],
   "metadata": {
    "collapsed": false,
    "pycharm": {
     "name": "#%%\n"
    }
   }
  },
  {
   "cell_type": "markdown",
   "source": [
    "### implementation of the Algorithm\n",
    "\n",
    "The Algorithm needs to go through the following steps:\n",
    "\n",
    " 1. At each round n, we consider two numbers\n",
    "    1. $N_i (n)$ - the number of times the ad $i$ was selected up to round $n$\n",
    "    2. $R_i (n)$ - the sum of rewards of the ad $i$ up to round $n$.\n",
    " 2. From these numbers we compute:\n",
    "    1. the average reward of ad $i$ up to round $n$:\n",
    "\n",
    "    $\\bar{r}_i(n) = \\frac{R_i (n)}{N_i(n)}$\n",
    "\n",
    "    2. The confidence interval $[\\bar{r}_i - \\vartriangle_i(n),\\bar{r}_i(n) = \\vartriangle_i(n)]$ at round $n$ with\n",
    "\n",
    "     $\\vartriangle_i(n) = \\sqrt{\\frac{3}{2}\\frac{log(n)}{N_i(n)}}$\n",
    " 3. We select the ad i that has the maximum UCB $\\bar{r}_i(n) + \\vartriangle_i(n)$\n",
    "\n",
    "Now to code it:"
   ],
   "metadata": {
    "collapsed": false
   }
  },
  {
   "cell_type": "code",
   "execution_count": 3,
   "outputs": [],
   "source": [
    "import math\n",
    "\n",
    "N = 10000 #Variable of the total number of users / rounds\n",
    "d = 10 #Number of adverts\n",
    "ads_selected = [] #list of the times the advert was selected\n",
    "number_of_selections = [0]*d #this will create a list of 10 zero's\n",
    "sum_of_rewards = [0]*d # this will be the sum of rewards for the adverts\n",
    "total_reward = 0\n",
    "\n",
    "for n in range(0,N): #go through all of the data we have\n",
    "    ad  = 0\n",
    "    max_upper_bound = 0\n",
    "    for i in range (0,d): #iterate over the adverts\n",
    "        if number_of_selections[i] > 0: #Check to see if we don't get an undefined error in the later\n",
    "            average_reward = sum_of_rewards[i] / number_of_selections[i] #Average number of rewards of the individual advert (rewards given based on endorsements)\n",
    "            delta_i = math.sqrt((3/2)*(math.log(n+1)/number_of_selections[i])) #calculate the delta we add to the confidence bound\n",
    "            upper_bound = average_reward + delta_i #Create the upper bound based on the average reward + the Delta\n",
    "        else:\n",
    "            upper_bound = 1e400 #if there has been no selections made then we automatically put the upper bound to a very high number, this will eliminate the first d rounds\n",
    "        if upper_bound> max_upper_bound: #Evaluate if the current upper bound is the maximum\n",
    "            max_upper_bound = upper_bound #if it is the maximum then set it as the new maximum\n",
    "            ad = i #select the advert that is associated with this maximum\n",
    "    ads_selected.append(ad) #Create a list of the times an advert was selected based on the confidence bound\n",
    "    number_of_selections[ad] +=  1 #Increase the number of times we have selected an advert in the list for the calculations\n",
    "    reward = dataset.values[n,ad] # set the reward equal to a 1 or 0 based on if the user clicked on the advert\n",
    "    sum_of_rewards[ad] = sum_of_rewards[ad] +reward #increase the total reward of the advert based on the yes no above\n",
    "    total_reward += reward #number of rewards given in total"
   ],
   "metadata": {
    "collapsed": false,
    "pycharm": {
     "name": "#%%\n"
    }
   }
  },
  {
   "cell_type": "markdown",
   "source": [
    "## Visulizing the result\n",
    "\n",
    "We will now demonstrate the number of times an item is selected:"
   ],
   "metadata": {
    "collapsed": false
   }
  },
  {
   "cell_type": "code",
   "execution_count": 4,
   "outputs": [
    {
     "data": {
      "text/plain": "<Figure size 432x288 with 1 Axes>",
      "image/png": "[encoded data removed]"
     },
     "metadata": {
      "needs_background": "light"
     },
     "output_type": "display_data"
    }
   ],
   "source": [
    "plt.hist(ads_selected)\n",
    "plt.xlabel('Ads')\n",
    "plt.ylabel('Number of times each ad was selected')\n",
    "plt.title('Demonstrate the advert that was selected the most')\n",
    "plt.show()\n",
    "\n",
    "ads_selected = pd.DataFrame(ads_selected)"
   ],
   "metadata": {
    "collapsed": false,
    "pycharm": {
     "name": "#%%\n"
    }
   }
  }
 ],
 "metadata": {
  "kernelspec": {
   "display_name": "Python 3",
   "language": "python",
   "name": "python3"
  },
  "language_info": {
   "codemirror_mode": {
    "name": "ipython",
    "version": 2
   },
   "file_extension": ".py",
   "mimetype": "text/x-python",
   "name": "python",
   "nbconvert_exporter": "python",
   "pygments_lexer": "ipython2",
   "version": "2.7.6"
  }
 },
 "nbformat": 4,
 "nbformat_minor": 0
}