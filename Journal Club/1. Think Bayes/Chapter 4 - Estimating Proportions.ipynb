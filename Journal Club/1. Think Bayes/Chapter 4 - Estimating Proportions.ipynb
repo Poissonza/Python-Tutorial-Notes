{
 "cells": [
  {
   "cell_type": "markdown",
   "metadata": {
    "collapsed": true,
    "pycharm": {
     "name": "#%% md\n"
    }
   },
   "source": [
    "# Estimating Proportions"
   ]
  },
  {
   "cell_type": "markdown",
   "source": [
    "## Index\n",
    "\n",
    "1. [Introduction](#Introduction)\n",
    "2. [The Euro Problem](#The-Euro-Problem)\n",
    "3. [The Binomial Distribution](#The-Binomial-Distribution)\n",
    "4. [Bayesian Estimation](#Bayesian-Estimation)"
   ],
   "metadata": {
    "collapsed": false,
    "pycharm": {
     "name": "#%% md\n"
    }
   }
  },
  {
   "cell_type": "markdown",
   "source": [
    "## Introduction\n",
    "\n",
    "In the previous chapter we went through the 101 Bowls problem and showed that it was not about guessing which bowl the cookies came from but rather about estimating proportions. In this chapter we take another step towards Bayesian statistics by solving the Euro Problem.\n",
    "\n",
    "We will start with the same prior distribution and we will apply the same update mathematically. This problem will introduce another way to choose prior distributions nad using probability to represent the unknown."
   ],
   "metadata": {
    "collapsed": false,
    "pycharm": {
     "name": "#%% md\n"
    }
   }
  },
  {
   "cell_type": "markdown",
   "source": [
    "## The Euro Problem\n",
    "\n",
    "The Euro problem was described in the Guardian:\n",
    "\n",
    "- When spun on edge 250 times, a Belgian one-euro coin came up heads 140 times and tails 110. A statistics lecturer said that this looked suspicious as the coin is supposed to be unbiased and the chance of getting a result as extreme as this would be less than 7%.\n",
    "- The qustion is also does the data give evidence that the coin is biased rather than fair.\n",
    "\n",
    "To anwer the questions we will proceed in two steps, first we will use the binomial distribution to see where that 7% came from and then we'll use Bayes Theorem to estimate the probability that this coin comes up heads."
   ],
   "metadata": {
    "collapsed": false,
    "pycharm": {
     "name": "#%% md\n"
    }
   }
  },
  {
   "cell_type": "markdown",
   "source": [
    "## The Binomial Distribution\n",
    "\n",
    "Suppose I tell you that the coin is \"fair\", that is the probability of heads is 50% and if it is spun twice there will be four outcomes: HH, HT, TT, TH and all four outcomes have an equal probability (25%).\n",
    "\n",
    "if we add up the total number of heads, there are three possible outcomes (0, 1 or 2). The probability for 0 and 2 is 25% and the chance of 1 head is 50%.\n",
    "\n",
    "If we look at this in a general view and have the probability of heads as `p` and we spin the coin `n` times and get `k` heads we have the binomial distribution:\n",
    "\n",
    "$$\\binom{n}{k} p^k (1-p)^{n-k}$$\n",
    "\n",
    "for any value of `k` from 0 to `n` including both. the term $\\binom{n}{k}$ is the *binomial coefficient*, usually pronounced \"n choose k\".\n",
    "\n",
    "We could evaluate this expression ourselved, but we can also use the SciPy function `binom.pmf`. For example if we flip a coin n=2 time and the probablity of a heads is p=0.5, here is the probability of getting k=1 heads:"
   ],
   "metadata": {
    "collapsed": false,
    "pycharm": {
     "name": "#%% md\n"
    }
   }
  },
  {
   "cell_type": "code",
   "execution_count": 1,
   "outputs": [
    {
     "data": {
      "text/plain": "0.5"
     },
     "execution_count": 1,
     "metadata": {},
     "output_type": "execute_result"
    }
   ],
   "source": [
    "from scipy.stats import binom\n",
    "\n",
    "n = 2\n",
    "p = 0.5\n",
    "k = 1\n",
    "\n",
    "binom.pmf(k, n, p)"
   ],
   "metadata": {
    "collapsed": false,
    "pycharm": {
     "name": "#%%\n"
    }
   }
  },
  {
   "cell_type": "markdown",
   "source": [
    "While this is great when we want to evaluate a single experiment we can also pass an array of values instead of a single value for k:"
   ],
   "metadata": {
    "collapsed": false,
    "pycharm": {
     "name": "#%% md\n"
    }
   }
  },
  {
   "cell_type": "code",
   "execution_count": 2,
   "outputs": [
    {
     "data": {
      "text/plain": "array([0.25, 0.5 , 0.25])"
     },
     "execution_count": 2,
     "metadata": {},
     "output_type": "execute_result"
    }
   ],
   "source": [
    "import numpy as np\n",
    "\n",
    "ks = np.arange(n+1)\n",
    "\n",
    "ps = binom.pmf(ks, n, p)\n",
    "ps"
   ],
   "metadata": {
    "collapsed": false,
    "pycharm": {
     "name": "#%%\n"
    }
   }
  },
  {
   "cell_type": "markdown",
   "source": [
    "The result of the binomial function is a Numpy array with the probability of 0,1 or 2 heads. if we put these probabilities in a Pmf the result is the distribution of k for the given values of n and p:"
   ],
   "metadata": {
    "collapsed": false,
    "pycharm": {
     "name": "#%% md\n"
    }
   }
  },
  {
   "cell_type": "code",
   "execution_count": 3,
   "outputs": [
    {
     "data": {
      "text/plain": "0    0.25\n1    0.50\n2    0.25\nName: , dtype: float64",
      "text/html": "<div>\n<style scoped>\n    .dataframe tbody tr th:only-of-type {\n        vertical-align: middle;\n    }\n\n    .dataframe tbody tr th {\n        vertical-align: top;\n    }\n\n    .dataframe thead th {\n        text-align: right;\n    }\n</style>\n<table border=\"1\" class=\"dataframe\">\n  <thead>\n    <tr style=\"text-align: right;\">\n      <th></th>\n      <th>probs</th>\n    </tr>\n  </thead>\n  <tbody>\n    <tr>\n      <th>0</th>\n      <td>0.25</td>\n    </tr>\n    <tr>\n      <th>1</th>\n      <td>0.50</td>\n    </tr>\n    <tr>\n      <th>2</th>\n      <td>0.25</td>\n    </tr>\n  </tbody>\n</table>\n</div>"
     },
     "execution_count": 3,
     "metadata": {},
     "output_type": "execute_result"
    }
   ],
   "source": [
    "from empiricaldist import Pmf\n",
    "\n",
    "pmf_k = Pmf(ps, ks)\n",
    "pmf_k"
   ],
   "metadata": {
    "collapsed": false,
    "pycharm": {
     "name": "#%%\n"
    }
   }
  },
  {
   "cell_type": "markdown",
   "source": [
    "We can make this a lot easier and create a method that will perform all of these steps for the given `n` and `p` values."
   ],
   "metadata": {
    "collapsed": false,
    "pycharm": {
     "name": "#%% md\n"
    }
   }
  },
  {
   "cell_type": "code",
   "execution_count": 4,
   "outputs": [],
   "source": [
    "def make_binomial (n, p):\n",
    "    \"\"\"Make a binomial Pmf.\"\"\"\n",
    "    ks = np.arange(n+1)\n",
    "    ps = binom.pmf(ks, n, p)\n",
    "    return Pmf(ps, ks)"
   ],
   "metadata": {
    "collapsed": false,
    "pycharm": {
     "name": "#%%\n"
    }
   }
  },
  {
   "cell_type": "markdown",
   "source": [
    "We cna now see how well this works with n=250 and p = 0.5. (seeing probability of the distribution of heads in 250 spins)."
   ],
   "metadata": {
    "collapsed": false,
    "pycharm": {
     "name": "#%% md\n"
    }
   }
  },
  {
   "cell_type": "code",
   "execution_count": 12,
   "outputs": [
    {
     "data": {
      "text/plain": "<Figure size 432x288 with 1 Axes>",
      "image/png": "[encoded data removed]"
     },
     "metadata": {
      "needs_background": "light"
     },
     "output_type": "display_data"
    }
   ],
   "source": [
    "pmf_k = make_binomial(250, 0.5)\n",
    "import matplotlib.pyplot as plt\n",
    "def decorate(**options):\n",
    "    \"\"\"Decorate the current axes.\n",
    "\n",
    "    Call decorate with keyword arguments like\n",
    "    decorate(title='Title',\n",
    "             xlabel='x',\n",
    "             ylabel='y')\n",
    "\n",
    "    The keyword arguments can be any of the axis properties\n",
    "    https://matplotlib.org/api/axes_api.html\n",
    "    \"\"\"\n",
    "    ax = plt.gca()\n",
    "    ax.set(**options)\n",
    "\n",
    "    handles, labels = ax.get_legend_handles_labels()\n",
    "    if handles:\n",
    "        ax.legend(handles, labels)\n",
    "\n",
    "    plt.tight_layout()\n",
    "\n",
    "pmf_k.plot(label=\"n=250, p=0.5\")\n",
    "decorate(\n",
    "    xlabel=\"number of heads(k)\",\n",
    "    ylabel=\"PMF\",\n",
    "    title=\"Binomial Distribution\"\n",
    ")"
   ],
   "metadata": {
    "collapsed": false,
    "pycharm": {
     "name": "#%%\n"
    }
   }
  },
  {
   "cell_type": "markdown",
   "source": [
    "The most likely quantity of heads in the distribution is 125."
   ],
   "metadata": {
    "collapsed": false,
    "pycharm": {
     "name": "#%% md\n"
    }
   }
  },
  {
   "cell_type": "code",
   "execution_count": 14,
   "outputs": [
    {
     "data": {
      "text/plain": "125"
     },
     "execution_count": 14,
     "metadata": {},
     "output_type": "execute_result"
    }
   ],
   "source": [
    "pmf_k.max_prob()"
   ],
   "metadata": {
    "collapsed": false,
    "pycharm": {
     "name": "#%%\n"
    }
   }
  },
  {
   "cell_type": "markdown",
   "source": [
    "Even though this has the highest probability it is only a probability of about 5%:"
   ],
   "metadata": {
    "collapsed": false,
    "pycharm": {
     "name": "#%% md\n"
    }
   }
  },
  {
   "cell_type": "code",
   "execution_count": 16,
   "outputs": [
    {
     "data": {
      "text/plain": "0.05041221314731537"
     },
     "execution_count": 16,
     "metadata": {},
     "output_type": "execute_result"
    }
   ],
   "source": [
    "pmf_k[125]"
   ],
   "metadata": {
    "collapsed": false,
    "pycharm": {
     "name": "#%%\n"
    }
   }
  },
  {
   "cell_type": "markdown",
   "source": [
    "In the article we heard the statistician say that if a coin were unbiased the chance of getting a result an extreme as that would be less than 7%.\n",
    "\n",
    "We can use the Binomial distribution to check their Math. The following function takes a PMF and computes the total probability of quantities greater than and equal to the threshold:"
   ],
   "metadata": {
    "collapsed": false,
    "pycharm": {
     "name": "#%% md\n"
    }
   }
  },
  {
   "cell_type": "code",
   "execution_count": 17,
   "outputs": [],
   "source": [
    "def prob_ge(pmf, threshold):\n",
    "    \"\"\"Probabilities greater than the threshold\"\"\"\n",
    "    ge = (pmf.qs>= threshold)\n",
    "    total = pmf[ge].sum()\n",
    "    return total"
   ],
   "metadata": {
    "collapsed": false,
    "pycharm": {
     "name": "#%%\n"
    }
   }
  },
  {
   "cell_type": "markdown",
   "source": [
    "The probability of getting 140 heads or more:"
   ],
   "metadata": {
    "collapsed": false,
    "pycharm": {
     "name": "#%% md\n"
    }
   }
  },
  {
   "cell_type": "code",
   "execution_count": 18,
   "outputs": [
    {
     "data": {
      "text/plain": "0.033210575620022706"
     },
     "execution_count": 18,
     "metadata": {},
     "output_type": "execute_result"
    }
   ],
   "source": [
    "prob_ge(pmf_k, 140)"
   ],
   "metadata": {
    "collapsed": false,
    "pycharm": {
     "name": "#%%\n"
    }
   }
  },
  {
   "cell_type": "markdown",
   "source": [
    "We could have also used the following built in Pmf Method:"
   ],
   "metadata": {
    "collapsed": false,
    "pycharm": {
     "name": "#%% md\n"
    }
   }
  },
  {
   "cell_type": "code",
   "source": [
    "pmf_k.prob_ge(140)"
   ],
   "metadata": {
    "collapsed": false,
    "pycharm": {
     "name": "#%%\n"
    }
   },
   "execution_count": 19,
   "outputs": [
    {
     "data": {
      "text/plain": "0.033210575620022706"
     },
     "execution_count": 19,
     "metadata": {},
     "output_type": "execute_result"
    }
   ]
  },
  {
   "cell_type": "markdown",
   "source": [
    "Both of these results give us the same results but it is differ than the 7% quoted in the original article. The reason for this is due to the fact that the statistician included all of the outcomes \"as extreme as\" 140, which included outcomes less than or equal to 110.\n",
    "\n",
    "To see where this comes from, recall that the expected number of heads is 125. If we get 140 we've exceeded that expectation by 15. and if we get 110 we have come up short by 15.\n",
    "\n",
    "7% is the sum of both of the tails.\n",
    "\n",
    "Let's get the probability of the left tail:"
   ],
   "metadata": {
    "collapsed": false,
    "pycharm": {
     "name": "#%% md\n"
    }
   }
  },
  {
   "cell_type": "code",
   "execution_count": 20,
   "outputs": [
    {
     "data": {
      "text/plain": "0.033210575620022706"
     },
     "execution_count": 20,
     "metadata": {},
     "output_type": "execute_result"
    }
   ],
   "source": [
    "pmf_k.prob_le(110)"
   ],
   "metadata": {
    "collapsed": false,
    "pycharm": {
     "name": "#%%\n"
    }
   }
  },
  {
   "cell_type": "markdown",
   "source": [
    "The point of this calculation is that these extreme outcomes are unlikely if the coin is fair.\n",
    "\n",
    "That's interesting, but it does not answer the question."
   ],
   "metadata": {
    "collapsed": false,
    "pycharm": {
     "name": "#%% md\n"
    }
   }
  },
  {
   "cell_type": "markdown",
   "source": [
    "## Bayesian Estimation\n",
    "\n",
    "Any given coin has some probability of landing heads up when spun on edge, we can call this probability $x$. It seems reasonable to believe that $x$ depends on physical characteristics of the coin, like the distribution of weight. If a coin is perfectly balanced, we expect $x$ to be close to 50%, but for a lopsided coin $x$ may be substantially different. We can use bayes theorem and the observed data to estimate $x$.\n",
    "\n",
    "For simplicity, we start with a uniform prior, which assumes all outcomes are equally likely. This may not be a reasonable assumption so we will come back and consider the other priors later:"
   ],
   "metadata": {
    "collapsed": false,
    "pycharm": {
     "name": "#%% md\n"
    }
   }
  },
  {
   "cell_type": "code",
   "execution_count": 24,
   "outputs": [
    {
     "data": {
      "text/plain": "0.00    1\n0.01    1\n0.02    1\n0.03    1\n0.04    1\n       ..\n0.96    1\n0.97    1\n0.98    1\n0.99    1\n1.00    1\nName: , Length: 101, dtype: int64",
      "text/html": "<div>\n<style scoped>\n    .dataframe tbody tr th:only-of-type {\n        vertical-align: middle;\n    }\n\n    .dataframe tbody tr th {\n        vertical-align: top;\n    }\n\n    .dataframe thead th {\n        text-align: right;\n    }\n</style>\n<table border=\"1\" class=\"dataframe\">\n  <thead>\n    <tr style=\"text-align: right;\">\n      <th></th>\n      <th>probs</th>\n    </tr>\n  </thead>\n  <tbody>\n    <tr>\n      <th>0.00</th>\n      <td>1</td>\n    </tr>\n    <tr>\n      <th>0.01</th>\n      <td>1</td>\n    </tr>\n    <tr>\n      <th>0.02</th>\n      <td>1</td>\n    </tr>\n    <tr>\n      <th>0.03</th>\n      <td>1</td>\n    </tr>\n    <tr>\n      <th>0.04</th>\n      <td>1</td>\n    </tr>\n    <tr>\n      <th>...</th>\n      <td>...</td>\n    </tr>\n    <tr>\n      <th>0.96</th>\n      <td>1</td>\n    </tr>\n    <tr>\n      <th>0.97</th>\n      <td>1</td>\n    </tr>\n    <tr>\n      <th>0.98</th>\n      <td>1</td>\n    </tr>\n    <tr>\n      <th>0.99</th>\n      <td>1</td>\n    </tr>\n    <tr>\n      <th>1.00</th>\n      <td>1</td>\n    </tr>\n  </tbody>\n</table>\n<p>101 rows × 1 columns</p>\n</div>"
     },
     "execution_count": 24,
     "metadata": {},
     "output_type": "execute_result"
    }
   ],
   "source": [
    "hypos = np.linspace(0,1,101)\n",
    "prior = Pmf(1, hypos)"
   ],
   "metadata": {
    "collapsed": false,
    "pycharm": {
     "name": "#%%\n"
    }
   }
  },
  {
   "cell_type": "markdown",
   "source": [],
   "metadata": {
    "collapsed": false,
    "pycharm": {
     "name": "#%% md\n"
    }
   }
  }
 ],
 "metadata": {
  "kernelspec": {
   "display_name": "Python 3",
   "language": "python",
   "name": "python3"
  },
  "language_info": {
   "codemirror_mode": {
    "name": "ipython",
    "version": 2
   },
   "file_extension": ".py",
   "mimetype": "text/x-python",
   "name": "python",
   "nbconvert_exporter": "python",
   "pygments_lexer": "ipython2",
   "version": "2.7.6"
  }
 },
 "nbformat": 4,
 "nbformat_minor": 0
}