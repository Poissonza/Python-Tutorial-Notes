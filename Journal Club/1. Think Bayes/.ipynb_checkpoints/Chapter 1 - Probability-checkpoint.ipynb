{
 "cells": [
  {
   "cell_type": "markdown",
   "source": [
    "# Probability\n",
    "\n",
    "## Table of Contents\n",
    "\n",
    "1. [Introduction](#first-bullet)\n",
    "2. [The Probability Function](#The-Probability-Function)\n",
    "3. [The Political Views and Parties](#The-Political-Views-and-Parties)\n",
    "\n",
    "## Introduction <a class=\"anchor\" id=\"first-bullet\"></a>\n",
    "\n",
    "- We will be using data from the [General Social Survey](http://gss.norc.org/) (GSS) in the examples of Linda the Banker and showcase how to do some probability in Python\n",
    "- We will start by loading the dataset"
   ],
   "metadata": {
    "collapsed": false
   }
  },
  {
   "cell_type": "code",
   "execution_count": 3,
   "outputs": [
    {
     "data": {
      "text/plain": "   caseid  year   age  sex  polviews  partyid  indus10\n0       1  1974  21.0    1       4.0      2.0   4970.0\n1       2  1974  41.0    1       5.0      0.0   9160.0\n2       5  1974  58.0    2       6.0      1.0   2670.0\n3       6  1974  30.0    1       5.0      4.0   6870.0\n4       7  1974  48.0    1       5.0      4.0   7860.0",
      "text/html": "<div>\n<style scoped>\n    .dataframe tbody tr th:only-of-type {\n        vertical-align: middle;\n    }\n\n    .dataframe tbody tr th {\n        vertical-align: top;\n    }\n\n    .dataframe thead th {\n        text-align: right;\n    }\n</style>\n<table border=\"1\" class=\"dataframe\">\n  <thead>\n    <tr style=\"text-align: right;\">\n      <th></th>\n      <th>caseid</th>\n      <th>year</th>\n      <th>age</th>\n      <th>sex</th>\n      <th>polviews</th>\n      <th>partyid</th>\n      <th>indus10</th>\n    </tr>\n  </thead>\n  <tbody>\n    <tr>\n      <th>0</th>\n      <td>1</td>\n      <td>1974</td>\n      <td>21.0</td>\n      <td>1</td>\n      <td>4.0</td>\n      <td>2.0</td>\n      <td>4970.0</td>\n    </tr>\n    <tr>\n      <th>1</th>\n      <td>2</td>\n      <td>1974</td>\n      <td>41.0</td>\n      <td>1</td>\n      <td>5.0</td>\n      <td>0.0</td>\n      <td>9160.0</td>\n    </tr>\n    <tr>\n      <th>2</th>\n      <td>5</td>\n      <td>1974</td>\n      <td>58.0</td>\n      <td>2</td>\n      <td>6.0</td>\n      <td>1.0</td>\n      <td>2670.0</td>\n    </tr>\n    <tr>\n      <th>3</th>\n      <td>6</td>\n      <td>1974</td>\n      <td>30.0</td>\n      <td>1</td>\n      <td>5.0</td>\n      <td>4.0</td>\n      <td>6870.0</td>\n    </tr>\n    <tr>\n      <th>4</th>\n      <td>7</td>\n      <td>1974</td>\n      <td>48.0</td>\n      <td>1</td>\n      <td>5.0</td>\n      <td>4.0</td>\n      <td>7860.0</td>\n    </tr>\n  </tbody>\n</table>\n</div>"
     },
     "execution_count": 3,
     "metadata": {},
     "output_type": "execute_result"
    }
   ],
   "source": [
    "import pandas as pd\n",
    "import pathlib\n",
    "\n",
    "gss_file_location = pathlib.Path(\"../..\") / \"data\" / \"Think Bayes\" / \"Chapter 1\" / \"gss_bayes.csv\"\n",
    "gss_data = pd.read_csv(gss_file_location)\n",
    "gss_data.head()"
   ],
   "metadata": {
    "collapsed": false,
    "pycharm": {
     "name": "#%%\n"
    }
   }
  },
  {
   "cell_type": "markdown",
   "source": [
    "The DataFrame has one row for each person surveyed and one column for each variable I selected.\n",
    "\n",
    "The columns are:\n",
    "\n",
    "- caseid: Respondent id (which is the index of the table).\n",
    "- year: Year when the respondent was surveyed.\n",
    "- age: Respondent’s age when surveyed.\n",
    "- sex: Male or female.\n",
    "- polviews: Political views on a range from liberal to conservative.\n",
    "- partyid: Political party affiliation, Democrat, Independent, or Republican.\n",
    "- indus10: [Code](https://www.census.gov/eos/www/naics/) for the industry the respondent works in.\n",
    "\n",
    "- We will be using indus10 to find the bankers in the dataset, using the code reference we know that bankers are under the code of 6870. So we can see all of them here:"
   ],
   "metadata": {
    "collapsed": false,
    "pycharm": {
     "name": "#%% md\n"
    }
   }
  },
  {
   "cell_type": "code",
   "execution_count": 4,
   "outputs": [
    {
     "data": {
      "text/plain": "0    False\n1    False\n2    False\n3     True\n4    False\nName: indus10, dtype: bool"
     },
     "execution_count": 4,
     "metadata": {},
     "output_type": "execute_result"
    }
   ],
   "source": [
    "banker = (gss_data.indus10 == 6870)\n",
    "banker.head()"
   ],
   "metadata": {
    "collapsed": false,
    "pycharm": {
     "name": "#%%\n"
    }
   }
  },
  {
   "cell_type": "markdown",
   "source": [
    "If we do a sum on the bankers we will find out the number of bankers in the dataset:"
   ],
   "metadata": {
    "collapsed": false,
    "pycharm": {
     "name": "#%% md\n"
    }
   }
  },
  {
   "cell_type": "code",
   "execution_count": 5,
   "outputs": [
    {
     "data": {
      "text/plain": "'Number of Bankers: 728'"
     },
     "execution_count": 5,
     "metadata": {},
     "output_type": "execute_result"
    }
   ],
   "source": [
    "f\"Number of Bankers: {banker.sum()}\""
   ],
   "metadata": {
    "collapsed": false,
    "pycharm": {
     "name": "#%%\n"
    }
   }
  },
  {
   "cell_type": "markdown",
   "source": [
    "- To find the proportion of the bankers in the sample we can use the `mean` function which will compute the fraction of True values."
   ],
   "metadata": {
    "collapsed": false,
    "pycharm": {
     "name": "#%% md\n"
    }
   }
  },
  {
   "cell_type": "code",
   "execution_count": 6,
   "outputs": [
    {
     "data": {
      "text/plain": "'The proportion of bankers is: 0.014769730168391155'"
     },
     "execution_count": 6,
     "metadata": {},
     "output_type": "execute_result"
    }
   ],
   "source": [
    "f\"The proportion of bankers is: {banker.mean()}\""
   ],
   "metadata": {
    "collapsed": false,
    "pycharm": {
     "name": "#%%\n"
    }
   }
  },
  {
   "cell_type": "markdown",
   "source": [
    "This means that about 1.5% of the respondents work in banking. So if we chose someone at random from the sample there is a probability of 1.5% that they are a banker."
   ],
   "metadata": {
    "collapsed": false,
    "pycharm": {
     "name": "#%% md\n"
    }
   }
  },
  {
   "cell_type": "markdown",
   "source": [
    "## The Probability Function\n",
    "\n",
    "- To make things easier we can take the code we have used in the previous examples and put it into a method that will return probabilities as long as they are Boolean Series:"
   ],
   "metadata": {
    "collapsed": false,
    "pycharm": {
     "name": "#%% md\n"
    }
   }
  },
  {
   "cell_type": "code",
   "execution_count": 7,
   "outputs": [
    {
     "data": {
      "text/plain": "'The Probability of being a banker is: 0.014769730168391155'"
     },
     "execution_count": 7,
     "metadata": {},
     "output_type": "execute_result"
    }
   ],
   "source": [
    "def prob(A):\n",
    "    return A.mean()\n",
    "\n",
    "f\"The Probability of being a banker is: {prob(banker)}\""
   ],
   "metadata": {
    "collapsed": false,
    "pycharm": {
     "name": "#%%\n"
    }
   }
  },
  {
   "cell_type": "markdown",
   "source": [
    "- going back to the example of Linda the Banker we can now look at some of the other variables such as the Gender (2 is female):"
   ],
   "metadata": {
    "collapsed": false
   }
  },
  {
   "cell_type": "code",
   "execution_count": 8,
   "outputs": [
    {
     "data": {
      "text/plain": "'The probability of being female is 0.5378575776019476'"
     },
     "execution_count": 8,
     "metadata": {},
     "output_type": "execute_result"
    }
   ],
   "source": [
    "female = (gss_data.sex == 2 )\n",
    "f\"The probability of being female is {prob(female)}\""
   ],
   "metadata": {
    "collapsed": false,
    "pycharm": {
     "name": "#%%\n"
    }
   }
  },
  {
   "cell_type": "markdown",
   "source": [
    "### The Political Views and Parties\n",
    "\n",
    "- The other variables we will consider for this example is the political views and parties:\n",
    "    - We need to define Liberal as True in the `polviews` Column which is values less than 4.\n",
    "    - We will also get the value for democrats (Which is 0 or 1) in `partyid`."
   ],
   "metadata": {
    "collapsed": false,
    "pycharm": {
     "name": "#%% md\n"
    }
   }
  },
  {
   "cell_type": "code",
   "execution_count": 9,
   "outputs": [
    {
     "data": {
      "text/plain": "'The Probability of being Liberal is 0.27374721038750255'"
     },
     "execution_count": 9,
     "metadata": {},
     "output_type": "execute_result"
    }
   ],
   "source": [
    "liberal = (gss_data.polviews <= 3 )\n",
    "f\"The Probability of being Liberal is {prob(liberal)}\""
   ],
   "metadata": {
    "collapsed": false,
    "pycharm": {
     "name": "#%%\n"
    }
   }
  },
  {
   "cell_type": "code",
   "execution_count": 10,
   "outputs": [
    {
     "data": {
      "text/plain": "'The probability of being a democrat is: 0.3662609048488537'"
     },
     "execution_count": 10,
     "metadata": {},
     "output_type": "execute_result"
    }
   ],
   "source": [
    "democrat = (gss_data.partyid<=1)\n",
    "f\"The probability of being a democrat is: {prob(democrat)}\""
   ],
   "metadata": {
    "collapsed": false,
    "pycharm": {
     "name": "#%%\n"
    }
   }
  },
  {
   "cell_type": "markdown",
   "source": [
    "### Conjunction\n",
    "\n",
    "- This is another name for a logical and operation.\n",
    "- In python we can use the `&` operator to perform this action.\n",
    "    -   for instance let's calculate the probability that someone is a banker and Democrat:"
   ],
   "metadata": {
    "collapsed": false,
    "pycharm": {
     "name": "#%% md\n"
    }
   }
  },
  {
   "cell_type": "code",
   "execution_count": 11,
   "outputs": [
    {
     "data": {
      "text/plain": "'The Probability of being a Democrat and Banker is: 0.004686548995739501'"
     },
     "execution_count": 11,
     "metadata": {},
     "output_type": "execute_result"
    }
   ],
   "source": [
    "f\"The Probability of being a Democrat and Banker is: {prob(banker & democrat)}\""
   ],
   "metadata": {
    "collapsed": false,
    "pycharm": {
     "name": "#%%\n"
    }
   }
  },
  {
   "cell_type": "markdown",
   "source": [
    "- We do expect that the conjunction will be communative: $$P(Banker & Democrat) = P(Democrat & Banker)$$"
   ],
   "metadata": {
    "collapsed": false,
    "pycharm": {
     "name": "#%% md\n"
    }
   }
  },
  {
   "cell_type": "markdown",
   "source": [
    "### Conditional Probability\n",
    "\n",
    " - This is a probability that depends on a condition.\n",
    " - Let's look at an example where we are looking for the following:\n",
    "    - what is the probability that a respondent is a Democrat given that they are liberal\n",
    " - or written in a different way:\n",
    "    - Of all the respondents that are liberal, what fraction of them are democrats"
   ],
   "metadata": {
    "collapsed": false,
    "pycharm": {
     "name": "#%% md\n"
    }
   }
  },
  {
   "cell_type": "code",
   "execution_count": 12,
   "outputs": [
    {
     "data": {
      "text/plain": "'The probability of being a democrat given that the respondent is a liberal is: 0.5206403320240125'"
     },
     "execution_count": 12,
     "metadata": {},
     "output_type": "execute_result"
    }
   ],
   "source": [
    "democrat_liberal = democrat[liberal]\n",
    "f\"The probability of being a democrat given that the respondent is a liberal is: {prob(democrat_liberal)}\""
   ],
   "metadata": {
    "collapsed": false,
    "pycharm": {
     "name": "#%%\n"
    }
   }
  },
  {
   "cell_type": "raw",
   "source": [],
   "metadata": {
    "collapsed": false,
    "pycharm": {
     "name": "#%% raw\n"
    }
   }
  },
  {
   "cell_type": "raw",
   "source": [
    " - Looking at the code we can see that we are slicing the democrat boolean with the liberal boolean.\n",
    " - We can now create a new method for conditional probability:"
   ],
   "metadata": {
    "collapsed": false,
    "pycharm": {
     "name": "#%% raw\n"
    }
   }
  },
  {
   "cell_type": "code",
   "execution_count": 13,
   "outputs": [],
   "source": [
    "def conditional(proposition, given):\n",
    "    return prob(proposition[given])"
   ],
   "metadata": {
    "collapsed": false,
    "pycharm": {
     "name": "#%%\n"
    }
   }
  },
  {
   "cell_type": "markdown",
   "source": [
    " - We can now try this method out to check the conditional probabilty of being a liberal given that you are female:"
   ],
   "metadata": {
    "collapsed": false,
    "pycharm": {
     "name": "#%% md\n"
    }
   }
  },
  {
   "cell_type": "code",
   "execution_count": 14,
   "outputs": [
    {
     "data": {
      "text/plain": "'The probability of being liberal given that you are female is 0.27581004111500884'"
     },
     "execution_count": 14,
     "metadata": {},
     "output_type": "execute_result"
    }
   ],
   "source": [
    "f\"The probability of being liberal given that you are female is {conditional(liberal, given = female)}\""
   ],
   "metadata": {
    "collapsed": false,
    "pycharm": {
     "name": "#%%\n"
    }
   }
  },
  {
   "cell_type": "markdown",
   "source": [
    " - So about 28% of females are liberal\n",
    "\n",
    "### Conditional Probability is not Communative:\n",
    "\n",
    "- While this is true for conjunctions it is not true for conditional probability.\n",
    "- With the data we have and the methods it should be easy to prove:"
   ],
   "metadata": {
    "collapsed": false,
    "pycharm": {
     "name": "#%% md\n"
    }
   }
  },
  {
   "cell_type": "code",
   "execution_count": 15,
   "outputs": [
    {
     "data": {
      "text/plain": "'Conditional probability is not equal 1: 0.7706043956043956, 2: 0.02116102749801969'"
     },
     "execution_count": 15,
     "metadata": {},
     "output_type": "execute_result"
    }
   ],
   "source": [
    "f\"Conditional probability is not equal 1: {conditional(female, given=banker)}, 2: {conditional(banker,given=female)}\""
   ],
   "metadata": {
    "collapsed": false,
    "pycharm": {
     "name": "#%%\n"
    }
   }
  },
  {
   "cell_type": "markdown",
   "source": [
    "### Condition and Conjunction:\n",
    "\n",
    "- We can combine conjunctions with conditional probability.\n",
    "- let's look at an example of the probability of being female given that you are a Liberal Democrat:"
   ],
   "metadata": {
    "collapsed": false,
    "pycharm": {
     "name": "#%% md\n"
    }
   }
  },
  {
   "cell_type": "code",
   "execution_count": 16,
   "outputs": [
    {
     "data": {
      "text/plain": "'The Probability of being female given a respondent being a Liberal Democrat is 0.576085409252669'"
     },
     "execution_count": 16,
     "metadata": {},
     "output_type": "execute_result"
    }
   ],
   "source": [
    "f\"The Probability of being female given a respondent being a Liberal Democrat is {conditional(female, given= liberal & democrat)}\""
   ],
   "metadata": {
    "collapsed": false,
    "pycharm": {
     "name": "#%%\n"
    }
   }
  },
  {
   "cell_type": "markdown",
   "source": [
    "- And inversely:"
   ],
   "metadata": {
    "collapsed": false,
    "pycharm": {
     "name": "#%% md\n"
    }
   }
  },
  {
   "cell_type": "code",
   "execution_count": 17,
   "outputs": [
    {
     "data": {
      "text/plain": "'The probabilty of being Female and liberal given that the respondent is a banker is: 0.17307692307692307'"
     },
     "execution_count": 17,
     "metadata": {},
     "output_type": "execute_result"
    }
   ],
   "source": [
    "f\"The probabilty of being Female and liberal given that the respondent is a banker is: {conditional(female & liberal,given=banker)}\""
   ],
   "metadata": {
    "collapsed": false,
    "pycharm": {
     "name": "#%%\n"
    }
   }
  },
  {
   "cell_type": "markdown",
   "source": [
    "### Laws of Probability\n",
    "\n",
    "- this will take us through some derivations to get three relationships between conditional probability and conjunctions:\n",
    "    - Theorem 1: Using a conjunction to compute a conditional probability.\n",
    "    - Theorem 2: Using a conditional probability to compute a conjunction.\n",
    "    - Theorem 3: Using conditional(A, B) to compute conditional(B, A).\n",
    "- Theorem 3 is called Bayes Theorem.\n",
    "\n",
    "#### Theorem 1\n",
    "\n",
    "- For this we will use: `What fraction of bankers are female?`\n",
    "- We can use our methods to answer this:"
   ],
   "metadata": {
    "collapsed": false,
    "pycharm": {
     "name": "#%% md\n"
    }
   }
  },
  {
   "cell_type": "code",
   "execution_count": 18,
   "outputs": [
    {
     "data": {
      "text/plain": "'Fraction of Females that are bankers 0.7706043956043956'"
     },
     "execution_count": 18,
     "metadata": {},
     "output_type": "execute_result"
    }
   ],
   "source": [
    "f\"Fraction of Females that are bankers {conditional(female, given=banker)}\""
   ],
   "metadata": {
    "collapsed": false,
    "pycharm": {
     "name": "#%%\n"
    }
   }
  },
  {
   "cell_type": "markdown",
   "source": [
    "- There is another way to calculate this conditional probability, by computing the ratios of the two probabilities:\n",
    "    - The fraction of females that are female bankers\n",
    "    - The fraction of respondents that are bankers\n",
    "- we will be calculating the following ratio:\n",
    "$$P(Female | Banker) = \\frac{P(Female \\cap Banker)}{P(Banker)} $$\n",
    "- And using python we can see this is the case:"
   ],
   "metadata": {
    "collapsed": false,
    "pycharm": {
     "name": "#%% md\n"
    }
   }
  },
  {
   "cell_type": "code",
   "execution_count": 19,
   "outputs": [
    {
     "data": {
      "text/plain": "'This should be the same as: 0.7706043956043956'"
     },
     "execution_count": 19,
     "metadata": {},
     "output_type": "execute_result"
    }
   ],
   "source": [
    "f\"This should be the same as: {prob(female & banker)/prob(banker)}\""
   ],
   "metadata": {
    "collapsed": false,
    "pycharm": {
     "name": "#%%\n"
    }
   }
  },
  {
   "cell_type": "markdown",
   "source": [
    "#### Theorem 2\n",
    "\n",
    "- If we start with Theorem 1 and multiply both sides by `P(Banker)` we get the following:\n",
    "$$P(Female \\cap Banker) = P(Female | Banker) P(Banker)$$\n",
    "- This is a second way that can be used to calculate the conjunction. We can check this with our python script:"
   ],
   "metadata": {
    "collapsed": false,
    "pycharm": {
     "name": "#%% md\n"
    }
   }
  },
  {
   "cell_type": "code",
   "execution_count": 21,
   "outputs": [
    {
     "data": {
      "text/plain": "'These two should be equivalent 1: 0.011381618989653074, 2: 0.011381618989653074'"
     },
     "execution_count": 21,
     "metadata": {},
     "output_type": "execute_result"
    }
   ],
   "source": [
    "f\"These two should be equivalent 1: {prob(female & banker)}, 2: {conditional(female, given=banker)*prob(banker)}\""
   ],
   "metadata": {
    "collapsed": false,
    "pycharm": {
     "name": "#%%\n"
    }
   }
  },
  {
   "cell_type": "markdown",
   "source": [
    "#### Theorem 3\n",
    "\n",
    "- We have originaly proved that the conjunction is commutative which means that:\n",
    "$$P(A \\cap B) = P(B \\cap A) $$\n",
    "\n",
    "- if we apply theorem to both sides we get the following:\n",
    "$$P(B)P(A|B) = P(A)P(B|A)$$\n",
    "- The way to interpret this is the following:\n",
    "    - if we want to calculate A and B we can either:\n",
    "        - Calucalte A first and then B conditioned on A\n",
    "        - Calculate B first and then A conditioned on B\n",
    "- if we divide by `P(B)` then we get theorem 3:\n",
    "$$P(A|B) = \\frac{P(A)P(B|A)}{P(B)}$$"
   ],
   "metadata": {
    "collapsed": false,
    "pycharm": {
     "name": "#%% md\n"
    }
   }
  },
  {
   "cell_type": "markdown",
   "source": [
    "- And this is Bayes Theorem.\n",
    "### The Law of Total Probability\n",
    "\n",
    "- In addition to the three Probabilities there is one more thing that needs to be known for Bayesian Statistics: The Law of total probability.\n",
    "-Here is one form of the law expressed as a mathamatical equation:\n",
    "\n",
    "$$P(A) = P(A \\cap B_1) + P(A \\cap B_2) $$\n",
    "- in words: the total probability of `A` is the sum of the possibilities either B1 and A is True or B2 and A is True but the law only applies if B1 and B2 are:\n",
    "    - Mutually Exclusive\n",
    "    - Collectively Exhaustive, One of them must be true\n",
    "- As an example consider the probability of a respondent being a Banker:"
   ],
   "metadata": {
    "collapsed": false,
    "pycharm": {
     "name": "#%% md\n"
    }
   }
  },
  {
   "cell_type": "code",
   "execution_count": 23,
   "outputs": [
    {
     "data": {
      "text/plain": "'The probability that a respondent is a banker: 0.014769730168391155'"
     },
     "execution_count": 23,
     "metadata": {},
     "output_type": "execute_result"
    }
   ],
   "source": [
    "f\"The probability that a respondent is a banker: {prob(banker)}\""
   ],
   "metadata": {
    "collapsed": false,
    "pycharm": {
     "name": "#%%\n"
    }
   }
  },
  {
   "cell_type": "markdown",
   "source": [
    "- Let's now confirm the same thing if we compute Female and Male Bankers seperately:"
   ],
   "metadata": {
    "collapsed": false,
    "pycharm": {
     "name": "#%% md\n"
    }
   }
  },
  {
   "cell_type": "code",
   "execution_count": 25,
   "outputs": [
    {
     "data": {
      "text/plain": "'The Probability of being a female banker is: 0.011381618989653074, the probabilty of being a male banker is 0.003388111178738081 and the combined probability is 0.014769730168391155'"
     },
     "execution_count": 25,
     "metadata": {},
     "output_type": "execute_result"
    }
   ],
   "source": [
    "male = (gss_data.sex==1)\n",
    "f\"The Probability of being a female banker is: {prob(banker & female)}, the probabilty of being a male banker is {prob(banker & male)} and the combined probability is {prob(female & banker) + prob(male & banker)}\""
   ],
   "metadata": {
    "collapsed": false,
    "pycharm": {
     "name": "#%%\n"
    }
   }
  },
  {
   "cell_type": "markdown",
   "source": [
    "- We could also sub in Theorem 2 to give us the following equation:\n",
    "$$ P(A) = P(B_1)P(A|B_1) + P(B_2)P(A|B_2)$$\n",
    "- If we have more than two conditions it may be easier to write the equation as a summation using mathamatical notation.\n",
    "- this could be generalised in the python code using the following:\n",
    "    - for the example we will be looking at the political views"
   ],
   "metadata": {
    "collapsed": false,
    "pycharm": {
     "name": "#%% md\n"
    }
   }
  },
  {
   "cell_type": "code",
   "execution_count": 28,
   "outputs": [
    {
     "data": {
      "text/plain": "4.0    18943\n5.0     7940\n6.0     7319\n3.0     6243\n2.0     5808\n7.0     1595\n1.0     1442\nName: polviews, dtype: int64"
     },
     "execution_count": 28,
     "metadata": {},
     "output_type": "execute_result"
    }
   ],
   "source": [
    "B = gss_data.polviews\n",
    "pd.value_counts(B)"
   ],
   "metadata": {
    "collapsed": false,
    "pycharm": {
     "name": "#%%\n"
    }
   }
  },
  {
   "cell_type": "markdown",
   "source": [
    "- On this scale 4 represents moderate so we can calculate the probability of a moderate Banker as:"
   ],
   "metadata": {
    "collapsed": false,
    "pycharm": {
     "name": "#%% md\n"
    }
   }
  },
  {
   "cell_type": "code",
   "execution_count": 30,
   "outputs": [
    {
     "data": {
      "text/plain": "'The Probability of a moderate banker is 0.005822682085615744'"
     },
     "execution_count": 30,
     "metadata": {},
     "output_type": "execute_result"
    }
   ],
   "source": [
    "i = 4\n",
    "f\"The Probability of a moderate banker is {prob(B==i)*conditional(banker,B==i)}\""
   ],
   "metadata": {
    "collapsed": false,
    "pycharm": {
     "name": "#%%\n"
    }
   }
  },
  {
   "cell_type": "markdown",
   "source": [
    "- And we can use sum and a generator expression to compute the summation:"
   ],
   "metadata": {
    "collapsed": false,
    "pycharm": {
     "name": "#%% md\n"
    }
   }
  },
  {
   "cell_type": "code",
   "execution_count": 31,
   "outputs": [
    {
     "data": {
      "text/plain": "0.014769730168391157"
     },
     "execution_count": 31,
     "metadata": {},
     "output_type": "execute_result"
    }
   ],
   "source": [
    "sum(prob(B==i)*conditional(banker,B==i)\n",
    "    for i in range(1,8))"
   ],
   "metadata": {
    "collapsed": false,
    "pycharm": {
     "name": "#%%\n"
    }
   }
  },
  {
   "cell_type": "markdown",
   "source": [
    "## Summary\n",
    "\n",
    "- Some things to note about this chapter:\n",
    "    - Theorem 1 gives us a way to calculate confitional probability\n",
    "    - Theorem 2 gives us a way to calculate a conjuntion using conditional probability.\n",
    "    - Theorem 3, also know as Bayes theorem lets us switch the conditional probabiities around\n",
    "    - The law of total probability gives us a way to add up all the pieces.\n",
    "- We will see how these formulas will be useful to us later.\n",
    "\n",
    "## Source\n",
    "\n",
    "[Chapter 1 - Think Bayes 2](http://allendowney.github.io/ThinkBayes2/chap01.html)"
   ],
   "metadata": {
    "collapsed": false
   }
  }
 ],
 "metadata": {
  "kernelspec": {
   "display_name": "Python 3",
   "language": "python",
   "name": "python3"
  },
  "language_info": {
   "codemirror_mode": {
    "name": "ipython",
    "version": 2
   },
   "file_extension": ".py",
   "mimetype": "text/x-python",
   "name": "python",
   "nbconvert_exporter": "python",
   "pygments_lexer": "ipython2",
   "version": "2.7.6"
  }
 },
 "nbformat": 4,
 "nbformat_minor": 0
}