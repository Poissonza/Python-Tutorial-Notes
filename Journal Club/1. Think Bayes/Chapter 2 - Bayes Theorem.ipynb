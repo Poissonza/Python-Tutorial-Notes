{
 "cells": [
  {
   "cell_type": "markdown",
   "metadata": {
    "collapsed": true,
    "pycharm": {
     "name": "#%% md\n"
    }
   },
   "source": [
    "# Bayes Theorem\n",
    "\n",
    "## Table of Contents\n",
    "\n",
    "1. [Introduction](#Introduction)\n",
    "2. [The Cookie Problem](#The-Cookie-Problem)\n",
    "3. [Diachronic Bayes](#Diachronic-Bayes)\n",
    "4. [The Dice Problem](#The-Dice-Problem)\n",
    "5. [The Monty Hall Problem](#The-Monty-Hall-Problem)\n",
    "\n",
    "\n",
    "## Introduction\n",
    "\n",
    "- In the previous chapter we derived Bayes Theorem, Seeing as we had a dataset with the population data there was no purpose in us using the theorem as we already had all the information we needed.\n",
    "- in the previous chapter it was easy enough calculate the left side:\n",
    "$$P(A|B)$$\n",
    "than the right:\n",
    "$$\\frac{P(A)P(B|A)}{P(B)}$$\n",
    "As we already had data to calculate the values.\n",
    "- But often we dont have the complete data set so this is when Bayes Theorem is more useful.\n",
    "\n",
    "## The Cookie Problem\n",
    "\n",
    "- One of the first examples we will look at is a thin version of the `Urn Problem`:\n",
    "    - Suppose there are two bowls of Cookies:\n",
    "        - Bowl 1 contains 30 Vanilla Cookies and 10 Chocolate Cookies\n",
    "        - Bowl 2 contains 20 Vanilla Cookes and 20 Chocolate Cookies\n",
    "    - Now suppose that you pick a Bowl at random and without looking take a cookie from the Bowl.\n",
    "    - If the cookie is vanilla what is the probability that it came from Bowl 1?\n",
    "    - In Mathamatical terms it is `P(B1|V)` or what is the conditional probability of picking Bowl 1 given that we have a Vanilla Cookie.\n",
    "- From the original description of the problem we have the following informaiton:\n",
    "    - The conditional probability of getting a Vanilla cookie given Bowl 1 `P(V|B1)`\n",
    "    - The conditional probability of getting a Vanilla Cookie given Bowl 2 `P(v|B2)`.\n",
    "- These are both pieces of information that is not required in answering the question but using Bayes Theorem we can calculate the Conditional Probability using the inverse Conditional Probability.\n",
    "- Looking back at the problem we have the following:\n",
    "    - The Probability of picking Bowl 1 `P(B1)` which is 0.5 as there are two and we pick one at random(This is an assumption on our side).\n",
    "    - The Probability of getting a Vanilla Cookie Given Bowl 1 `P(V|B1)` which is 0.75 (Based on what we have been given).\n",
    "    - The Probability of getting a Vanilla Cookie Given Bowl 2 `P(V|B2)` which is 0.5 (Based on what we have been given).\n",
    "    - The Probability of getting a Vanilla Cookie from either Bowl `P(V)`.\n",
    "- To calculate `P(V)` we can use the law of total probability:\n",
    "$$P(V) = P(B_1)P(V|B_1) + P(B_2)P(V|B_2)$$\n",
    "$$= (0.5)(0.75) + (0.5)(0.5) = \\frac{5}{8}$$\n",
    "- We could have also calculated the result directly because:\n",
    "    - Since the bowls have an equal chance of being picked and there is equal cookies in each jar means there is an equal chance of selecting a cookie.\n",
    "    - Between the two Bowls we have 50 Vanilla Cookies and 30 Chocolate ones which is the 5/8.\n",
    "- Finally we will apply Bayes Theorem and solve the problem:\n",
    "$$P(B_1|V) = \\frac{(\\frac{1}{2})(\\frac{3}{4})}{\\frac{5}{8}} = \\frac{3}{5}$$\n",
    "\n",
    "## Diachronic Bayes\n",
    "\n",
    "- There is another way of thinking about Bayes Theorem, it gives us a way to update the probability of a hypothesis , `H`, given some body of data `D`.\n",
    "- This interpretation is Diachronic, which means changing over time.\n",
    "- We can now Supstitute the New variables into Bayes Theorem to look like the following:\n",
    "$$P(H|D) = \\frac{P(H)P(D|H)}{P(D)} $$\n",
    "- In this interpretation we name the following:\n",
    "    - `P(H)` is the probability of the hypothesis before we see the body of data, Also called the Prior Probability or just Prior.\n",
    "    - `P(H|D)` is the probability of the hypothesis after we have seen the data. Called the Posterior.\n",
    "    - `P(D|H)` is the probability of the data under the hypothesis called the likelihood.\n",
    "    - `P(D)` is the total probability of the data, under any hypothesis.\n",
    "- Sometimes the Prior can be calculated with the information givern for instance the Cookie problem gives us the Bowls with the cookie probabilites.\n",
    "- In other cases the Prior can be subjective and reasonable people may disagree on the value we should set for this value.\n",
    "- The Likelihood is usually the easiest part to calculate, In the cookie Bowl problem we were given the number of cookies in the Bowl and we could calculate the probability of each cookie in each Bowl.\n",
    "- Computing the total probability of the data can be tricky, it is supposed to be the probability of the data under any hypothesis at all.\n",
    "- Most often we simplify things by specifying a set of hypothesis that are:\n",
    "    - Mutually exclusive.\n",
    "    - Collectively Exhaustive, The correct solution must be in the set.\n",
    "- When these conditions apply we can calculate the Total Probability with the following:\n",
    "$$P(D) = P(H_1)(P(D|H_1) + P(H_2)P(D|H_2)$$\n",
    "\n",
    "## Bayes Tables\n",
    "\n",
    "- A convienent tool to doing a Bayesian update is Bayes Tables. You can write Bayes Tables on Paper or do it in Python.\n",
    "- We will first make an empty DataFrame\n"
   ]
  },
  {
   "cell_type": "code",
   "execution_count": 19,
   "outputs": [],
   "source": [
    "import pandas as pd\n",
    "table = pd.DataFrame(index=[\"Bowl 1\", \"Bowl 2\"])"
   ],
   "metadata": {
    "collapsed": false,
    "pycharm": {
     "name": "#%%\n"
    }
   }
  },
  {
   "cell_type": "markdown",
   "source": [
    " - Now we can add a column to represent the Priors:"
   ],
   "metadata": {
    "collapsed": false
   }
  },
  {
   "cell_type": "code",
   "execution_count": 20,
   "outputs": [
    {
     "data": {
      "text/plain": "        priors\nBowl 1     0.5\nBowl 2     0.5",
      "text/html": "<div>\n<style scoped>\n    .dataframe tbody tr th:only-of-type {\n        vertical-align: middle;\n    }\n\n    .dataframe tbody tr th {\n        vertical-align: top;\n    }\n\n    .dataframe thead th {\n        text-align: right;\n    }\n</style>\n<table border=\"1\" class=\"dataframe\">\n  <thead>\n    <tr style=\"text-align: right;\">\n      <th></th>\n      <th>priors</th>\n    </tr>\n  </thead>\n  <tbody>\n    <tr>\n      <th>Bowl 1</th>\n      <td>0.5</td>\n    </tr>\n    <tr>\n      <th>Bowl 2</th>\n      <td>0.5</td>\n    </tr>\n  </tbody>\n</table>\n</div>"
     },
     "execution_count": 20,
     "metadata": {},
     "output_type": "execute_result"
    }
   ],
   "source": [
    "table[\"priors\"] = [0.5,0.5]\n",
    "table"
   ],
   "metadata": {
    "collapsed": false,
    "pycharm": {
     "name": "#%%\n"
    }
   }
  },
  {
   "cell_type": "markdown",
   "source": [
    " - And a Column for the Likelihoods"
   ],
   "metadata": {
    "collapsed": false,
    "pycharm": {
     "name": "#%% md\n"
    }
   }
  },
  {
   "cell_type": "code",
   "execution_count": 21,
   "outputs": [
    {
     "data": {
      "text/plain": "        priors  likelihood\nBowl 1     0.5        0.75\nBowl 2     0.5        0.50",
      "text/html": "<div>\n<style scoped>\n    .dataframe tbody tr th:only-of-type {\n        vertical-align: middle;\n    }\n\n    .dataframe tbody tr th {\n        vertical-align: top;\n    }\n\n    .dataframe thead th {\n        text-align: right;\n    }\n</style>\n<table border=\"1\" class=\"dataframe\">\n  <thead>\n    <tr style=\"text-align: right;\">\n      <th></th>\n      <th>priors</th>\n      <th>likelihood</th>\n    </tr>\n  </thead>\n  <tbody>\n    <tr>\n      <th>Bowl 1</th>\n      <td>0.5</td>\n      <td>0.75</td>\n    </tr>\n    <tr>\n      <th>Bowl 2</th>\n      <td>0.5</td>\n      <td>0.50</td>\n    </tr>\n  </tbody>\n</table>\n</div>"
     },
     "execution_count": 21,
     "metadata": {},
     "output_type": "execute_result"
    }
   ],
   "source": [
    "table[\"likelihood\"] = 3/4, 1/2\n",
    "table"
   ],
   "metadata": {
    "collapsed": false,
    "pycharm": {
     "name": "#%%\n"
    }
   }
  },
  {
   "cell_type": "markdown",
   "source": [
    " - With this methods we see the difference from the previous method as we are calculating all of the hypothesis and not just for Bowl 1:\n",
    "    - The hypothesis that the Vanilla Cookie came from Bowl 1.\n",
    "    - The hypothesis that the Vanilla Cookie came from Bowl 2.\n",
    " - If you are concerned that the likelihoods dont equal 1 when summated it is the probability of the Vanila cookie in each bowl so not going to equal 1.\n",
    " - The next step is similar to the previous method - We multiple the priors and Likelihood."
   ],
   "metadata": {
    "collapsed": false
   }
  },
  {
   "cell_type": "code",
   "execution_count": 22,
   "outputs": [
    {
     "data": {
      "text/plain": "        priors  likelihood  unnorm\nBowl 1     0.5        0.75   0.375\nBowl 2     0.5        0.50   0.250",
      "text/html": "<div>\n<style scoped>\n    .dataframe tbody tr th:only-of-type {\n        vertical-align: middle;\n    }\n\n    .dataframe tbody tr th {\n        vertical-align: top;\n    }\n\n    .dataframe thead th {\n        text-align: right;\n    }\n</style>\n<table border=\"1\" class=\"dataframe\">\n  <thead>\n    <tr style=\"text-align: right;\">\n      <th></th>\n      <th>priors</th>\n      <th>likelihood</th>\n      <th>unnorm</th>\n    </tr>\n  </thead>\n  <tbody>\n    <tr>\n      <th>Bowl 1</th>\n      <td>0.5</td>\n      <td>0.75</td>\n      <td>0.375</td>\n    </tr>\n    <tr>\n      <th>Bowl 2</th>\n      <td>0.5</td>\n      <td>0.50</td>\n      <td>0.250</td>\n    </tr>\n  </tbody>\n</table>\n</div>"
     },
     "execution_count": 22,
     "metadata": {},
     "output_type": "execute_result"
    }
   ],
   "source": [
    "table[\"unnorm\"] = table[\"priors\"] * table[\"likelihood\"]\n",
    "table"
   ],
   "metadata": {
    "collapsed": false,
    "pycharm": {
     "name": "#%%\n"
    }
   }
  },
  {
   "cell_type": "markdown",
   "source": [
    " - This multiplication is called the unnorm as it is the unmormalized Priors with each of them being a product of the prior and lieklihood:\n",
    "$$P(B_i)P(D|B_i)$$\n",
    " - This is the numerator of Bayes Theorem and if we add all of them together we get the Law of total Probability which is the denominator, which is:"
   ],
   "metadata": {
    "collapsed": false
   }
  },
  {
   "cell_type": "code",
   "execution_count": 23,
   "outputs": [
    {
     "data": {
      "text/plain": "0.625"
     },
     "execution_count": 23,
     "metadata": {},
     "output_type": "execute_result"
    }
   ],
   "source": [
    "table[\"unnorm\"].sum()"
   ],
   "metadata": {
    "collapsed": false,
    "pycharm": {
     "name": "#%%\n"
    }
   }
  },
  {
   "cell_type": "markdown",
   "source": [
    " - This is the same answer as we got in the previous method.\n",
    " - We can now calculate the posterior Probabilites"
   ],
   "metadata": {
    "collapsed": false,
    "pycharm": {
     "name": "#%% md\n"
    }
   }
  },
  {
   "cell_type": "code",
   "execution_count": 24,
   "outputs": [
    {
     "data": {
      "text/plain": "        priors  likelihood  unnorm  posterior\nBowl 1     0.5        0.75   0.375        0.6\nBowl 2     0.5        0.50   0.250        0.4",
      "text/html": "<div>\n<style scoped>\n    .dataframe tbody tr th:only-of-type {\n        vertical-align: middle;\n    }\n\n    .dataframe tbody tr th {\n        vertical-align: top;\n    }\n\n    .dataframe thead th {\n        text-align: right;\n    }\n</style>\n<table border=\"1\" class=\"dataframe\">\n  <thead>\n    <tr style=\"text-align: right;\">\n      <th></th>\n      <th>priors</th>\n      <th>likelihood</th>\n      <th>unnorm</th>\n      <th>posterior</th>\n    </tr>\n  </thead>\n  <tbody>\n    <tr>\n      <th>Bowl 1</th>\n      <td>0.5</td>\n      <td>0.75</td>\n      <td>0.375</td>\n      <td>0.6</td>\n    </tr>\n    <tr>\n      <th>Bowl 2</th>\n      <td>0.5</td>\n      <td>0.50</td>\n      <td>0.250</td>\n      <td>0.4</td>\n    </tr>\n  </tbody>\n</table>\n</div>"
     },
     "execution_count": 24,
     "metadata": {},
     "output_type": "execute_result"
    }
   ],
   "source": [
    "table[\"posterior\"] = table[\"unnorm\"] / table[\"unnorm\"].sum()\n",
    "table"
   ],
   "metadata": {
    "collapsed": false,
    "pycharm": {
     "name": "#%%\n"
    }
   }
  },
  {
   "cell_type": "markdown",
   "source": [
    " - The Posterior probability for Bowl 1 is 0.6 which is what we got when we used bayes Theorem and as a bonus we also get ther Posterior for Bowl 2.\n",
    " - By Diving by the unnorm we normalize the value so it will not add up to 1."
   ],
   "metadata": {
    "collapsed": false,
    "pycharm": {
     "name": "#%% md\n"
    }
   }
  },
  {
   "cell_type": "markdown",
   "source": [
    "## The Dice Problem\n",
    "\n",
    "- we can also use the Bayes Table to solve problems with two hypotheses. We can look at an example to show how:\n",
    "    - Suppose there is a box with a 6 sided dice, a 8 sided dice and a 12 sided dice. I choose one dice at random and roll it and report the outcome is 1. What is the probability that the dice is the 6 sided dice?\n",
    "- In this example there are three possible outcome as we have three dice that could be rolled and produce a value of 1.\n",
    "- Let's create a Bayes table to solve it:"
   ],
   "metadata": {
    "collapsed": false,
    "pycharm": {
     "name": "#%% md\n"
    }
   }
  },
  {
   "cell_type": "code",
   "execution_count": 25,
   "outputs": [
    {
     "data": {
      "text/plain": "            priors  likelihood    unnorm  posterior\n6 Sided   0.333333    0.166667  0.055556   0.444444\n8 Sided   0.333333    0.125000  0.041667   0.333333\n12 sided  0.333333    0.083333  0.027778   0.222222",
      "text/html": "<div>\n<style scoped>\n    .dataframe tbody tr th:only-of-type {\n        vertical-align: middle;\n    }\n\n    .dataframe tbody tr th {\n        vertical-align: top;\n    }\n\n    .dataframe thead th {\n        text-align: right;\n    }\n</style>\n<table border=\"1\" class=\"dataframe\">\n  <thead>\n    <tr style=\"text-align: right;\">\n      <th></th>\n      <th>priors</th>\n      <th>likelihood</th>\n      <th>unnorm</th>\n      <th>posterior</th>\n    </tr>\n  </thead>\n  <tbody>\n    <tr>\n      <th>6 Sided</th>\n      <td>0.333333</td>\n      <td>0.166667</td>\n      <td>0.055556</td>\n      <td>0.444444</td>\n    </tr>\n    <tr>\n      <th>8 Sided</th>\n      <td>0.333333</td>\n      <td>0.125000</td>\n      <td>0.041667</td>\n      <td>0.333333</td>\n    </tr>\n    <tr>\n      <th>12 sided</th>\n      <td>0.333333</td>\n      <td>0.083333</td>\n      <td>0.027778</td>\n      <td>0.222222</td>\n    </tr>\n  </tbody>\n</table>\n</div>"
     },
     "execution_count": 25,
     "metadata": {},
     "output_type": "execute_result"
    }
   ],
   "source": [
    "table_2 = pd.DataFrame(index = [\"6 Sided\", \"8 Sided\", \"12 sided\"])\n",
    "table_2[\"priors\"] = 1/3 , 1/3 , 1/3\n",
    "table_2[\"likelihood\"] = 1/6, 1/8, 1/12\n",
    "table_2[\"unnorm\"] = table_2.priors * table_2.likelihood\n",
    "table_2[\"posterior\"] = table_2.unnorm / table_2.unnorm.sum()\n",
    "table_2"
   ],
   "metadata": {
    "collapsed": false,
    "pycharm": {
     "name": "#%%\n"
    }
   }
  },
  {
   "cell_type": "markdown",
   "source": [
    "- From this we will say there is a probability of 0.44 for the 6 sided dice based on rolling a 1.\n",
    "\n",
    "## The Monty Hall Problem\n",
    "\n",
    "- This is one of the more famous probability puzzles that exists.\n",
    "- This is based on a game show and has the following conditions:\n",
    "    - The contestant needs to pick between 3 doors for a prize.\n",
    "    - Once they have picked a door the host opens one of the unpicked doors to show that the prize is not behind this door and offers the contestant to switch doors or stick with the originally picked one.\n",
    "- We are going to make a few assumptions to determine if we should stick or switch for the behaviour of the host:\n",
    "    - The Host always opens a door and offers to switch\n",
    "    - The Host will never open the picked door or the door with the car\n",
    "    - If the prize is behind the picked door they will pick the other doors at random\n",
    "    - The contestant has picked door 1 and Monty opens door 3.\n",
    "- Lets use a Bayes table to analyse this problem:"
   ],
   "metadata": {
    "collapsed": false
   }
  },
  {
   "cell_type": "code",
   "execution_count": 26,
   "outputs": [
    {
     "data": {
      "text/plain": "                        prior\nPrize Behind Door 1  0.333333\nPrize Behind Door 2  0.333333\nPrize Behind Door 3  0.333333",
      "text/html": "<div>\n<style scoped>\n    .dataframe tbody tr th:only-of-type {\n        vertical-align: middle;\n    }\n\n    .dataframe tbody tr th {\n        vertical-align: top;\n    }\n\n    .dataframe thead th {\n        text-align: right;\n    }\n</style>\n<table border=\"1\" class=\"dataframe\">\n  <thead>\n    <tr style=\"text-align: right;\">\n      <th></th>\n      <th>prior</th>\n    </tr>\n  </thead>\n  <tbody>\n    <tr>\n      <th>Prize Behind Door 1</th>\n      <td>0.333333</td>\n    </tr>\n    <tr>\n      <th>Prize Behind Door 2</th>\n      <td>0.333333</td>\n    </tr>\n    <tr>\n      <th>Prize Behind Door 3</th>\n      <td>0.333333</td>\n    </tr>\n  </tbody>\n</table>\n</div>"
     },
     "execution_count": 26,
     "metadata": {},
     "output_type": "execute_result"
    }
   ],
   "source": [
    "table_3 = pd.DataFrame(index=[\"Prize Behind Door 1\",\"Prize Behind Door 2\",\"Prize Behind Door 3\"])\n",
    "table_3[\"prior\"] = 1/3, 1/3, 1/3\n",
    "table_3"
   ],
   "metadata": {
    "collapsed": false,
    "pycharm": {
     "name": "#%%\n"
    }
   }
  },
  {
   "cell_type": "markdown",
   "source": [
    "- we set the Priors to be equal as the location of the prize is picked at random. so all doors have the same chance of having the prize.\n",
    "- The likelihood is something we need to consider with the original assumptions(Remember this is the likelihood the host will open door 3):\n",
    "    - if the car is behind door 1 then there is equal chance of the host picking the other doors.\n",
    "    - If the car is behind door 2 there there is a 100% chance that the host will open the 3rd door\n",
    "    - if the car is behind door 3 then the host will not be opening the door."
   ],
   "metadata": {
    "collapsed": false,
    "pycharm": {
     "name": "#%% md\n"
    }
   }
  },
  {
   "cell_type": "code",
   "execution_count": 27,
   "outputs": [
    {
     "data": {
      "text/plain": "                        prior  likelihood    unnorm  posterior\nPrize Behind Door 1  0.333333         0.5  0.166667   0.333333\nPrize Behind Door 2  0.333333         1.0  0.333333   0.666667\nPrize Behind Door 3  0.333333         0.0  0.000000   0.000000",
      "text/html": "<div>\n<style scoped>\n    .dataframe tbody tr th:only-of-type {\n        vertical-align: middle;\n    }\n\n    .dataframe tbody tr th {\n        vertical-align: top;\n    }\n\n    .dataframe thead th {\n        text-align: right;\n    }\n</style>\n<table border=\"1\" class=\"dataframe\">\n  <thead>\n    <tr style=\"text-align: right;\">\n      <th></th>\n      <th>prior</th>\n      <th>likelihood</th>\n      <th>unnorm</th>\n      <th>posterior</th>\n    </tr>\n  </thead>\n  <tbody>\n    <tr>\n      <th>Prize Behind Door 1</th>\n      <td>0.333333</td>\n      <td>0.5</td>\n      <td>0.166667</td>\n      <td>0.333333</td>\n    </tr>\n    <tr>\n      <th>Prize Behind Door 2</th>\n      <td>0.333333</td>\n      <td>1.0</td>\n      <td>0.333333</td>\n      <td>0.666667</td>\n    </tr>\n    <tr>\n      <th>Prize Behind Door 3</th>\n      <td>0.333333</td>\n      <td>0.0</td>\n      <td>0.000000</td>\n      <td>0.000000</td>\n    </tr>\n  </tbody>\n</table>\n</div>"
     },
     "execution_count": 27,
     "metadata": {},
     "output_type": "execute_result"
    }
   ],
   "source": [
    "table_3[\"likelihood\"] = 0.5,1,0\n",
    "table_3[\"unnorm\"] = table_3.prior * table_3.likelihood\n",
    "table_3[\"posterior\"] = table_3.unnorm / table_3.unnorm.sum()\n",
    "table_3"
   ],
   "metadata": {
    "collapsed": false,
    "pycharm": {
     "name": "#%%\n"
    }
   }
  },
  {
   "cell_type": "markdown",
   "source": [
    "- Based on the data in the table and the assumption that the contestant picked door 1 originally and the host opens door three:\n",
    "    - there is a higher chance of getting the prize from the Posterior probablities for Door 2\n",
    "    - So the contestant is better off in switching.\n",
    "\n",
    "## Source\n",
    "\n",
    "[Chapter 2](http://allendowney.github.io/ThinkBayes2/chap02.html)"
   ],
   "metadata": {
    "collapsed": false,
    "pycharm": {
     "name": "#%% md\n"
    }
   }
  },
  {
   "cell_type": "markdown",
   "source": [
    "## Exercises from the chapter:"
   ],
   "metadata": {
    "collapsed": false,
    "pycharm": {
     "name": "#%% md\n"
    }
   }
  },
  {
   "cell_type": "markdown",
   "source": [
    "There is two coins in a box with one being a trick coin, what is the probability of picking the trick coin given the flip ends on a heads?"
   ],
   "metadata": {
    "collapsed": false
   }
  },
  {
   "cell_type": "code",
   "execution_count": 28,
   "outputs": [
    {
     "data": {
      "text/plain": "             prior  likelihood  unnorm  posterior\nNormal Coin    0.5         0.5    0.25   0.333333\nTrick Coin     0.5         1.0    0.50   0.666667",
      "text/html": "<div>\n<style scoped>\n    .dataframe tbody tr th:only-of-type {\n        vertical-align: middle;\n    }\n\n    .dataframe tbody tr th {\n        vertical-align: top;\n    }\n\n    .dataframe thead th {\n        text-align: right;\n    }\n</style>\n<table border=\"1\" class=\"dataframe\">\n  <thead>\n    <tr style=\"text-align: right;\">\n      <th></th>\n      <th>prior</th>\n      <th>likelihood</th>\n      <th>unnorm</th>\n      <th>posterior</th>\n    </tr>\n  </thead>\n  <tbody>\n    <tr>\n      <th>Normal Coin</th>\n      <td>0.5</td>\n      <td>0.5</td>\n      <td>0.25</td>\n      <td>0.333333</td>\n    </tr>\n    <tr>\n      <th>Trick Coin</th>\n      <td>0.5</td>\n      <td>1.0</td>\n      <td>0.50</td>\n      <td>0.666667</td>\n    </tr>\n  </tbody>\n</table>\n</div>"
     },
     "execution_count": 28,
     "metadata": {},
     "output_type": "execute_result"
    }
   ],
   "source": [
    "table_4 = pd.DataFrame(index = [\"Normal Coin\", \"Trick Coin\"])\n",
    "\n",
    "table_4[\"prior\"] = 1/2, 1/2\n",
    "table_4[\"likelihood\"] = 1/2, 1\n",
    "table_4[\"unnorm\"] = table_4[\"prior\"] * table_4[\"likelihood\"]\n",
    "table_4[\"posterior\"] = table_4[\"unnorm\"] / sum(table_4[\"unnorm\"])\n",
    "\n",
    "table_4"
   ],
   "metadata": {
    "collapsed": false,
    "pycharm": {
     "name": "#%%\n"
    }
   }
  },
  {
   "cell_type": "markdown",
   "source": [
    "You talk to someone that has two children, they mention that one child is a girl what is the probability that both are girls (Hint is to create 4 options)"
   ],
   "metadata": {
    "collapsed": false
   }
  },
  {
   "cell_type": "code",
   "execution_count": 29,
   "outputs": [
    {
     "data": {
      "text/plain": "            prior  likelihood  unnorm  posterior\nGirl, Girl   0.25           1    0.25   0.333333\nGirl, Boy    0.25           1    0.25   0.333333\nBoy, Girl    0.25           1    0.25   0.333333\nBoy, Boy     0.25           0    0.00   0.000000",
      "text/html": "<div>\n<style scoped>\n    .dataframe tbody tr th:only-of-type {\n        vertical-align: middle;\n    }\n\n    .dataframe tbody tr th {\n        vertical-align: top;\n    }\n\n    .dataframe thead th {\n        text-align: right;\n    }\n</style>\n<table border=\"1\" class=\"dataframe\">\n  <thead>\n    <tr style=\"text-align: right;\">\n      <th></th>\n      <th>prior</th>\n      <th>likelihood</th>\n      <th>unnorm</th>\n      <th>posterior</th>\n    </tr>\n  </thead>\n  <tbody>\n    <tr>\n      <th>Girl, Girl</th>\n      <td>0.25</td>\n      <td>1</td>\n      <td>0.25</td>\n      <td>0.333333</td>\n    </tr>\n    <tr>\n      <th>Girl, Boy</th>\n      <td>0.25</td>\n      <td>1</td>\n      <td>0.25</td>\n      <td>0.333333</td>\n    </tr>\n    <tr>\n      <th>Boy, Girl</th>\n      <td>0.25</td>\n      <td>1</td>\n      <td>0.25</td>\n      <td>0.333333</td>\n    </tr>\n    <tr>\n      <th>Boy, Boy</th>\n      <td>0.25</td>\n      <td>0</td>\n      <td>0.00</td>\n      <td>0.000000</td>\n    </tr>\n  </tbody>\n</table>\n</div>"
     },
     "execution_count": 29,
     "metadata": {},
     "output_type": "execute_result"
    }
   ],
   "source": [
    "table_5 = pd.DataFrame(index = [\"Girl, Girl\", \"Girl, Boy\", \"Boy, Girl\", \"Boy, Boy\"])\n",
    "\n",
    "table_5[\"prior\"] = 1/4, 1/4, 1/4, 1/4\n",
    "table_5[\"likelihood\"]= 1, 1, 1, 0\n",
    "table_5[\"unnorm\"] = table_5[\"prior\"] * table_5[\"likelihood\"]\n",
    "table_5[\"posterior\"] = table_5[\"unnorm\"] / sum(table_5[\"unnorm\"])\n",
    "table_5"
   ],
   "metadata": {
    "collapsed": false,
    "pycharm": {
     "name": "#%%\n"
    }
   }
  },
  {
   "cell_type": "markdown",
   "source": [
    "M & M Bag with two distibutions of candies in 94 and 96 bags. what is the probability of a 94 bag given I get a yellow one"
   ],
   "metadata": {
    "collapsed": false,
    "pycharm": {
     "name": "#%% md\n"
    }
   }
  },
  {
   "cell_type": "code",
   "execution_count": 30,
   "outputs": [
    {
     "data": {
      "text/plain": "    prior  likelihood  unnorm  posterior\n94    0.5       0.040   0.020   0.740741\n96    0.5       0.014   0.007   0.259259",
      "text/html": "<div>\n<style scoped>\n    .dataframe tbody tr th:only-of-type {\n        vertical-align: middle;\n    }\n\n    .dataframe tbody tr th {\n        vertical-align: top;\n    }\n\n    .dataframe thead th {\n        text-align: right;\n    }\n</style>\n<table border=\"1\" class=\"dataframe\">\n  <thead>\n    <tr style=\"text-align: right;\">\n      <th></th>\n      <th>prior</th>\n      <th>likelihood</th>\n      <th>unnorm</th>\n      <th>posterior</th>\n    </tr>\n  </thead>\n  <tbody>\n    <tr>\n      <th>94</th>\n      <td>0.5</td>\n      <td>0.040</td>\n      <td>0.020</td>\n      <td>0.740741</td>\n    </tr>\n    <tr>\n      <th>96</th>\n      <td>0.5</td>\n      <td>0.014</td>\n      <td>0.007</td>\n      <td>0.259259</td>\n    </tr>\n  </tbody>\n</table>\n</div>"
     },
     "execution_count": 30,
     "metadata": {},
     "output_type": "execute_result"
    }
   ],
   "source": [
    "table_6 = pd.DataFrame(index = [\"94\", \"96\"])\n",
    "table_6[\"prior\"] = 1/2, 1/2\n",
    "table_6[\"likelihood\"] = 0.2*0.2, 0.14*0.1\n",
    "table_6[\"unnorm\"] = table_6[\"prior\"] * table_6[\"likelihood\"]\n",
    "table_6[\"posterior\"] = table_6[\"unnorm\"] / sum(table_6[\"unnorm\"])\n",
    "table_6"
   ],
   "metadata": {
    "collapsed": false,
    "pycharm": {
     "name": "#%%\n"
    }
   }
  }
 ],
 "metadata": {
  "kernelspec": {
   "display_name": "Python 3",
   "language": "python",
   "name": "python3"
  },
  "language_info": {
   "codemirror_mode": {
    "name": "ipython",
    "version": 2
   },
   "file_extension": ".py",
   "mimetype": "text/x-python",
   "name": "python",
   "nbconvert_exporter": "python",
   "pygments_lexer": "ipython2",
   "version": "2.7.6"
  }
 },
 "nbformat": 4,
 "nbformat_minor": 0
}